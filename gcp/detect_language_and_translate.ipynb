{
 "cells": [
  {
   "cell_type": "markdown",
   "metadata": {},
   "source": [
    "### Import Necessary Packages and Clients"
   ]
  },
  {
   "cell_type": "code",
   "execution_count": 298,
   "metadata": {},
   "outputs": [],
   "source": [
    "from tqdm.notebook import trange, tqdm\n",
    "import pandas as pd\n",
    "from google.cloud import translate_v2 as translate\n",
    "from google.cloud import language_v1\n",
    "\n",
    "translate_client = translate.Client.from_service_account_json(\"/Users/ziwon/Downloads/service-account-file.json\")\n",
    "client = language_v1.LanguageServiceClient.from_service_account_json(\"/Users/ziwon/Downloads/service-account-file.json\")"
   ]
  },
  {
   "cell_type": "markdown",
   "metadata": {},
   "source": [
    "## Import data file and do preliminary processing & analysis"
   ]
  },
  {
   "cell_type": "code",
   "execution_count": 3,
   "metadata": {},
   "outputs": [],
   "source": [
    "df_reviews = pd.read_csv('../data/reviews.tsv', delimiter='\\t', index_col=0)\n",
    "df_review_details = pd.read_csv('../data/review_details.tsv', delimiter='\\t', index_col=0)\n",
    "\n",
    "df_reviews.rename(columns={'Happy_Ct': 'Overall_Happy_Count', 'OK_Ct': 'Overall_OK_Ct', 'Sad_Ct': 'Overall_Sad_Ct',\n",
    "                          'Taste': 'Overall_Taste', 'Decor': 'Overall_Decor', 'Service': 'Overall_Service', 'Hygiene': 'Overall_Hygiene',\n",
    "                          'Value': 'Overall_Value'}, inplace=True)\n",
    "df_reviews.drop(columns=['Review_Content'], inplace=True)\n",
    "df = pd.merge(df_reviews, df_review_details, how='left', on=['URL'])\n",
    "df['Review_Score'] = (df['taste'] + df['decor'] + df['service'] + df['hygiene'] + df['value']) / 5"
   ]
  },
  {
   "cell_type": "code",
   "execution_count": 239,
   "metadata": {},
   "outputs": [
    {
     "name": "stdout",
     "output_type": "stream",
     "text": [
      "Avg: 380.0 characters per review.\n",
      "Sum: 2066042 characters in total.\n"
     ]
    }
   ],
   "source": [
    "# Total Review Text Characters (For API Pricing Reference)\n",
    "print(\"Avg: \" + str(df.full_review.str.len().mean().round(2)) + \" characters per review.\")\n",
    "print(\"Sum: \" + str(df.full_review.str.len().sum()) + \" characters in total.\")"
   ]
  },
  {
   "cell_type": "markdown",
   "metadata": {},
   "source": [
    "## Detect Review Language"
   ]
  },
  {
   "cell_type": "code",
   "execution_count": 96,
   "metadata": {},
   "outputs": [],
   "source": [
    "def batch_detect_language(txt: list):\n",
    "    batch = 100\n",
    "    final_output = []\n",
    "    \n",
    "    for i in range(len(txt)//batch + 1):\n",
    "        output = translate_client.detect_language(txt[i*batch: (i+1)*batch])\n",
    "        final_output.extend([result['language'] for result in output])\n",
    "    \n",
    "    return final_output"
   ]
  },
  {
   "cell_type": "code",
   "execution_count": 97,
   "metadata": {},
   "outputs": [],
   "source": [
    "df['language'] = batch_detect_language((df['title'] + df['full_review'].str[:20]).tolist())"
   ]
  },
  {
   "cell_type": "markdown",
   "metadata": {},
   "source": [
    "### Language Usage Analysis"
   ]
  },
  {
   "cell_type": "code",
   "execution_count": 144,
   "metadata": {
    "scrolled": true
   },
   "outputs": [
    {
     "data": {
      "text/plain": [
       "array(['zh-TW', 'en', 'vi', 'zh-CN', 'ja', 'jw', 'ceb', 'nl', 'tl', 'fr',\n",
       "       'sv', 'ro'], dtype=object)"
      ]
     },
     "execution_count": 144,
     "metadata": {},
     "output_type": "execute_result"
    }
   ],
   "source": [
    "df['language'].unique()"
   ]
  },
  {
   "cell_type": "code",
   "execution_count": 111,
   "metadata": {},
   "outputs": [
    {
     "data": {
      "text/plain": [
       "zh-TW    4998\n",
       "en        378\n",
       "zh-CN      45\n",
       "ja          7\n",
       "nl          2\n",
       "vi          1\n",
       "fr          1\n",
       "ceb         1\n",
       "ro          1\n",
       "sv          1\n",
       "tl          1\n",
       "jw          1\n",
       "Name: language, dtype: int64"
      ]
     },
     "execution_count": 111,
     "metadata": {},
     "output_type": "execute_result"
    }
   ],
   "source": [
    "df.language.value_counts()"
   ]
  },
  {
   "cell_type": "code",
   "execution_count": 276,
   "metadata": {},
   "outputs": [],
   "source": [
    "# Remove Insignificant languages\n",
    "df = df[~df.language.isin(['nl', 'vi', 'fr', 'ceb', 'ro', 'sv', 'tl', 'jw'])]"
   ]
  },
  {
   "cell_type": "code",
   "execution_count": 277,
   "metadata": {},
   "outputs": [
    {
     "data": {
      "text/plain": [
       "zh-TW    4998\n",
       "en        378\n",
       "zh-CN      45\n",
       "ja          7\n",
       "Name: language, dtype: int64"
      ]
     },
     "execution_count": 277,
     "metadata": {},
     "output_type": "execute_result"
    }
   ],
   "source": [
    "df.language.value_counts()"
   ]
  },
  {
   "cell_type": "code",
   "execution_count": 278,
   "metadata": {},
   "outputs": [],
   "source": [
    "df.to_csv('../data/df_language_detected.tsv', sep='\\t')"
   ]
  },
  {
   "cell_type": "markdown",
   "metadata": {},
   "source": [
    "## Sentiment Analysis on Title & Reviews"
   ]
  },
  {
   "cell_type": "code",
   "execution_count": 279,
   "metadata": {},
   "outputs": [
    {
     "data": {
      "text/plain": [
       "2060905"
      ]
     },
     "execution_count": 279,
     "metadata": {},
     "output_type": "execute_result"
    }
   ],
   "source": [
    "df.full_review.str.len().sum()"
   ]
  },
  {
   "cell_type": "code",
   "execution_count": 281,
   "metadata": {},
   "outputs": [],
   "source": [
    "def analyse_sentiment(text: list, source_language: list):\n",
    "    scores = []\n",
    "    magnitudes = []\n",
    "    for i in trange(len(text)):\n",
    "        document = language_v1.Document(content=text[i], type_=language_v1.Document.Type.PLAIN_TEXT, language=source_language[i])\n",
    "        response = client.analyze_sentiment(request = {'document': document, 'encoding_type': language_v1.Document.Type.PLAIN_TEXT})\n",
    "        sentiment_score = response.document_sentiment.score\n",
    "        sentiment_magnitude = response.document_sentiment.magnitude\n",
    "        scores.append(sentiment_score)\n",
    "        magnitudes.append(sentiment_magnitude)\n",
    "    return scores, magnitudes\n",
    "    "
   ]
  },
  {
   "cell_type": "code",
   "execution_count": 282,
   "metadata": {},
   "outputs": [
    {
     "data": {
      "application/vnd.jupyter.widget-view+json": {
       "model_id": "d6ceda3c0e3348deb8fc25ddb52aee9c",
       "version_major": 2,
       "version_minor": 0
      },
      "text/plain": [
       "HBox(children=(HTML(value=''), FloatProgress(value=0.0, max=5428.0), HTML(value='')))"
      ]
     },
     "metadata": {},
     "output_type": "display_data"
    },
    {
     "name": "stdout",
     "output_type": "stream",
     "text": [
      "\n"
     ]
    }
   ],
   "source": [
    "title_scores, title_magnitudes = analyse_sentiment(df['title'].tolist(), df['language'].tolist())"
   ]
  },
  {
   "cell_type": "code",
   "execution_count": 283,
   "metadata": {},
   "outputs": [
    {
     "name": "stderr",
     "output_type": "stream",
     "text": [
      "<ipython-input-283-71d4908ab598>:1: SettingWithCopyWarning: \n",
      "A value is trying to be set on a copy of a slice from a DataFrame.\n",
      "Try using .loc[row_indexer,col_indexer] = value instead\n",
      "\n",
      "See the caveats in the documentation: https://pandas.pydata.org/pandas-docs/stable/user_guide/indexing.html#returning-a-view-versus-a-copy\n",
      "  df['title_score'] = title_scores\n",
      "<ipython-input-283-71d4908ab598>:2: SettingWithCopyWarning: \n",
      "A value is trying to be set on a copy of a slice from a DataFrame.\n",
      "Try using .loc[row_indexer,col_indexer] = value instead\n",
      "\n",
      "See the caveats in the documentation: https://pandas.pydata.org/pandas-docs/stable/user_guide/indexing.html#returning-a-view-versus-a-copy\n",
      "  df['title_magnitude'] = title_magnitudes\n"
     ]
    }
   ],
   "source": [
    "df['title_score'] = title_scores\n",
    "df['title_magnitude'] = title_magnitudes"
   ]
  },
  {
   "cell_type": "code",
   "execution_count": 286,
   "metadata": {
    "scrolled": true
   },
   "outputs": [
    {
     "data": {
      "text/plain": [
       "0.5438651421801212"
      ]
     },
     "execution_count": 286,
     "metadata": {},
     "output_type": "execute_result"
    }
   ],
   "source": [
    "df.title_magnitude.mean()"
   ]
  },
  {
   "cell_type": "code",
   "execution_count": 287,
   "metadata": {},
   "outputs": [
    {
     "data": {
      "text/plain": [
       "0.3775239475194966"
      ]
     },
     "execution_count": 287,
     "metadata": {},
     "output_type": "execute_result"
    }
   ],
   "source": [
    "df.title_score.mean()"
   ]
  },
  {
   "cell_type": "code",
   "execution_count": 289,
   "metadata": {},
   "outputs": [],
   "source": [
    "df.to_csv('../data/df_language_detected_title_scored.tsv', sep='\\t')"
   ]
  },
  {
   "cell_type": "code",
   "execution_count": 290,
   "metadata": {},
   "outputs": [
    {
     "data": {
      "application/vnd.jupyter.widget-view+json": {
       "model_id": "1ec19f42f05240efa8b6ef73571409b3",
       "version_major": 2,
       "version_minor": 0
      },
      "text/plain": [
       "HBox(children=(HTML(value=''), FloatProgress(value=0.0, max=5428.0), HTML(value='')))"
      ]
     },
     "metadata": {},
     "output_type": "display_data"
    },
    {
     "name": "stdout",
     "output_type": "stream",
     "text": [
      "\n"
     ]
    }
   ],
   "source": [
    "review_scores, review_magnitudes = analyse_sentiment(df['full_review'].tolist(), df['language'].tolist())"
   ]
  },
  {
   "cell_type": "code",
   "execution_count": 291,
   "metadata": {},
   "outputs": [
    {
     "name": "stderr",
     "output_type": "stream",
     "text": [
      "<ipython-input-291-cee6fa5e8c25>:1: SettingWithCopyWarning: \n",
      "A value is trying to be set on a copy of a slice from a DataFrame.\n",
      "Try using .loc[row_indexer,col_indexer] = value instead\n",
      "\n",
      "See the caveats in the documentation: https://pandas.pydata.org/pandas-docs/stable/user_guide/indexing.html#returning-a-view-versus-a-copy\n",
      "  df['review_score'] = review_scores\n",
      "<ipython-input-291-cee6fa5e8c25>:2: SettingWithCopyWarning: \n",
      "A value is trying to be set on a copy of a slice from a DataFrame.\n",
      "Try using .loc[row_indexer,col_indexer] = value instead\n",
      "\n",
      "See the caveats in the documentation: https://pandas.pydata.org/pandas-docs/stable/user_guide/indexing.html#returning-a-view-versus-a-copy\n",
      "  df['review_magnitude'] = review_magnitudes\n"
     ]
    }
   ],
   "source": [
    "df['review_score'] = review_scores\n",
    "df['review_magnitude'] = review_magnitudes"
   ]
  },
  {
   "cell_type": "code",
   "execution_count": 293,
   "metadata": {},
   "outputs": [],
   "source": [
    "df.to_csv('../data/df_language_detected_title_review_scored.tsv', sep='\\t')"
   ]
  },
  {
   "cell_type": "code",
   "execution_count": 294,
   "metadata": {
    "scrolled": true
   },
   "outputs": [
    {
     "data": {
      "text/plain": [
       "([0.6000000238418579, 0.5, 0.800000011920929, 0.800000011920929, 0.5],\n",
       " [2.0,\n",
       "  14.800000190734863,\n",
       "  17.700000762939453,\n",
       "  12.899999618530273,\n",
       "  5.400000095367432])"
      ]
     },
     "execution_count": 294,
     "metadata": {},
     "output_type": "execute_result"
    }
   ],
   "source": [
    "review_scores[:5], review_magnitudes[:5]"
   ]
  },
  {
   "cell_type": "markdown",
   "metadata": {},
   "source": [
    "## Translate Title and Reviews to English (For Evaluation)"
   ]
  },
  {
   "cell_type": "code",
   "execution_count": 257,
   "metadata": {},
   "outputs": [],
   "source": [
    "def translate_to_english(source_language: list, title: list, review:list):\n",
    "    titles_en = []\n",
    "    reviews_en = []\n",
    "    for i in trange(len(title)):\n",
    "        if (source_language[i] != 'en'): # Translate only if source is not English\n",
    "            title_en = translate_client.translate(title[i], source_language=source_language[i], target_language='en')['translatedText']\n",
    "            review_en = translate_client.translate(review[i], source_language=source_language[i], target_language='en')['translatedText']\n",
    "            titles_en.append(title_en)\n",
    "            reviews_en.append(review_en)\n",
    "        else:\n",
    "            titles_en.append(title[i])\n",
    "            reviews_en.append(review[i])\n",
    "    return titles_en, reviews_en"
   ]
  },
  {
   "cell_type": "code",
   "execution_count": 300,
   "metadata": {},
   "outputs": [
    {
     "data": {
      "application/vnd.jupyter.widget-view+json": {
       "model_id": "d16345b3a3f7419086ce1cb4a1d5815d",
       "version_major": 2,
       "version_minor": 0
      },
      "text/plain": [
       "HBox(children=(HTML(value=''), FloatProgress(value=0.0, max=5428.0), HTML(value='')))"
      ]
     },
     "metadata": {},
     "output_type": "display_data"
    },
    {
     "name": "stdout",
     "output_type": "stream",
     "text": [
      "\n",
      "CPU times: user 37.2 s, sys: 4.82 s, total: 42 s\n",
      "Wall time: 20min 45s\n"
     ]
    }
   ],
   "source": [
    "%%time\n",
    "title_en_list, review_en_list = translate_to_english(df['language'].tolist(), df['title'].tolist(), df['full_review'].tolist())\n"
   ]
  },
  {
   "cell_type": "code",
   "execution_count": 301,
   "metadata": {},
   "outputs": [
    {
     "name": "stderr",
     "output_type": "stream",
     "text": [
      "<ipython-input-301-84d36f657478>:1: SettingWithCopyWarning: \n",
      "A value is trying to be set on a copy of a slice from a DataFrame.\n",
      "Try using .loc[row_indexer,col_indexer] = value instead\n",
      "\n",
      "See the caveats in the documentation: https://pandas.pydata.org/pandas-docs/stable/user_guide/indexing.html#returning-a-view-versus-a-copy\n",
      "  df['title_en'] = title_en_list\n",
      "<ipython-input-301-84d36f657478>:2: SettingWithCopyWarning: \n",
      "A value is trying to be set on a copy of a slice from a DataFrame.\n",
      "Try using .loc[row_indexer,col_indexer] = value instead\n",
      "\n",
      "See the caveats in the documentation: https://pandas.pydata.org/pandas-docs/stable/user_guide/indexing.html#returning-a-view-versus-a-copy\n",
      "  df['review_en'] = review_en_list\n"
     ]
    }
   ],
   "source": [
    "df['title_en'] = title_en_list\n",
    "df['review_en'] = review_en_list"
   ]
  },
  {
   "cell_type": "code",
   "execution_count": 302,
   "metadata": {},
   "outputs": [],
   "source": [
    "df.to_csv('../data/df_final.tsv', sep='\\t')"
   ]
  },
  {
   "cell_type": "code",
   "execution_count": 303,
   "metadata": {},
   "outputs": [],
   "source": [
    "df_temp = pd.read_csv('../data/df_final.tsv', delimiter='\\t')"
   ]
  },
  {
   "cell_type": "code",
   "execution_count": 309,
   "metadata": {},
   "outputs": [
    {
     "data": {
      "text/html": [
       "<div>\n",
       "<style scoped>\n",
       "    .dataframe tbody tr th:only-of-type {\n",
       "        vertical-align: middle;\n",
       "    }\n",
       "\n",
       "    .dataframe tbody tr th {\n",
       "        vertical-align: top;\n",
       "    }\n",
       "\n",
       "    .dataframe thead th {\n",
       "        text-align: right;\n",
       "    }\n",
       "</style>\n",
       "<table border=\"1\" class=\"dataframe\">\n",
       "  <thead>\n",
       "    <tr style=\"text-align: right;\">\n",
       "      <th></th>\n",
       "      <th>Unnamed: 0</th>\n",
       "      <th>URL</th>\n",
       "      <th>Overall_Score</th>\n",
       "      <th>Overall_Happy_Count</th>\n",
       "      <th>Overall_OK_Ct</th>\n",
       "      <th>Overall_Sad_Ct</th>\n",
       "      <th>Overall_Taste</th>\n",
       "      <th>Overall_Decor</th>\n",
       "      <th>Overall_Service</th>\n",
       "      <th>Overall_Hygiene</th>\n",
       "      <th>...</th>\n",
       "      <th>date_of_visit</th>\n",
       "      <th>full_review</th>\n",
       "      <th>language</th>\n",
       "      <th>Review_Score</th>\n",
       "      <th>title_score</th>\n",
       "      <th>title_magnitude</th>\n",
       "      <th>review_score</th>\n",
       "      <th>review_magnitude</th>\n",
       "      <th>title_en</th>\n",
       "      <th>review_en</th>\n",
       "    </tr>\n",
       "  </thead>\n",
       "  <tbody>\n",
       "    <tr>\n",
       "      <th>0</th>\n",
       "      <td>0</td>\n",
       "      <td>https://www.openrice.com/en/hongkong/r-wa-thea...</td>\n",
       "      <td>4.5</td>\n",
       "      <td>184</td>\n",
       "      <td>8</td>\n",
       "      <td>2</td>\n",
       "      <td>4</td>\n",
       "      <td>4</td>\n",
       "      <td>4</td>\n",
       "      <td>4</td>\n",
       "      <td>...</td>\n",
       "      <td>2020-09-07</td>\n",
       "      <td>餐廳擁有廣闊無敵大海景，寧靜宜人環境，位於白沙灣碼頭酒店，位置雖然隔涉，但一切都值得，客人可...</td>\n",
       "      <td>zh-TW</td>\n",
       "      <td>4.8</td>\n",
       "      <td>0.8</td>\n",
       "      <td>1.6</td>\n",
       "      <td>0.6</td>\n",
       "      <td>2.000000</td>\n",
       "      <td>Wonderful food theater. It&amp;#39;s memorable</td>\n",
       "      <td>The restaurant has a vast and invincible sea v...</td>\n",
       "    </tr>\n",
       "    <tr>\n",
       "      <th>1</th>\n",
       "      <td>1</td>\n",
       "      <td>https://www.openrice.com/en/hongkong/r-wa-thea...</td>\n",
       "      <td>4.5</td>\n",
       "      <td>184</td>\n",
       "      <td>8</td>\n",
       "      <td>2</td>\n",
       "      <td>4</td>\n",
       "      <td>4</td>\n",
       "      <td>4</td>\n",
       "      <td>4</td>\n",
       "      <td>...</td>\n",
       "      <td>NaN</td>\n",
       "      <td>今日得閒去西貢親親大自然🏝\\n\\n順道去「食之劇場」嘆個午餐🥣\\n\\n\\n首先 店員為我哋斟...</td>\n",
       "      <td>zh-TW</td>\n",
       "      <td>5.0</td>\n",
       "      <td>0.4</td>\n",
       "      <td>0.4</td>\n",
       "      <td>0.5</td>\n",
       "      <td>14.800000</td>\n",
       "      <td>Endless aftertaste 🤤 Sushi SET 🍣</td>\n",
       "      <td>Today, I have to go to Saigon and kiss the nat...</td>\n",
       "    </tr>\n",
       "    <tr>\n",
       "      <th>2</th>\n",
       "      <td>2</td>\n",
       "      <td>https://www.openrice.com/en/hongkong/r-wa-thea...</td>\n",
       "      <td>4.5</td>\n",
       "      <td>184</td>\n",
       "      <td>8</td>\n",
       "      <td>2</td>\n",
       "      <td>4</td>\n",
       "      <td>4</td>\n",
       "      <td>4</td>\n",
       "      <td>4</td>\n",
       "      <td>...</td>\n",
       "      <td>NaN</td>\n",
       "      <td>白沙灣碼頭酒店中的食之劇場餐廳已不是第一次來到，但吸引到我的，是那寧靜宜人的環境，客人可訂坐...</td>\n",
       "      <td>zh-TW</td>\n",
       "      <td>5.0</td>\n",
       "      <td>0.0</td>\n",
       "      <td>0.0</td>\n",
       "      <td>0.8</td>\n",
       "      <td>17.700001</td>\n",
       "      <td>Omakase of Food</td>\n",
       "      <td>It’s not the first time I have come to the res...</td>\n",
       "    </tr>\n",
       "    <tr>\n",
       "      <th>3</th>\n",
       "      <td>3</td>\n",
       "      <td>https://www.openrice.com/en/hongkong/r-wa-thea...</td>\n",
       "      <td>4.5</td>\n",
       "      <td>184</td>\n",
       "      <td>8</td>\n",
       "      <td>2</td>\n",
       "      <td>4</td>\n",
       "      <td>4</td>\n",
       "      <td>4</td>\n",
       "      <td>4</td>\n",
       "      <td>...</td>\n",
       "      <td>2020-10-07</td>\n",
       "      <td>位於白沙灣碼頭旁的「食之劇場」，環境幽靜隱世\\n餐廳正正對著湛藍廣闊無敵大海景，是香港難得一...</td>\n",
       "      <td>zh-TW</td>\n",
       "      <td>4.8</td>\n",
       "      <td>0.9</td>\n",
       "      <td>0.9</td>\n",
       "      <td>0.8</td>\n",
       "      <td>12.900000</td>\n",
       "      <td>Secluded and invincible sea view</td>\n",
       "      <td>Located at the &amp;quot;Theater of Food&amp;quot; nex...</td>\n",
       "    </tr>\n",
       "    <tr>\n",
       "      <th>4</th>\n",
       "      <td>4</td>\n",
       "      <td>https://www.openrice.com/en/hongkong/r-wa-thea...</td>\n",
       "      <td>4.5</td>\n",
       "      <td>184</td>\n",
       "      <td>8</td>\n",
       "      <td>2</td>\n",
       "      <td>4</td>\n",
       "      <td>4</td>\n",
       "      <td>4</td>\n",
       "      <td>4</td>\n",
       "      <td>...</td>\n",
       "      <td>2020-09-30</td>\n",
       "      <td>餐廳係碼頭旁邊，天空與海–就算就黎天黑都好靚﹗餐廳環境好浪漫，啱晒拍拖去撐枱腳，而且食物一流...</td>\n",
       "      <td>zh-TW</td>\n",
       "      <td>5.0</td>\n",
       "      <td>0.3</td>\n",
       "      <td>0.3</td>\n",
       "      <td>0.5</td>\n",
       "      <td>5.400000</td>\n",
       "      <td>Saigon High Quality Omakase</td>\n",
       "      <td>The restaurant is next to the pier, the sky an...</td>\n",
       "    </tr>\n",
       "  </tbody>\n",
       "</table>\n",
       "<p>5 rows × 34 columns</p>\n",
       "</div>"
      ],
      "text/plain": [
       "   Unnamed: 0                                                URL  \\\n",
       "0           0  https://www.openrice.com/en/hongkong/r-wa-thea...   \n",
       "1           1  https://www.openrice.com/en/hongkong/r-wa-thea...   \n",
       "2           2  https://www.openrice.com/en/hongkong/r-wa-thea...   \n",
       "3           3  https://www.openrice.com/en/hongkong/r-wa-thea...   \n",
       "4           4  https://www.openrice.com/en/hongkong/r-wa-thea...   \n",
       "\n",
       "   Overall_Score  Overall_Happy_Count  Overall_OK_Ct  Overall_Sad_Ct  \\\n",
       "0            4.5                  184              8               2   \n",
       "1            4.5                  184              8               2   \n",
       "2            4.5                  184              8               2   \n",
       "3            4.5                  184              8               2   \n",
       "4            4.5                  184              8               2   \n",
       "\n",
       "   Overall_Taste  Overall_Decor  Overall_Service  Overall_Hygiene  ...  \\\n",
       "0              4              4                4                4  ...   \n",
       "1              4              4                4                4  ...   \n",
       "2              4              4                4                4  ...   \n",
       "3              4              4                4                4  ...   \n",
       "4              4              4                4                4  ...   \n",
       "\n",
       "   date_of_visit                                        full_review language  \\\n",
       "0     2020-09-07  餐廳擁有廣闊無敵大海景，寧靜宜人環境，位於白沙灣碼頭酒店，位置雖然隔涉，但一切都值得，客人可...    zh-TW   \n",
       "1            NaN  今日得閒去西貢親親大自然🏝\\n\\n順道去「食之劇場」嘆個午餐🥣\\n\\n\\n首先 店員為我哋斟...    zh-TW   \n",
       "2            NaN  白沙灣碼頭酒店中的食之劇場餐廳已不是第一次來到，但吸引到我的，是那寧靜宜人的環境，客人可訂坐...    zh-TW   \n",
       "3     2020-10-07  位於白沙灣碼頭旁的「食之劇場」，環境幽靜隱世\\n餐廳正正對著湛藍廣闊無敵大海景，是香港難得一...    zh-TW   \n",
       "4     2020-09-30  餐廳係碼頭旁邊，天空與海–就算就黎天黑都好靚﹗餐廳環境好浪漫，啱晒拍拖去撐枱腳，而且食物一流...    zh-TW   \n",
       "\n",
       "  Review_Score  title_score title_magnitude review_score review_magnitude  \\\n",
       "0          4.8          0.8             1.6          0.6         2.000000   \n",
       "1          5.0          0.4             0.4          0.5        14.800000   \n",
       "2          5.0          0.0             0.0          0.8        17.700001   \n",
       "3          4.8          0.9             0.9          0.8        12.900000   \n",
       "4          5.0          0.3             0.3          0.5         5.400000   \n",
       "\n",
       "                                     title_en  \\\n",
       "0  Wonderful food theater. It&#39;s memorable   \n",
       "1            Endless aftertaste 🤤 Sushi SET 🍣   \n",
       "2                             Omakase of Food   \n",
       "3            Secluded and invincible sea view   \n",
       "4                 Saigon High Quality Omakase   \n",
       "\n",
       "                                           review_en  \n",
       "0  The restaurant has a vast and invincible sea v...  \n",
       "1  Today, I have to go to Saigon and kiss the nat...  \n",
       "2  It’s not the first time I have come to the res...  \n",
       "3  Located at the &quot;Theater of Food&quot; nex...  \n",
       "4  The restaurant is next to the pier, the sky an...  \n",
       "\n",
       "[5 rows x 34 columns]"
      ]
     },
     "execution_count": 309,
     "metadata": {},
     "output_type": "execute_result"
    }
   ],
   "source": [
    "df_temp.head()"
   ]
  },
  {
   "cell_type": "code",
   "execution_count": null,
   "metadata": {},
   "outputs": [],
   "source": [
    "title_en_list = translate_to_english(df['language'].tolist(), df['title'].tolist(), df['full_review'].tolist())"
   ]
  },
  {
   "cell_type": "code",
   "execution_count": 150,
   "metadata": {
    "scrolled": false
   },
   "outputs": [
    {
     "data": {
      "text/plain": [
       "0       zh-TW\n",
       "1       zh-TW\n",
       "2       zh-TW\n",
       "3       zh-TW\n",
       "4       zh-TW\n",
       "        ...  \n",
       "5432    zh-TW\n",
       "5433    zh-TW\n",
       "5434       en\n",
       "5435    zh-TW\n",
       "5436       en\n",
       "Name: language, Length: 5437, dtype: object"
      ]
     },
     "execution_count": 150,
     "metadata": {},
     "output_type": "execute_result"
    }
   ],
   "source": [
    "df.language"
   ]
  },
  {
   "cell_type": "markdown",
   "metadata": {},
   "source": [
    "## Effectiveness Analysis"
   ]
  },
  {
   "cell_type": "markdown",
   "metadata": {},
   "source": [
    "### Reviews with Negative Scores and Their Sentiment Score"
   ]
  },
  {
   "cell_type": "code",
   "execution_count": 243,
   "metadata": {},
   "outputs": [],
   "source": [
    "# Check if sentiment analysis works for bad reviews\n",
    "bad_reviews = df.loc[df['Review_Score'] < 1.5][:30]"
   ]
  },
  {
   "cell_type": "code",
   "execution_count": 247,
   "metadata": {},
   "outputs": [
    {
     "data": {
      "application/vnd.jupyter.widget-view+json": {
       "model_id": "5eeb8494234341b0b0f08bcfd76f2421",
       "version_major": 2,
       "version_minor": 0
      },
      "text/plain": [
       "HBox(children=(HTML(value=''), FloatProgress(value=0.0, max=30.0), HTML(value='')))"
      ]
     },
     "metadata": {},
     "output_type": "display_data"
    },
    {
     "name": "stdout",
     "output_type": "stream",
     "text": [
      "\n"
     ]
    },
    {
     "data": {
      "application/vnd.jupyter.widget-view+json": {
       "model_id": "19a784e0da1b4bfd8dfa73f58d6b1f37",
       "version_major": 2,
       "version_minor": 0
      },
      "text/plain": [
       "HBox(children=(HTML(value=''), FloatProgress(value=0.0, max=30.0), HTML(value='')))"
      ]
     },
     "metadata": {},
     "output_type": "display_data"
    },
    {
     "name": "stdout",
     "output_type": "stream",
     "text": [
      "\n"
     ]
    }
   ],
   "source": [
    "title_scores, title_magnitudes = analyse_sentiment(bad_reviews['title'].tolist(), bad_reviews['language'].tolist())\n",
    "review_scores, review_magnitudes = analyse_sentiment(bad_reviews['full_review'].tolist(), bad_reviews['language'].tolist())"
   ]
  },
  {
   "cell_type": "code",
   "execution_count": 248,
   "metadata": {},
   "outputs": [],
   "source": [
    "df_bad_review_sa = pd.DataFrame({'Title Score': title_scores, 'Title Magnitude': title_magnitudes, 'Review Score': review_scores, 'Review Magnitude': review_magnitudes})"
   ]
  },
  {
   "cell_type": "code",
   "execution_count": 252,
   "metadata": {
    "scrolled": true
   },
   "outputs": [
    {
     "data": {
      "text/html": [
       "<div>\n",
       "<style scoped>\n",
       "    .dataframe tbody tr th:only-of-type {\n",
       "        vertical-align: middle;\n",
       "    }\n",
       "\n",
       "    .dataframe tbody tr th {\n",
       "        vertical-align: top;\n",
       "    }\n",
       "\n",
       "    .dataframe thead th {\n",
       "        text-align: right;\n",
       "    }\n",
       "</style>\n",
       "<table border=\"1\" class=\"dataframe\">\n",
       "  <thead>\n",
       "    <tr style=\"text-align: right;\">\n",
       "      <th></th>\n",
       "      <th>Title Score</th>\n",
       "      <th>Title Magnitude</th>\n",
       "      <th>Review Score</th>\n",
       "      <th>Review Magnitude</th>\n",
       "    </tr>\n",
       "  </thead>\n",
       "  <tbody>\n",
       "    <tr>\n",
       "      <th>0</th>\n",
       "      <td>-0.9</td>\n",
       "      <td>0.9</td>\n",
       "      <td>-0.4</td>\n",
       "      <td>1.7</td>\n",
       "    </tr>\n",
       "    <tr>\n",
       "      <th>1</th>\n",
       "      <td>-0.8</td>\n",
       "      <td>0.8</td>\n",
       "      <td>-0.3</td>\n",
       "      <td>5.1</td>\n",
       "    </tr>\n",
       "    <tr>\n",
       "      <th>2</th>\n",
       "      <td>-0.4</td>\n",
       "      <td>0.4</td>\n",
       "      <td>-0.6</td>\n",
       "      <td>1.3</td>\n",
       "    </tr>\n",
       "    <tr>\n",
       "      <th>3</th>\n",
       "      <td>-0.8</td>\n",
       "      <td>0.8</td>\n",
       "      <td>-0.3</td>\n",
       "      <td>4.2</td>\n",
       "    </tr>\n",
       "    <tr>\n",
       "      <th>4</th>\n",
       "      <td>-0.8</td>\n",
       "      <td>0.8</td>\n",
       "      <td>0.0</td>\n",
       "      <td>1.1</td>\n",
       "    </tr>\n",
       "    <tr>\n",
       "      <th>5</th>\n",
       "      <td>0.3</td>\n",
       "      <td>0.3</td>\n",
       "      <td>-0.3</td>\n",
       "      <td>1.1</td>\n",
       "    </tr>\n",
       "    <tr>\n",
       "      <th>6</th>\n",
       "      <td>-0.9</td>\n",
       "      <td>0.9</td>\n",
       "      <td>0.0</td>\n",
       "      <td>7.1</td>\n",
       "    </tr>\n",
       "    <tr>\n",
       "      <th>7</th>\n",
       "      <td>0.3</td>\n",
       "      <td>0.3</td>\n",
       "      <td>-0.3</td>\n",
       "      <td>1.1</td>\n",
       "    </tr>\n",
       "    <tr>\n",
       "      <th>8</th>\n",
       "      <td>-0.9</td>\n",
       "      <td>0.9</td>\n",
       "      <td>0.0</td>\n",
       "      <td>7.8</td>\n",
       "    </tr>\n",
       "    <tr>\n",
       "      <th>9</th>\n",
       "      <td>-0.1</td>\n",
       "      <td>0.1</td>\n",
       "      <td>-0.5</td>\n",
       "      <td>2.2</td>\n",
       "    </tr>\n",
       "    <tr>\n",
       "      <th>10</th>\n",
       "      <td>-0.8</td>\n",
       "      <td>0.8</td>\n",
       "      <td>-0.7</td>\n",
       "      <td>2.1</td>\n",
       "    </tr>\n",
       "    <tr>\n",
       "      <th>11</th>\n",
       "      <td>0.0</td>\n",
       "      <td>0.0</td>\n",
       "      <td>-0.5</td>\n",
       "      <td>4.3</td>\n",
       "    </tr>\n",
       "    <tr>\n",
       "      <th>12</th>\n",
       "      <td>-0.8</td>\n",
       "      <td>0.8</td>\n",
       "      <td>-0.7</td>\n",
       "      <td>0.7</td>\n",
       "    </tr>\n",
       "    <tr>\n",
       "      <th>13</th>\n",
       "      <td>-0.9</td>\n",
       "      <td>0.9</td>\n",
       "      <td>0.0</td>\n",
       "      <td>2.8</td>\n",
       "    </tr>\n",
       "    <tr>\n",
       "      <th>14</th>\n",
       "      <td>-0.9</td>\n",
       "      <td>0.9</td>\n",
       "      <td>0.0</td>\n",
       "      <td>3.8</td>\n",
       "    </tr>\n",
       "    <tr>\n",
       "      <th>15</th>\n",
       "      <td>-0.8</td>\n",
       "      <td>0.8</td>\n",
       "      <td>0.0</td>\n",
       "      <td>1.3</td>\n",
       "    </tr>\n",
       "    <tr>\n",
       "      <th>16</th>\n",
       "      <td>-0.7</td>\n",
       "      <td>0.7</td>\n",
       "      <td>0.0</td>\n",
       "      <td>6.0</td>\n",
       "    </tr>\n",
       "    <tr>\n",
       "      <th>17</th>\n",
       "      <td>-0.9</td>\n",
       "      <td>0.9</td>\n",
       "      <td>0.0</td>\n",
       "      <td>1.9</td>\n",
       "    </tr>\n",
       "    <tr>\n",
       "      <th>18</th>\n",
       "      <td>0.0</td>\n",
       "      <td>0.0</td>\n",
       "      <td>0.1</td>\n",
       "      <td>3.5</td>\n",
       "    </tr>\n",
       "    <tr>\n",
       "      <th>19</th>\n",
       "      <td>-0.9</td>\n",
       "      <td>0.9</td>\n",
       "      <td>-0.3</td>\n",
       "      <td>4.6</td>\n",
       "    </tr>\n",
       "    <tr>\n",
       "      <th>20</th>\n",
       "      <td>0.2</td>\n",
       "      <td>0.2</td>\n",
       "      <td>-0.7</td>\n",
       "      <td>1.4</td>\n",
       "    </tr>\n",
       "    <tr>\n",
       "      <th>21</th>\n",
       "      <td>-0.8</td>\n",
       "      <td>0.8</td>\n",
       "      <td>-0.7</td>\n",
       "      <td>3.6</td>\n",
       "    </tr>\n",
       "    <tr>\n",
       "      <th>22</th>\n",
       "      <td>-0.1</td>\n",
       "      <td>0.1</td>\n",
       "      <td>-0.1</td>\n",
       "      <td>2.4</td>\n",
       "    </tr>\n",
       "    <tr>\n",
       "      <th>23</th>\n",
       "      <td>-0.7</td>\n",
       "      <td>0.7</td>\n",
       "      <td>-0.6</td>\n",
       "      <td>3.2</td>\n",
       "    </tr>\n",
       "    <tr>\n",
       "      <th>24</th>\n",
       "      <td>0.3</td>\n",
       "      <td>0.3</td>\n",
       "      <td>-0.3</td>\n",
       "      <td>1.8</td>\n",
       "    </tr>\n",
       "    <tr>\n",
       "      <th>25</th>\n",
       "      <td>-0.8</td>\n",
       "      <td>0.8</td>\n",
       "      <td>-0.2</td>\n",
       "      <td>4.6</td>\n",
       "    </tr>\n",
       "    <tr>\n",
       "      <th>26</th>\n",
       "      <td>-0.5</td>\n",
       "      <td>0.5</td>\n",
       "      <td>-0.5</td>\n",
       "      <td>1.1</td>\n",
       "    </tr>\n",
       "    <tr>\n",
       "      <th>27</th>\n",
       "      <td>-0.8</td>\n",
       "      <td>0.8</td>\n",
       "      <td>-0.6</td>\n",
       "      <td>2.7</td>\n",
       "    </tr>\n",
       "    <tr>\n",
       "      <th>28</th>\n",
       "      <td>-0.8</td>\n",
       "      <td>0.8</td>\n",
       "      <td>-0.3</td>\n",
       "      <td>3.1</td>\n",
       "    </tr>\n",
       "    <tr>\n",
       "      <th>29</th>\n",
       "      <td>0.3</td>\n",
       "      <td>0.3</td>\n",
       "      <td>-0.3</td>\n",
       "      <td>0.7</td>\n",
       "    </tr>\n",
       "  </tbody>\n",
       "</table>\n",
       "</div>"
      ],
      "text/plain": [
       "    Title Score  Title Magnitude  Review Score  Review Magnitude\n",
       "0          -0.9              0.9          -0.4               1.7\n",
       "1          -0.8              0.8          -0.3               5.1\n",
       "2          -0.4              0.4          -0.6               1.3\n",
       "3          -0.8              0.8          -0.3               4.2\n",
       "4          -0.8              0.8           0.0               1.1\n",
       "5           0.3              0.3          -0.3               1.1\n",
       "6          -0.9              0.9           0.0               7.1\n",
       "7           0.3              0.3          -0.3               1.1\n",
       "8          -0.9              0.9           0.0               7.8\n",
       "9          -0.1              0.1          -0.5               2.2\n",
       "10         -0.8              0.8          -0.7               2.1\n",
       "11          0.0              0.0          -0.5               4.3\n",
       "12         -0.8              0.8          -0.7               0.7\n",
       "13         -0.9              0.9           0.0               2.8\n",
       "14         -0.9              0.9           0.0               3.8\n",
       "15         -0.8              0.8           0.0               1.3\n",
       "16         -0.7              0.7           0.0               6.0\n",
       "17         -0.9              0.9           0.0               1.9\n",
       "18          0.0              0.0           0.1               3.5\n",
       "19         -0.9              0.9          -0.3               4.6\n",
       "20          0.2              0.2          -0.7               1.4\n",
       "21         -0.8              0.8          -0.7               3.6\n",
       "22         -0.1              0.1          -0.1               2.4\n",
       "23         -0.7              0.7          -0.6               3.2\n",
       "24          0.3              0.3          -0.3               1.8\n",
       "25         -0.8              0.8          -0.2               4.6\n",
       "26         -0.5              0.5          -0.5               1.1\n",
       "27         -0.8              0.8          -0.6               2.7\n",
       "28         -0.8              0.8          -0.3               3.1\n",
       "29          0.3              0.3          -0.3               0.7"
      ]
     },
     "execution_count": 252,
     "metadata": {},
     "output_type": "execute_result"
    }
   ],
   "source": [
    "df_bad_review_sa"
   ]
  },
  {
   "cell_type": "code",
   "execution_count": 258,
   "metadata": {
    "scrolled": true
   },
   "outputs": [
    {
     "data": {
      "application/vnd.jupyter.widget-view+json": {
       "model_id": "b3c63054703c48c6838ef8057ec83801",
       "version_major": 2,
       "version_minor": 0
      },
      "text/plain": [
       "HBox(children=(HTML(value=''), FloatProgress(value=0.0, max=30.0), HTML(value='')))"
      ]
     },
     "metadata": {},
     "output_type": "display_data"
    },
    {
     "name": "stdout",
     "output_type": "stream",
     "text": [
      "\n"
     ]
    }
   ],
   "source": [
    "title_en_list, review_en_list = translate_to_english(bad_reviews['language'].tolist(), bad_reviews['title'].tolist(), bad_reviews['full_review'].tolist())"
   ]
  },
  {
   "cell_type": "code",
   "execution_count": 260,
   "metadata": {
    "scrolled": true
   },
   "outputs": [
    {
     "data": {
      "text/plain": [
       "(['Rubbish',\n",
       "  'Very bad attitude',\n",
       "  '(Taedao) Attitude',\n",
       "  'Very poor staff attitude',\n",
       "  'Male staff&#39;s service attitude is very poor'],\n",
       " ['Nothing to go to South Korea, only Ma Pu Food Fan Shu is the first to get addicted, know that there is no service and no quality! Waiting at the door and so on... Until someone buries them, they don’t even reach out to bury their hands to bury the hot pot + rotten rice, even if the soup base is not good, then go on stage, an old chili sauce and bury rotten rice 🤮 another Bibimbap and rice are rotten 🤮🤮 Force pot bibimbap',\n",
       "  'It’s good to have a view introduced by a friend, and I will try it with someone in the house tonight. When I went in and asked if the three people had a station, it seemed that they didn&#39;t want to talk to me. There was a woman holding a heat detector in isolation, and she buried Li to Zhiye without saying anything? You are exploring thermal rocks, but will the problem be your attitude? Sitting on the bottom left, raising the left hand is so patience, first there is a man, Li, who is alone, the attitude is the same, he asked if he has any water, he answered me: No, if you ask first than you ga wo talk about food, it is normal Good food, the price is not too expensive for Saigon. There was one waitress in the audience who had a normal attitude. The others really didn&#39;t know the so-called. They had been tired of their relationship and went out to eat. It was a rare occasion to meet a staff member. I really don&#39;t know how to talk. Shouldn’t the person in charge look at the reviews and improve the attitude of the staff, how about doing the service industry?',\n",
       "  'I ate Taidao a few days earlier, but the staff was rude before the food arrived. The quality of the food was not particularly good and the food was meticulous, and the price was not cheap. For one benefit, the environment can look at the beach, but after eating the appetite, I have no appetite, so there is no next time.',\n",
       "  'Today, a group of 10 people stubbornly went to dinner, and sat on the beach will be wide and open with sea views. I know that when a staff member hears me, I want to sit on the beach and despise me. Well, I don&#39;t care, but I think I feel wrong. After I knew it, I felt a strong wind and told him to drop a windshield. I will immediately go west, let me discuss it first, I have a good heart to discuss with you! After staying with you, whether you order or serve food, your attitude is very poor! In fact, if you don&#39;t want to sit on the beach, you don&#39;t want to go outdoors! Well, you have to drive and have a bad attitude! Just tie it up! It is not important to pay for food, but it is really disappointing after eating the back bones! ! Diaoqi',\n",
       "  'Most of the male staff’s service attitude is very poor, thinking that they are high-level fruit class, they don’t know the so-called, they think they go to the Zuocha restaurant and the hotel is charging for tea. You can curry crab super salty pork neck meat and warm tom yum goong soup on the hot stove without burning yourself. The only thing you can do to make garlic wrapped in garlic without garlic is the only thing you can do But the meal is very poor'])"
      ]
     },
     "execution_count": 260,
     "metadata": {},
     "output_type": "execute_result"
    }
   ],
   "source": [
    "title_en_list[:5], review_en_list[:5]"
   ]
  },
  {
   "cell_type": "code",
   "execution_count": null,
   "metadata": {},
   "outputs": [],
   "source": []
  }
 ],
 "metadata": {
  "kernelspec": {
   "display_name": "Python 3",
   "language": "python",
   "name": "python3"
  },
  "language_info": {
   "codemirror_mode": {
    "name": "ipython",
    "version": 3
   },
   "file_extension": ".py",
   "mimetype": "text/x-python",
   "name": "python",
   "nbconvert_exporter": "python",
   "pygments_lexer": "ipython3",
   "version": "3.8.6"
  }
 },
 "nbformat": 4,
 "nbformat_minor": 1
}
