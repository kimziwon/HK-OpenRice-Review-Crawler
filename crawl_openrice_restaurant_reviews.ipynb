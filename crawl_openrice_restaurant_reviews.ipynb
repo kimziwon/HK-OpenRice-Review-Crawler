{
 "cells": [
  {
   "cell_type": "code",
   "execution_count": 1,
   "metadata": {},
   "outputs": [
    {
     "name": "stdout",
     "output_type": "stream",
     "text": [
      "TODAY = 2020-11-17 01:12:43\n",
      "TODAY = 2020-11-17 01:12:43\n",
      "CPU COUNT: 12\n"
     ]
    }
   ],
   "source": [
    "from selenium import webdriver\n",
    "from selenium.webdriver.common.action_chains import ActionChains\n",
    "from selenium.webdriver.common.by import By\n",
    "from selenium.webdriver.support.ui import Select\n",
    "from selenium.webdriver.common.keys import Keys\n",
    "from selenium.webdriver.support.ui import WebDriverWait\n",
    "from selenium.webdriver.support import expected_conditions as ec\n",
    "from selenium.webdriver.chrome.options import Options\n",
    "from bs4 import BeautifulSoup\n",
    "import multiprocessing as mp\n",
    "from multiprocessing import cpu_count\n",
    "from selenium import webdriver\n",
    "from functools import partial\n",
    "from datetime import datetime\n",
    "import time\n",
    "from tqdm import tqdm\n",
    "import utils\n",
    "import traceback\n",
    "import pandas as pd\n",
    "from webdriver import get_web_driver\n",
    "tdy = utils.get_today()\n",
    "start_time = time.time()\n",
    "\n",
    "\n",
    "print(\"TODAY =\", tdy)\n",
    "print(\"CPU COUNT: \" + str(cpu_count()))\n",
    "\n",
    "avail_core_num = cpu_count()-1"
   ]
  },
  {
   "cell_type": "code",
   "execution_count": 2,
   "metadata": {},
   "outputs": [],
   "source": [
    "option = webdriver.ChromeOptions()\n",
    "driver = webdriver.Chrome('/Users/ziwon/executables/chromedriver86', options=option)\n",
    "# driver.get(SITEMAP_URL)\n",
    "# driver.maximize_window()\n",
    "driver.implicitly_wait(3)\n",
    "\n",
    "wait = WebDriverWait(driver, 10)"
   ]
  },
  {
   "cell_type": "markdown",
   "metadata": {},
   "source": [
    "## IMPORT RESTAURANT INFO"
   ]
  },
  {
   "cell_type": "code",
   "execution_count": 3,
   "metadata": {},
   "outputs": [],
   "source": [
    "restaurants = pd.read_csv('restaurant_info.tsv', '\\t')"
   ]
  },
  {
   "cell_type": "code",
   "execution_count": 4,
   "metadata": {},
   "outputs": [],
   "source": [
    "urls = restaurants.URL.tolist()"
   ]
  },
  {
   "cell_type": "code",
   "execution_count": 5,
   "metadata": {},
   "outputs": [],
   "source": [
    "review_urls = []\n",
    "for url in urls:\n",
    "    review_urls.append(url + '/reviews')"
   ]
  },
  {
   "cell_type": "markdown",
   "metadata": {},
   "source": [
    "# Get Restaurant Reviews"
   ]
  },
  {
   "cell_type": "code",
   "execution_count": 6,
   "metadata": {},
   "outputs": [],
   "source": [
    "cols = ['URL', 'Overall_Score', 'Happy_Ct', 'OK_Ct', 'Sad_Ct', 'Taste', 'Decor', 'Service', 'Hygiene', 'Value', 'Review_Content',]\n",
    "df_reviews = pd.DataFrame(columns=cols) #creates a new dataframe that's empty"
   ]
  },
  {
   "cell_type": "code",
   "execution_count": 7,
   "metadata": {},
   "outputs": [],
   "source": [
    "cols = ['URL', 'reviewer_name', 'reviewer_level', \n",
    "        'reviewer_num_total_reviews', 'reviewer_num_editors_pick_reviews',\n",
    "        'happy_sad_class', 'title', 'date_written', 'num_views', 'taste', 'decor', 'service', 'hygiene', 'value', \n",
    "        'date_of_visit', 'full_review']\n",
    "df_review_details = pd.DataFrame(columns=cols) #creates a new dataframe that's empty"
   ]
  },
  {
   "cell_type": "code",
   "execution_count": 8,
   "metadata": {},
   "outputs": [
    {
     "data": {
      "text/html": [
       "<div>\n",
       "<style scoped>\n",
       "    .dataframe tbody tr th:only-of-type {\n",
       "        vertical-align: middle;\n",
       "    }\n",
       "\n",
       "    .dataframe tbody tr th {\n",
       "        vertical-align: top;\n",
       "    }\n",
       "\n",
       "    .dataframe thead th {\n",
       "        text-align: right;\n",
       "    }\n",
       "</style>\n",
       "<table border=\"1\" class=\"dataframe\">\n",
       "  <thead>\n",
       "    <tr style=\"text-align: right;\">\n",
       "      <th></th>\n",
       "      <th>URL</th>\n",
       "      <th>reviewer_name</th>\n",
       "      <th>reviewer_level</th>\n",
       "      <th>reviewer_num_total_reviews</th>\n",
       "      <th>reviewer_num_editors_pick_reviews</th>\n",
       "      <th>happy_sad_class</th>\n",
       "      <th>title</th>\n",
       "      <th>date_written</th>\n",
       "      <th>num_views</th>\n",
       "      <th>taste</th>\n",
       "      <th>decor</th>\n",
       "      <th>service</th>\n",
       "      <th>hygiene</th>\n",
       "      <th>value</th>\n",
       "      <th>date_of_visit</th>\n",
       "      <th>full_review</th>\n",
       "    </tr>\n",
       "  </thead>\n",
       "  <tbody>\n",
       "  </tbody>\n",
       "</table>\n",
       "</div>"
      ],
      "text/plain": [
       "Empty DataFrame\n",
       "Columns: [URL, reviewer_name, reviewer_level, reviewer_num_total_reviews, reviewer_num_editors_pick_reviews, happy_sad_class, title, date_written, num_views, taste, decor, service, hygiene, value, date_of_visit, full_review]\n",
       "Index: []"
      ]
     },
     "execution_count": 8,
     "metadata": {},
     "output_type": "execute_result"
    }
   ],
   "source": [
    "df_review_details"
   ]
  },
  {
   "cell_type": "code",
   "execution_count": null,
   "metadata": {},
   "outputs": [],
   "source": [
    "urls"
   ]
  },
  {
   "cell_type": "code",
   "execution_count": null,
   "metadata": {},
   "outputs": [],
   "source": [
    "ex_url = review_urls[0]"
   ]
  },
  {
   "cell_type": "code",
   "execution_count": null,
   "metadata": {},
   "outputs": [],
   "source": [
    "ex_url"
   ]
  },
  {
   "cell_type": "code",
   "execution_count": 10,
   "metadata": {},
   "outputs": [
    {
     "name": "stderr",
     "output_type": "stream",
     "text": [
      "\r",
      "  0%|          | 0/250 [00:00<?, ?it/s]"
     ]
    },
    {
     "name": "stdout",
     "output_type": "stream",
     "text": [
      "[<selenium.webdriver.remote.webelement.WebElement (session=\"1e69698e27852f5676b2f854ff875a10\", element=\"f9f35e00-e529-4fef-b081-cb164d579e07\")>, <selenium.webdriver.remote.webelement.WebElement (session=\"1e69698e27852f5676b2f854ff875a10\", element=\"ac1029dc-9764-47f9-95f3-3361ff956e52\")>, <selenium.webdriver.remote.webelement.WebElement (session=\"1e69698e27852f5676b2f854ff875a10\", element=\"317da4d0-ad29-49b7-8b86-50cde0465233\")>, <selenium.webdriver.remote.webelement.WebElement (session=\"1e69698e27852f5676b2f854ff875a10\", element=\"35e9ee33-515a-45da-8f79-52c21bbe2a41\")>, <selenium.webdriver.remote.webelement.WebElement (session=\"1e69698e27852f5676b2f854ff875a10\", element=\"12d51fec-cee5-47ec-8c8a-722c9156d6f1\")>]\n",
      "FINISHED one restaurant, Took:  40.65558910369873\n"
     ]
    },
    {
     "name": "stderr",
     "output_type": "stream",
     "text": [
      "\r",
      "  0%|          | 1/250 [00:40<2:49:42, 40.89s/it]"
     ]
    },
    {
     "name": "stdout",
     "output_type": "stream",
     "text": [
      "[<selenium.webdriver.remote.webelement.WebElement (session=\"ccfee38e3573f002145ac6f1ebaf4d36\", element=\"e08c2d4f-9595-4296-97e3-66a0fa3554c6\")>, <selenium.webdriver.remote.webelement.WebElement (session=\"ccfee38e3573f002145ac6f1ebaf4d36\", element=\"0f76b1f0-c6be-4630-8eed-c43447df4332\")>, <selenium.webdriver.remote.webelement.WebElement (session=\"ccfee38e3573f002145ac6f1ebaf4d36\", element=\"f4328df9-df82-4d86-acd3-e7f043fc054d\")>, <selenium.webdriver.remote.webelement.WebElement (session=\"ccfee38e3573f002145ac6f1ebaf4d36\", element=\"55591dff-ec98-4179-a448-c34cd2b7f4cd\")>, <selenium.webdriver.remote.webelement.WebElement (session=\"ccfee38e3573f002145ac6f1ebaf4d36\", element=\"2700de0a-bfdc-481c-9e1a-e96180aece77\")>]\n"
     ]
    },
    {
     "name": "stderr",
     "output_type": "stream",
     "text": [
      "\r",
      "  1%|          | 2/250 [01:09<2:33:25, 37.12s/it]"
     ]
    },
    {
     "name": "stdout",
     "output_type": "stream",
     "text": [
      "FINISHED one restaurant, Took:  28.160845041275024\n",
      "[<selenium.webdriver.remote.webelement.WebElement (session=\"ef4ef0936d77212491ca31a3103f2c3b\", element=\"1f51b809-8d1d-460e-9c24-ba9301e6cf55\")>, <selenium.webdriver.remote.webelement.WebElement (session=\"ef4ef0936d77212491ca31a3103f2c3b\", element=\"7f84c7e4-2959-4d6f-a922-fe2b159ba278\")>, <selenium.webdriver.remote.webelement.WebElement (session=\"ef4ef0936d77212491ca31a3103f2c3b\", element=\"bb388505-17a7-4525-8e04-7df9629f7a81\")>, <selenium.webdriver.remote.webelement.WebElement (session=\"ef4ef0936d77212491ca31a3103f2c3b\", element=\"b1ca45ae-0eec-40be-b772-d78114c3f912\")>, <selenium.webdriver.remote.webelement.WebElement (session=\"ef4ef0936d77212491ca31a3103f2c3b\", element=\"9af501ca-8de0-4d81-9597-4d6bbb816917\")>]\n",
      "FINISHED one restaurant, Took:  34.457191944122314\n"
     ]
    },
    {
     "name": "stderr",
     "output_type": "stream",
     "text": [
      "\r",
      "  1%|          | 3/250 [01:43<2:29:54, 36.41s/it]"
     ]
    },
    {
     "name": "stdout",
     "output_type": "stream",
     "text": [
      "[<selenium.webdriver.remote.webelement.WebElement (session=\"aaea2df54f3f698a73b6152be93ac393\", element=\"314829ce-ef9d-4668-a90c-c92de8a23c84\")>, <selenium.webdriver.remote.webelement.WebElement (session=\"aaea2df54f3f698a73b6152be93ac393\", element=\"9566c0fa-e749-4296-baf2-8a7d79a58fc9\")>, <selenium.webdriver.remote.webelement.WebElement (session=\"aaea2df54f3f698a73b6152be93ac393\", element=\"59ab5b09-d93d-4daa-b7bc-fedb4500fd60\")>, <selenium.webdriver.remote.webelement.WebElement (session=\"aaea2df54f3f698a73b6152be93ac393\", element=\"17e8baae-b197-4eeb-b989-51ba71f52798\")>, <selenium.webdriver.remote.webelement.WebElement (session=\"aaea2df54f3f698a73b6152be93ac393\", element=\"9f018cf1-1cfb-4a51-801e-0d5ce7a3ace5\")>]\n"
     ]
    },
    {
     "name": "stderr",
     "output_type": "stream",
     "text": [
      "\r",
      "  2%|▏         | 4/250 [02:11<2:18:44, 33.84s/it]"
     ]
    },
    {
     "name": "stdout",
     "output_type": "stream",
     "text": [
      "FINISHED one restaurant, Took:  27.65697693824768\n",
      "[<selenium.webdriver.remote.webelement.WebElement (session=\"746879907393252214c2c4350efd5811\", element=\"b0c4d568-6369-445f-8a35-9bd5b7ff43ed\")>, <selenium.webdriver.remote.webelement.WebElement (session=\"746879907393252214c2c4350efd5811\", element=\"21fa93e4-0b49-43e9-8501-3f3e21868414\")>, <selenium.webdriver.remote.webelement.WebElement (session=\"746879907393252214c2c4350efd5811\", element=\"34b6321b-77c9-4977-ba0e-1a388bda1b16\")>, <selenium.webdriver.remote.webelement.WebElement (session=\"746879907393252214c2c4350efd5811\", element=\"bdd0a54e-6f08-4a48-9d6c-ca7557a55dea\")>, <selenium.webdriver.remote.webelement.WebElement (session=\"746879907393252214c2c4350efd5811\", element=\"2a8d4610-98d0-45dc-ba1f-a871c566a121\")>]\n"
     ]
    },
    {
     "name": "stderr",
     "output_type": "stream",
     "text": [
      "\r",
      "  2%|▏         | 5/250 [02:42<2:13:45, 32.76s/it]"
     ]
    },
    {
     "name": "stdout",
     "output_type": "stream",
     "text": [
      "FINISHED one restaurant, Took:  30.0610671043396\n",
      "[<selenium.webdriver.remote.webelement.WebElement (session=\"592e603fe0e96f192ad9794d439032b6\", element=\"00131ca9-225a-4b90-8636-0e640262e69a\")>, <selenium.webdriver.remote.webelement.WebElement (session=\"592e603fe0e96f192ad9794d439032b6\", element=\"653a1af5-55fa-4b61-9703-78538e7eefc0\")>, <selenium.webdriver.remote.webelement.WebElement (session=\"592e603fe0e96f192ad9794d439032b6\", element=\"533a6778-cdaf-4335-a7a0-3d8ffb864fee\")>, <selenium.webdriver.remote.webelement.WebElement (session=\"592e603fe0e96f192ad9794d439032b6\", element=\"66249f6c-f6b4-46ee-a37f-c0988f78e2c7\")>, <selenium.webdriver.remote.webelement.WebElement (session=\"592e603fe0e96f192ad9794d439032b6\", element=\"db9b6aee-c6e4-4815-9dc8-432b8152fd28\")>]\n",
      "End of reviews\n"
     ]
    },
    {
     "name": "stderr",
     "output_type": "stream",
     "text": [
      "\r",
      "  2%|▏         | 6/250 [03:02<1:57:46, 28.96s/it]"
     ]
    },
    {
     "name": "stdout",
     "output_type": "stream",
     "text": [
      "FINISHED one restaurant, Took:  19.96633768081665\n",
      "[<selenium.webdriver.remote.webelement.WebElement (session=\"e21db94f23afc4e89714fd695c350260\", element=\"66b9963a-84d1-4d3f-8a4f-ccc89b22f868\")>, <selenium.webdriver.remote.webelement.WebElement (session=\"e21db94f23afc4e89714fd695c350260\", element=\"fab8dd88-bb07-46c9-8773-63edddbc5c6e\")>, <selenium.webdriver.remote.webelement.WebElement (session=\"e21db94f23afc4e89714fd695c350260\", element=\"a6914fb9-c7eb-4b91-a295-11495d63fa07\")>, <selenium.webdriver.remote.webelement.WebElement (session=\"e21db94f23afc4e89714fd695c350260\", element=\"d5629266-ad47-44a4-a4fc-d3b93db26a0b\")>, <selenium.webdriver.remote.webelement.WebElement (session=\"e21db94f23afc4e89714fd695c350260\", element=\"79d91f66-45d4-4b8b-9d15-8f5b6403709b\")>]\n"
     ]
    },
    {
     "name": "stderr",
     "output_type": "stream",
     "text": [
      "\r",
      "  3%|▎         | 7/250 [03:28<1:54:32, 28.28s/it]"
     ]
    },
    {
     "name": "stdout",
     "output_type": "stream",
     "text": [
      "FINISHED one restaurant, Took:  26.522846937179565\n",
      "[<selenium.webdriver.remote.webelement.WebElement (session=\"a86c4b4efcbf64615b84e4c230239782\", element=\"ad6a8cba-07ee-41b5-959f-9961e07c7769\")>, <selenium.webdriver.remote.webelement.WebElement (session=\"a86c4b4efcbf64615b84e4c230239782\", element=\"bd3717c0-6d48-407a-823a-85ec486731d4\")>, <selenium.webdriver.remote.webelement.WebElement (session=\"a86c4b4efcbf64615b84e4c230239782\", element=\"df9c559e-f911-4f8b-99d9-1a186b369359\")>, <selenium.webdriver.remote.webelement.WebElement (session=\"a86c4b4efcbf64615b84e4c230239782\", element=\"3612f35a-af03-4a5d-b865-dbbec13bdd5a\")>, <selenium.webdriver.remote.webelement.WebElement (session=\"a86c4b4efcbf64615b84e4c230239782\", element=\"ccd752e8-f37c-43f0-b157-4ad1c893a64a\")>]\n"
     ]
    },
    {
     "name": "stderr",
     "output_type": "stream",
     "text": [
      "\r",
      "  3%|▎         | 8/250 [04:00<1:58:25, 29.36s/it]"
     ]
    },
    {
     "name": "stdout",
     "output_type": "stream",
     "text": [
      "FINISHED one restaurant, Took:  31.70571517944336\n",
      "[<selenium.webdriver.remote.webelement.WebElement (session=\"61bd6daa40c494b7d17746f1ed5c9379\", element=\"18417809-a325-4dfc-b092-93147317d27f\")>, <selenium.webdriver.remote.webelement.WebElement (session=\"61bd6daa40c494b7d17746f1ed5c9379\", element=\"cc41700d-d206-4192-930b-57f35ec33e5d\")>, <selenium.webdriver.remote.webelement.WebElement (session=\"61bd6daa40c494b7d17746f1ed5c9379\", element=\"67c3a49a-ba9f-4bf4-9e8e-7eac18b501a6\")>, <selenium.webdriver.remote.webelement.WebElement (session=\"61bd6daa40c494b7d17746f1ed5c9379\", element=\"6530f27b-2164-4f6b-abcf-37088d872be4\")>, <selenium.webdriver.remote.webelement.WebElement (session=\"61bd6daa40c494b7d17746f1ed5c9379\", element=\"053a3641-cd16-4f96-9fe6-f749eec67f4a\")>]\n"
     ]
    },
    {
     "name": "stderr",
     "output_type": "stream",
     "text": [
      "\r",
      "  4%|▎         | 9/250 [04:30<1:58:36, 29.53s/it]"
     ]
    },
    {
     "name": "stdout",
     "output_type": "stream",
     "text": [
      "FINISHED one restaurant, Took:  29.76539707183838\n",
      "[<selenium.webdriver.remote.webelement.WebElement (session=\"9e928ee429378fa1e58a6697dd09fbfa\", element=\"344444f0-bcac-4c95-b14b-c1a7afa94bb6\")>, <selenium.webdriver.remote.webelement.WebElement (session=\"9e928ee429378fa1e58a6697dd09fbfa\", element=\"6488a527-bc6c-4191-827b-cd65712103e6\")>, <selenium.webdriver.remote.webelement.WebElement (session=\"9e928ee429378fa1e58a6697dd09fbfa\", element=\"bc8b239d-f295-4988-968f-668d7de66c50\")>, <selenium.webdriver.remote.webelement.WebElement (session=\"9e928ee429378fa1e58a6697dd09fbfa\", element=\"7be0aebf-14d9-43e8-aba9-78556e11e90d\")>, <selenium.webdriver.remote.webelement.WebElement (session=\"9e928ee429378fa1e58a6697dd09fbfa\", element=\"2c1821d9-1e8a-437d-96d7-d6eeb5d1d28d\")>]\n"
     ]
    },
    {
     "name": "stderr",
     "output_type": "stream",
     "text": [
      "\r",
      "  4%|▍         | 10/250 [04:54<1:51:06, 27.78s/it]"
     ]
    },
    {
     "name": "stdout",
     "output_type": "stream",
     "text": [
      "FINISHED one restaurant, Took:  23.538304090499878\n",
      "[<selenium.webdriver.remote.webelement.WebElement (session=\"44d59884e326e03aaa2b644aba714765\", element=\"492d4d23-c007-4bca-93d3-39c41c82bc5b\")>, <selenium.webdriver.remote.webelement.WebElement (session=\"44d59884e326e03aaa2b644aba714765\", element=\"d4367c25-1870-4f1e-9baa-559240de8158\")>, <selenium.webdriver.remote.webelement.WebElement (session=\"44d59884e326e03aaa2b644aba714765\", element=\"3744503e-7cec-4888-b698-18fb4f624529\")>, <selenium.webdriver.remote.webelement.WebElement (session=\"44d59884e326e03aaa2b644aba714765\", element=\"74f5e6ea-1ec4-43d5-91a6-c87a42490fe2\")>, <selenium.webdriver.remote.webelement.WebElement (session=\"44d59884e326e03aaa2b644aba714765\", element=\"ae29ad38-eb64-4423-8b57-48d7f72af481\")>]\n"
     ]
    },
    {
     "name": "stderr",
     "output_type": "stream",
     "text": [
      "\r",
      "  4%|▍         | 11/250 [05:28<1:58:09, 29.66s/it]"
     ]
    },
    {
     "name": "stdout",
     "output_type": "stream",
     "text": [
      "FINISHED one restaurant, Took:  33.89069581031799\n",
      "[<selenium.webdriver.remote.webelement.WebElement (session=\"7a1232cdf7c32daed253008bbca12ad7\", element=\"efadb74d-ca04-4b4b-8e06-a1d1549d00c7\")>, <selenium.webdriver.remote.webelement.WebElement (session=\"7a1232cdf7c32daed253008bbca12ad7\", element=\"004f0c78-7802-4ed7-8463-35c9be20096c\")>, <selenium.webdriver.remote.webelement.WebElement (session=\"7a1232cdf7c32daed253008bbca12ad7\", element=\"2f17d731-d811-4f33-9b18-08ad5bd9063e\")>, <selenium.webdriver.remote.webelement.WebElement (session=\"7a1232cdf7c32daed253008bbca12ad7\", element=\"5e9260cf-f17f-42a7-ba86-516f92e2595e\")>, <selenium.webdriver.remote.webelement.WebElement (session=\"7a1232cdf7c32daed253008bbca12ad7\", element=\"55911010-0da0-4e5d-bbad-20996688a916\")>]\n"
     ]
    },
    {
     "name": "stderr",
     "output_type": "stream",
     "text": [
      "\r",
      "  5%|▍         | 12/250 [05:53<1:52:22, 28.33s/it]"
     ]
    },
    {
     "name": "stdout",
     "output_type": "stream",
     "text": [
      "FINISHED one restaurant, Took:  25.055999040603638\n",
      "[<selenium.webdriver.remote.webelement.WebElement (session=\"e41fdbcf89d34b3c910da9bc4722a399\", element=\"e37af42e-0a0e-43d3-9e08-17461deb5426\")>, <selenium.webdriver.remote.webelement.WebElement (session=\"e41fdbcf89d34b3c910da9bc4722a399\", element=\"bded25b4-31cc-4b6b-986f-719560fdaf84\")>, <selenium.webdriver.remote.webelement.WebElement (session=\"e41fdbcf89d34b3c910da9bc4722a399\", element=\"a52d3245-7acd-4ea8-b80e-d57d1226d947\")>, <selenium.webdriver.remote.webelement.WebElement (session=\"e41fdbcf89d34b3c910da9bc4722a399\", element=\"eb95283c-5f66-4abb-a0a6-ced43a9d4bb2\")>, <selenium.webdriver.remote.webelement.WebElement (session=\"e41fdbcf89d34b3c910da9bc4722a399\", element=\"9c5744b2-2dc6-4040-81f3-5231f8c90586\")>]\n"
     ]
    },
    {
     "name": "stderr",
     "output_type": "stream",
     "text": [
      "\r",
      "  5%|▌         | 13/250 [06:20<1:50:28, 27.97s/it]"
     ]
    },
    {
     "name": "stdout",
     "output_type": "stream",
     "text": [
      "FINISHED one restaurant, Took:  26.976685047149658\n",
      "[<selenium.webdriver.remote.webelement.WebElement (session=\"6cd7d735d224e1be73b2e5962cc0d87a\", element=\"cca75881-9d46-4126-b574-6047e0143f04\")>, <selenium.webdriver.remote.webelement.WebElement (session=\"6cd7d735d224e1be73b2e5962cc0d87a\", element=\"f2f902bb-bf9c-44d7-9f2a-78928ebda8db\")>, <selenium.webdriver.remote.webelement.WebElement (session=\"6cd7d735d224e1be73b2e5962cc0d87a\", element=\"2c7a9408-f256-4f0a-adbe-ca013537efb4\")>, <selenium.webdriver.remote.webelement.WebElement (session=\"6cd7d735d224e1be73b2e5962cc0d87a\", element=\"7643cd00-55cf-4290-85eb-9723b335ad92\")>, <selenium.webdriver.remote.webelement.WebElement (session=\"6cd7d735d224e1be73b2e5962cc0d87a\", element=\"0b15aa6f-cbe2-4406-9808-e422899644ff\")>]\n"
     ]
    },
    {
     "name": "stderr",
     "output_type": "stream",
     "text": [
      "\r",
      "  6%|▌         | 14/250 [06:54<1:57:08, 29.78s/it]"
     ]
    },
    {
     "name": "stdout",
     "output_type": "stream",
     "text": [
      "FINISHED one restaurant, Took:  33.830994844436646\n",
      "[<selenium.webdriver.remote.webelement.WebElement (session=\"289755760540645f571541c7b9dc5c94\", element=\"59486b9d-a40e-4632-8777-5fc2c183d76c\")>, <selenium.webdriver.remote.webelement.WebElement (session=\"289755760540645f571541c7b9dc5c94\", element=\"d0652664-8296-4708-9756-5e601d8928a8\")>, <selenium.webdriver.remote.webelement.WebElement (session=\"289755760540645f571541c7b9dc5c94\", element=\"4d78fb29-e41d-4043-8709-09bb1bafd17b\")>, <selenium.webdriver.remote.webelement.WebElement (session=\"289755760540645f571541c7b9dc5c94\", element=\"519b5953-1813-4259-b499-1004a818f46f\")>, <selenium.webdriver.remote.webelement.WebElement (session=\"289755760540645f571541c7b9dc5c94\", element=\"7a6fc030-ec4f-482d-8d14-c7a959d63bb7\")>]\n"
     ]
    },
    {
     "name": "stderr",
     "output_type": "stream",
     "text": [
      "\r",
      "  6%|▌         | 15/250 [07:21<1:52:36, 28.75s/it]"
     ]
    },
    {
     "name": "stdout",
     "output_type": "stream",
     "text": [
      "FINISHED one restaurant, Took:  26.186404943466187\n",
      "[<selenium.webdriver.remote.webelement.WebElement (session=\"6b860d013492bf263d13278a426c9b23\", element=\"875506e3-b9b6-4c35-b687-1e4e05fc0899\")>, <selenium.webdriver.remote.webelement.WebElement (session=\"6b860d013492bf263d13278a426c9b23\", element=\"5ca504ed-b915-452f-983e-1cdfa21a75b4\")>, <selenium.webdriver.remote.webelement.WebElement (session=\"6b860d013492bf263d13278a426c9b23\", element=\"2e1cfe9b-f0fb-4daf-89fe-93bef4eb9cc7\")>, <selenium.webdriver.remote.webelement.WebElement (session=\"6b860d013492bf263d13278a426c9b23\", element=\"6028ef99-4604-45d7-a331-5d59568389fa\")>, <selenium.webdriver.remote.webelement.WebElement (session=\"6b860d013492bf263d13278a426c9b23\", element=\"d430a7cc-6bcf-4177-9ce5-c7dd5cf97279\")>]\n"
     ]
    },
    {
     "name": "stderr",
     "output_type": "stream",
     "text": [
      "\r",
      "  6%|▋         | 16/250 [07:46<1:48:07, 27.72s/it]"
     ]
    },
    {
     "name": "stdout",
     "output_type": "stream",
     "text": [
      "FINISHED one restaurant, Took:  25.128371000289917\n",
      "[<selenium.webdriver.remote.webelement.WebElement (session=\"aeb50093858eeb1caf439e18a962e012\", element=\"612effea-92b3-4bb9-8607-49890bb0d142\")>, <selenium.webdriver.remote.webelement.WebElement (session=\"aeb50093858eeb1caf439e18a962e012\", element=\"e61f702e-46a1-4c29-96bf-32c6b670f01b\")>, <selenium.webdriver.remote.webelement.WebElement (session=\"aeb50093858eeb1caf439e18a962e012\", element=\"5fa170c3-5dea-4c7e-b0b8-d4766001b7a1\")>, <selenium.webdriver.remote.webelement.WebElement (session=\"aeb50093858eeb1caf439e18a962e012\", element=\"fe1cc5ae-9ad5-408e-ad8c-f3f9f82390cf\")>, <selenium.webdriver.remote.webelement.WebElement (session=\"aeb50093858eeb1caf439e18a962e012\", element=\"1d7b86c7-4c05-4866-9e3b-2b99ff206949\")>]\n"
     ]
    },
    {
     "name": "stderr",
     "output_type": "stream",
     "text": [
      "\r",
      "  7%|▋         | 17/250 [08:09<1:42:22, 26.36s/it]"
     ]
    },
    {
     "name": "stdout",
     "output_type": "stream",
     "text": [
      "End of reviews\n",
      "FINISHED one restaurant, Took:  23.016263008117676\n",
      "[<selenium.webdriver.remote.webelement.WebElement (session=\"ffba1ac590740a286b03bcc65cdcb4e2\", element=\"e5ff2366-cb5a-4edb-a2e6-d597a3c783fd\")>, <selenium.webdriver.remote.webelement.WebElement (session=\"ffba1ac590740a286b03bcc65cdcb4e2\", element=\"2a840bae-ca7e-40d7-bbc6-d0618ddf599f\")>, <selenium.webdriver.remote.webelement.WebElement (session=\"ffba1ac590740a286b03bcc65cdcb4e2\", element=\"dc2a3099-0fa9-47cf-a8c3-e33b6609b34d\")>, <selenium.webdriver.remote.webelement.WebElement (session=\"ffba1ac590740a286b03bcc65cdcb4e2\", element=\"32a54fc2-c7e4-4dcd-9368-525c80271f56\")>, <selenium.webdriver.remote.webelement.WebElement (session=\"ffba1ac590740a286b03bcc65cdcb4e2\", element=\"4de2e5b8-d8bd-4dd7-9682-504d076be7d0\")>]\n"
     ]
    },
    {
     "name": "stderr",
     "output_type": "stream",
     "text": [
      "\r",
      "  7%|▋         | 18/250 [08:45<1:52:51, 29.19s/it]"
     ]
    },
    {
     "name": "stdout",
     "output_type": "stream",
     "text": [
      "FINISHED one restaurant, Took:  35.59640407562256\n",
      "[<selenium.webdriver.remote.webelement.WebElement (session=\"ba31c25be4199551fbbb436df4e2d8ab\", element=\"d867db72-3fa1-45be-bb1b-c6c1961667e0\")>, <selenium.webdriver.remote.webelement.WebElement (session=\"ba31c25be4199551fbbb436df4e2d8ab\", element=\"c3e40f72-5ed2-44b7-90c3-9d0b4e987c66\")>, <selenium.webdriver.remote.webelement.WebElement (session=\"ba31c25be4199551fbbb436df4e2d8ab\", element=\"b6f76597-f267-4d36-b734-6176d676f53c\")>, <selenium.webdriver.remote.webelement.WebElement (session=\"ba31c25be4199551fbbb436df4e2d8ab\", element=\"33255094-a842-4dce-828e-38329a6a3076\")>, <selenium.webdriver.remote.webelement.WebElement (session=\"ba31c25be4199551fbbb436df4e2d8ab\", element=\"47839e5f-282a-4252-b621-bd9bef7909f9\")>]\n"
     ]
    },
    {
     "name": "stderr",
     "output_type": "stream",
     "text": [
      "\r",
      "  8%|▊         | 19/250 [09:13<1:51:26, 28.95s/it]"
     ]
    },
    {
     "name": "stdout",
     "output_type": "stream",
     "text": [
      "FINISHED one restaurant, Took:  28.220300912857056\n",
      "[<selenium.webdriver.remote.webelement.WebElement (session=\"a833a8536aab1f4eb739856f70e606dc\", element=\"2b4ee3f2-8e6d-410a-bed1-bfc3e5cab29a\")>, <selenium.webdriver.remote.webelement.WebElement (session=\"a833a8536aab1f4eb739856f70e606dc\", element=\"cd0ae8c5-e9a9-4a7c-8a6b-cdb920f4cfbb\")>, <selenium.webdriver.remote.webelement.WebElement (session=\"a833a8536aab1f4eb739856f70e606dc\", element=\"592782d1-f6a4-4f3f-b5a4-03ceb69a72d6\")>, <selenium.webdriver.remote.webelement.WebElement (session=\"a833a8536aab1f4eb739856f70e606dc\", element=\"55002fbe-6c23-4810-b8a2-492245b23704\")>, <selenium.webdriver.remote.webelement.WebElement (session=\"a833a8536aab1f4eb739856f70e606dc\", element=\"842bdc76-88b4-4a5d-9180-af01c79a05ba\")>]\n"
     ]
    },
    {
     "name": "stderr",
     "output_type": "stream",
     "text": [
      "\r",
      "  8%|▊         | 20/250 [09:46<1:54:55, 29.98s/it]"
     ]
    },
    {
     "name": "stdout",
     "output_type": "stream",
     "text": [
      "FINISHED one restaurant, Took:  32.20071506500244\n",
      "[<selenium.webdriver.remote.webelement.WebElement (session=\"c174a9ccfa52b634b510da1640801347\", element=\"0e51e2e2-1bf4-4b84-a805-935872ef805e\")>, <selenium.webdriver.remote.webelement.WebElement (session=\"c174a9ccfa52b634b510da1640801347\", element=\"e2ce0b5d-d901-4efb-8503-779a7e11a27a\")>, <selenium.webdriver.remote.webelement.WebElement (session=\"c174a9ccfa52b634b510da1640801347\", element=\"99089691-e28e-4d69-b614-ecf5b2e788a8\")>, <selenium.webdriver.remote.webelement.WebElement (session=\"c174a9ccfa52b634b510da1640801347\", element=\"dbb51ea2-a93f-4daa-aa91-459de85cc744\")>, <selenium.webdriver.remote.webelement.WebElement (session=\"c174a9ccfa52b634b510da1640801347\", element=\"a9aab536-3359-4d01-84c7-dded9a3b4347\")>]\n"
     ]
    },
    {
     "name": "stderr",
     "output_type": "stream",
     "text": [
      "\r",
      "  8%|▊         | 21/250 [10:12<1:50:37, 28.98s/it]"
     ]
    },
    {
     "name": "stdout",
     "output_type": "stream",
     "text": [
      "FINISHED one restaurant, Took:  26.49559497833252\n",
      "[<selenium.webdriver.remote.webelement.WebElement (session=\"a632b15d00344d3c5816d51b1c2cd685\", element=\"3c29ceb2-cb72-46ac-970f-eeb8bfea8305\")>, <selenium.webdriver.remote.webelement.WebElement (session=\"a632b15d00344d3c5816d51b1c2cd685\", element=\"c66f654b-1981-45be-9178-47cc99a57917\")>, <selenium.webdriver.remote.webelement.WebElement (session=\"a632b15d00344d3c5816d51b1c2cd685\", element=\"646a7fe9-a1aa-4396-8779-1ca039d597e3\")>, <selenium.webdriver.remote.webelement.WebElement (session=\"a632b15d00344d3c5816d51b1c2cd685\", element=\"19ac8b0c-4c86-4469-978a-22ce617a99b5\")>, <selenium.webdriver.remote.webelement.WebElement (session=\"a632b15d00344d3c5816d51b1c2cd685\", element=\"21fc5107-eb73-4e98-9be8-e70b19666a0e\")>]\n"
     ]
    },
    {
     "name": "stderr",
     "output_type": "stream",
     "text": [
      "\r",
      "  9%|▉         | 22/250 [10:38<1:46:43, 28.08s/it]"
     ]
    },
    {
     "name": "stdout",
     "output_type": "stream",
     "text": [
      "FINISHED one restaurant, Took:  25.814209938049316\n",
      "[<selenium.webdriver.remote.webelement.WebElement (session=\"20bb552b4d83fe983199de41c1c35478\", element=\"663df614-1119-4602-b6a2-5c35d6cc591d\")>, <selenium.webdriver.remote.webelement.WebElement (session=\"20bb552b4d83fe983199de41c1c35478\", element=\"5e2f8309-3bd7-4495-b418-410d8b84304f\")>, <selenium.webdriver.remote.webelement.WebElement (session=\"20bb552b4d83fe983199de41c1c35478\", element=\"fdb0f723-0607-4fec-8d31-15caf2476503\")>, <selenium.webdriver.remote.webelement.WebElement (session=\"20bb552b4d83fe983199de41c1c35478\", element=\"a84937d6-fd8e-418d-a01d-6320dd4cb3da\")>, <selenium.webdriver.remote.webelement.WebElement (session=\"20bb552b4d83fe983199de41c1c35478\", element=\"8b460502-339d-4f01-9759-421e2161265d\")>]\n"
     ]
    },
    {
     "name": "stderr",
     "output_type": "stream",
     "text": [
      "\r",
      "  9%|▉         | 23/250 [11:03<1:42:54, 27.20s/it]"
     ]
    },
    {
     "name": "stdout",
     "output_type": "stream",
     "text": [
      "FINISHED one restaurant, Took:  24.94749116897583\n",
      "[<selenium.webdriver.remote.webelement.WebElement (session=\"1f38ae55ee1a555f319a253da850b889\", element=\"aa0ebdf7-bcc8-4e12-8a39-ca66afc606ec\")>, <selenium.webdriver.remote.webelement.WebElement (session=\"1f38ae55ee1a555f319a253da850b889\", element=\"926cd24b-4f98-41b9-b63c-3b1516dc5a35\")>, <selenium.webdriver.remote.webelement.WebElement (session=\"1f38ae55ee1a555f319a253da850b889\", element=\"b7579891-dfdf-41a2-aba8-c172f301df0b\")>, <selenium.webdriver.remote.webelement.WebElement (session=\"1f38ae55ee1a555f319a253da850b889\", element=\"e6af49e8-59c0-47d3-8429-c1b334436d70\")>, <selenium.webdriver.remote.webelement.WebElement (session=\"1f38ae55ee1a555f319a253da850b889\", element=\"200db62c-864b-46f2-bf7c-3ecd34c21d66\")>]\n"
     ]
    },
    {
     "name": "stderr",
     "output_type": "stream",
     "text": [
      "\r",
      " 10%|▉         | 24/250 [11:35<1:47:12, 28.46s/it]"
     ]
    },
    {
     "name": "stdout",
     "output_type": "stream",
     "text": [
      "FINISHED one restaurant, Took:  31.24145197868347\n",
      "[<selenium.webdriver.remote.webelement.WebElement (session=\"caaa86a4e4c4bc70014b916b8296a454\", element=\"9fdc438c-7c8a-4401-97f8-b36d7734441b\")>, <selenium.webdriver.remote.webelement.WebElement (session=\"caaa86a4e4c4bc70014b916b8296a454\", element=\"f38210c7-bd87-4684-818f-7cb785453ccb\")>, <selenium.webdriver.remote.webelement.WebElement (session=\"caaa86a4e4c4bc70014b916b8296a454\", element=\"5461d85c-c886-4c67-a3de-45d870c047fc\")>, <selenium.webdriver.remote.webelement.WebElement (session=\"caaa86a4e4c4bc70014b916b8296a454\", element=\"0cd4b8aa-9b1a-4b29-bdfe-a032f9f8397f\")>, <selenium.webdriver.remote.webelement.WebElement (session=\"caaa86a4e4c4bc70014b916b8296a454\", element=\"adf6c1ff-8b11-4284-a724-c7c1b9f80868\")>]\n"
     ]
    },
    {
     "name": "stderr",
     "output_type": "stream",
     "text": [
      "\r",
      " 10%|█         | 25/250 [12:04<1:46:58, 28.53s/it]"
     ]
    },
    {
     "name": "stdout",
     "output_type": "stream",
     "text": [
      "FINISHED one restaurant, Took:  28.517441034317017\n",
      "[<selenium.webdriver.remote.webelement.WebElement (session=\"5c96bcb53fab6071e0b827a2eaf7ecd0\", element=\"85a6af7e-c14d-4c56-9d81-ba645e62b053\")>, <selenium.webdriver.remote.webelement.WebElement (session=\"5c96bcb53fab6071e0b827a2eaf7ecd0\", element=\"560ec594-4b20-45d1-b7d0-f384883e3ca6\")>, <selenium.webdriver.remote.webelement.WebElement (session=\"5c96bcb53fab6071e0b827a2eaf7ecd0\", element=\"1b0aa9cb-cf37-442d-9dd9-3aa81f20023c\")>, <selenium.webdriver.remote.webelement.WebElement (session=\"5c96bcb53fab6071e0b827a2eaf7ecd0\", element=\"25969c83-f36c-409f-8c2c-8d4e18cbf82a\")>, <selenium.webdriver.remote.webelement.WebElement (session=\"5c96bcb53fab6071e0b827a2eaf7ecd0\", element=\"e7124374-f42c-425c-bd4d-fb092592ee82\")>]\n"
     ]
    },
    {
     "name": "stderr",
     "output_type": "stream",
     "text": [
      "\r",
      " 10%|█         | 26/250 [12:32<1:46:01, 28.40s/it]"
     ]
    },
    {
     "name": "stdout",
     "output_type": "stream",
     "text": [
      "FINISHED one restaurant, Took:  27.946088075637817\n",
      "[<selenium.webdriver.remote.webelement.WebElement (session=\"f47453c6d3dea8916eeef441bd06adba\", element=\"8c17aabb-3eb1-47d1-825b-149de5521ed2\")>, <selenium.webdriver.remote.webelement.WebElement (session=\"f47453c6d3dea8916eeef441bd06adba\", element=\"e985329b-ae0c-4403-a4d5-dd346e781405\")>, <selenium.webdriver.remote.webelement.WebElement (session=\"f47453c6d3dea8916eeef441bd06adba\", element=\"22d74ef9-e006-490f-966f-6a4f99a924d7\")>, <selenium.webdriver.remote.webelement.WebElement (session=\"f47453c6d3dea8916eeef441bd06adba\", element=\"a56b38c5-9c47-4a75-9a7a-2f41a0ce60a0\")>, <selenium.webdriver.remote.webelement.WebElement (session=\"f47453c6d3dea8916eeef441bd06adba\", element=\"c6f710c5-ac7b-4f1b-8cc5-4d47a44ed0b8\")>]\n"
     ]
    },
    {
     "name": "stderr",
     "output_type": "stream",
     "text": [
      "\r",
      " 11%|█         | 27/250 [13:04<1:49:26, 29.45s/it]"
     ]
    },
    {
     "name": "stdout",
     "output_type": "stream",
     "text": [
      "FINISHED one restaurant, Took:  31.720816135406494\n",
      "[<selenium.webdriver.remote.webelement.WebElement (session=\"2b9a218e3ea9f37ebe2f5d1a09b0c336\", element=\"1fc6b99e-a183-4d24-b103-7393e8ace2d1\")>, <selenium.webdriver.remote.webelement.WebElement (session=\"2b9a218e3ea9f37ebe2f5d1a09b0c336\", element=\"bc2438a5-5555-4bc1-990a-8f6ebd17182c\")>, <selenium.webdriver.remote.webelement.WebElement (session=\"2b9a218e3ea9f37ebe2f5d1a09b0c336\", element=\"f462dd19-6f62-41ca-b73e-66f0b6e16a1a\")>, <selenium.webdriver.remote.webelement.WebElement (session=\"2b9a218e3ea9f37ebe2f5d1a09b0c336\", element=\"fbd53833-1fbe-4679-ba71-16530c83ef27\")>, <selenium.webdriver.remote.webelement.WebElement (session=\"2b9a218e3ea9f37ebe2f5d1a09b0c336\", element=\"053bbc68-96e5-46fc-b498-b212e42fae6b\")>]\n"
     ]
    },
    {
     "name": "stderr",
     "output_type": "stream",
     "text": [
      "\r",
      " 11%|█         | 28/250 [13:29<1:44:53, 28.35s/it]"
     ]
    },
    {
     "name": "stdout",
     "output_type": "stream",
     "text": [
      "FINISHED one restaurant, Took:  25.62642478942871\n",
      "[<selenium.webdriver.remote.webelement.WebElement (session=\"207616898ce545232e1906c0c5b06df4\", element=\"866e615f-821b-457e-9a39-f75b0c024f01\")>, <selenium.webdriver.remote.webelement.WebElement (session=\"207616898ce545232e1906c0c5b06df4\", element=\"a2c89fbb-79dd-430b-b447-c1659221b7c8\")>, <selenium.webdriver.remote.webelement.WebElement (session=\"207616898ce545232e1906c0c5b06df4\", element=\"c2452ba5-d24d-450f-a1e7-e6d179d3065e\")>, <selenium.webdriver.remote.webelement.WebElement (session=\"207616898ce545232e1906c0c5b06df4\", element=\"0176e329-2347-472a-aa34-432a9b969825\")>, <selenium.webdriver.remote.webelement.WebElement (session=\"207616898ce545232e1906c0c5b06df4\", element=\"89b4f7cb-5d1d-4834-8b72-e5d581e89e5c\")>]\n"
     ]
    },
    {
     "name": "stderr",
     "output_type": "stream",
     "text": [
      "\r",
      " 12%|█▏        | 29/250 [14:01<1:47:46, 29.26s/it]"
     ]
    },
    {
     "name": "stdout",
     "output_type": "stream",
     "text": [
      "FINISHED one restaurant, Took:  31.22322702407837\n",
      "[<selenium.webdriver.remote.webelement.WebElement (session=\"52e825ca665673c3406cb9b71e2a50b4\", element=\"45663792-0cb6-4eef-b1db-dc077a3e3a67\")>, <selenium.webdriver.remote.webelement.WebElement (session=\"52e825ca665673c3406cb9b71e2a50b4\", element=\"f355abce-6fa4-4682-9569-3383e81099ec\")>, <selenium.webdriver.remote.webelement.WebElement (session=\"52e825ca665673c3406cb9b71e2a50b4\", element=\"5563640f-6297-4347-b1ed-69081e010cb9\")>, <selenium.webdriver.remote.webelement.WebElement (session=\"52e825ca665673c3406cb9b71e2a50b4\", element=\"d2df3187-60e5-4375-95cf-a57a6d48f972\")>, <selenium.webdriver.remote.webelement.WebElement (session=\"52e825ca665673c3406cb9b71e2a50b4\", element=\"1b20603a-06d1-42b7-bfa6-01326be17e9c\")>]\n"
     ]
    },
    {
     "name": "stderr",
     "output_type": "stream",
     "text": [
      "\r",
      " 12%|█▏        | 30/250 [14:30<1:47:04, 29.20s/it]"
     ]
    },
    {
     "name": "stdout",
     "output_type": "stream",
     "text": [
      "FINISHED one restaurant, Took:  28.915982007980347\n",
      "[<selenium.webdriver.remote.webelement.WebElement (session=\"987fb0284f7f6f59c6831250877f3415\", element=\"2e2f8e51-964c-49eb-930c-73984a1fdede\")>, <selenium.webdriver.remote.webelement.WebElement (session=\"987fb0284f7f6f59c6831250877f3415\", element=\"13a2bbac-c1b5-47b0-af0d-c3ff27d57584\")>, <selenium.webdriver.remote.webelement.WebElement (session=\"987fb0284f7f6f59c6831250877f3415\", element=\"ebef83f0-4285-4762-9615-38399aeab8c2\")>, <selenium.webdriver.remote.webelement.WebElement (session=\"987fb0284f7f6f59c6831250877f3415\", element=\"978b28f5-08a5-494f-9d56-90aac02266fd\")>, <selenium.webdriver.remote.webelement.WebElement (session=\"987fb0284f7f6f59c6831250877f3415\", element=\"41cf6214-443a-4c86-96b7-d7f7c6ba5811\")>]\n"
     ]
    },
    {
     "name": "stderr",
     "output_type": "stream",
     "text": [
      "\r",
      " 12%|█▏        | 31/250 [14:59<1:46:28, 29.17s/it]"
     ]
    },
    {
     "name": "stdout",
     "output_type": "stream",
     "text": [
      "FINISHED one restaurant, Took:  28.942660808563232\n",
      "[<selenium.webdriver.remote.webelement.WebElement (session=\"b2ceece723f4f5f67b5f8c62b45aadd9\", element=\"4755e768-5dfc-422f-b3f3-d75ee1091c0c\")>, <selenium.webdriver.remote.webelement.WebElement (session=\"b2ceece723f4f5f67b5f8c62b45aadd9\", element=\"f50d0b14-3568-43d5-8080-d5c0983a4028\")>, <selenium.webdriver.remote.webelement.WebElement (session=\"b2ceece723f4f5f67b5f8c62b45aadd9\", element=\"995818a5-3898-435f-a325-4a6ff52d44e2\")>, <selenium.webdriver.remote.webelement.WebElement (session=\"b2ceece723f4f5f67b5f8c62b45aadd9\", element=\"772454fd-f163-4638-bd9b-0da9a54e6a6a\")>, <selenium.webdriver.remote.webelement.WebElement (session=\"b2ceece723f4f5f67b5f8c62b45aadd9\", element=\"dca32c08-da4f-44d9-b5c4-1b0ed4d8eb8d\")>]\n"
     ]
    },
    {
     "name": "stderr",
     "output_type": "stream",
     "text": [
      "\r",
      " 13%|█▎        | 32/250 [15:26<1:43:50, 28.58s/it]"
     ]
    },
    {
     "name": "stdout",
     "output_type": "stream",
     "text": [
      "FINISHED one restaurant, Took:  27.0326988697052\n",
      "[<selenium.webdriver.remote.webelement.WebElement (session=\"3768b5d0a04f51d5e16b63e3d76033d9\", element=\"d14dd19b-8d72-48cb-bebb-3c7a64f5fbf8\")>, <selenium.webdriver.remote.webelement.WebElement (session=\"3768b5d0a04f51d5e16b63e3d76033d9\", element=\"f023b932-8e44-46ef-883d-89407c8bdf9a\")>, <selenium.webdriver.remote.webelement.WebElement (session=\"3768b5d0a04f51d5e16b63e3d76033d9\", element=\"3aebb522-c37f-43f6-a68c-86e01684e9c1\")>, <selenium.webdriver.remote.webelement.WebElement (session=\"3768b5d0a04f51d5e16b63e3d76033d9\", element=\"2c732ea8-f530-4f07-a4f6-3edb87533095\")>, <selenium.webdriver.remote.webelement.WebElement (session=\"3768b5d0a04f51d5e16b63e3d76033d9\", element=\"5d70dd4e-17d5-4ea5-87ba-3736a2938820\")>]\n"
     ]
    },
    {
     "name": "stderr",
     "output_type": "stream",
     "text": [
      "\r",
      " 13%|█▎        | 33/250 [15:54<1:42:15, 28.27s/it]"
     ]
    },
    {
     "name": "stdout",
     "output_type": "stream",
     "text": [
      "FINISHED one restaurant, Took:  27.38917303085327\n",
      "[<selenium.webdriver.remote.webelement.WebElement (session=\"acea6deab03ffe65c275b9188d73f180\", element=\"6cd8fa50-7a0e-4932-a935-07dce8f8366b\")>, <selenium.webdriver.remote.webelement.WebElement (session=\"acea6deab03ffe65c275b9188d73f180\", element=\"541243bc-db40-46bf-bc6f-5d98fb1faa4e\")>, <selenium.webdriver.remote.webelement.WebElement (session=\"acea6deab03ffe65c275b9188d73f180\", element=\"5f79c857-eecb-42a0-b18f-6eb643710f4c\")>, <selenium.webdriver.remote.webelement.WebElement (session=\"acea6deab03ffe65c275b9188d73f180\", element=\"bc4574f0-f8ae-43e4-b39e-f20b6f7be539\")>, <selenium.webdriver.remote.webelement.WebElement (session=\"acea6deab03ffe65c275b9188d73f180\", element=\"207415cf-52a2-4565-ad9b-3e0cd7b1c9be\")>]\n"
     ]
    },
    {
     "name": "stderr",
     "output_type": "stream",
     "text": [
      "\r",
      " 14%|█▎        | 34/250 [16:22<1:41:27, 28.18s/it]"
     ]
    },
    {
     "name": "stdout",
     "output_type": "stream",
     "text": [
      "FINISHED one restaurant, Took:  27.790772914886475\n",
      "[<selenium.webdriver.remote.webelement.WebElement (session=\"0b8d9927682df61d88a68550fce41bfa\", element=\"49220f4d-ad4a-4884-a74a-7dca2b6eb086\")>, <selenium.webdriver.remote.webelement.WebElement (session=\"0b8d9927682df61d88a68550fce41bfa\", element=\"3a093a63-f865-4cf1-96f9-3040a5881cf3\")>, <selenium.webdriver.remote.webelement.WebElement (session=\"0b8d9927682df61d88a68550fce41bfa\", element=\"c745c78e-57cc-4f96-a4f3-5ba2e7131c50\")>, <selenium.webdriver.remote.webelement.WebElement (session=\"0b8d9927682df61d88a68550fce41bfa\", element=\"1540c631-a351-4c54-bf32-c5f3b948d6f4\")>, <selenium.webdriver.remote.webelement.WebElement (session=\"0b8d9927682df61d88a68550fce41bfa\", element=\"60a80c9d-c109-4e17-928c-dadb692e2b7b\")>]\n"
     ]
    },
    {
     "name": "stderr",
     "output_type": "stream",
     "text": [
      "\r",
      " 14%|█▍        | 35/250 [16:47<1:37:56, 27.33s/it]"
     ]
    },
    {
     "name": "stdout",
     "output_type": "stream",
     "text": [
      "FINISHED one restaurant, Took:  25.201124668121338\n",
      "[<selenium.webdriver.remote.webelement.WebElement (session=\"ed29c970b05f778ca865db714b9b2ac9\", element=\"7c40417a-59d3-486e-86f5-e9243cfdf367\")>, <selenium.webdriver.remote.webelement.WebElement (session=\"ed29c970b05f778ca865db714b9b2ac9\", element=\"992870e7-f29f-41c2-b38a-22805ae75ec6\")>, <selenium.webdriver.remote.webelement.WebElement (session=\"ed29c970b05f778ca865db714b9b2ac9\", element=\"00eccfab-f8cc-4313-9f7e-080932eba40b\")>, <selenium.webdriver.remote.webelement.WebElement (session=\"ed29c970b05f778ca865db714b9b2ac9\", element=\"fadbc0bd-3d56-4e70-a0ab-abef026281a8\")>, <selenium.webdriver.remote.webelement.WebElement (session=\"ed29c970b05f778ca865db714b9b2ac9\", element=\"0a61c9ce-b74f-4e4f-8225-c0f088df676a\")>]\n"
     ]
    },
    {
     "name": "stderr",
     "output_type": "stream",
     "text": [
      "\r",
      " 14%|█▍        | 36/250 [17:13<1:36:00, 26.92s/it]"
     ]
    },
    {
     "name": "stdout",
     "output_type": "stream",
     "text": [
      "FINISHED one restaurant, Took:  25.789424896240234\n",
      "[<selenium.webdriver.remote.webelement.WebElement (session=\"db7d2e95d0dbce5642f048d69049d4df\", element=\"cd2d8122-7cce-49f8-9b6c-f709aa954682\")>, <selenium.webdriver.remote.webelement.WebElement (session=\"db7d2e95d0dbce5642f048d69049d4df\", element=\"2c8552fb-f116-47e0-9ba3-09ce64806515\")>, <selenium.webdriver.remote.webelement.WebElement (session=\"db7d2e95d0dbce5642f048d69049d4df\", element=\"661f91e4-bfc1-4564-903e-55b878c99090\")>, <selenium.webdriver.remote.webelement.WebElement (session=\"db7d2e95d0dbce5642f048d69049d4df\", element=\"9a0bbfe4-0276-4d3b-87a8-4f25f3760491\")>, <selenium.webdriver.remote.webelement.WebElement (session=\"db7d2e95d0dbce5642f048d69049d4df\", element=\"ac26fa7a-051a-4149-8e74-40e3f6886dab\")>]\n"
     ]
    },
    {
     "name": "stderr",
     "output_type": "stream",
     "text": [
      "\r",
      " 15%|█▍        | 37/250 [17:43<1:39:26, 28.01s/it]"
     ]
    },
    {
     "name": "stdout",
     "output_type": "stream",
     "text": [
      "FINISHED one restaurant, Took:  30.401865243911743\n",
      "[<selenium.webdriver.remote.webelement.WebElement (session=\"89854f9d14c5efbfc58252c591175d6b\", element=\"294eed50-2a37-441f-aecb-bdacb3ac9b4f\")>, <selenium.webdriver.remote.webelement.WebElement (session=\"89854f9d14c5efbfc58252c591175d6b\", element=\"f2135729-a7db-4428-bfe3-0513db07d62a\")>, <selenium.webdriver.remote.webelement.WebElement (session=\"89854f9d14c5efbfc58252c591175d6b\", element=\"3233d642-488b-45e7-8ac3-3c7c8e55bd9c\")>, <selenium.webdriver.remote.webelement.WebElement (session=\"89854f9d14c5efbfc58252c591175d6b\", element=\"312092ee-f3b8-4fd8-a87e-c9c7496388ad\")>, <selenium.webdriver.remote.webelement.WebElement (session=\"89854f9d14c5efbfc58252c591175d6b\", element=\"6407685a-2526-45e6-be74-b5c7018d0cb6\")>]\n"
     ]
    },
    {
     "name": "stderr",
     "output_type": "stream",
     "text": [
      "\r",
      " 15%|█▌        | 38/250 [18:07<1:34:22, 26.71s/it]"
     ]
    },
    {
     "name": "stdout",
     "output_type": "stream",
     "text": [
      "FINISHED one restaurant, Took:  23.505992889404297\n",
      "[<selenium.webdriver.remote.webelement.WebElement (session=\"4cda13781449f989320a0ee47a00f3b1\", element=\"e0255148-f40f-4560-88f1-ef4cfb9d2208\")>, <selenium.webdriver.remote.webelement.WebElement (session=\"4cda13781449f989320a0ee47a00f3b1\", element=\"ae74092c-db8a-4595-be1e-09fbe982c4ff\")>, <selenium.webdriver.remote.webelement.WebElement (session=\"4cda13781449f989320a0ee47a00f3b1\", element=\"7f3ddaff-e45a-4143-bd99-d32748deca24\")>, <selenium.webdriver.remote.webelement.WebElement (session=\"4cda13781449f989320a0ee47a00f3b1\", element=\"8de90a1a-fbe6-4927-90f6-f863b9930b8c\")>, <selenium.webdriver.remote.webelement.WebElement (session=\"4cda13781449f989320a0ee47a00f3b1\", element=\"55478ab0-238b-4e05-b179-4b906fbbdb50\")>]\n"
     ]
    },
    {
     "name": "stderr",
     "output_type": "stream",
     "text": [
      "\r",
      " 16%|█▌        | 39/250 [18:32<1:32:05, 26.19s/it]"
     ]
    },
    {
     "name": "stdout",
     "output_type": "stream",
     "text": [
      "FINISHED one restaurant, Took:  24.823491096496582\n",
      "[<selenium.webdriver.remote.webelement.WebElement (session=\"a679c63147259121df806d5bde08c683\", element=\"dbf0f625-1a5d-4a56-93c9-a410752d87c5\")>, <selenium.webdriver.remote.webelement.WebElement (session=\"a679c63147259121df806d5bde08c683\", element=\"212fbdf1-0dc1-401d-a6b3-a0a133552985\")>, <selenium.webdriver.remote.webelement.WebElement (session=\"a679c63147259121df806d5bde08c683\", element=\"a7537156-f242-43a3-8bbf-7962192c69d7\")>, <selenium.webdriver.remote.webelement.WebElement (session=\"a679c63147259121df806d5bde08c683\", element=\"c23ee496-8f2c-4278-9434-2e4c1c6ef3bf\")>, <selenium.webdriver.remote.webelement.WebElement (session=\"a679c63147259121df806d5bde08c683\", element=\"02965bbf-45c6-4285-9d95-d2e53e5b517c\")>]\n"
     ]
    },
    {
     "name": "stderr",
     "output_type": "stream",
     "text": [
      "\r",
      " 16%|█▌        | 40/250 [18:58<1:31:42, 26.20s/it]"
     ]
    },
    {
     "name": "stdout",
     "output_type": "stream",
     "text": [
      "FINISHED one restaurant, Took:  26.065945863723755\n",
      "[<selenium.webdriver.remote.webelement.WebElement (session=\"c21ff5ff4d3f6b5330303804ee84c384\", element=\"f44b50b0-94dc-43f8-bcfe-4232551998f1\")>, <selenium.webdriver.remote.webelement.WebElement (session=\"c21ff5ff4d3f6b5330303804ee84c384\", element=\"7f89f5a7-1da8-4c89-8dde-22b0389601c9\")>, <selenium.webdriver.remote.webelement.WebElement (session=\"c21ff5ff4d3f6b5330303804ee84c384\", element=\"404264b2-1acd-4fa4-820f-bf32a397d05b\")>, <selenium.webdriver.remote.webelement.WebElement (session=\"c21ff5ff4d3f6b5330303804ee84c384\", element=\"391ae5f4-ace7-4e3b-879f-0ae1fc1397b4\")>, <selenium.webdriver.remote.webelement.WebElement (session=\"c21ff5ff4d3f6b5330303804ee84c384\", element=\"26008ddb-23f8-432b-9387-8bccac7ca1e1\")>]\n"
     ]
    },
    {
     "name": "stderr",
     "output_type": "stream",
     "text": [
      "\r",
      " 16%|█▋        | 41/250 [19:26<1:33:12, 26.76s/it]"
     ]
    },
    {
     "name": "stdout",
     "output_type": "stream",
     "text": [
      "FINISHED one restaurant, Took:  27.88336491584778\n",
      "[<selenium.webdriver.remote.webelement.WebElement (session=\"eeaa8161f7435aba29f1827f8a926fd0\", element=\"8fcc0e91-81a2-4c8e-98ec-6db3e4c008eb\")>, <selenium.webdriver.remote.webelement.WebElement (session=\"eeaa8161f7435aba29f1827f8a926fd0\", element=\"bc1e9138-6e0f-40fe-808e-33551cdc788e\")>, <selenium.webdriver.remote.webelement.WebElement (session=\"eeaa8161f7435aba29f1827f8a926fd0\", element=\"6f21dbc0-524e-4d78-a9cd-114df00c6090\")>, <selenium.webdriver.remote.webelement.WebElement (session=\"eeaa8161f7435aba29f1827f8a926fd0\", element=\"482ebc3b-1f40-4ab0-9f5a-0c3e03116bae\")>, <selenium.webdriver.remote.webelement.WebElement (session=\"eeaa8161f7435aba29f1827f8a926fd0\", element=\"94f5177c-86b3-47ba-a7a3-594e03a5ac37\")>]\n"
     ]
    },
    {
     "name": "stderr",
     "output_type": "stream",
     "text": [
      "\r",
      " 17%|█▋        | 42/250 [19:55<1:34:55, 27.38s/it]"
     ]
    },
    {
     "name": "stdout",
     "output_type": "stream",
     "text": [
      "FINISHED one restaurant, Took:  28.66627597808838\n",
      "[<selenium.webdriver.remote.webelement.WebElement (session=\"d93768f122c6a6dfc784a75489d5a1d1\", element=\"3dc2cfc5-18e5-4b91-a026-c15c7b1f7686\")>, <selenium.webdriver.remote.webelement.WebElement (session=\"d93768f122c6a6dfc784a75489d5a1d1\", element=\"b6a3fb49-4fa3-46de-b501-bd53526376fd\")>, <selenium.webdriver.remote.webelement.WebElement (session=\"d93768f122c6a6dfc784a75489d5a1d1\", element=\"6b18ab7d-5e80-4022-a679-e912684f1597\")>, <selenium.webdriver.remote.webelement.WebElement (session=\"d93768f122c6a6dfc784a75489d5a1d1\", element=\"d6d20b3d-2a43-4419-810c-b8eb7de6a055\")>, <selenium.webdriver.remote.webelement.WebElement (session=\"d93768f122c6a6dfc784a75489d5a1d1\", element=\"42ff958d-94d5-42cf-9a50-280e26161d8a\")>]\n"
     ]
    },
    {
     "name": "stderr",
     "output_type": "stream",
     "text": [
      "\r",
      " 17%|█▋        | 43/250 [20:20<1:32:01, 26.67s/it]"
     ]
    },
    {
     "name": "stdout",
     "output_type": "stream",
     "text": [
      "FINISHED one restaurant, Took:  24.864346265792847\n",
      "[<selenium.webdriver.remote.webelement.WebElement (session=\"dcca564d16417a2d5ae6fa66d58ebc4d\", element=\"cbb8bfa7-e8b1-4374-b8bf-95c2dc94f344\")>, <selenium.webdriver.remote.webelement.WebElement (session=\"dcca564d16417a2d5ae6fa66d58ebc4d\", element=\"61a0a8b2-307c-4a25-b550-d2d50584cc89\")>, <selenium.webdriver.remote.webelement.WebElement (session=\"dcca564d16417a2d5ae6fa66d58ebc4d\", element=\"1e05c55c-4ef3-457d-bb12-204b638723d0\")>, <selenium.webdriver.remote.webelement.WebElement (session=\"dcca564d16417a2d5ae6fa66d58ebc4d\", element=\"7a7ada49-4292-4cdf-8a09-2547b8cf1317\")>, <selenium.webdriver.remote.webelement.WebElement (session=\"dcca564d16417a2d5ae6fa66d58ebc4d\", element=\"388f2b0b-232f-43c6-a55e-f29df72ea43b\")>]\n"
     ]
    },
    {
     "name": "stderr",
     "output_type": "stream",
     "text": [
      "\r",
      " 18%|█▊        | 44/250 [20:51<1:35:22, 27.78s/it]"
     ]
    },
    {
     "name": "stdout",
     "output_type": "stream",
     "text": [
      "FINISHED one restaurant, Took:  30.206592082977295\n",
      "[<selenium.webdriver.remote.webelement.WebElement (session=\"b9bb6b872fd3238222f4c8089cbc1890\", element=\"c421bc2a-0027-41d5-b7e8-fc97f2ea568b\")>, <selenium.webdriver.remote.webelement.WebElement (session=\"b9bb6b872fd3238222f4c8089cbc1890\", element=\"3f31bb3d-0148-431b-b061-cec071d9d7a3\")>, <selenium.webdriver.remote.webelement.WebElement (session=\"b9bb6b872fd3238222f4c8089cbc1890\", element=\"8893c6f9-fc7a-4dd4-aba3-01b94705cce9\")>, <selenium.webdriver.remote.webelement.WebElement (session=\"b9bb6b872fd3238222f4c8089cbc1890\", element=\"62f5a94b-4e40-4bb1-bf7b-47521d489533\")>, <selenium.webdriver.remote.webelement.WebElement (session=\"b9bb6b872fd3238222f4c8089cbc1890\", element=\"ed11a91c-3dad-4a2e-bb9c-3403ba5cf146\")>]\n"
     ]
    },
    {
     "name": "stderr",
     "output_type": "stream",
     "text": [
      "\r",
      " 18%|█▊        | 45/250 [21:15<1:31:55, 26.90s/it]"
     ]
    },
    {
     "name": "stdout",
     "output_type": "stream",
     "text": [
      "FINISHED one restaurant, Took:  24.701645851135254\n",
      "[<selenium.webdriver.remote.webelement.WebElement (session=\"d6300c52e2facecce9199ec05546443f\", element=\"3efdc693-6a78-4bb2-8555-6f6618a6d784\")>, <selenium.webdriver.remote.webelement.WebElement (session=\"d6300c52e2facecce9199ec05546443f\", element=\"b0e71c73-e9e2-4c37-9bee-c52491745574\")>, <selenium.webdriver.remote.webelement.WebElement (session=\"d6300c52e2facecce9199ec05546443f\", element=\"a0cfc9bd-37d8-4536-8d90-ea6ae2f3e0a3\")>, <selenium.webdriver.remote.webelement.WebElement (session=\"d6300c52e2facecce9199ec05546443f\", element=\"c31a7984-eb66-44dd-ab2e-a87e6e3d67fa\")>, <selenium.webdriver.remote.webelement.WebElement (session=\"d6300c52e2facecce9199ec05546443f\", element=\"78ca78cb-a762-47fb-942e-9de54fe44517\")>]\n"
     ]
    },
    {
     "name": "stderr",
     "output_type": "stream",
     "text": [
      "\r",
      " 18%|█▊        | 46/250 [21:41<1:30:06, 26.50s/it]"
     ]
    },
    {
     "name": "stdout",
     "output_type": "stream",
     "text": [
      "FINISHED one restaurant, Took:  25.396317958831787\n",
      "[<selenium.webdriver.remote.webelement.WebElement (session=\"f7163e9e2fc989f90d9eefd778434b4f\", element=\"923dc069-dde8-4ede-aee0-5c80133666fa\")>, <selenium.webdriver.remote.webelement.WebElement (session=\"f7163e9e2fc989f90d9eefd778434b4f\", element=\"4b771217-844c-4d89-861f-c90f6bf72b0b\")>, <selenium.webdriver.remote.webelement.WebElement (session=\"f7163e9e2fc989f90d9eefd778434b4f\", element=\"d9f1bb15-3ed5-4fbe-b487-d8c353992ed6\")>, <selenium.webdriver.remote.webelement.WebElement (session=\"f7163e9e2fc989f90d9eefd778434b4f\", element=\"32f7d1f3-d8ca-4bbb-8e8f-753341669f7a\")>, <selenium.webdriver.remote.webelement.WebElement (session=\"f7163e9e2fc989f90d9eefd778434b4f\", element=\"611a84fb-8ac4-479d-b956-a68282510b52\")>]\n"
     ]
    },
    {
     "name": "stderr",
     "output_type": "stream",
     "text": [
      "\r",
      " 19%|█▉        | 47/250 [22:07<1:29:21, 26.41s/it]"
     ]
    },
    {
     "name": "stdout",
     "output_type": "stream",
     "text": [
      "FINISHED one restaurant, Took:  26.04946208000183\n",
      "[<selenium.webdriver.remote.webelement.WebElement (session=\"662c1d68cc858525218c94a29d7b9a05\", element=\"806c31e0-5e7c-4010-abee-532b6b25f5b1\")>, <selenium.webdriver.remote.webelement.WebElement (session=\"662c1d68cc858525218c94a29d7b9a05\", element=\"8e2fceb7-1016-4927-89c2-8c0e1751d117\")>, <selenium.webdriver.remote.webelement.WebElement (session=\"662c1d68cc858525218c94a29d7b9a05\", element=\"df35ad6f-c476-4012-a54f-e7b55aee20b2\")>, <selenium.webdriver.remote.webelement.WebElement (session=\"662c1d68cc858525218c94a29d7b9a05\", element=\"6a5001fe-e605-409d-a1dd-8fa317353bc3\")>, <selenium.webdriver.remote.webelement.WebElement (session=\"662c1d68cc858525218c94a29d7b9a05\", element=\"1fa3b13d-2d48-4d29-8448-0233428d8b7a\")>]\n"
     ]
    },
    {
     "name": "stderr",
     "output_type": "stream",
     "text": [
      "\r",
      " 19%|█▉        | 48/250 [22:36<1:30:57, 27.02s/it]"
     ]
    },
    {
     "name": "stdout",
     "output_type": "stream",
     "text": [
      "FINISHED one restaurant, Took:  28.26692509651184\n",
      "[<selenium.webdriver.remote.webelement.WebElement (session=\"f8a16f9b798897e3ada9ba3e00a9c28a\", element=\"31ef5239-ff94-4fcf-907a-a3e7cfebe8a8\")>, <selenium.webdriver.remote.webelement.WebElement (session=\"f8a16f9b798897e3ada9ba3e00a9c28a\", element=\"13fc8e9e-e2a7-4647-ae97-1353270c153b\")>, <selenium.webdriver.remote.webelement.WebElement (session=\"f8a16f9b798897e3ada9ba3e00a9c28a\", element=\"ef7a31de-d95d-435b-ae2c-a4df5876ed2c\")>, <selenium.webdriver.remote.webelement.WebElement (session=\"f8a16f9b798897e3ada9ba3e00a9c28a\", element=\"ef5c6e32-2b18-4c9a-a873-aa47c3676963\")>, <selenium.webdriver.remote.webelement.WebElement (session=\"f8a16f9b798897e3ada9ba3e00a9c28a\", element=\"7c210095-9c0d-4d38-b8e2-9b95e2c71152\")>]\n"
     ]
    },
    {
     "name": "stderr",
     "output_type": "stream",
     "text": [
      "\r",
      " 20%|█▉        | 49/250 [23:02<1:30:02, 26.88s/it]"
     ]
    },
    {
     "name": "stdout",
     "output_type": "stream",
     "text": [
      "FINISHED one restaurant, Took:  26.392701864242554\n",
      "[<selenium.webdriver.remote.webelement.WebElement (session=\"f3e01402b6d0fc18f8d9aefb4cdc91f9\", element=\"32c1d414-50d3-4493-8359-5281d37974ce\")>, <selenium.webdriver.remote.webelement.WebElement (session=\"f3e01402b6d0fc18f8d9aefb4cdc91f9\", element=\"084be21d-7caa-47db-a344-575a75e4820f\")>, <selenium.webdriver.remote.webelement.WebElement (session=\"f3e01402b6d0fc18f8d9aefb4cdc91f9\", element=\"a5b6f726-da5a-4209-b394-46f206016644\")>, <selenium.webdriver.remote.webelement.WebElement (session=\"f3e01402b6d0fc18f8d9aefb4cdc91f9\", element=\"e01e47e4-7a0c-41e5-8da1-0307aeb4f1b3\")>, <selenium.webdriver.remote.webelement.WebElement (session=\"f3e01402b6d0fc18f8d9aefb4cdc91f9\", element=\"de9a419e-63ea-45ef-b660-96d11b94a3cc\")>]\n"
     ]
    },
    {
     "name": "stderr",
     "output_type": "stream",
     "text": [
      "\r",
      " 20%|██        | 50/250 [23:31<1:31:39, 27.50s/it]"
     ]
    },
    {
     "name": "stdout",
     "output_type": "stream",
     "text": [
      "FINISHED one restaurant, Took:  28.774895906448364\n",
      "[<selenium.webdriver.remote.webelement.WebElement (session=\"b59694969fa5472d6141749179618edc\", element=\"edc91e78-2c0a-4023-bb4f-3314ab2e080e\")>, <selenium.webdriver.remote.webelement.WebElement (session=\"b59694969fa5472d6141749179618edc\", element=\"554d2843-0319-4d19-ae76-d803ab385263\")>, <selenium.webdriver.remote.webelement.WebElement (session=\"b59694969fa5472d6141749179618edc\", element=\"c9aa8356-71fa-4ee1-aaac-b1ed038f59fb\")>, <selenium.webdriver.remote.webelement.WebElement (session=\"b59694969fa5472d6141749179618edc\", element=\"dec9ae75-aec1-4328-a302-27dfed5fb297\")>, <selenium.webdriver.remote.webelement.WebElement (session=\"b59694969fa5472d6141749179618edc\", element=\"aeb65930-ac3a-4d49-b9b0-4040cc53125c\")>]\n"
     ]
    },
    {
     "name": "stderr",
     "output_type": "stream",
     "text": [
      "\r",
      " 20%|██        | 51/250 [23:55<1:27:36, 26.42s/it]"
     ]
    },
    {
     "name": "stdout",
     "output_type": "stream",
     "text": [
      "FINISHED one restaurant, Took:  23.74643111228943\n",
      "[<selenium.webdriver.remote.webelement.WebElement (session=\"c42d5f10ae46d2acf69c2ce91edb16cb\", element=\"622cffaf-93eb-47f0-8f35-7d433778c04d\")>, <selenium.webdriver.remote.webelement.WebElement (session=\"c42d5f10ae46d2acf69c2ce91edb16cb\", element=\"aec8c2f1-8983-439b-88f2-6376ccc02045\")>, <selenium.webdriver.remote.webelement.WebElement (session=\"c42d5f10ae46d2acf69c2ce91edb16cb\", element=\"a0f2e32e-d3e1-4a5a-9b3c-aa01c77ce205\")>, <selenium.webdriver.remote.webelement.WebElement (session=\"c42d5f10ae46d2acf69c2ce91edb16cb\", element=\"72d78aa1-1167-4c4b-bef5-1ad40d6c5fec\")>, <selenium.webdriver.remote.webelement.WebElement (session=\"c42d5f10ae46d2acf69c2ce91edb16cb\", element=\"752aa94b-acbe-4c91-973a-b6dc6cd4cc48\")>]\n"
     ]
    },
    {
     "name": "stderr",
     "output_type": "stream",
     "text": [
      "\r",
      " 21%|██        | 52/250 [24:22<1:27:26, 26.50s/it]"
     ]
    },
    {
     "name": "stdout",
     "output_type": "stream",
     "text": [
      "FINISHED one restaurant, Took:  26.530020236968994\n",
      "[<selenium.webdriver.remote.webelement.WebElement (session=\"f444e2741964db56f664605df7849440\", element=\"bac20695-e61a-4a8e-b28e-9715bfb50ed4\")>, <selenium.webdriver.remote.webelement.WebElement (session=\"f444e2741964db56f664605df7849440\", element=\"9ed2da1c-1eea-438f-aeac-82e506ae768b\")>, <selenium.webdriver.remote.webelement.WebElement (session=\"f444e2741964db56f664605df7849440\", element=\"52b1581d-b22d-43c9-a368-3a4ed83398f4\")>, <selenium.webdriver.remote.webelement.WebElement (session=\"f444e2741964db56f664605df7849440\", element=\"a73e44b6-06fa-407d-8c67-b171968c6b03\")>, <selenium.webdriver.remote.webelement.WebElement (session=\"f444e2741964db56f664605df7849440\", element=\"72fb74a8-7008-4cd6-999d-f948ac755a2b\")>]\n",
      "END OF PAGES REACHED. NO MORE TO PARSE.\n"
     ]
    },
    {
     "name": "stderr",
     "output_type": "stream",
     "text": [
      "\r",
      " 21%|██        | 53/250 [24:48<1:26:18, 26.29s/it]"
     ]
    },
    {
     "name": "stdout",
     "output_type": "stream",
     "text": [
      "End of reviews\n",
      "FINISHED one restaurant, Took:  25.646633863449097\n",
      "[<selenium.webdriver.remote.webelement.WebElement (session=\"6db21b1d448f190d9d4b4b1117dd18ea\", element=\"406c0f66-57ce-41d0-9f7b-54c10f69c8c4\")>, <selenium.webdriver.remote.webelement.WebElement (session=\"6db21b1d448f190d9d4b4b1117dd18ea\", element=\"36bd682b-9b72-440f-ae0e-9288504f7f49\")>, <selenium.webdriver.remote.webelement.WebElement (session=\"6db21b1d448f190d9d4b4b1117dd18ea\", element=\"1c58b77d-434d-498e-b428-2948ea81f0b2\")>, <selenium.webdriver.remote.webelement.WebElement (session=\"6db21b1d448f190d9d4b4b1117dd18ea\", element=\"38ad0a18-d40b-4a62-8c17-139d23c2cfff\")>, <selenium.webdriver.remote.webelement.WebElement (session=\"6db21b1d448f190d9d4b4b1117dd18ea\", element=\"774fedcd-e5d8-42d6-a993-82965ad25390\")>]\n"
     ]
    },
    {
     "name": "stderr",
     "output_type": "stream",
     "text": [
      "\r",
      " 22%|██▏       | 54/250 [25:12<1:23:40, 25.61s/it]"
     ]
    },
    {
     "name": "stdout",
     "output_type": "stream",
     "text": [
      "FINISHED one restaurant, Took:  23.889729022979736\n",
      "[<selenium.webdriver.remote.webelement.WebElement (session=\"63f0fe2206950936c61f3317704f33c8\", element=\"c12161e2-99c8-43ab-bd66-7b93630a5d43\")>, <selenium.webdriver.remote.webelement.WebElement (session=\"63f0fe2206950936c61f3317704f33c8\", element=\"b7812ba8-62ae-4877-a776-8e3055e31803\")>, <selenium.webdriver.remote.webelement.WebElement (session=\"63f0fe2206950936c61f3317704f33c8\", element=\"d90923a8-5890-4410-8626-7376727755d0\")>, <selenium.webdriver.remote.webelement.WebElement (session=\"63f0fe2206950936c61f3317704f33c8\", element=\"2909a47d-d0b6-4ae5-99fc-2d291d2fe61d\")>, <selenium.webdriver.remote.webelement.WebElement (session=\"63f0fe2206950936c61f3317704f33c8\", element=\"9d4a3866-9580-4727-b84b-df41fa34fd74\")>]\n"
     ]
    },
    {
     "name": "stderr",
     "output_type": "stream",
     "text": [
      "\r",
      " 22%|██▏       | 55/250 [25:37<1:22:57, 25.52s/it]"
     ]
    },
    {
     "name": "stdout",
     "output_type": "stream",
     "text": [
      "FINISHED one restaurant, Took:  25.152507781982422\n",
      "[<selenium.webdriver.remote.webelement.WebElement (session=\"0411c373992e49ab3f086fa12facf2af\", element=\"e7fbc327-2ea2-4abc-b293-a34b9fc6ca97\")>, <selenium.webdriver.remote.webelement.WebElement (session=\"0411c373992e49ab3f086fa12facf2af\", element=\"866bb670-0892-42eb-aae0-01169ed71430\")>, <selenium.webdriver.remote.webelement.WebElement (session=\"0411c373992e49ab3f086fa12facf2af\", element=\"13d38896-f38a-4b97-bd60-7ce5ada94b25\")>, <selenium.webdriver.remote.webelement.WebElement (session=\"0411c373992e49ab3f086fa12facf2af\", element=\"1cc047f5-3758-4158-967b-907914c8acf2\")>, <selenium.webdriver.remote.webelement.WebElement (session=\"0411c373992e49ab3f086fa12facf2af\", element=\"26566c20-8587-4e18-9317-e6b9fb4009ea\")>]\n"
     ]
    },
    {
     "name": "stderr",
     "output_type": "stream",
     "text": [
      "\r",
      " 22%|██▏       | 56/250 [26:08<1:28:12, 27.28s/it]"
     ]
    },
    {
     "name": "stdout",
     "output_type": "stream",
     "text": [
      "FINISHED one restaurant, Took:  31.198622226715088\n",
      "[<selenium.webdriver.remote.webelement.WebElement (session=\"bc6cdf4ac6c1a09977567a79fdb2e2de\", element=\"0e56e598-dc26-4a20-8229-20d4f79e65c4\")>, <selenium.webdriver.remote.webelement.WebElement (session=\"bc6cdf4ac6c1a09977567a79fdb2e2de\", element=\"363f8cc9-c71d-46c7-821a-4a9c11267017\")>, <selenium.webdriver.remote.webelement.WebElement (session=\"bc6cdf4ac6c1a09977567a79fdb2e2de\", element=\"eab3cdd4-a385-4566-aaf9-7807472ef06f\")>, <selenium.webdriver.remote.webelement.WebElement (session=\"bc6cdf4ac6c1a09977567a79fdb2e2de\", element=\"47386f36-77bb-4ed5-97e5-fd6086823496\")>, <selenium.webdriver.remote.webelement.WebElement (session=\"bc6cdf4ac6c1a09977567a79fdb2e2de\", element=\"fde4781e-0365-4caa-ae99-4dbe10a8478c\")>]\n"
     ]
    },
    {
     "name": "stderr",
     "output_type": "stream",
     "text": [
      "\r",
      " 23%|██▎       | 57/250 [26:31<1:23:32, 25.97s/it]"
     ]
    },
    {
     "name": "stdout",
     "output_type": "stream",
     "text": [
      "FINISHED one restaurant, Took:  22.730717182159424\n",
      "[<selenium.webdriver.remote.webelement.WebElement (session=\"0dba5c10bef5922a0c529c84579118be\", element=\"1a85332b-4b93-4432-9963-982784734725\")>, <selenium.webdriver.remote.webelement.WebElement (session=\"0dba5c10bef5922a0c529c84579118be\", element=\"97f109bf-012d-4efd-867a-d9e0e56fef59\")>, <selenium.webdriver.remote.webelement.WebElement (session=\"0dba5c10bef5922a0c529c84579118be\", element=\"e5fb95e2-a7e3-45e7-b0a1-5d6ae8b8257b\")>, <selenium.webdriver.remote.webelement.WebElement (session=\"0dba5c10bef5922a0c529c84579118be\", element=\"a2845a6e-8ae4-436f-a62f-1786ece8d9b2\")>, <selenium.webdriver.remote.webelement.WebElement (session=\"0dba5c10bef5922a0c529c84579118be\", element=\"3a86689f-c288-4ae6-af03-caddb15c0ebb\")>]\n"
     ]
    },
    {
     "name": "stderr",
     "output_type": "stream",
     "text": [
      "\r",
      " 23%|██▎       | 58/250 [27:03<1:28:43, 27.73s/it]"
     ]
    },
    {
     "name": "stdout",
     "output_type": "stream",
     "text": [
      "FINISHED one restaurant, Took:  31.675122261047363\n",
      "[<selenium.webdriver.remote.webelement.WebElement (session=\"760ffd13f4a7620c940eb6b23ddc5ef6\", element=\"54838582-e949-4972-8421-6d3fd36762b4\")>, <selenium.webdriver.remote.webelement.WebElement (session=\"760ffd13f4a7620c940eb6b23ddc5ef6\", element=\"90196dcd-9dee-409d-a6fe-094522493c72\")>, <selenium.webdriver.remote.webelement.WebElement (session=\"760ffd13f4a7620c940eb6b23ddc5ef6\", element=\"f15aafde-36b5-48b1-a03c-bd1f3e581311\")>, <selenium.webdriver.remote.webelement.WebElement (session=\"760ffd13f4a7620c940eb6b23ddc5ef6\", element=\"f3192083-aa5b-4d20-8b10-976002019fbb\")>, <selenium.webdriver.remote.webelement.WebElement (session=\"760ffd13f4a7620c940eb6b23ddc5ef6\", element=\"5cc70e40-ea30-4502-a5d6-7af818cb9a2f\")>]\n"
     ]
    },
    {
     "name": "stderr",
     "output_type": "stream",
     "text": [
      "\r",
      " 24%|██▎       | 59/250 [27:26<1:23:48, 26.33s/it]"
     ]
    },
    {
     "name": "stdout",
     "output_type": "stream",
     "text": [
      "FINISHED one restaurant, Took:  22.91510510444641\n",
      "[<selenium.webdriver.remote.webelement.WebElement (session=\"9e11eaae2360c44088b3b2fb80f98a80\", element=\"1adb7b3c-1435-41ed-8bfe-93dc64efd114\")>, <selenium.webdriver.remote.webelement.WebElement (session=\"9e11eaae2360c44088b3b2fb80f98a80\", element=\"654be96f-66af-43da-8c45-75caad3f1f6b\")>, <selenium.webdriver.remote.webelement.WebElement (session=\"9e11eaae2360c44088b3b2fb80f98a80\", element=\"557b8b88-ed48-404f-8e9e-81a9f4f104fb\")>, <selenium.webdriver.remote.webelement.WebElement (session=\"9e11eaae2360c44088b3b2fb80f98a80\", element=\"c98f0272-78e3-435e-9e38-ea868cfaeca6\")>, <selenium.webdriver.remote.webelement.WebElement (session=\"9e11eaae2360c44088b3b2fb80f98a80\", element=\"886ec9ed-b7e0-4e31-9ee3-faf833e2df2e\")>]\n"
     ]
    },
    {
     "name": "stderr",
     "output_type": "stream",
     "text": [
      "\r",
      " 24%|██▍       | 60/250 [27:49<1:19:54, 25.23s/it]"
     ]
    },
    {
     "name": "stdout",
     "output_type": "stream",
     "text": [
      "FINISHED one restaurant, Took:  22.514482975006104\n",
      "[<selenium.webdriver.remote.webelement.WebElement (session=\"136ae389d36ca5e247569949a2a79100\", element=\"507a668c-a714-4165-9f04-664175ec6bbf\")>, <selenium.webdriver.remote.webelement.WebElement (session=\"136ae389d36ca5e247569949a2a79100\", element=\"8951dfbb-0f47-4b13-9a18-a46d242ba44e\")>, <selenium.webdriver.remote.webelement.WebElement (session=\"136ae389d36ca5e247569949a2a79100\", element=\"97bb0441-d25e-48b7-a1a8-6772596581ca\")>, <selenium.webdriver.remote.webelement.WebElement (session=\"136ae389d36ca5e247569949a2a79100\", element=\"d5fdfce7-180e-44ff-9c3e-a3448908d7e6\")>, <selenium.webdriver.remote.webelement.WebElement (session=\"136ae389d36ca5e247569949a2a79100\", element=\"a88627dc-3a31-465b-a165-73eed5e34df4\")>]\n"
     ]
    },
    {
     "name": "stderr",
     "output_type": "stream",
     "text": [
      "\r",
      " 24%|██▍       | 61/250 [28:15<1:20:12, 25.46s/it]"
     ]
    },
    {
     "name": "stdout",
     "output_type": "stream",
     "text": [
      "FINISHED one restaurant, Took:  25.845549821853638\n",
      "[<selenium.webdriver.remote.webelement.WebElement (session=\"f9610b28d1195cf56e71f26384649ff4\", element=\"bf2e8cab-7773-4206-a53a-0f4ac09ca555\")>, <selenium.webdriver.remote.webelement.WebElement (session=\"f9610b28d1195cf56e71f26384649ff4\", element=\"cd0cf689-5445-45ef-b2c1-4d6052a99b24\")>, <selenium.webdriver.remote.webelement.WebElement (session=\"f9610b28d1195cf56e71f26384649ff4\", element=\"1a3d24fe-9fbd-4c1e-b08a-8d6b6c50db32\")>, <selenium.webdriver.remote.webelement.WebElement (session=\"f9610b28d1195cf56e71f26384649ff4\", element=\"48223953-389f-4faa-93c7-44dfa32fe527\")>, <selenium.webdriver.remote.webelement.WebElement (session=\"f9610b28d1195cf56e71f26384649ff4\", element=\"459632a6-58a2-419f-a1e4-4107a2fe7743\")>]\n"
     ]
    },
    {
     "name": "stderr",
     "output_type": "stream",
     "text": [
      "\r",
      " 25%|██▍       | 62/250 [28:43<1:22:11, 26.23s/it]"
     ]
    },
    {
     "name": "stdout",
     "output_type": "stream",
     "text": [
      "FINISHED one restaurant, Took:  27.86704421043396\n",
      "[<selenium.webdriver.remote.webelement.WebElement (session=\"4feb78debcc7e56ce808a7f79ee3c66d\", element=\"aa70998e-e620-4016-a9f3-a4ba4a38fc51\")>, <selenium.webdriver.remote.webelement.WebElement (session=\"4feb78debcc7e56ce808a7f79ee3c66d\", element=\"3d901971-91e2-4840-b7f0-e9335440d576\")>, <selenium.webdriver.remote.webelement.WebElement (session=\"4feb78debcc7e56ce808a7f79ee3c66d\", element=\"1952ea60-3a83-424b-9a49-5ef9500395c2\")>, <selenium.webdriver.remote.webelement.WebElement (session=\"4feb78debcc7e56ce808a7f79ee3c66d\", element=\"67194f2b-ba8b-4dbe-a8d2-d95845218ceb\")>, <selenium.webdriver.remote.webelement.WebElement (session=\"4feb78debcc7e56ce808a7f79ee3c66d\", element=\"9e726ab8-381c-42ab-9432-0ab7ed5b84af\")>]\n"
     ]
    },
    {
     "name": "stderr",
     "output_type": "stream",
     "text": [
      "\r",
      " 25%|██▌       | 63/250 [29:04<1:17:06, 24.74s/it]"
     ]
    },
    {
     "name": "stdout",
     "output_type": "stream",
     "text": [
      "FINISHED one restaurant, Took:  21.118440866470337\n",
      "[<selenium.webdriver.remote.webelement.WebElement (session=\"e3301b134f7e1ca8659c87b178e6938e\", element=\"c5a5db0d-6aa5-4a10-b674-8be4db277cd9\")>, <selenium.webdriver.remote.webelement.WebElement (session=\"e3301b134f7e1ca8659c87b178e6938e\", element=\"ea3707bc-ea7a-4f79-8600-7ba7fa8bfa97\")>, <selenium.webdriver.remote.webelement.WebElement (session=\"e3301b134f7e1ca8659c87b178e6938e\", element=\"6bc614b8-5c27-4b94-b79b-d3b137562dec\")>, <selenium.webdriver.remote.webelement.WebElement (session=\"e3301b134f7e1ca8659c87b178e6938e\", element=\"f589e3b8-d1e9-4248-a2ef-d7ad2c49f280\")>, <selenium.webdriver.remote.webelement.WebElement (session=\"e3301b134f7e1ca8659c87b178e6938e\", element=\"67b18f76-da73-485c-ab28-815903e07dcb\")>]\n",
      "FINISHED one restaurant, Took:  25.1590735912323\n"
     ]
    },
    {
     "name": "stderr",
     "output_type": "stream",
     "text": [
      "\r",
      " 26%|██▌       | 64/250 [29:29<1:17:21, 24.95s/it]"
     ]
    },
    {
     "name": "stdout",
     "output_type": "stream",
     "text": [
      "[<selenium.webdriver.remote.webelement.WebElement (session=\"4ea3623e7c706cc6360ea07fd4ae1d37\", element=\"3d0ca89a-b6ee-43a4-84a3-720d19bf1ed0\")>, <selenium.webdriver.remote.webelement.WebElement (session=\"4ea3623e7c706cc6360ea07fd4ae1d37\", element=\"9a5b67df-28ae-42bd-8860-9e63d7cc043e\")>, <selenium.webdriver.remote.webelement.WebElement (session=\"4ea3623e7c706cc6360ea07fd4ae1d37\", element=\"29883d62-9434-4ca6-901e-df47fc4536ac\")>, <selenium.webdriver.remote.webelement.WebElement (session=\"4ea3623e7c706cc6360ea07fd4ae1d37\", element=\"fe53a344-8ae2-41fe-9e66-bd791d865b4c\")>, <selenium.webdriver.remote.webelement.WebElement (session=\"4ea3623e7c706cc6360ea07fd4ae1d37\", element=\"19682016-7dad-4b47-8ae5-77553c8741a4\")>]\n"
     ]
    },
    {
     "name": "stderr",
     "output_type": "stream",
     "text": [
      "\r",
      " 26%|██▌       | 65/250 [29:53<1:15:33, 24.50s/it]"
     ]
    },
    {
     "name": "stdout",
     "output_type": "stream",
     "text": [
      "FINISHED one restaurant, Took:  23.313841819763184\n",
      "[<selenium.webdriver.remote.webelement.WebElement (session=\"303978ab16063d027074c4d8885dc1d8\", element=\"0b03ce58-d7ba-4d29-999a-923f59cdbf53\")>, <selenium.webdriver.remote.webelement.WebElement (session=\"303978ab16063d027074c4d8885dc1d8\", element=\"24e53a7d-2705-4c58-9c96-c189e1efd80e\")>, <selenium.webdriver.remote.webelement.WebElement (session=\"303978ab16063d027074c4d8885dc1d8\", element=\"3875955d-6782-4aa9-bdba-eb709e287419\")>, <selenium.webdriver.remote.webelement.WebElement (session=\"303978ab16063d027074c4d8885dc1d8\", element=\"1d385fac-5327-4046-bf3c-6d138c630d9b\")>, <selenium.webdriver.remote.webelement.WebElement (session=\"303978ab16063d027074c4d8885dc1d8\", element=\"5a62ce29-ca3d-42d9-8a2b-42041a664fae\")>]\n"
     ]
    },
    {
     "name": "stderr",
     "output_type": "stream",
     "text": [
      "\r",
      " 26%|██▋       | 66/250 [30:19<1:16:22, 24.90s/it]"
     ]
    },
    {
     "name": "stdout",
     "output_type": "stream",
     "text": [
      "FINISHED one restaurant, Took:  25.68522882461548\n",
      "[<selenium.webdriver.remote.webelement.WebElement (session=\"454a40c3679b93501f84745328ae99a9\", element=\"d3514583-0829-4ab5-990f-804e91da3df6\")>, <selenium.webdriver.remote.webelement.WebElement (session=\"454a40c3679b93501f84745328ae99a9\", element=\"2c2594d2-08af-49f8-b696-fbbc9fe3214e\")>, <selenium.webdriver.remote.webelement.WebElement (session=\"454a40c3679b93501f84745328ae99a9\", element=\"cb13e567-48dc-4662-9e00-b3302edc09b4\")>, <selenium.webdriver.remote.webelement.WebElement (session=\"454a40c3679b93501f84745328ae99a9\", element=\"dbbdfc51-0a62-40bb-9b4a-4612f25b63e0\")>, <selenium.webdriver.remote.webelement.WebElement (session=\"454a40c3679b93501f84745328ae99a9\", element=\"82b12960-f2e7-4cbf-badb-b4c7f1a94cfb\")>]\n"
     ]
    },
    {
     "name": "stderr",
     "output_type": "stream",
     "text": [
      "\r",
      " 27%|██▋       | 67/250 [30:46<1:17:41, 25.47s/it]"
     ]
    },
    {
     "name": "stdout",
     "output_type": "stream",
     "text": [
      "FINISHED one restaurant, Took:  26.64431619644165\n",
      "[<selenium.webdriver.remote.webelement.WebElement (session=\"e4de124b0bb8007931c40b98d20bbe7a\", element=\"c9f064a1-cbe8-4670-83d9-604fd1eb6e28\")>, <selenium.webdriver.remote.webelement.WebElement (session=\"e4de124b0bb8007931c40b98d20bbe7a\", element=\"1df7a950-2ec0-465a-b617-4f902c895a7f\")>, <selenium.webdriver.remote.webelement.WebElement (session=\"e4de124b0bb8007931c40b98d20bbe7a\", element=\"2b956de5-144d-49fd-a323-e8fc88071522\")>, <selenium.webdriver.remote.webelement.WebElement (session=\"e4de124b0bb8007931c40b98d20bbe7a\", element=\"bbf623b3-ab71-4ffb-b1a2-773dbc6bc304\")>, <selenium.webdriver.remote.webelement.WebElement (session=\"e4de124b0bb8007931c40b98d20bbe7a\", element=\"16de5ff4-de52-41ed-9a29-0499cb83dbd1\")>]\n"
     ]
    },
    {
     "name": "stderr",
     "output_type": "stream",
     "text": [
      "\r",
      " 27%|██▋       | 68/250 [31:14<1:19:32, 26.22s/it]"
     ]
    },
    {
     "name": "stdout",
     "output_type": "stream",
     "text": [
      "FINISHED one restaurant, Took:  27.80876898765564\n",
      "[<selenium.webdriver.remote.webelement.WebElement (session=\"1a7a62127a23aff21ab829968e3d6a2b\", element=\"881f4a78-f24a-4959-b85b-fea78d71f331\")>, <selenium.webdriver.remote.webelement.WebElement (session=\"1a7a62127a23aff21ab829968e3d6a2b\", element=\"cb4c6c35-ec62-4987-9a28-0e77a4688f28\")>, <selenium.webdriver.remote.webelement.WebElement (session=\"1a7a62127a23aff21ab829968e3d6a2b\", element=\"39c053ad-c34b-475e-8956-9bd1a8dd8129\")>, <selenium.webdriver.remote.webelement.WebElement (session=\"1a7a62127a23aff21ab829968e3d6a2b\", element=\"1b83fd40-2739-4b92-b7e6-c42e76f45f3a\")>, <selenium.webdriver.remote.webelement.WebElement (session=\"1a7a62127a23aff21ab829968e3d6a2b\", element=\"847ed342-1fd9-413b-8fce-cac371d73d83\")>]\n"
     ]
    },
    {
     "name": "stderr",
     "output_type": "stream",
     "text": [
      "\r",
      " 28%|██▊       | 69/250 [31:35<1:15:07, 24.90s/it]"
     ]
    },
    {
     "name": "stdout",
     "output_type": "stream",
     "text": [
      "FINISHED one restaurant, Took:  21.692219257354736\n",
      "[<selenium.webdriver.remote.webelement.WebElement (session=\"170684cd1670be93d4d06ace7d47dc59\", element=\"5eedb570-c197-415d-bcca-ea8d3de8333f\")>, <selenium.webdriver.remote.webelement.WebElement (session=\"170684cd1670be93d4d06ace7d47dc59\", element=\"7226149c-eae2-488d-ab19-2c4bcb0ac4e0\")>, <selenium.webdriver.remote.webelement.WebElement (session=\"170684cd1670be93d4d06ace7d47dc59\", element=\"dec20067-bc26-4c53-a9bf-cca790cdc866\")>, <selenium.webdriver.remote.webelement.WebElement (session=\"170684cd1670be93d4d06ace7d47dc59\", element=\"52d6ca73-c9ed-4101-83e5-3abf54d88ee1\")>, <selenium.webdriver.remote.webelement.WebElement (session=\"170684cd1670be93d4d06ace7d47dc59\", element=\"1ba24e94-4bca-49f8-b84a-cd507b6708f4\")>]\n"
     ]
    },
    {
     "name": "stderr",
     "output_type": "stream",
     "text": [
      "\r",
      " 28%|██▊       | 70/250 [32:05<1:18:34, 26.19s/it]"
     ]
    },
    {
     "name": "stdout",
     "output_type": "stream",
     "text": [
      "FINISHED one restaurant, Took:  29.032132863998413\n",
      "[<selenium.webdriver.remote.webelement.WebElement (session=\"58f563d2a63b1fd449edf74b6d559dd1\", element=\"67b3a732-22a3-425c-afa4-bfcdcd419e38\")>, <selenium.webdriver.remote.webelement.WebElement (session=\"58f563d2a63b1fd449edf74b6d559dd1\", element=\"026bb91e-4d1d-4467-b378-b9824103d645\")>, <selenium.webdriver.remote.webelement.WebElement (session=\"58f563d2a63b1fd449edf74b6d559dd1\", element=\"81d4562b-119b-40a3-8895-8686f7349aa3\")>, <selenium.webdriver.remote.webelement.WebElement (session=\"58f563d2a63b1fd449edf74b6d559dd1\", element=\"0d06c111-4112-412f-85a4-09c74acd1c61\")>, <selenium.webdriver.remote.webelement.WebElement (session=\"58f563d2a63b1fd449edf74b6d559dd1\", element=\"3ab23f6f-b422-4991-850a-91ec3a6136c0\")>]\n",
      "END OF PAGES REACHED. NO MORE TO PARSE.\n"
     ]
    },
    {
     "name": "stderr",
     "output_type": "stream",
     "text": [
      "\r",
      " 28%|██▊       | 71/250 [32:23<1:11:09, 23.85s/it]"
     ]
    },
    {
     "name": "stdout",
     "output_type": "stream",
     "text": [
      "End of reviews\n",
      "FINISHED one restaurant, Took:  18.281388998031616\n",
      "[<selenium.webdriver.remote.webelement.WebElement (session=\"058d8052bf709b193111333eeb3d9445\", element=\"aeecc387-4098-4594-b585-d182ac93c1ed\")>, <selenium.webdriver.remote.webelement.WebElement (session=\"058d8052bf709b193111333eeb3d9445\", element=\"fd67c8b2-b9a3-493e-9995-8a1fbf499373\")>, <selenium.webdriver.remote.webelement.WebElement (session=\"058d8052bf709b193111333eeb3d9445\", element=\"95d44fce-db53-4557-8cbf-58dff983a9f7\")>, <selenium.webdriver.remote.webelement.WebElement (session=\"058d8052bf709b193111333eeb3d9445\", element=\"4481425a-7454-4dc0-90e3-94a2accbea04\")>, <selenium.webdriver.remote.webelement.WebElement (session=\"058d8052bf709b193111333eeb3d9445\", element=\"0fec722e-6472-4b17-94a8-34397e11d606\")>]\n"
     ]
    },
    {
     "name": "stderr",
     "output_type": "stream",
     "text": [
      "\r",
      " 29%|██▉       | 72/250 [32:49<1:12:47, 24.54s/it]"
     ]
    },
    {
     "name": "stdout",
     "output_type": "stream",
     "text": [
      "FINISHED one restaurant, Took:  25.938145875930786\n",
      "[<selenium.webdriver.remote.webelement.WebElement (session=\"4f7f771a6d6042052c748a6085ad5e8d\", element=\"3369d5b8-1543-4399-891d-1e183ed3c180\")>, <selenium.webdriver.remote.webelement.WebElement (session=\"4f7f771a6d6042052c748a6085ad5e8d\", element=\"0c6dd0e8-e851-4049-ac7e-b07f098187d3\")>, <selenium.webdriver.remote.webelement.WebElement (session=\"4f7f771a6d6042052c748a6085ad5e8d\", element=\"d794454c-7a3e-4c19-842d-249a64c40a08\")>, <selenium.webdriver.remote.webelement.WebElement (session=\"4f7f771a6d6042052c748a6085ad5e8d\", element=\"c49952ce-e8d6-4b13-a59e-a1140805b28e\")>, <selenium.webdriver.remote.webelement.WebElement (session=\"4f7f771a6d6042052c748a6085ad5e8d\", element=\"639955fb-8a42-44ff-a107-1bbc9058a023\")>]\n",
      "END OF PAGES REACHED. NO MORE TO PARSE.\n"
     ]
    },
    {
     "name": "stderr",
     "output_type": "stream",
     "text": [
      "\r",
      " 29%|██▉       | 73/250 [33:10<1:08:47, 23.32s/it]"
     ]
    },
    {
     "name": "stdout",
     "output_type": "stream",
     "text": [
      "End of reviews\n",
      "FINISHED one restaurant, Took:  20.3546199798584\n",
      "[<selenium.webdriver.remote.webelement.WebElement (session=\"ad570272d50dedf915902fd895266ae4\", element=\"98033796-f141-4c4a-acd3-f70007546473\")>, <selenium.webdriver.remote.webelement.WebElement (session=\"ad570272d50dedf915902fd895266ae4\", element=\"3fc9f6cd-69cf-49ba-a6fe-76a241410692\")>, <selenium.webdriver.remote.webelement.WebElement (session=\"ad570272d50dedf915902fd895266ae4\", element=\"11caf08c-09b7-4370-9620-af157dd44a6b\")>, <selenium.webdriver.remote.webelement.WebElement (session=\"ad570272d50dedf915902fd895266ae4\", element=\"20316c8a-f5cd-41cd-ad05-e89564a6ea33\")>, <selenium.webdriver.remote.webelement.WebElement (session=\"ad570272d50dedf915902fd895266ae4\", element=\"cf20c0e6-1173-41af-ae7e-f5e971fbf0a3\")>]\n"
     ]
    },
    {
     "name": "stderr",
     "output_type": "stream",
     "text": [
      "\r",
      " 30%|██▉       | 74/250 [33:33<1:08:33, 23.37s/it]"
     ]
    },
    {
     "name": "stdout",
     "output_type": "stream",
     "text": [
      "FINISHED one restaurant, Took:  23.334234952926636\n",
      "[<selenium.webdriver.remote.webelement.WebElement (session=\"ab356c4de28f6045cac24bc381091c32\", element=\"8752a9b7-316f-4d2d-a18d-a30e84afa953\")>, <selenium.webdriver.remote.webelement.WebElement (session=\"ab356c4de28f6045cac24bc381091c32\", element=\"aa83bf85-b09b-4ad3-a339-d80368fd2429\")>, <selenium.webdriver.remote.webelement.WebElement (session=\"ab356c4de28f6045cac24bc381091c32\", element=\"d2030af3-0176-4842-8319-4457b6480f30\")>, <selenium.webdriver.remote.webelement.WebElement (session=\"ab356c4de28f6045cac24bc381091c32\", element=\"dee8d8f4-5fbd-4783-9a4d-3f20ecb4c5cc\")>, <selenium.webdriver.remote.webelement.WebElement (session=\"ab356c4de28f6045cac24bc381091c32\", element=\"dbaf9c58-e514-4980-85f4-c6f8c490345a\")>]\n"
     ]
    },
    {
     "name": "stderr",
     "output_type": "stream",
     "text": [
      "\r",
      " 30%|███       | 75/250 [33:55<1:06:44, 22.88s/it]"
     ]
    },
    {
     "name": "stdout",
     "output_type": "stream",
     "text": [
      "FINISHED one restaurant, Took:  21.597050189971924\n",
      "[<selenium.webdriver.remote.webelement.WebElement (session=\"8c12f2858ac650d617297b8f3629615d\", element=\"05731ef1-05ae-4d1b-ba33-80feaf332bbf\")>, <selenium.webdriver.remote.webelement.WebElement (session=\"8c12f2858ac650d617297b8f3629615d\", element=\"2476c294-eb57-4cc9-a1d5-b17cb1520c6e\")>, <selenium.webdriver.remote.webelement.WebElement (session=\"8c12f2858ac650d617297b8f3629615d\", element=\"234a1d25-908d-4518-9612-0211dc04ade8\")>, <selenium.webdriver.remote.webelement.WebElement (session=\"8c12f2858ac650d617297b8f3629615d\", element=\"67e4e046-9c08-4e7a-be72-3019162dc35d\")>, <selenium.webdriver.remote.webelement.WebElement (session=\"8c12f2858ac650d617297b8f3629615d\", element=\"255c4492-b626-415e-8a32-7f9308ed5c9a\")>]\n"
     ]
    },
    {
     "name": "stderr",
     "output_type": "stream",
     "text": [
      "\r",
      " 30%|███       | 76/250 [34:26<1:13:44, 25.43s/it]"
     ]
    },
    {
     "name": "stdout",
     "output_type": "stream",
     "text": [
      "FINISHED one restaurant, Took:  31.1837100982666\n",
      "[<selenium.webdriver.remote.webelement.WebElement (session=\"78bc9172027abe1786122232c9518ef3\", element=\"001f55e6-22a7-4113-aa35-c091038379e9\")>, <selenium.webdriver.remote.webelement.WebElement (session=\"78bc9172027abe1786122232c9518ef3\", element=\"921d4f42-77f1-4bea-b73c-3e59c227702f\")>, <selenium.webdriver.remote.webelement.WebElement (session=\"78bc9172027abe1786122232c9518ef3\", element=\"55e245ef-dfa7-4449-92eb-10a41be33400\")>, <selenium.webdriver.remote.webelement.WebElement (session=\"78bc9172027abe1786122232c9518ef3\", element=\"e216f83c-5374-49af-801f-452dc4921a96\")>, <selenium.webdriver.remote.webelement.WebElement (session=\"78bc9172027abe1786122232c9518ef3\", element=\"2b6405b5-91b4-4d0d-a843-030c6db433f0\")>]\n",
      "END OF PAGES REACHED. NO MORE TO PARSE.\n"
     ]
    },
    {
     "name": "stderr",
     "output_type": "stream",
     "text": [
      "\r",
      " 31%|███       | 77/250 [34:42<1:04:59, 22.54s/it]"
     ]
    },
    {
     "name": "stdout",
     "output_type": "stream",
     "text": [
      "End of reviews\n",
      "FINISHED one restaurant, Took:  15.70514988899231\n",
      "[<selenium.webdriver.remote.webelement.WebElement (session=\"2d6fd88a642625238e7c75340e92cfee\", element=\"b8aa126b-05b3-4e98-ab1d-25b45635da37\")>, <selenium.webdriver.remote.webelement.WebElement (session=\"2d6fd88a642625238e7c75340e92cfee\", element=\"72bd6d31-58df-410c-83f2-6ba4e504c53c\")>, <selenium.webdriver.remote.webelement.WebElement (session=\"2d6fd88a642625238e7c75340e92cfee\", element=\"948126d6-e3a2-4411-b38f-306ea3c65692\")>, <selenium.webdriver.remote.webelement.WebElement (session=\"2d6fd88a642625238e7c75340e92cfee\", element=\"9f2129ef-b1d6-42c9-90af-56a37cdb79ae\")>, <selenium.webdriver.remote.webelement.WebElement (session=\"2d6fd88a642625238e7c75340e92cfee\", element=\"a86a7aa1-add9-4d69-9978-e2e916f8723e\")>]\n"
     ]
    },
    {
     "name": "stderr",
     "output_type": "stream",
     "text": [
      "\r",
      " 31%|███       | 78/250 [35:12<1:11:16, 24.86s/it]"
     ]
    },
    {
     "name": "stdout",
     "output_type": "stream",
     "text": [
      "FINISHED one restaurant, Took:  30.09545111656189\n",
      "[<selenium.webdriver.remote.webelement.WebElement (session=\"9849fa0883e722083c9ee9d669bc2c0b\", element=\"6bf2c892-55a1-4681-9665-aef57c327cfd\")>, <selenium.webdriver.remote.webelement.WebElement (session=\"9849fa0883e722083c9ee9d669bc2c0b\", element=\"2e04cf8d-e263-4b3c-97e1-5432d8737bda\")>, <selenium.webdriver.remote.webelement.WebElement (session=\"9849fa0883e722083c9ee9d669bc2c0b\", element=\"f124d328-ab98-48d8-8231-aef4c818c5bb\")>, <selenium.webdriver.remote.webelement.WebElement (session=\"9849fa0883e722083c9ee9d669bc2c0b\", element=\"71bd5e9d-3a90-4248-9520-b12e77954cd0\")>, <selenium.webdriver.remote.webelement.WebElement (session=\"9849fa0883e722083c9ee9d669bc2c0b\", element=\"4d60fe9e-8a72-4c90-a088-e3491f3a9a3f\")>]\n"
     ]
    },
    {
     "name": "stderr",
     "output_type": "stream",
     "text": [
      "\r",
      " 32%|███▏      | 79/250 [35:35<1:09:02, 24.22s/it]"
     ]
    },
    {
     "name": "stdout",
     "output_type": "stream",
     "text": [
      "FINISHED one restaurant, Took:  22.582299947738647\n",
      "[<selenium.webdriver.remote.webelement.WebElement (session=\"bc8775c22a7bf5b0876a5187a1e2e673\", element=\"49d54f15-aeac-41aa-9369-3eca9860ece2\")>, <selenium.webdriver.remote.webelement.WebElement (session=\"bc8775c22a7bf5b0876a5187a1e2e673\", element=\"fd57de9c-f7ec-4cb5-a62d-e95bd7301694\")>, <selenium.webdriver.remote.webelement.WebElement (session=\"bc8775c22a7bf5b0876a5187a1e2e673\", element=\"2854ab93-810f-49dd-bba8-84093bc1c3db\")>, <selenium.webdriver.remote.webelement.WebElement (session=\"bc8775c22a7bf5b0876a5187a1e2e673\", element=\"6289cfab-44f8-46d2-bc33-c5bfeb5b5ce4\")>, <selenium.webdriver.remote.webelement.WebElement (session=\"bc8775c22a7bf5b0876a5187a1e2e673\", element=\"3d288576-c5ae-40b3-9734-f6258c79d6ea\")>]\n"
     ]
    },
    {
     "name": "stderr",
     "output_type": "stream",
     "text": [
      "\r",
      " 32%|███▏      | 80/250 [36:00<1:09:35, 24.56s/it]"
     ]
    },
    {
     "name": "stdout",
     "output_type": "stream",
     "text": [
      "FINISHED one restaurant, Took:  25.179241180419922\n",
      "[<selenium.webdriver.remote.webelement.WebElement (session=\"3782f6a53c3abc4b1b70b22e3fd37e62\", element=\"81a80168-7b07-4d18-8b6b-fcf7bbc9ab74\")>, <selenium.webdriver.remote.webelement.WebElement (session=\"3782f6a53c3abc4b1b70b22e3fd37e62\", element=\"8817e7ee-a337-4f17-a652-f8bcf334af36\")>, <selenium.webdriver.remote.webelement.WebElement (session=\"3782f6a53c3abc4b1b70b22e3fd37e62\", element=\"4a1a2587-3318-4943-95ff-a58cf36803be\")>, <selenium.webdriver.remote.webelement.WebElement (session=\"3782f6a53c3abc4b1b70b22e3fd37e62\", element=\"95b946ab-d22c-4dbf-a782-151440be4e29\")>, <selenium.webdriver.remote.webelement.WebElement (session=\"3782f6a53c3abc4b1b70b22e3fd37e62\", element=\"b5128f18-b1ed-4335-9364-a977faee445a\")>]\n"
     ]
    },
    {
     "name": "stderr",
     "output_type": "stream",
     "text": [
      "\r",
      " 32%|███▏      | 81/250 [36:28<1:12:00, 25.57s/it]"
     ]
    },
    {
     "name": "stdout",
     "output_type": "stream",
     "text": [
      "FINISHED one restaurant, Took:  27.751217126846313\n",
      "[<selenium.webdriver.remote.webelement.WebElement (session=\"d2ec457eb4e2b525b93c84ffbbf5bfa5\", element=\"e63963af-02bd-4744-9cbe-093c0c273167\")>, <selenium.webdriver.remote.webelement.WebElement (session=\"d2ec457eb4e2b525b93c84ffbbf5bfa5\", element=\"4914828f-79b9-4ec8-81e3-c369447ce2d2\")>, <selenium.webdriver.remote.webelement.WebElement (session=\"d2ec457eb4e2b525b93c84ffbbf5bfa5\", element=\"b32ef71b-b558-4c69-8d74-c4ee097dcfa6\")>, <selenium.webdriver.remote.webelement.WebElement (session=\"d2ec457eb4e2b525b93c84ffbbf5bfa5\", element=\"8d6f0109-4dee-444e-a3a1-fcff8078f9da\")>, <selenium.webdriver.remote.webelement.WebElement (session=\"d2ec457eb4e2b525b93c84ffbbf5bfa5\", element=\"4890fb03-7100-42b6-ba1f-d992351f3849\")>]\n"
     ]
    },
    {
     "name": "stderr",
     "output_type": "stream",
     "text": [
      "\r",
      " 33%|███▎      | 82/250 [36:48<1:06:27, 23.73s/it]"
     ]
    },
    {
     "name": "stdout",
     "output_type": "stream",
     "text": [
      "FINISHED one restaurant, Took:  19.332430124282837\n",
      "[<selenium.webdriver.remote.webelement.WebElement (session=\"473152500655c1c5a3d65e1ebd0c836f\", element=\"42225923-fbcf-4612-9208-4f439d8b9ba9\")>, <selenium.webdriver.remote.webelement.WebElement (session=\"473152500655c1c5a3d65e1ebd0c836f\", element=\"8ab5a401-c636-4a1c-b3c9-30f0032ad6ad\")>, <selenium.webdriver.remote.webelement.WebElement (session=\"473152500655c1c5a3d65e1ebd0c836f\", element=\"ef17f3a6-1f69-49b4-bb37-171528b811e1\")>, <selenium.webdriver.remote.webelement.WebElement (session=\"473152500655c1c5a3d65e1ebd0c836f\", element=\"bceba2b7-f8d6-4608-ac85-e5e8b8f2ad33\")>, <selenium.webdriver.remote.webelement.WebElement (session=\"473152500655c1c5a3d65e1ebd0c836f\", element=\"82745c1e-86b1-41be-8bfc-611b461b9f49\")>]\n"
     ]
    },
    {
     "name": "stderr",
     "output_type": "stream",
     "text": [
      "\r",
      " 33%|███▎      | 83/250 [37:12<1:06:52, 24.03s/it]"
     ]
    },
    {
     "name": "stdout",
     "output_type": "stream",
     "text": [
      "FINISHED one restaurant, Took:  24.542770862579346\n",
      "[<selenium.webdriver.remote.webelement.WebElement (session=\"957c522c9cbb248fa1ad267443b2a74d\", element=\"9d6040e1-2831-4701-9d45-28197cd7e1ad\")>, <selenium.webdriver.remote.webelement.WebElement (session=\"957c522c9cbb248fa1ad267443b2a74d\", element=\"f2bbfd23-0d7b-4a51-ae9a-162f46682026\")>, <selenium.webdriver.remote.webelement.WebElement (session=\"957c522c9cbb248fa1ad267443b2a74d\", element=\"58f5084d-974a-456f-91d5-3749844fe227\")>, <selenium.webdriver.remote.webelement.WebElement (session=\"957c522c9cbb248fa1ad267443b2a74d\", element=\"8c131074-3572-4144-8563-d54336c803e1\")>, <selenium.webdriver.remote.webelement.WebElement (session=\"957c522c9cbb248fa1ad267443b2a74d\", element=\"c3f7a742-a975-4cd4-83c4-2968d397613c\")>]\n"
     ]
    },
    {
     "name": "stderr",
     "output_type": "stream",
     "text": [
      "\r",
      " 34%|███▎      | 84/250 [37:37<1:07:12, 24.29s/it]"
     ]
    },
    {
     "name": "stdout",
     "output_type": "stream",
     "text": [
      "FINISHED one restaurant, Took:  24.755422830581665\n",
      "[<selenium.webdriver.remote.webelement.WebElement (session=\"d5e9a2fac8049d8d2198105cc336cda7\", element=\"b7a78646-4771-4e3c-aa0c-97ae8996d7d6\")>, <selenium.webdriver.remote.webelement.WebElement (session=\"d5e9a2fac8049d8d2198105cc336cda7\", element=\"f85b88f0-74ae-43e2-b90a-b20997a77009\")>, <selenium.webdriver.remote.webelement.WebElement (session=\"d5e9a2fac8049d8d2198105cc336cda7\", element=\"f3387fb9-7181-4ef8-943d-01e6bc4d3527\")>, <selenium.webdriver.remote.webelement.WebElement (session=\"d5e9a2fac8049d8d2198105cc336cda7\", element=\"00ea1518-db30-4c05-85df-c73a7f71fa7d\")>, <selenium.webdriver.remote.webelement.WebElement (session=\"d5e9a2fac8049d8d2198105cc336cda7\", element=\"b0775f9d-d310-4f78-ad69-0884eba15c9b\")>]\n",
      "END OF PAGES REACHED. NO MORE TO PARSE.\n"
     ]
    },
    {
     "name": "stderr",
     "output_type": "stream",
     "text": [
      "\r",
      " 34%|███▍      | 85/250 [38:05<1:09:26, 25.25s/it]"
     ]
    },
    {
     "name": "stdout",
     "output_type": "stream",
     "text": [
      "End of reviews\n",
      "FINISHED one restaurant, Took:  27.362816095352173\n",
      "[<selenium.webdriver.remote.webelement.WebElement (session=\"f97e90fa470f57f992592f389fde1351\", element=\"e879eb5e-f27c-4d6b-9077-508f722e47f2\")>, <selenium.webdriver.remote.webelement.WebElement (session=\"f97e90fa470f57f992592f389fde1351\", element=\"4580d534-5e3f-4d9a-a85d-8948639bf37b\")>, <selenium.webdriver.remote.webelement.WebElement (session=\"f97e90fa470f57f992592f389fde1351\", element=\"dc486880-2843-4ea3-80aa-3d6b5ec5a2b2\")>, <selenium.webdriver.remote.webelement.WebElement (session=\"f97e90fa470f57f992592f389fde1351\", element=\"12e262ed-9cc2-4711-8e3f-8143cb341123\")>, <selenium.webdriver.remote.webelement.WebElement (session=\"f97e90fa470f57f992592f389fde1351\", element=\"a3188a7a-0a24-48a4-b2e3-aaafb623b205\")>]\n"
     ]
    },
    {
     "name": "stderr",
     "output_type": "stream",
     "text": [
      "\r",
      " 34%|███▍      | 86/250 [38:31<1:09:36, 25.47s/it]"
     ]
    },
    {
     "name": "stdout",
     "output_type": "stream",
     "text": [
      "FINISHED one restaurant, Took:  25.800131797790527\n",
      "[<selenium.webdriver.remote.webelement.WebElement (session=\"cf36a8c691c302bd98f6201349aa7e4b\", element=\"42862ab9-4145-46c7-a27f-e5369cd74fd7\")>, <selenium.webdriver.remote.webelement.WebElement (session=\"cf36a8c691c302bd98f6201349aa7e4b\", element=\"7b6ad1a9-8783-43e0-bda7-5880d5cb81f8\")>, <selenium.webdriver.remote.webelement.WebElement (session=\"cf36a8c691c302bd98f6201349aa7e4b\", element=\"e49f589c-6102-44c3-8614-28ab234b6322\")>, <selenium.webdriver.remote.webelement.WebElement (session=\"cf36a8c691c302bd98f6201349aa7e4b\", element=\"1276cb4b-5fb6-4aee-980c-61b5dfb40c12\")>, <selenium.webdriver.remote.webelement.WebElement (session=\"cf36a8c691c302bd98f6201349aa7e4b\", element=\"a5dc2fa6-0ed6-470c-98d7-4b934de5acd6\")>]\n",
      "END OF PAGES REACHED. NO MORE TO PARSE.\n"
     ]
    },
    {
     "name": "stderr",
     "output_type": "stream",
     "text": [
      "\r",
      " 35%|███▍      | 87/250 [38:56<1:08:59, 25.39s/it]"
     ]
    },
    {
     "name": "stdout",
     "output_type": "stream",
     "text": [
      "End of reviews\n",
      "FINISHED one restaurant, Took:  25.087819814682007\n",
      "[<selenium.webdriver.remote.webelement.WebElement (session=\"ba88c85a4871f12378dc15a4091d52a8\", element=\"e1b4dda7-9c82-40f6-b0ac-83efad95db37\")>, <selenium.webdriver.remote.webelement.WebElement (session=\"ba88c85a4871f12378dc15a4091d52a8\", element=\"43b6bc83-ef57-4d92-9073-fec2868175da\")>, <selenium.webdriver.remote.webelement.WebElement (session=\"ba88c85a4871f12378dc15a4091d52a8\", element=\"90be0c53-bbd9-46a1-bb6b-0b0e3ed6750b\")>, <selenium.webdriver.remote.webelement.WebElement (session=\"ba88c85a4871f12378dc15a4091d52a8\", element=\"ac3f45b6-cf26-481a-ae4f-c5caedfe8e47\")>, <selenium.webdriver.remote.webelement.WebElement (session=\"ba88c85a4871f12378dc15a4091d52a8\", element=\"0dbfe093-de0a-4631-a462-84669dc67d2f\")>]\n"
     ]
    },
    {
     "name": "stderr",
     "output_type": "stream",
     "text": [
      "\r",
      " 35%|███▌      | 88/250 [39:26<1:12:08, 26.72s/it]"
     ]
    },
    {
     "name": "stdout",
     "output_type": "stream",
     "text": [
      "FINISHED one restaurant, Took:  29.649361848831177\n",
      "[<selenium.webdriver.remote.webelement.WebElement (session=\"f275e775f737ea42bd496927195b47e8\", element=\"e21c242c-1e4d-49b0-b661-42dd9cb08411\")>, <selenium.webdriver.remote.webelement.WebElement (session=\"f275e775f737ea42bd496927195b47e8\", element=\"63fa576c-77b7-4f8d-a6c4-5a02dbd1e32d\")>, <selenium.webdriver.remote.webelement.WebElement (session=\"f275e775f737ea42bd496927195b47e8\", element=\"2983c32e-994d-4ee5-8d94-8634e9d0b585\")>, <selenium.webdriver.remote.webelement.WebElement (session=\"f275e775f737ea42bd496927195b47e8\", element=\"6d9425b6-be01-4006-b3ca-77d71acfe043\")>, <selenium.webdriver.remote.webelement.WebElement (session=\"f275e775f737ea42bd496927195b47e8\", element=\"4f1f8b64-cc83-409a-9682-e16307137e87\")>]\n"
     ]
    },
    {
     "name": "stderr",
     "output_type": "stream",
     "text": [
      "\r",
      " 36%|███▌      | 89/250 [39:49<1:08:57, 25.70s/it]"
     ]
    },
    {
     "name": "stdout",
     "output_type": "stream",
     "text": [
      "FINISHED one restaurant, Took:  23.166030168533325\n",
      "[<selenium.webdriver.remote.webelement.WebElement (session=\"67cdf9641e145e9375626f68d8de68d4\", element=\"076012ef-fed5-4d99-85f7-cb4707c4132b\")>, <selenium.webdriver.remote.webelement.WebElement (session=\"67cdf9641e145e9375626f68d8de68d4\", element=\"9c121b05-87ab-4d2d-a856-8e5487f06e29\")>, <selenium.webdriver.remote.webelement.WebElement (session=\"67cdf9641e145e9375626f68d8de68d4\", element=\"237b66fc-ba0d-4333-bb95-b7944a1cbc02\")>, <selenium.webdriver.remote.webelement.WebElement (session=\"67cdf9641e145e9375626f68d8de68d4\", element=\"e654f13f-c117-420e-a55f-4832b212a849\")>, <selenium.webdriver.remote.webelement.WebElement (session=\"67cdf9641e145e9375626f68d8de68d4\", element=\"850414e1-eaa2-4343-80d1-b83600479057\")>]\n"
     ]
    },
    {
     "name": "stderr",
     "output_type": "stream",
     "text": [
      "\r",
      " 36%|███▌      | 90/250 [40:11<1:05:34, 24.59s/it]"
     ]
    },
    {
     "name": "stdout",
     "output_type": "stream",
     "text": [
      "FINISHED one restaurant, Took:  21.848898887634277\n",
      "[<selenium.webdriver.remote.webelement.WebElement (session=\"9edf1e20d98f98a39899f48820236970\", element=\"4736f4e4-2868-40e5-8464-c675ce230df3\")>, <selenium.webdriver.remote.webelement.WebElement (session=\"9edf1e20d98f98a39899f48820236970\", element=\"df6f14aa-ea74-4933-9c9e-89d86f18e77a\")>, <selenium.webdriver.remote.webelement.WebElement (session=\"9edf1e20d98f98a39899f48820236970\", element=\"50c899fa-9853-4b3e-8369-513c5a943df5\")>, <selenium.webdriver.remote.webelement.WebElement (session=\"9edf1e20d98f98a39899f48820236970\", element=\"396f4e69-6a82-4c46-8aa9-1387663087db\")>, <selenium.webdriver.remote.webelement.WebElement (session=\"9edf1e20d98f98a39899f48820236970\", element=\"d765c32e-5645-4fc3-9484-9650253c4c0a\")>]\n",
      "END OF PAGES REACHED. NO MORE TO PARSE.\n"
     ]
    },
    {
     "name": "stderr",
     "output_type": "stream",
     "text": [
      "\r",
      " 36%|███▋      | 91/250 [40:30<1:00:32, 22.85s/it]"
     ]
    },
    {
     "name": "stdout",
     "output_type": "stream",
     "text": [
      "End of reviews\n",
      "FINISHED one restaurant, Took:  18.676115036010742\n",
      "[<selenium.webdriver.remote.webelement.WebElement (session=\"e4374e8b2b3e3be3cb433ac29b2d2848\", element=\"6aaa7489-8c6c-40f2-83f1-8d5413f2982d\")>, <selenium.webdriver.remote.webelement.WebElement (session=\"e4374e8b2b3e3be3cb433ac29b2d2848\", element=\"14e039cb-de7e-46a1-91c6-fcfbe81a0be8\")>, <selenium.webdriver.remote.webelement.WebElement (session=\"e4374e8b2b3e3be3cb433ac29b2d2848\", element=\"0088a0ed-4b53-4cd8-a163-6e9ef4355221\")>, <selenium.webdriver.remote.webelement.WebElement (session=\"e4374e8b2b3e3be3cb433ac29b2d2848\", element=\"a5525326-666f-4861-95e3-1e0fb2c324ed\")>, <selenium.webdriver.remote.webelement.WebElement (session=\"e4374e8b2b3e3be3cb433ac29b2d2848\", element=\"3542405a-32a7-4a9d-8270-d282a94ea8e7\")>]\n",
      "END OF PAGES REACHED. NO MORE TO PARSE.\n"
     ]
    },
    {
     "name": "stderr",
     "output_type": "stream",
     "text": [
      "\r",
      " 37%|███▋      | 92/250 [40:47<55:18, 21.00s/it]  "
     ]
    },
    {
     "name": "stdout",
     "output_type": "stream",
     "text": [
      "End of reviews\n",
      "FINISHED one restaurant, Took:  16.576376914978027\n",
      "[<selenium.webdriver.remote.webelement.WebElement (session=\"17e51256799efe02d852f6947973a952\", element=\"78f3fc70-88e7-4519-9485-ffbe65397ee9\")>, <selenium.webdriver.remote.webelement.WebElement (session=\"17e51256799efe02d852f6947973a952\", element=\"c89a244d-0a35-43c3-ae8b-e3bf11a4f67f\")>, <selenium.webdriver.remote.webelement.WebElement (session=\"17e51256799efe02d852f6947973a952\", element=\"7bdbc5c9-315c-413e-9fb9-f5182c38c83e\")>, <selenium.webdriver.remote.webelement.WebElement (session=\"17e51256799efe02d852f6947973a952\", element=\"9bb2faeb-b235-443b-9d16-05249849acf3\")>, <selenium.webdriver.remote.webelement.WebElement (session=\"17e51256799efe02d852f6947973a952\", element=\"73191aa4-b6b9-4634-b563-3fde5c40d0e1\")>]\n"
     ]
    },
    {
     "name": "stderr",
     "output_type": "stream",
     "text": [
      "\r",
      " 37%|███▋      | 93/250 [41:14<59:54, 22.89s/it]"
     ]
    },
    {
     "name": "stdout",
     "output_type": "stream",
     "text": [
      "FINISHED one restaurant, Took:  27.140098094940186\n",
      "[<selenium.webdriver.remote.webelement.WebElement (session=\"5a66feaa52075dd0200bdd7b9ed1ff48\", element=\"bb41afbd-d026-494a-93e0-330f778c4a90\")>, <selenium.webdriver.remote.webelement.WebElement (session=\"5a66feaa52075dd0200bdd7b9ed1ff48\", element=\"f4333b44-b694-45c7-b5c9-b5c69d8620c1\")>, <selenium.webdriver.remote.webelement.WebElement (session=\"5a66feaa52075dd0200bdd7b9ed1ff48\", element=\"6a53b98c-8091-4f44-b83a-d8b2237ab6e9\")>, <selenium.webdriver.remote.webelement.WebElement (session=\"5a66feaa52075dd0200bdd7b9ed1ff48\", element=\"4140e5e6-163b-41c7-ac3b-b97153e565bd\")>, <selenium.webdriver.remote.webelement.WebElement (session=\"5a66feaa52075dd0200bdd7b9ed1ff48\", element=\"800cb75f-5fe1-42f1-9358-e491c50f0d6b\")>]\n",
      "END OF PAGES REACHED. NO MORE TO PARSE.\n"
     ]
    },
    {
     "name": "stderr",
     "output_type": "stream",
     "text": [
      "\r",
      " 38%|███▊      | 94/250 [41:35<58:23, 22.46s/it]"
     ]
    },
    {
     "name": "stdout",
     "output_type": "stream",
     "text": [
      "End of reviews\n",
      "FINISHED one restaurant, Took:  21.31632423400879\n",
      "[<selenium.webdriver.remote.webelement.WebElement (session=\"424151621f2886f80be0bf8b89ac2a95\", element=\"5e551141-01fa-4edd-979d-4eec7c5a03da\")>, <selenium.webdriver.remote.webelement.WebElement (session=\"424151621f2886f80be0bf8b89ac2a95\", element=\"e94fcc37-5a5f-4eea-bfd7-2eb13192379c\")>, <selenium.webdriver.remote.webelement.WebElement (session=\"424151621f2886f80be0bf8b89ac2a95\", element=\"0c5fc330-67fa-4996-9fda-7e751773f47a\")>, <selenium.webdriver.remote.webelement.WebElement (session=\"424151621f2886f80be0bf8b89ac2a95\", element=\"717ae3cd-602d-4d57-b164-09f94e8e6890\")>, <selenium.webdriver.remote.webelement.WebElement (session=\"424151621f2886f80be0bf8b89ac2a95\", element=\"3631cdd8-6350-44c1-96bf-27e18bb6a2cb\")>]\n"
     ]
    },
    {
     "name": "stderr",
     "output_type": "stream",
     "text": [
      "\r",
      " 38%|███▊      | 95/250 [41:59<58:38, 22.70s/it]"
     ]
    },
    {
     "name": "stdout",
     "output_type": "stream",
     "text": [
      "FINISHED one restaurant, Took:  23.104180097579956\n",
      "[<selenium.webdriver.remote.webelement.WebElement (session=\"dd27db93e6d7cfc8095bb96a5878a32d\", element=\"9b2bec7b-354f-4dd7-b1e1-a9a76f55b98e\")>, <selenium.webdriver.remote.webelement.WebElement (session=\"dd27db93e6d7cfc8095bb96a5878a32d\", element=\"bb8ecfcc-4098-4e8a-9aae-83703d41eed3\")>, <selenium.webdriver.remote.webelement.WebElement (session=\"dd27db93e6d7cfc8095bb96a5878a32d\", element=\"d80cc2f0-feb8-46ce-a453-4b401a9423d1\")>, <selenium.webdriver.remote.webelement.WebElement (session=\"dd27db93e6d7cfc8095bb96a5878a32d\", element=\"3bf88ea4-ccd7-40d7-be97-fa0d69a4c53e\")>, <selenium.webdriver.remote.webelement.WebElement (session=\"dd27db93e6d7cfc8095bb96a5878a32d\", element=\"91d19004-1463-492d-9660-947fb9ce3f37\")>]\n",
      "END OF PAGES REACHED. NO MORE TO PARSE.\n"
     ]
    },
    {
     "name": "stderr",
     "output_type": "stream",
     "text": [
      "\r",
      " 38%|███▊      | 96/250 [42:27<1:02:16, 24.26s/it]"
     ]
    },
    {
     "name": "stdout",
     "output_type": "stream",
     "text": [
      "End of reviews\n",
      "FINISHED one restaurant, Took:  27.752436876296997\n",
      "[<selenium.webdriver.remote.webelement.WebElement (session=\"74e1da342d15dc13a385b960969d582e\", element=\"2990bf10-e2d8-4a2c-9174-b37253f02803\")>, <selenium.webdriver.remote.webelement.WebElement (session=\"74e1da342d15dc13a385b960969d582e\", element=\"bd6b942e-b9ea-4eac-9389-1282e31ec842\")>, <selenium.webdriver.remote.webelement.WebElement (session=\"74e1da342d15dc13a385b960969d582e\", element=\"75e6f055-65eb-448a-95a2-b87aa39c6fa4\")>, <selenium.webdriver.remote.webelement.WebElement (session=\"74e1da342d15dc13a385b960969d582e\", element=\"9d44bd80-c6e4-4754-8a43-3de789f33eef\")>, <selenium.webdriver.remote.webelement.WebElement (session=\"74e1da342d15dc13a385b960969d582e\", element=\"ca8f1210-f061-4681-8927-9a8413f08f63\")>]\n",
      "END OF PAGES REACHED. NO MORE TO PARSE.\n"
     ]
    },
    {
     "name": "stderr",
     "output_type": "stream",
     "text": [
      "\r",
      " 39%|███▉      | 97/250 [42:52<1:02:47, 24.63s/it]"
     ]
    },
    {
     "name": "stdout",
     "output_type": "stream",
     "text": [
      "End of reviews\n",
      "FINISHED one restaurant, Took:  25.335121154785156\n",
      "[<selenium.webdriver.remote.webelement.WebElement (session=\"b6adf7a9adc5b06bec5082e629a2807f\", element=\"d1c03ed4-f1b2-4985-97b4-9c92648837ec\")>, <selenium.webdriver.remote.webelement.WebElement (session=\"b6adf7a9adc5b06bec5082e629a2807f\", element=\"739f9aa0-ccc4-4896-8e9c-fc05ac494ee6\")>, <selenium.webdriver.remote.webelement.WebElement (session=\"b6adf7a9adc5b06bec5082e629a2807f\", element=\"68a6a252-0e65-408a-941a-217f2285707d\")>, <selenium.webdriver.remote.webelement.WebElement (session=\"b6adf7a9adc5b06bec5082e629a2807f\", element=\"fa229234-5cae-4c39-8520-cf674250de9d\")>, <selenium.webdriver.remote.webelement.WebElement (session=\"b6adf7a9adc5b06bec5082e629a2807f\", element=\"0c294f70-d4db-4de2-92db-6449f31f4e36\")>]\n"
     ]
    },
    {
     "name": "stderr",
     "output_type": "stream",
     "text": [
      "\r",
      " 39%|███▉      | 98/250 [43:11<57:56, 22.87s/it]  "
     ]
    },
    {
     "name": "stdout",
     "output_type": "stream",
     "text": [
      "FINISHED one restaurant, Took:  18.63900589942932\n",
      "[<selenium.webdriver.remote.webelement.WebElement (session=\"e8585bb7fb5586dfd3abfa59a48086f3\", element=\"9950350f-4bee-4f2f-b0f5-a272f54ea838\")>, <selenium.webdriver.remote.webelement.WebElement (session=\"e8585bb7fb5586dfd3abfa59a48086f3\", element=\"41270065-5abc-41f1-a138-edea60f6109e\")>, <selenium.webdriver.remote.webelement.WebElement (session=\"e8585bb7fb5586dfd3abfa59a48086f3\", element=\"b79bfd0e-4291-42cd-a2b6-ba4ffa93c072\")>, <selenium.webdriver.remote.webelement.WebElement (session=\"e8585bb7fb5586dfd3abfa59a48086f3\", element=\"dad86467-704e-4783-aea5-172d82ae2069\")>, <selenium.webdriver.remote.webelement.WebElement (session=\"e8585bb7fb5586dfd3abfa59a48086f3\", element=\"3826bf28-c2dc-48b7-ac6d-d334f9a2d82c\")>]\n"
     ]
    },
    {
     "name": "stderr",
     "output_type": "stream",
     "text": [
      "\r",
      " 40%|███▉      | 99/250 [43:36<59:31, 23.66s/it]"
     ]
    },
    {
     "name": "stdout",
     "output_type": "stream",
     "text": [
      "FINISHED one restaurant, Took:  25.33139681816101\n",
      "[<selenium.webdriver.remote.webelement.WebElement (session=\"b09baee9aea174a9dcb1b91179b05dfa\", element=\"ba473e98-8f19-4f21-835f-3f413df93359\")>, <selenium.webdriver.remote.webelement.WebElement (session=\"b09baee9aea174a9dcb1b91179b05dfa\", element=\"e2149615-188a-4556-8b49-391a3319994b\")>, <selenium.webdriver.remote.webelement.WebElement (session=\"b09baee9aea174a9dcb1b91179b05dfa\", element=\"15a0a378-34ab-45af-b764-6b3b369c66ba\")>, <selenium.webdriver.remote.webelement.WebElement (session=\"b09baee9aea174a9dcb1b91179b05dfa\", element=\"7ffea0af-1433-43aa-b5a0-08db062f6bcd\")>, <selenium.webdriver.remote.webelement.WebElement (session=\"b09baee9aea174a9dcb1b91179b05dfa\", element=\"2b436c4a-ba7b-4b36-916d-7cf4675207bb\")>]\n",
      "END OF PAGES REACHED. NO MORE TO PARSE.\n"
     ]
    },
    {
     "name": "stderr",
     "output_type": "stream",
     "text": [
      "\r",
      " 40%|████      | 100/250 [43:58<57:27, 22.99s/it]"
     ]
    },
    {
     "name": "stdout",
     "output_type": "stream",
     "text": [
      "End of reviews\n",
      "FINISHED one restaurant, Took:  21.30505394935608\n",
      "[<selenium.webdriver.remote.webelement.WebElement (session=\"ef1c1b341e4bf5a01bc7358afdd09c1c\", element=\"d518ef89-c0e9-4e4f-a43f-abea279ea43a\")>, <selenium.webdriver.remote.webelement.WebElement (session=\"ef1c1b341e4bf5a01bc7358afdd09c1c\", element=\"89a18af9-9f53-4570-bc13-a737e4cdde57\")>, <selenium.webdriver.remote.webelement.WebElement (session=\"ef1c1b341e4bf5a01bc7358afdd09c1c\", element=\"ec99ceff-4ba8-42ac-8de7-91358c7f2bf3\")>, <selenium.webdriver.remote.webelement.WebElement (session=\"ef1c1b341e4bf5a01bc7358afdd09c1c\", element=\"1c56ac5c-e7b8-4e72-9938-5c2f8a2992ac\")>, <selenium.webdriver.remote.webelement.WebElement (session=\"ef1c1b341e4bf5a01bc7358afdd09c1c\", element=\"40cd8c51-2171-4d18-a4bd-6381cb01f483\")>]\n"
     ]
    },
    {
     "name": "stderr",
     "output_type": "stream",
     "text": [
      "\r",
      " 40%|████      | 101/250 [44:30<1:03:54, 25.74s/it]"
     ]
    },
    {
     "name": "stdout",
     "output_type": "stream",
     "text": [
      "FINISHED one restaurant, Took:  31.99456787109375\n",
      "[<selenium.webdriver.remote.webelement.WebElement (session=\"0d7c993a254dcedd0c60e359e3b57e8d\", element=\"8d8789bc-eae9-48c1-9a96-b605ce14bfea\")>, <selenium.webdriver.remote.webelement.WebElement (session=\"0d7c993a254dcedd0c60e359e3b57e8d\", element=\"d5cb4ef3-b5a0-4a24-92e8-e6d339bcebcf\")>, <selenium.webdriver.remote.webelement.WebElement (session=\"0d7c993a254dcedd0c60e359e3b57e8d\", element=\"ab9b3e3f-202e-4970-b739-e6e990df69a6\")>, <selenium.webdriver.remote.webelement.WebElement (session=\"0d7c993a254dcedd0c60e359e3b57e8d\", element=\"ca3b36eb-adf3-4dc1-a317-2b0a4a917017\")>, <selenium.webdriver.remote.webelement.WebElement (session=\"0d7c993a254dcedd0c60e359e3b57e8d\", element=\"dca32a0c-239e-4b7e-9734-ef9b76e0b7a6\")>]\n"
     ]
    },
    {
     "name": "stderr",
     "output_type": "stream",
     "text": [
      "\r",
      " 41%|████      | 102/250 [45:00<1:06:35, 27.00s/it]"
     ]
    },
    {
     "name": "stdout",
     "output_type": "stream",
     "text": [
      "FINISHED one restaurant, Took:  29.75658893585205\n",
      "[<selenium.webdriver.remote.webelement.WebElement (session=\"c3c190094fe9391583548770e725112e\", element=\"1b96df42-11b7-423c-9970-898b67f120c9\")>, <selenium.webdriver.remote.webelement.WebElement (session=\"c3c190094fe9391583548770e725112e\", element=\"765f62dd-4e4f-4447-8c0e-6ca3f0642b3e\")>, <selenium.webdriver.remote.webelement.WebElement (session=\"c3c190094fe9391583548770e725112e\", element=\"0c4eff48-d1f9-46cf-9e80-8cd3827a0840\")>, <selenium.webdriver.remote.webelement.WebElement (session=\"c3c190094fe9391583548770e725112e\", element=\"85f2e351-067d-4411-a01a-97cf611834a3\")>, <selenium.webdriver.remote.webelement.WebElement (session=\"c3c190094fe9391583548770e725112e\", element=\"8980a8e0-4a9e-487e-96a4-4fee1493c297\")>]\n",
      "END OF PAGES REACHED. NO MORE TO PARSE.\n"
     ]
    },
    {
     "name": "stderr",
     "output_type": "stream",
     "text": [
      "\r",
      " 41%|████      | 103/250 [45:18<59:26, 24.26s/it]  "
     ]
    },
    {
     "name": "stdout",
     "output_type": "stream",
     "text": [
      "End of reviews\n",
      "FINISHED one restaurant, Took:  17.761289834976196\n",
      "[<selenium.webdriver.remote.webelement.WebElement (session=\"dc7aa464dac12ef348074c0296de6dd8\", element=\"1dd72b2d-4732-46c4-9bc2-fc126795be64\")>, <selenium.webdriver.remote.webelement.WebElement (session=\"dc7aa464dac12ef348074c0296de6dd8\", element=\"581d4394-951d-4312-bc17-b3ffccc3e6c7\")>, <selenium.webdriver.remote.webelement.WebElement (session=\"dc7aa464dac12ef348074c0296de6dd8\", element=\"db20d40e-053c-44d0-8354-3604a62d45ba\")>, <selenium.webdriver.remote.webelement.WebElement (session=\"dc7aa464dac12ef348074c0296de6dd8\", element=\"4bd39503-cb7e-4226-a0cb-8771e06978fb\")>, <selenium.webdriver.remote.webelement.WebElement (session=\"dc7aa464dac12ef348074c0296de6dd8\", element=\"a3b503c3-3efe-4d03-80c9-5ba392ee6412\")>]\n",
      "END OF PAGES REACHED. NO MORE TO PARSE.\n"
     ]
    },
    {
     "name": "stderr",
     "output_type": "stream",
     "text": [
      "\r",
      " 42%|████▏     | 104/250 [45:36<54:23, 22.35s/it]"
     ]
    },
    {
     "name": "stdout",
     "output_type": "stream",
     "text": [
      "End of reviews\n",
      "FINISHED one restaurant, Took:  17.77556800842285\n",
      "[<selenium.webdriver.remote.webelement.WebElement (session=\"bb8d01390c2d6298b9f8d06423d7ffa4\", element=\"642f46bb-0ff5-4513-b9e0-8d2139e2f429\")>, <selenium.webdriver.remote.webelement.WebElement (session=\"bb8d01390c2d6298b9f8d06423d7ffa4\", element=\"d63f446c-e513-4534-bd54-fac5d317265b\")>, <selenium.webdriver.remote.webelement.WebElement (session=\"bb8d01390c2d6298b9f8d06423d7ffa4\", element=\"a004117c-8c96-4815-a83d-4dbfa8e0110c\")>, <selenium.webdriver.remote.webelement.WebElement (session=\"bb8d01390c2d6298b9f8d06423d7ffa4\", element=\"1f40e9e1-272a-4af0-b9d1-b0021f91e3bc\")>, <selenium.webdriver.remote.webelement.WebElement (session=\"bb8d01390c2d6298b9f8d06423d7ffa4\", element=\"552be276-4cd8-4f4d-92e5-8413191c26e3\")>]\n",
      "END OF PAGES REACHED. NO MORE TO PARSE.\n"
     ]
    },
    {
     "name": "stderr",
     "output_type": "stream",
     "text": [
      "\r",
      " 42%|████▏     | 105/250 [45:51<48:41, 20.15s/it]"
     ]
    },
    {
     "name": "stdout",
     "output_type": "stream",
     "text": [
      "End of reviews\n",
      "FINISHED one restaurant, Took:  14.89667296409607\n",
      "[<selenium.webdriver.remote.webelement.WebElement (session=\"1223a185a9f2f049dca983bf568acf8d\", element=\"5f566908-4c78-4adc-967f-0d36cc088c8f\")>, <selenium.webdriver.remote.webelement.WebElement (session=\"1223a185a9f2f049dca983bf568acf8d\", element=\"2536f32a-080b-4432-90d1-7c0b432b92e6\")>, <selenium.webdriver.remote.webelement.WebElement (session=\"1223a185a9f2f049dca983bf568acf8d\", element=\"c5e5906c-524c-49b8-a4d5-1b83005fddec\")>, <selenium.webdriver.remote.webelement.WebElement (session=\"1223a185a9f2f049dca983bf568acf8d\", element=\"f30b9789-846b-49a8-b7f8-924cb4fb8eed\")>, <selenium.webdriver.remote.webelement.WebElement (session=\"1223a185a9f2f049dca983bf568acf8d\", element=\"6e324dd0-b7df-4f94-9d75-b02e29007b5e\")>]\n"
     ]
    },
    {
     "name": "stderr",
     "output_type": "stream",
     "text": [
      "\r",
      " 42%|████▏     | 106/250 [46:15<51:44, 21.56s/it]"
     ]
    },
    {
     "name": "stdout",
     "output_type": "stream",
     "text": [
      "FINISHED one restaurant, Took:  24.68156599998474\n",
      "[<selenium.webdriver.remote.webelement.WebElement (session=\"62191c6a91834bb2e910bac4d20317ac\", element=\"31dc11c0-7971-49df-82dc-17dc66b4a1e3\")>, <selenium.webdriver.remote.webelement.WebElement (session=\"62191c6a91834bb2e910bac4d20317ac\", element=\"48fe9c0c-b509-40ac-abcd-fe3ff31a7298\")>, <selenium.webdriver.remote.webelement.WebElement (session=\"62191c6a91834bb2e910bac4d20317ac\", element=\"d864eb83-4096-4db6-b41a-b1197cdd720a\")>, <selenium.webdriver.remote.webelement.WebElement (session=\"62191c6a91834bb2e910bac4d20317ac\", element=\"6ffc0945-d3f2-4a24-8cc7-289d580a48c7\")>, <selenium.webdriver.remote.webelement.WebElement (session=\"62191c6a91834bb2e910bac4d20317ac\", element=\"52c28f21-57cb-4e84-be3d-5b9e8257cc11\")>]\n",
      "END OF PAGES REACHED. NO MORE TO PARSE.\n"
     ]
    },
    {
     "name": "stderr",
     "output_type": "stream",
     "text": [
      "\r",
      " 43%|████▎     | 107/250 [46:34<49:32, 20.79s/it]"
     ]
    },
    {
     "name": "stdout",
     "output_type": "stream",
     "text": [
      "End of reviews\n",
      "FINISHED one restaurant, Took:  18.868884086608887\n",
      "[<selenium.webdriver.remote.webelement.WebElement (session=\"f2187160ab844de072e76163abb3d379\", element=\"3eb6b55b-42bd-44b7-9d10-67e22f30fb13\")>, <selenium.webdriver.remote.webelement.WebElement (session=\"f2187160ab844de072e76163abb3d379\", element=\"dfdab207-6c3e-4692-8129-067ae0cb5713\")>, <selenium.webdriver.remote.webelement.WebElement (session=\"f2187160ab844de072e76163abb3d379\", element=\"bf8d7d13-5ec9-4b7d-a788-05b7165bba28\")>, <selenium.webdriver.remote.webelement.WebElement (session=\"f2187160ab844de072e76163abb3d379\", element=\"437d7ad2-4f6f-43df-b76c-14c318562117\")>, <selenium.webdriver.remote.webelement.WebElement (session=\"f2187160ab844de072e76163abb3d379\", element=\"018ff906-e7d8-46b3-8b9b-b35756f80ae8\")>]\n",
      "END OF PAGES REACHED. NO MORE TO PARSE.\n"
     ]
    },
    {
     "name": "stderr",
     "output_type": "stream",
     "text": [
      "\r",
      " 43%|████▎     | 108/250 [46:59<52:02, 21.99s/it]"
     ]
    },
    {
     "name": "stdout",
     "output_type": "stream",
     "text": [
      "End of reviews\n",
      "FINISHED one restaurant, Took:  24.647315979003906\n",
      "[<selenium.webdriver.remote.webelement.WebElement (session=\"2ffce30d61f438044ee8483b9d5faedd\", element=\"2ba7a8d3-d606-4887-a1d1-9653000371ab\")>, <selenium.webdriver.remote.webelement.WebElement (session=\"2ffce30d61f438044ee8483b9d5faedd\", element=\"4d8d6725-3a48-4d7a-908f-a2e7ef21fcc3\")>, <selenium.webdriver.remote.webelement.WebElement (session=\"2ffce30d61f438044ee8483b9d5faedd\", element=\"77670fa6-da15-4dfd-a822-9f8034c74503\")>, <selenium.webdriver.remote.webelement.WebElement (session=\"2ffce30d61f438044ee8483b9d5faedd\", element=\"c0fc5f71-7a1e-4884-812c-4dec946ff3d5\")>, <selenium.webdriver.remote.webelement.WebElement (session=\"2ffce30d61f438044ee8483b9d5faedd\", element=\"9fa7d4cb-c088-4a84-baf9-751909731b4b\")>]\n",
      "END OF PAGES REACHED. NO MORE TO PARSE.\n"
     ]
    },
    {
     "name": "stderr",
     "output_type": "stream",
     "text": [
      "\r",
      " 44%|████▎     | 109/250 [47:18<49:30, 21.07s/it]"
     ]
    },
    {
     "name": "stdout",
     "output_type": "stream",
     "text": [
      "End of reviews\n",
      "FINISHED one restaurant, Took:  18.79362201690674\n",
      "[<selenium.webdriver.remote.webelement.WebElement (session=\"f51c8a576b308cf78f45f8cdae40f28d\", element=\"dbb8ed80-b21d-4fe4-9a27-7092f6ce764f\")>, <selenium.webdriver.remote.webelement.WebElement (session=\"f51c8a576b308cf78f45f8cdae40f28d\", element=\"4e260213-530f-4f97-9cb8-8129611b7cc7\")>, <selenium.webdriver.remote.webelement.WebElement (session=\"f51c8a576b308cf78f45f8cdae40f28d\", element=\"ad4694be-73d7-4157-9cbf-7de4c6fa9fd0\")>, <selenium.webdriver.remote.webelement.WebElement (session=\"f51c8a576b308cf78f45f8cdae40f28d\", element=\"1a7decec-16c4-45d7-83a4-f63ef0989eeb\")>, <selenium.webdriver.remote.webelement.WebElement (session=\"f51c8a576b308cf78f45f8cdae40f28d\", element=\"dd8ed2cb-9238-4765-a7c6-e6e959998d3c\")>]\n"
     ]
    },
    {
     "name": "stderr",
     "output_type": "stream",
     "text": [
      "\r",
      " 44%|████▍     | 110/250 [47:39<49:04, 21.03s/it]"
     ]
    },
    {
     "name": "stdout",
     "output_type": "stream",
     "text": [
      "FINISHED one restaurant, Took:  20.8333842754364\n",
      "[<selenium.webdriver.remote.webelement.WebElement (session=\"3588a2218f715c6afbf27aa469d0871e\", element=\"3ef37c4c-fe8e-44c7-999a-cc47580cf553\")>, <selenium.webdriver.remote.webelement.WebElement (session=\"3588a2218f715c6afbf27aa469d0871e\", element=\"41e71ef6-c24c-4b3c-ba47-1290c28d6b33\")>, <selenium.webdriver.remote.webelement.WebElement (session=\"3588a2218f715c6afbf27aa469d0871e\", element=\"781901a7-b311-43af-86df-f69fa21cd912\")>, <selenium.webdriver.remote.webelement.WebElement (session=\"3588a2218f715c6afbf27aa469d0871e\", element=\"4e43c179-ed51-4a59-9376-2ac41f2c1c77\")>, <selenium.webdriver.remote.webelement.WebElement (session=\"3588a2218f715c6afbf27aa469d0871e\", element=\"61938401-7af0-4952-86db-024b1de0db65\")>]\n"
     ]
    },
    {
     "name": "stderr",
     "output_type": "stream",
     "text": [
      "\r",
      " 44%|████▍     | 111/250 [48:08<54:08, 23.37s/it]"
     ]
    },
    {
     "name": "stdout",
     "output_type": "stream",
     "text": [
      "FINISHED one restaurant, Took:  28.649948120117188\n",
      "[<selenium.webdriver.remote.webelement.WebElement (session=\"161ab13584ec663669ab268be3a88f69\", element=\"9a929e59-d430-4305-a166-1206cad21189\")>, <selenium.webdriver.remote.webelement.WebElement (session=\"161ab13584ec663669ab268be3a88f69\", element=\"3132ca5d-8633-4174-8115-a00e1f03e5a3\")>, <selenium.webdriver.remote.webelement.WebElement (session=\"161ab13584ec663669ab268be3a88f69\", element=\"3b7bab58-9c1d-4754-a74a-ff52dc76c50b\")>, <selenium.webdriver.remote.webelement.WebElement (session=\"161ab13584ec663669ab268be3a88f69\", element=\"fded0eba-e6e8-4ae5-8171-20d87d537b83\")>, <selenium.webdriver.remote.webelement.WebElement (session=\"161ab13584ec663669ab268be3a88f69\", element=\"e930c8a6-94a5-4094-895a-dbd4e2493698\")>]\n"
     ]
    },
    {
     "name": "stderr",
     "output_type": "stream",
     "text": [
      "\r",
      " 45%|████▍     | 112/250 [48:37<57:24, 24.96s/it]"
     ]
    },
    {
     "name": "stdout",
     "output_type": "stream",
     "text": [
      "FINISHED one restaurant, Took:  28.506863832473755\n",
      "[<selenium.webdriver.remote.webelement.WebElement (session=\"f6de2d496b9bb8b9bb8c5493c89bed6d\", element=\"030de132-c7b1-468e-823b-05279f26b527\")>, <selenium.webdriver.remote.webelement.WebElement (session=\"f6de2d496b9bb8b9bb8c5493c89bed6d\", element=\"e023e283-f1c7-40e7-b5a3-842b9e749bac\")>, <selenium.webdriver.remote.webelement.WebElement (session=\"f6de2d496b9bb8b9bb8c5493c89bed6d\", element=\"fcfcefcb-d56c-441f-96f7-571f7572254c\")>, <selenium.webdriver.remote.webelement.WebElement (session=\"f6de2d496b9bb8b9bb8c5493c89bed6d\", element=\"589aee16-f6e7-443a-bf20-964084f15196\")>, <selenium.webdriver.remote.webelement.WebElement (session=\"f6de2d496b9bb8b9bb8c5493c89bed6d\", element=\"1998e6fc-2927-4b5b-a6c5-8ae2b6b358eb\")>]\n"
     ]
    },
    {
     "name": "stderr",
     "output_type": "stream",
     "text": [
      "\r",
      " 45%|████▌     | 113/250 [49:03<57:48, 25.31s/it]"
     ]
    },
    {
     "name": "stdout",
     "output_type": "stream",
     "text": [
      "FINISHED one restaurant, Took:  25.97675895690918\n",
      "[<selenium.webdriver.remote.webelement.WebElement (session=\"56b9d974016b474340663d5ec12ad712\", element=\"dcc316e9-1eba-437c-8ebe-0f2e2d002907\")>, <selenium.webdriver.remote.webelement.WebElement (session=\"56b9d974016b474340663d5ec12ad712\", element=\"c3f6954a-ab35-40ba-8259-674ca940b66d\")>, <selenium.webdriver.remote.webelement.WebElement (session=\"56b9d974016b474340663d5ec12ad712\", element=\"84cbb4f7-4a23-422b-9fcb-e756f79819de\")>, <selenium.webdriver.remote.webelement.WebElement (session=\"56b9d974016b474340663d5ec12ad712\", element=\"26ef1cb8-ab89-45d9-803c-370edfd05d64\")>, <selenium.webdriver.remote.webelement.WebElement (session=\"56b9d974016b474340663d5ec12ad712\", element=\"b9cda174-d0ba-4d27-a6e1-fdc5682ed873\")>]\n",
      "END OF PAGES REACHED. NO MORE TO PARSE.\n"
     ]
    },
    {
     "name": "stderr",
     "output_type": "stream",
     "text": [
      "\r",
      " 46%|████▌     | 114/250 [49:26<55:47, 24.61s/it]"
     ]
    },
    {
     "name": "stdout",
     "output_type": "stream",
     "text": [
      "End of reviews\n",
      "FINISHED one restaurant, Took:  22.833678007125854\n",
      "[<selenium.webdriver.remote.webelement.WebElement (session=\"267d14d7ba10fe67e20d1b90c7b35b40\", element=\"968ef0c1-827d-4ec0-acc9-f13f6916e2ac\")>, <selenium.webdriver.remote.webelement.WebElement (session=\"267d14d7ba10fe67e20d1b90c7b35b40\", element=\"efa31b89-0840-4add-83d1-c41ef86463d3\")>, <selenium.webdriver.remote.webelement.WebElement (session=\"267d14d7ba10fe67e20d1b90c7b35b40\", element=\"5f160613-15eb-4aec-9d5e-a5c8fe7df735\")>, <selenium.webdriver.remote.webelement.WebElement (session=\"267d14d7ba10fe67e20d1b90c7b35b40\", element=\"519d442f-4f8c-4c5d-a253-f8017ae99784\")>, <selenium.webdriver.remote.webelement.WebElement (session=\"267d14d7ba10fe67e20d1b90c7b35b40\", element=\"c19d0a19-9982-4b83-8f0d-79bafb168b03\")>]\n"
     ]
    },
    {
     "name": "stderr",
     "output_type": "stream",
     "text": [
      "\r",
      " 46%|████▌     | 115/250 [49:50<55:26, 24.64s/it]"
     ]
    },
    {
     "name": "stdout",
     "output_type": "stream",
     "text": [
      "FINISHED one restaurant, Took:  24.549500226974487\n",
      "[<selenium.webdriver.remote.webelement.WebElement (session=\"0411622589105b68594ba60e1e137647\", element=\"b91093af-396e-41de-85a1-663c82e77c32\")>, <selenium.webdriver.remote.webelement.WebElement (session=\"0411622589105b68594ba60e1e137647\", element=\"62264462-4d6c-445e-a1f3-07b5e1f88e25\")>, <selenium.webdriver.remote.webelement.WebElement (session=\"0411622589105b68594ba60e1e137647\", element=\"9134b51b-e89f-422e-9085-3967094ec702\")>, <selenium.webdriver.remote.webelement.WebElement (session=\"0411622589105b68594ba60e1e137647\", element=\"d2d0279c-3dc3-45b7-a95a-448c0d75c131\")>, <selenium.webdriver.remote.webelement.WebElement (session=\"0411622589105b68594ba60e1e137647\", element=\"d72cff85-74b2-44a1-9540-843bbb6bb7d6\")>]\n"
     ]
    },
    {
     "name": "stderr",
     "output_type": "stream",
     "text": [
      "\r",
      " 46%|████▋     | 116/250 [50:17<56:13, 25.17s/it]"
     ]
    },
    {
     "name": "stdout",
     "output_type": "stream",
     "text": [
      "FINISHED one restaurant, Took:  26.273665189743042\n",
      "[<selenium.webdriver.remote.webelement.WebElement (session=\"68cad6e47ab845c6b19856e3a81ab7ab\", element=\"03ff417b-d45d-48e8-b2ec-b36f1a1b8703\")>, <selenium.webdriver.remote.webelement.WebElement (session=\"68cad6e47ab845c6b19856e3a81ab7ab\", element=\"f8dfa391-23e9-4a86-8b99-ceb4031656e1\")>, <selenium.webdriver.remote.webelement.WebElement (session=\"68cad6e47ab845c6b19856e3a81ab7ab\", element=\"ac47cf6e-18ca-4e8e-9c61-8e63f15fae15\")>, <selenium.webdriver.remote.webelement.WebElement (session=\"68cad6e47ab845c6b19856e3a81ab7ab\", element=\"8ffde561-c685-4b2f-b7dd-85a941242af3\")>, <selenium.webdriver.remote.webelement.WebElement (session=\"68cad6e47ab845c6b19856e3a81ab7ab\", element=\"308ced86-31cb-4686-9bdd-275291fdac57\")>]\n",
      "END OF PAGES REACHED. NO MORE TO PARSE.\n"
     ]
    },
    {
     "name": "stderr",
     "output_type": "stream",
     "text": [
      "\r",
      " 47%|████▋     | 117/250 [50:41<55:15, 24.93s/it]"
     ]
    },
    {
     "name": "stdout",
     "output_type": "stream",
     "text": [
      "End of reviews\n",
      "FINISHED one restaurant, Took:  24.221385955810547\n",
      "[<selenium.webdriver.remote.webelement.WebElement (session=\"a0b868e2f9d02d1cf0d82cdea4b2ffbe\", element=\"01db445b-c97b-4af4-affb-9769f6804c84\")>, <selenium.webdriver.remote.webelement.WebElement (session=\"a0b868e2f9d02d1cf0d82cdea4b2ffbe\", element=\"63136474-6b21-4cb3-9dac-90fc509d0044\")>, <selenium.webdriver.remote.webelement.WebElement (session=\"a0b868e2f9d02d1cf0d82cdea4b2ffbe\", element=\"e431fe7f-eaed-4321-a7b0-0453a05e7871\")>, <selenium.webdriver.remote.webelement.WebElement (session=\"a0b868e2f9d02d1cf0d82cdea4b2ffbe\", element=\"1723c761-77e8-48fe-bf7a-b03b76fd57db\")>, <selenium.webdriver.remote.webelement.WebElement (session=\"a0b868e2f9d02d1cf0d82cdea4b2ffbe\", element=\"f2f47f82-2ee6-4942-b799-29b51e9513f9\")>]\n",
      "END OF PAGES REACHED. NO MORE TO PARSE.\n"
     ]
    },
    {
     "name": "stderr",
     "output_type": "stream",
     "text": [
      "\r",
      " 47%|████▋     | 118/250 [50:59<49:51, 22.66s/it]"
     ]
    },
    {
     "name": "stdout",
     "output_type": "stream",
     "text": [
      "End of reviews\n",
      "FINISHED one restaurant, Took:  17.261592149734497\n",
      "[<selenium.webdriver.remote.webelement.WebElement (session=\"eadcc8cccd65240591496045630a498b\", element=\"58c82e3c-27f7-4fde-88c6-a772067674b4\")>, <selenium.webdriver.remote.webelement.WebElement (session=\"eadcc8cccd65240591496045630a498b\", element=\"24a27414-06be-4d5a-8389-0e8d84463eef\")>, <selenium.webdriver.remote.webelement.WebElement (session=\"eadcc8cccd65240591496045630a498b\", element=\"5ff12e8a-12d8-4f43-a7be-30f02ed97f59\")>, <selenium.webdriver.remote.webelement.WebElement (session=\"eadcc8cccd65240591496045630a498b\", element=\"13a956b5-ec10-4287-afe1-67496eeeb83d\")>, <selenium.webdriver.remote.webelement.WebElement (session=\"eadcc8cccd65240591496045630a498b\", element=\"46caf297-c729-4058-b686-25aa98a1d774\")>]\n",
      "END OF PAGES REACHED. NO MORE TO PARSE.\n"
     ]
    },
    {
     "name": "stderr",
     "output_type": "stream",
     "text": [
      "\r",
      " 48%|████▊     | 119/250 [51:19<47:56, 21.96s/it]"
     ]
    },
    {
     "name": "stdout",
     "output_type": "stream",
     "text": [
      "End of reviews\n",
      "FINISHED one restaurant, Took:  20.191321849822998\n",
      "[<selenium.webdriver.remote.webelement.WebElement (session=\"51b2c08ccf257f2eb69f21bda9c99c50\", element=\"2e3ab039-2f37-4b95-9f19-bf7e74583163\")>, <selenium.webdriver.remote.webelement.WebElement (session=\"51b2c08ccf257f2eb69f21bda9c99c50\", element=\"c6c3672a-c854-485d-af4a-86ebc8b233b6\")>, <selenium.webdriver.remote.webelement.WebElement (session=\"51b2c08ccf257f2eb69f21bda9c99c50\", element=\"9e6ff374-e07e-4968-b765-3b6e3bdb3823\")>, <selenium.webdriver.remote.webelement.WebElement (session=\"51b2c08ccf257f2eb69f21bda9c99c50\", element=\"b1fcf2e3-36b4-41b5-a225-05e92d0c138d\")>, <selenium.webdriver.remote.webelement.WebElement (session=\"51b2c08ccf257f2eb69f21bda9c99c50\", element=\"c114a3c2-bff6-415f-b836-c17e073d2418\")>]\n",
      "END OF PAGES REACHED. NO MORE TO PARSE.\n"
     ]
    },
    {
     "name": "stderr",
     "output_type": "stream",
     "text": [
      "\r",
      " 48%|████▊     | 120/250 [51:35<43:47, 20.21s/it]"
     ]
    },
    {
     "name": "stdout",
     "output_type": "stream",
     "text": [
      "End of reviews\n",
      "FINISHED one restaurant, Took:  16.008713006973267\n",
      "[<selenium.webdriver.remote.webelement.WebElement (session=\"ad8b89f820d08ecc4055078c3a1e1335\", element=\"ff277efa-8bc2-42ec-80c7-4234f2ce6756\")>, <selenium.webdriver.remote.webelement.WebElement (session=\"ad8b89f820d08ecc4055078c3a1e1335\", element=\"f268f9e4-b4c4-48a6-9864-bf9d7bba1318\")>, <selenium.webdriver.remote.webelement.WebElement (session=\"ad8b89f820d08ecc4055078c3a1e1335\", element=\"321cfdd9-8a62-4415-af41-5a15cb897f04\")>, <selenium.webdriver.remote.webelement.WebElement (session=\"ad8b89f820d08ecc4055078c3a1e1335\", element=\"6889bc96-984c-48f8-a1b0-bd76ee2f9462\")>, <selenium.webdriver.remote.webelement.WebElement (session=\"ad8b89f820d08ecc4055078c3a1e1335\", element=\"b6014e87-c445-4c63-b40c-717f725bb0ec\")>]\n",
      "END OF PAGES REACHED. NO MORE TO PARSE.\n"
     ]
    },
    {
     "name": "stderr",
     "output_type": "stream",
     "text": [
      "\r",
      " 48%|████▊     | 121/250 [51:48<38:35, 17.95s/it]"
     ]
    },
    {
     "name": "stdout",
     "output_type": "stream",
     "text": [
      "End of reviews\n",
      "FINISHED one restaurant, Took:  12.554774045944214\n",
      "[<selenium.webdriver.remote.webelement.WebElement (session=\"7c3cb054126b66f7d6761c1a8e467689\", element=\"0685765a-05b1-40b5-8324-0858f4d3659b\")>, <selenium.webdriver.remote.webelement.WebElement (session=\"7c3cb054126b66f7d6761c1a8e467689\", element=\"7a943c74-0e30-4a96-97f7-6bbcf831d646\")>, <selenium.webdriver.remote.webelement.WebElement (session=\"7c3cb054126b66f7d6761c1a8e467689\", element=\"e5a01bb9-68e5-4a71-811d-daeeca88a92a\")>, <selenium.webdriver.remote.webelement.WebElement (session=\"7c3cb054126b66f7d6761c1a8e467689\", element=\"d7298627-efe7-425b-87f3-5951bb1c3287\")>, <selenium.webdriver.remote.webelement.WebElement (session=\"7c3cb054126b66f7d6761c1a8e467689\", element=\"e463e5bd-59ca-49a4-8671-9f196ea9f137\")>]\n",
      "END OF PAGES REACHED. NO MORE TO PARSE.\n"
     ]
    },
    {
     "name": "stderr",
     "output_type": "stream",
     "text": [
      "\r",
      " 49%|████▉     | 122/250 [52:09<40:18, 18.90s/it]"
     ]
    },
    {
     "name": "stdout",
     "output_type": "stream",
     "text": [
      "End of reviews\n",
      "FINISHED one restaurant, Took:  20.992056131362915\n",
      "[<selenium.webdriver.remote.webelement.WebElement (session=\"85dc2c48b8b366394426fec599454e35\", element=\"aae561be-0de1-4840-83b6-f22157e36cca\")>, <selenium.webdriver.remote.webelement.WebElement (session=\"85dc2c48b8b366394426fec599454e35\", element=\"e39aa89a-de45-4bf3-8199-a6c64a2540b7\")>, <selenium.webdriver.remote.webelement.WebElement (session=\"85dc2c48b8b366394426fec599454e35\", element=\"a15992a4-c452-4aca-8c34-0e3377fe524d\")>, <selenium.webdriver.remote.webelement.WebElement (session=\"85dc2c48b8b366394426fec599454e35\", element=\"cec7f749-b77d-4b31-9b1e-783a77e10d28\")>, <selenium.webdriver.remote.webelement.WebElement (session=\"85dc2c48b8b366394426fec599454e35\", element=\"fe77882c-694a-43c5-8833-10377acbf9df\")>]\n",
      "END OF PAGES REACHED. NO MORE TO PARSE.\n"
     ]
    },
    {
     "name": "stderr",
     "output_type": "stream",
     "text": [
      "\r",
      " 49%|████▉     | 123/250 [52:26<38:49, 18.34s/it]"
     ]
    },
    {
     "name": "stdout",
     "output_type": "stream",
     "text": [
      "End of reviews\n",
      "FINISHED one restaurant, Took:  16.931163787841797\n",
      "[<selenium.webdriver.remote.webelement.WebElement (session=\"f11fc2de6c0ac0d468559461f1b71062\", element=\"5efd0b32-31a0-4ec0-b31a-e4bccb5557f6\")>, <selenium.webdriver.remote.webelement.WebElement (session=\"f11fc2de6c0ac0d468559461f1b71062\", element=\"f3a38a5c-7972-4fc9-9f1e-2cc38cb30755\")>, <selenium.webdriver.remote.webelement.WebElement (session=\"f11fc2de6c0ac0d468559461f1b71062\", element=\"b9872e9f-785e-4dc5-a4a2-7e901f7b3aa0\")>, <selenium.webdriver.remote.webelement.WebElement (session=\"f11fc2de6c0ac0d468559461f1b71062\", element=\"fa03bda5-9463-4681-9e65-e128f038c16a\")>, <selenium.webdriver.remote.webelement.WebElement (session=\"f11fc2de6c0ac0d468559461f1b71062\", element=\"3a1d8657-5043-434f-a831-f484c51f865c\")>]\n",
      "END OF PAGES REACHED. NO MORE TO PARSE.\n"
     ]
    },
    {
     "name": "stderr",
     "output_type": "stream",
     "text": [
      "\r",
      " 50%|████▉     | 124/250 [52:55<45:25, 21.63s/it]"
     ]
    },
    {
     "name": "stdout",
     "output_type": "stream",
     "text": [
      "End of reviews\n",
      "FINISHED one restaurant, Took:  29.14767575263977\n",
      "[<selenium.webdriver.remote.webelement.WebElement (session=\"89a5f4e506efc9481d643e7d84c4c852\", element=\"d0d0eefb-851e-4440-82cd-1d20a68f334e\")>, <selenium.webdriver.remote.webelement.WebElement (session=\"89a5f4e506efc9481d643e7d84c4c852\", element=\"7353eb7c-57b7-4bc3-a1c9-33222d663b3d\")>, <selenium.webdriver.remote.webelement.WebElement (session=\"89a5f4e506efc9481d643e7d84c4c852\", element=\"bbd4d4d7-f541-4fb9-aae1-087ea830286c\")>, <selenium.webdriver.remote.webelement.WebElement (session=\"89a5f4e506efc9481d643e7d84c4c852\", element=\"3aa0cfab-fc14-436c-89b6-7957024a0696\")>, <selenium.webdriver.remote.webelement.WebElement (session=\"89a5f4e506efc9481d643e7d84c4c852\", element=\"d16fe22e-96ab-4fc9-b346-59f9bb13af39\")>]\n",
      "END OF PAGES REACHED. NO MORE TO PARSE.\n"
     ]
    },
    {
     "name": "stderr",
     "output_type": "stream",
     "text": [
      "\r",
      " 50%|█████     | 125/250 [53:19<46:44, 22.44s/it]"
     ]
    },
    {
     "name": "stdout",
     "output_type": "stream",
     "text": [
      "End of reviews\n",
      "FINISHED one restaurant, Took:  24.183440923690796\n",
      "[<selenium.webdriver.remote.webelement.WebElement (session=\"e984a75bf782b42b82498bcd6d5360e0\", element=\"2ec394f8-a39b-4862-95a3-17072f16f041\")>, <selenium.webdriver.remote.webelement.WebElement (session=\"e984a75bf782b42b82498bcd6d5360e0\", element=\"084ad630-2df4-4878-8c90-027eddf61167\")>, <selenium.webdriver.remote.webelement.WebElement (session=\"e984a75bf782b42b82498bcd6d5360e0\", element=\"0334e88c-7a08-47f7-a594-67f0fa281063\")>, <selenium.webdriver.remote.webelement.WebElement (session=\"e984a75bf782b42b82498bcd6d5360e0\", element=\"56b4db7f-a881-4311-8501-91d0f4d484bb\")>, <selenium.webdriver.remote.webelement.WebElement (session=\"e984a75bf782b42b82498bcd6d5360e0\", element=\"511b0fa4-78a3-4736-9453-eed35377649e\")>]\n",
      "END OF PAGES REACHED. NO MORE TO PARSE.\n"
     ]
    },
    {
     "name": "stderr",
     "output_type": "stream",
     "text": [
      "\r",
      " 50%|█████     | 126/250 [53:32<40:03, 19.38s/it]"
     ]
    },
    {
     "name": "stdout",
     "output_type": "stream",
     "text": [
      "End of reviews\n",
      "FINISHED one restaurant, Took:  12.141025066375732\n",
      "[<selenium.webdriver.remote.webelement.WebElement (session=\"357989ed5f014ea3564c71c00832725e\", element=\"69a60e04-82cc-4ee9-8e9f-9a7978752933\")>, <selenium.webdriver.remote.webelement.WebElement (session=\"357989ed5f014ea3564c71c00832725e\", element=\"cd25fc50-8015-4694-89df-85d1ea21e946\")>, <selenium.webdriver.remote.webelement.WebElement (session=\"357989ed5f014ea3564c71c00832725e\", element=\"478be7d1-4b3f-4522-90fc-dc0c9c3d78e0\")>, <selenium.webdriver.remote.webelement.WebElement (session=\"357989ed5f014ea3564c71c00832725e\", element=\"c24f3107-a8dd-4802-a220-4c8e133ac899\")>, <selenium.webdriver.remote.webelement.WebElement (session=\"357989ed5f014ea3564c71c00832725e\", element=\"f52f6518-9272-4084-bc22-149eb242b35c\")>]\n",
      "END OF PAGES REACHED. NO MORE TO PARSE.\n"
     ]
    },
    {
     "name": "stderr",
     "output_type": "stream",
     "text": [
      "\r",
      " 51%|█████     | 127/250 [53:47<37:27, 18.28s/it]"
     ]
    },
    {
     "name": "stdout",
     "output_type": "stream",
     "text": [
      "End of reviews\n",
      "FINISHED one restaurant, Took:  15.584699869155884\n",
      "[<selenium.webdriver.remote.webelement.WebElement (session=\"eed1d3d115fdeca7280ce5f2d5a41e28\", element=\"9d6dc197-ee65-4985-ae07-308a702cd0c2\")>, <selenium.webdriver.remote.webelement.WebElement (session=\"eed1d3d115fdeca7280ce5f2d5a41e28\", element=\"4730559c-c0ec-47b4-b133-37c1f2dbf2c7\")>, <selenium.webdriver.remote.webelement.WebElement (session=\"eed1d3d115fdeca7280ce5f2d5a41e28\", element=\"9353c9f9-03be-4fc4-8f74-67d70ab47a74\")>, <selenium.webdriver.remote.webelement.WebElement (session=\"eed1d3d115fdeca7280ce5f2d5a41e28\", element=\"b3c79c65-89fb-4855-afef-9cdaff5b814e\")>, <selenium.webdriver.remote.webelement.WebElement (session=\"eed1d3d115fdeca7280ce5f2d5a41e28\", element=\"c7a9b784-2e8f-4add-9964-a8eecf1cb17b\")>]\n",
      "END OF PAGES REACHED. NO MORE TO PARSE.\n"
     ]
    },
    {
     "name": "stderr",
     "output_type": "stream",
     "text": [
      "\r",
      " 51%|█████     | 128/250 [54:04<36:12, 17.81s/it]"
     ]
    },
    {
     "name": "stdout",
     "output_type": "stream",
     "text": [
      "End of reviews\n",
      "FINISHED one restaurant, Took:  16.59871530532837\n",
      "[<selenium.webdriver.remote.webelement.WebElement (session=\"688faf528c17066dc81623179dd169b6\", element=\"5211a23c-ba4c-4fe4-8fa1-bd55a381169d\")>, <selenium.webdriver.remote.webelement.WebElement (session=\"688faf528c17066dc81623179dd169b6\", element=\"ba32d1ae-5d78-4db3-991a-ac5fe29141b3\")>, <selenium.webdriver.remote.webelement.WebElement (session=\"688faf528c17066dc81623179dd169b6\", element=\"ae58b981-185d-48dd-b6f7-84d81104e193\")>, <selenium.webdriver.remote.webelement.WebElement (session=\"688faf528c17066dc81623179dd169b6\", element=\"f952fbfa-5d16-4ac0-90cf-e67e5dd091f6\")>, <selenium.webdriver.remote.webelement.WebElement (session=\"688faf528c17066dc81623179dd169b6\", element=\"aeaed632-77a8-454c-92a4-3af75693a9d1\")>]\n"
     ]
    },
    {
     "name": "stderr",
     "output_type": "stream",
     "text": [
      "\r",
      " 52%|█████▏    | 129/250 [54:26<38:09, 18.92s/it]"
     ]
    },
    {
     "name": "stdout",
     "output_type": "stream",
     "text": [
      "FINISHED one restaurant, Took:  21.333083152770996\n",
      "[<selenium.webdriver.remote.webelement.WebElement (session=\"1476a3a42b2707561bcca5415822a18e\", element=\"2f3f2914-f469-4b7c-b8d5-e2d2994345ca\")>, <selenium.webdriver.remote.webelement.WebElement (session=\"1476a3a42b2707561bcca5415822a18e\", element=\"824571e0-6459-4ee9-80a3-16d5f90a9a7a\")>, <selenium.webdriver.remote.webelement.WebElement (session=\"1476a3a42b2707561bcca5415822a18e\", element=\"aa5fb82b-1128-4688-bbe8-ad6b95ab1d7d\")>, <selenium.webdriver.remote.webelement.WebElement (session=\"1476a3a42b2707561bcca5415822a18e\", element=\"77990f2f-ad1c-438d-b265-d6e6fc1548e4\")>, <selenium.webdriver.remote.webelement.WebElement (session=\"1476a3a42b2707561bcca5415822a18e\", element=\"81436836-84b7-4bc4-a81a-50331ad2c429\")>]\n",
      "END OF PAGES REACHED. NO MORE TO PARSE.\n"
     ]
    },
    {
     "name": "stderr",
     "output_type": "stream",
     "text": [
      "\r",
      " 52%|█████▏    | 130/250 [54:51<41:38, 20.82s/it]"
     ]
    },
    {
     "name": "stdout",
     "output_type": "stream",
     "text": [
      "End of reviews\n",
      "FINISHED one restaurant, Took:  25.11152696609497\n",
      "[<selenium.webdriver.remote.webelement.WebElement (session=\"dc7400b262aababf1d85d2d787154fff\", element=\"eaadab99-bac8-4a28-b259-aab9aec7ec3b\")>, <selenium.webdriver.remote.webelement.WebElement (session=\"dc7400b262aababf1d85d2d787154fff\", element=\"1ee4b028-9610-4d2c-8bd4-0d54694a0d4d\")>, <selenium.webdriver.remote.webelement.WebElement (session=\"dc7400b262aababf1d85d2d787154fff\", element=\"91855064-8055-4417-8a2c-7cbe1c359145\")>, <selenium.webdriver.remote.webelement.WebElement (session=\"dc7400b262aababf1d85d2d787154fff\", element=\"7b07e6c6-6323-4f39-8d57-dde33ffa898e\")>, <selenium.webdriver.remote.webelement.WebElement (session=\"dc7400b262aababf1d85d2d787154fff\", element=\"093b859c-ee08-41aa-a436-1099a648af7d\")>]\n",
      "END OF PAGES REACHED. NO MORE TO PARSE.\n"
     ]
    },
    {
     "name": "stderr",
     "output_type": "stream",
     "text": [
      "\r",
      " 52%|█████▏    | 131/250 [55:12<41:40, 21.01s/it]"
     ]
    },
    {
     "name": "stdout",
     "output_type": "stream",
     "text": [
      "End of reviews\n",
      "FINISHED one restaurant, Took:  21.329421997070312\n",
      "[<selenium.webdriver.remote.webelement.WebElement (session=\"bab9ed216afb54ddb55b85e91af56edf\", element=\"cad49c5a-9b19-4d78-a30b-ca0794d816fa\")>, <selenium.webdriver.remote.webelement.WebElement (session=\"bab9ed216afb54ddb55b85e91af56edf\", element=\"afbda8d5-27b8-4eba-8dfa-32ce5c3c7b66\")>, <selenium.webdriver.remote.webelement.WebElement (session=\"bab9ed216afb54ddb55b85e91af56edf\", element=\"d2f0acd0-d703-449b-a11e-c9a63f061f84\")>, <selenium.webdriver.remote.webelement.WebElement (session=\"bab9ed216afb54ddb55b85e91af56edf\", element=\"062e4825-0f16-4e42-b8cd-6b70fa6f4336\")>, <selenium.webdriver.remote.webelement.WebElement (session=\"bab9ed216afb54ddb55b85e91af56edf\", element=\"32525a56-608b-48d5-84ee-86dd5750f471\")>]\n",
      "END OF PAGES REACHED. NO MORE TO PARSE.\n"
     ]
    },
    {
     "name": "stderr",
     "output_type": "stream",
     "text": [
      "\r",
      " 53%|█████▎    | 132/250 [55:39<44:38, 22.70s/it]"
     ]
    },
    {
     "name": "stdout",
     "output_type": "stream",
     "text": [
      "End of reviews\n",
      "FINISHED one restaurant, Took:  26.506696939468384\n",
      "[<selenium.webdriver.remote.webelement.WebElement (session=\"a2442b1b3fd150dda05e4b841501b4cf\", element=\"afee79a1-f4b5-4570-bbd8-b22cc38a8de0\")>, <selenium.webdriver.remote.webelement.WebElement (session=\"a2442b1b3fd150dda05e4b841501b4cf\", element=\"953f7f18-bdca-4b4f-93f1-64c0c9ecfdcd\")>, <selenium.webdriver.remote.webelement.WebElement (session=\"a2442b1b3fd150dda05e4b841501b4cf\", element=\"1cbf0991-04cc-41fa-a7e9-f0e1e87add12\")>, <selenium.webdriver.remote.webelement.WebElement (session=\"a2442b1b3fd150dda05e4b841501b4cf\", element=\"d0c3ad30-c162-4707-b309-3e7110fd796e\")>, <selenium.webdriver.remote.webelement.WebElement (session=\"a2442b1b3fd150dda05e4b841501b4cf\", element=\"c250e026-5208-4125-bee9-23cf7c1829d7\")>]\n",
      "END OF PAGES REACHED. NO MORE TO PARSE.\n"
     ]
    },
    {
     "name": "stderr",
     "output_type": "stream",
     "text": [
      "\r",
      " 53%|█████▎    | 133/250 [55:58<42:12, 21.65s/it]"
     ]
    },
    {
     "name": "stdout",
     "output_type": "stream",
     "text": [
      "End of reviews\n",
      "FINISHED one restaurant, Took:  19.063965797424316\n",
      "[<selenium.webdriver.remote.webelement.WebElement (session=\"99ad899fb6c87319e007e39638d2e9ba\", element=\"769c967b-0859-4808-a6d1-d248bd7b2aca\")>, <selenium.webdriver.remote.webelement.WebElement (session=\"99ad899fb6c87319e007e39638d2e9ba\", element=\"dbd54d0b-4eeb-4c93-bfb0-cd9be20f47cd\")>, <selenium.webdriver.remote.webelement.WebElement (session=\"99ad899fb6c87319e007e39638d2e9ba\", element=\"43388462-a281-45b0-94e8-f0d94284f55b\")>, <selenium.webdriver.remote.webelement.WebElement (session=\"99ad899fb6c87319e007e39638d2e9ba\", element=\"9705f898-e43c-4bd7-a69c-527edd9c6dc7\")>, <selenium.webdriver.remote.webelement.WebElement (session=\"99ad899fb6c87319e007e39638d2e9ba\", element=\"c87f289c-6e2e-4067-aa5c-46e6b1168faf\")>]\n",
      "END OF PAGES REACHED. NO MORE TO PARSE.\n"
     ]
    },
    {
     "name": "stderr",
     "output_type": "stream",
     "text": [
      "\r",
      " 54%|█████▎    | 134/250 [56:15<39:13, 20.29s/it]"
     ]
    },
    {
     "name": "stdout",
     "output_type": "stream",
     "text": [
      "End of reviews\n",
      "FINISHED one restaurant, Took:  17.00164031982422\n",
      "[<selenium.webdriver.remote.webelement.WebElement (session=\"722a739ee98789a0f5dc3ab0c3052386\", element=\"a356d0a0-93d9-42e4-839a-3b1345d0b782\")>, <selenium.webdriver.remote.webelement.WebElement (session=\"722a739ee98789a0f5dc3ab0c3052386\", element=\"7ce4bd0e-ead6-48b6-8f02-0e0701bbd57f\")>, <selenium.webdriver.remote.webelement.WebElement (session=\"722a739ee98789a0f5dc3ab0c3052386\", element=\"9f845e8a-47cc-4d1f-80cd-c93b920635b8\")>, <selenium.webdriver.remote.webelement.WebElement (session=\"722a739ee98789a0f5dc3ab0c3052386\", element=\"4b530e63-982d-4923-96a8-3cd2d4d09658\")>, <selenium.webdriver.remote.webelement.WebElement (session=\"722a739ee98789a0f5dc3ab0c3052386\", element=\"7f6a0543-fb4f-4002-b44d-f0bb757879de\")>]\n",
      "END OF PAGES REACHED. NO MORE TO PARSE.\n"
     ]
    },
    {
     "name": "stderr",
     "output_type": "stream",
     "text": [
      "\r",
      " 54%|█████▍    | 135/250 [56:39<40:52, 21.33s/it]"
     ]
    },
    {
     "name": "stdout",
     "output_type": "stream",
     "text": [
      "End of reviews\n",
      "FINISHED one restaurant, Took:  23.619595050811768\n",
      "[<selenium.webdriver.remote.webelement.WebElement (session=\"6ae5ee3fae014c3b5545198487f230f1\", element=\"90f633ff-8746-4e7d-b90e-89ea3a63c6a6\")>, <selenium.webdriver.remote.webelement.WebElement (session=\"6ae5ee3fae014c3b5545198487f230f1\", element=\"dec73bfc-3ea9-4558-bf72-e20ee0d99924\")>, <selenium.webdriver.remote.webelement.WebElement (session=\"6ae5ee3fae014c3b5545198487f230f1\", element=\"e3fd3e9d-73b8-4848-838b-a6647a8dda69\")>, <selenium.webdriver.remote.webelement.WebElement (session=\"6ae5ee3fae014c3b5545198487f230f1\", element=\"9360a67c-ea3b-44eb-a79f-846fb9e7d9d2\")>, <selenium.webdriver.remote.webelement.WebElement (session=\"6ae5ee3fae014c3b5545198487f230f1\", element=\"460292a3-6984-400e-8219-6c8976fe0efe\")>]\n",
      "END OF PAGES REACHED. NO MORE TO PARSE.\n"
     ]
    },
    {
     "name": "stderr",
     "output_type": "stream",
     "text": [
      "\r",
      " 54%|█████▍    | 136/250 [57:05<43:25, 22.86s/it]"
     ]
    },
    {
     "name": "stdout",
     "output_type": "stream",
     "text": [
      "End of reviews\n",
      "FINISHED one restaurant, Took:  26.29146695137024\n",
      "[<selenium.webdriver.remote.webelement.WebElement (session=\"0daf564da786ee481cd49ac8db21dcb7\", element=\"89ca60dc-15d9-4cd2-b510-1d65d0b0d15d\")>, <selenium.webdriver.remote.webelement.WebElement (session=\"0daf564da786ee481cd49ac8db21dcb7\", element=\"765944e9-a41a-4a94-ba8f-df3da5395f7c\")>, <selenium.webdriver.remote.webelement.WebElement (session=\"0daf564da786ee481cd49ac8db21dcb7\", element=\"93b59799-d7bf-4223-aefd-709c2a97370f\")>, <selenium.webdriver.remote.webelement.WebElement (session=\"0daf564da786ee481cd49ac8db21dcb7\", element=\"ee138684-14de-4cfa-b9a8-a1e20a6d6b5d\")>, <selenium.webdriver.remote.webelement.WebElement (session=\"0daf564da786ee481cd49ac8db21dcb7\", element=\"085bc6d2-cea3-45d6-b41b-c40f2209fdd6\")>]\n"
     ]
    },
    {
     "name": "stderr",
     "output_type": "stream",
     "text": [
      "\r",
      " 55%|█████▍    | 137/250 [57:30<44:14, 23.49s/it]"
     ]
    },
    {
     "name": "stdout",
     "output_type": "stream",
     "text": [
      "FINISHED one restaurant, Took:  24.831958055496216\n",
      "[<selenium.webdriver.remote.webelement.WebElement (session=\"8a574b9b7d8d06b964b78faaaecd7766\", element=\"bf12c037-fa59-4871-9a6b-66b17e61c01c\")>, <selenium.webdriver.remote.webelement.WebElement (session=\"8a574b9b7d8d06b964b78faaaecd7766\", element=\"abbc5e03-1e40-48c6-998f-89b1c72fac66\")>, <selenium.webdriver.remote.webelement.WebElement (session=\"8a574b9b7d8d06b964b78faaaecd7766\", element=\"2cc82cfd-8150-4866-bd36-a64f1de8fb14\")>, <selenium.webdriver.remote.webelement.WebElement (session=\"8a574b9b7d8d06b964b78faaaecd7766\", element=\"d524c689-82e7-44b3-a65d-ac9bfb3e4228\")>, <selenium.webdriver.remote.webelement.WebElement (session=\"8a574b9b7d8d06b964b78faaaecd7766\", element=\"98a98f84-2190-4a2e-88e9-93ef5d8658b9\")>]\n"
     ]
    },
    {
     "name": "stderr",
     "output_type": "stream",
     "text": [
      "\r",
      " 55%|█████▌    | 138/250 [57:54<43:44, 23.44s/it]"
     ]
    },
    {
     "name": "stdout",
     "output_type": "stream",
     "text": [
      "FINISHED one restaurant, Took:  23.155704975128174\n",
      "[<selenium.webdriver.remote.webelement.WebElement (session=\"53f2c57aeee4aef0e79f74ec3dd01b13\", element=\"c6812eec-fe02-43a9-8dce-ee9d776f8be2\")>, <selenium.webdriver.remote.webelement.WebElement (session=\"53f2c57aeee4aef0e79f74ec3dd01b13\", element=\"ad311fe8-6a83-4e4b-b60a-045e38a3c96b\")>, <selenium.webdriver.remote.webelement.WebElement (session=\"53f2c57aeee4aef0e79f74ec3dd01b13\", element=\"e0042943-d792-45cb-add2-6239f1fcb28b\")>, <selenium.webdriver.remote.webelement.WebElement (session=\"53f2c57aeee4aef0e79f74ec3dd01b13\", element=\"80fb40ca-3ac4-4483-bcaf-f1a0ca046786\")>, <selenium.webdriver.remote.webelement.WebElement (session=\"53f2c57aeee4aef0e79f74ec3dd01b13\", element=\"ac3689b3-966f-430d-b30c-9bf677c7d86d\")>]\n",
      "END OF PAGES REACHED. NO MORE TO PARSE.\n"
     ]
    },
    {
     "name": "stderr",
     "output_type": "stream",
     "text": [
      "\r",
      " 56%|█████▌    | 139/250 [58:18<44:00, 23.79s/it]"
     ]
    },
    {
     "name": "stdout",
     "output_type": "stream",
     "text": [
      "End of reviews\n",
      "FINISHED one restaurant, Took:  24.474360942840576\n",
      "[<selenium.webdriver.remote.webelement.WebElement (session=\"62e58931366fc9de9bba3121c56f93d5\", element=\"9a16b8df-36fa-47c6-a170-38322918e54c\")>, <selenium.webdriver.remote.webelement.WebElement (session=\"62e58931366fc9de9bba3121c56f93d5\", element=\"b11fd17b-1abf-4b22-a2c2-e4b8349dd0fc\")>, <selenium.webdriver.remote.webelement.WebElement (session=\"62e58931366fc9de9bba3121c56f93d5\", element=\"a1230634-e3e7-47f7-b30a-6cc9120fd2f7\")>, <selenium.webdriver.remote.webelement.WebElement (session=\"62e58931366fc9de9bba3121c56f93d5\", element=\"8e5987b7-23e7-4d11-a5e5-4214c9af6961\")>, <selenium.webdriver.remote.webelement.WebElement (session=\"62e58931366fc9de9bba3121c56f93d5\", element=\"c1ead339-2755-4746-9fee-44ac66c7e6da\")>]\n",
      "END OF PAGES REACHED. NO MORE TO PARSE.\n"
     ]
    },
    {
     "name": "stderr",
     "output_type": "stream",
     "text": [
      "\r",
      " 56%|█████▌    | 140/250 [58:35<39:44, 21.68s/it]"
     ]
    },
    {
     "name": "stdout",
     "output_type": "stream",
     "text": [
      "End of reviews\n",
      "FINISHED one restaurant, Took:  16.62905192375183\n",
      "[<selenium.webdriver.remote.webelement.WebElement (session=\"73236414f5c628a27346d7170e3f45c1\", element=\"44dd8e92-62b9-46a5-9205-fff64e9ee7b3\")>, <selenium.webdriver.remote.webelement.WebElement (session=\"73236414f5c628a27346d7170e3f45c1\", element=\"7b2f33bd-5438-4926-b2f2-b8b6abaa227f\")>, <selenium.webdriver.remote.webelement.WebElement (session=\"73236414f5c628a27346d7170e3f45c1\", element=\"d2fcbee6-f75c-42d6-93f6-f4d537a7e397\")>, <selenium.webdriver.remote.webelement.WebElement (session=\"73236414f5c628a27346d7170e3f45c1\", element=\"307e2653-766a-4ebc-ae8a-ff4fa942695c\")>, <selenium.webdriver.remote.webelement.WebElement (session=\"73236414f5c628a27346d7170e3f45c1\", element=\"7dbca1d9-fec4-4bd5-b7cf-870b84e1fb79\")>]\n",
      "END OF PAGES REACHED. NO MORE TO PARSE.\n"
     ]
    },
    {
     "name": "stderr",
     "output_type": "stream",
     "text": [
      "\r",
      " 56%|█████▋    | 141/250 [58:50<35:28, 19.53s/it]"
     ]
    },
    {
     "name": "stdout",
     "output_type": "stream",
     "text": [
      "End of reviews\n",
      "FINISHED one restaurant, Took:  14.384368896484375\n",
      "[<selenium.webdriver.remote.webelement.WebElement (session=\"e67af9729f9601d8e0efa165a79862b3\", element=\"cf6d4b2b-13cb-4223-8ce3-f3adb76b9358\")>, <selenium.webdriver.remote.webelement.WebElement (session=\"e67af9729f9601d8e0efa165a79862b3\", element=\"f84c237a-c47a-4692-863e-b5d6106bf25e\")>, <selenium.webdriver.remote.webelement.WebElement (session=\"e67af9729f9601d8e0efa165a79862b3\", element=\"e670ed21-a156-4e33-8961-d767e2125795\")>, <selenium.webdriver.remote.webelement.WebElement (session=\"e67af9729f9601d8e0efa165a79862b3\", element=\"d0869bcd-74df-4e4e-9185-da70709fe969\")>, <selenium.webdriver.remote.webelement.WebElement (session=\"e67af9729f9601d8e0efa165a79862b3\", element=\"6327d33f-751b-483f-bea3-de248b9806da\")>]\n"
     ]
    },
    {
     "name": "stderr",
     "output_type": "stream",
     "text": [
      "\r",
      " 57%|█████▋    | 142/250 [59:13<37:19, 20.74s/it]"
     ]
    },
    {
     "name": "stdout",
     "output_type": "stream",
     "text": [
      "FINISHED one restaurant, Took:  23.41831398010254\n",
      "[<selenium.webdriver.remote.webelement.WebElement (session=\"fc25df869c799e27aab9d07cc76fee96\", element=\"51760396-29b3-4fb5-821c-fdaa413971a7\")>, <selenium.webdriver.remote.webelement.WebElement (session=\"fc25df869c799e27aab9d07cc76fee96\", element=\"80857690-f6c2-4116-a8d3-83f9a84ecd80\")>, <selenium.webdriver.remote.webelement.WebElement (session=\"fc25df869c799e27aab9d07cc76fee96\", element=\"cf715a7b-1517-48de-a47e-98a12e161ade\")>, <selenium.webdriver.remote.webelement.WebElement (session=\"fc25df869c799e27aab9d07cc76fee96\", element=\"7aee52f8-f19b-4e0c-884c-79bc20f393da\")>, <selenium.webdriver.remote.webelement.WebElement (session=\"fc25df869c799e27aab9d07cc76fee96\", element=\"e23ce20c-871d-40d9-a2fd-1cca4de56ab6\")>]\n"
     ]
    },
    {
     "name": "stderr",
     "output_type": "stream",
     "text": [
      "\r",
      " 57%|█████▋    | 143/250 [59:36<37:52, 21.24s/it]"
     ]
    },
    {
     "name": "stdout",
     "output_type": "stream",
     "text": [
      "FINISHED one restaurant, Took:  22.250768899917603\n",
      "[<selenium.webdriver.remote.webelement.WebElement (session=\"2443410af97dd4d04890689493bdf675\", element=\"58b9308f-2c7f-46e9-9eac-851d252a5ab0\")>, <selenium.webdriver.remote.webelement.WebElement (session=\"2443410af97dd4d04890689493bdf675\", element=\"21a084f3-08f5-4197-9e66-0573cbb3807e\")>, <selenium.webdriver.remote.webelement.WebElement (session=\"2443410af97dd4d04890689493bdf675\", element=\"9f1ca8d4-635d-409d-9706-ef4e8afc32e6\")>, <selenium.webdriver.remote.webelement.WebElement (session=\"2443410af97dd4d04890689493bdf675\", element=\"a91ad392-189c-4657-888b-e1b287f104eb\")>, <selenium.webdriver.remote.webelement.WebElement (session=\"2443410af97dd4d04890689493bdf675\", element=\"f9081799-add4-4ca6-b89e-bf0d0992d483\")>]\n",
      "END OF PAGES REACHED. NO MORE TO PARSE.\n"
     ]
    },
    {
     "name": "stderr",
     "output_type": "stream",
     "text": [
      "\r",
      " 58%|█████▊    | 144/250 [59:51<34:11, 19.35s/it]"
     ]
    },
    {
     "name": "stdout",
     "output_type": "stream",
     "text": [
      "End of reviews\n",
      "FINISHED one restaurant, Took:  14.855429887771606\n",
      "[<selenium.webdriver.remote.webelement.WebElement (session=\"5a1015333fe2efdea0a95a76f284387c\", element=\"7922a86b-2b60-483a-bca0-f52ef9665dc4\")>, <selenium.webdriver.remote.webelement.WebElement (session=\"5a1015333fe2efdea0a95a76f284387c\", element=\"a0eb20d1-ada2-4e5a-8a2f-72ea38b698fd\")>, <selenium.webdriver.remote.webelement.WebElement (session=\"5a1015333fe2efdea0a95a76f284387c\", element=\"76936fa9-30cd-468f-8f7b-6319cd893a20\")>, <selenium.webdriver.remote.webelement.WebElement (session=\"5a1015333fe2efdea0a95a76f284387c\", element=\"213850b2-595a-42e7-9681-2b10f6f53976\")>, <selenium.webdriver.remote.webelement.WebElement (session=\"5a1015333fe2efdea0a95a76f284387c\", element=\"81c5f8f7-3814-4218-9253-c8b0d341b619\")>]\n"
     ]
    },
    {
     "name": "stderr",
     "output_type": "stream",
     "text": [
      "\r",
      " 58%|█████▊    | 145/250 [1:00:13<35:25, 20.24s/it]"
     ]
    },
    {
     "name": "stdout",
     "output_type": "stream",
     "text": [
      "FINISHED one restaurant, Took:  22.164663791656494\n",
      "[<selenium.webdriver.remote.webelement.WebElement (session=\"8b891ffc7897ac85a5b64af97c98aa9e\", element=\"96ba4d4c-1eb4-4c29-8bda-6a5647d84d1c\")>, <selenium.webdriver.remote.webelement.WebElement (session=\"8b891ffc7897ac85a5b64af97c98aa9e\", element=\"61d7da31-0282-43c5-b3d6-f37a66a0e278\")>, <selenium.webdriver.remote.webelement.WebElement (session=\"8b891ffc7897ac85a5b64af97c98aa9e\", element=\"52d5a373-05ec-42e9-aa92-53d009a0b51d\")>, <selenium.webdriver.remote.webelement.WebElement (session=\"8b891ffc7897ac85a5b64af97c98aa9e\", element=\"90f5d0d1-b1e7-4c7f-9986-bceb16c1d1a9\")>, <selenium.webdriver.remote.webelement.WebElement (session=\"8b891ffc7897ac85a5b64af97c98aa9e\", element=\"518d62b0-2019-4233-b276-8ee94e3a3e0a\")>]\n",
      "END OF PAGES REACHED. NO MORE TO PARSE.\n"
     ]
    },
    {
     "name": "stderr",
     "output_type": "stream",
     "text": [
      "\r",
      " 58%|█████▊    | 146/250 [1:00:34<35:28, 20.46s/it]"
     ]
    },
    {
     "name": "stdout",
     "output_type": "stream",
     "text": [
      "End of reviews\n",
      "FINISHED one restaurant, Took:  20.849135875701904\n",
      "[<selenium.webdriver.remote.webelement.WebElement (session=\"ccc6effaf06bea51a682ce4035be1844\", element=\"e8130df3-6132-4c02-8800-b598fd70e5cd\")>, <selenium.webdriver.remote.webelement.WebElement (session=\"ccc6effaf06bea51a682ce4035be1844\", element=\"8de7c9d3-127e-4ac7-9512-ae9845529c56\")>, <selenium.webdriver.remote.webelement.WebElement (session=\"ccc6effaf06bea51a682ce4035be1844\", element=\"92d159e1-ede6-4bd8-b935-fef7192d5593\")>, <selenium.webdriver.remote.webelement.WebElement (session=\"ccc6effaf06bea51a682ce4035be1844\", element=\"9d6aedd7-751c-485e-aaaa-5be2fcb09d33\")>, <selenium.webdriver.remote.webelement.WebElement (session=\"ccc6effaf06bea51a682ce4035be1844\", element=\"c5d2985e-f8a1-4bb5-a7cd-6677989d5427\")>]\n"
     ]
    },
    {
     "name": "stderr",
     "output_type": "stream",
     "text": [
      "\r",
      " 59%|█████▉    | 147/250 [1:00:57<36:44, 21.40s/it]"
     ]
    },
    {
     "name": "stdout",
     "output_type": "stream",
     "text": [
      "FINISHED one restaurant, Took:  23.447559356689453\n",
      "[<selenium.webdriver.remote.webelement.WebElement (session=\"af9e13024aa782f892a35cf66bf1b920\", element=\"723efb45-d579-42aa-afb3-aaae921f46e6\")>, <selenium.webdriver.remote.webelement.WebElement (session=\"af9e13024aa782f892a35cf66bf1b920\", element=\"d4cb75e9-18d3-42c6-8e25-4fb87b6c840f\")>, <selenium.webdriver.remote.webelement.WebElement (session=\"af9e13024aa782f892a35cf66bf1b920\", element=\"bec92581-55c7-4acd-b7f8-518bb57ba9d2\")>, <selenium.webdriver.remote.webelement.WebElement (session=\"af9e13024aa782f892a35cf66bf1b920\", element=\"10a778fc-20a7-4636-927e-377842b46dec\")>, <selenium.webdriver.remote.webelement.WebElement (session=\"af9e13024aa782f892a35cf66bf1b920\", element=\"a4b1e490-e0cb-441d-a40d-98129cafd14f\")>]\n"
     ]
    },
    {
     "name": "stderr",
     "output_type": "stream",
     "text": [
      "\r",
      " 59%|█████▉    | 148/250 [1:01:21<37:44, 22.20s/it]"
     ]
    },
    {
     "name": "stdout",
     "output_type": "stream",
     "text": [
      "FINISHED one restaurant, Took:  23.90946102142334\n",
      "[<selenium.webdriver.remote.webelement.WebElement (session=\"95bd57573915a6eb7369853184867311\", element=\"89eaa915-f5c5-4730-bfdd-276aa96378b3\")>, <selenium.webdriver.remote.webelement.WebElement (session=\"95bd57573915a6eb7369853184867311\", element=\"50a2df97-ed13-47d2-8f12-de5f09e58b11\")>, <selenium.webdriver.remote.webelement.WebElement (session=\"95bd57573915a6eb7369853184867311\", element=\"d3b93488-8be1-496e-9fc6-612e0f0862b5\")>, <selenium.webdriver.remote.webelement.WebElement (session=\"95bd57573915a6eb7369853184867311\", element=\"bae40786-f515-45d9-8159-3af5b69e9028\")>, <selenium.webdriver.remote.webelement.WebElement (session=\"95bd57573915a6eb7369853184867311\", element=\"65190f9b-eafb-4cda-b883-48e6708a0b75\")>]\n"
     ]
    },
    {
     "name": "stderr",
     "output_type": "stream",
     "text": [
      "\r",
      " 60%|█████▉    | 149/250 [1:01:55<42:49, 25.44s/it]"
     ]
    },
    {
     "name": "stdout",
     "output_type": "stream",
     "text": [
      "FINISHED one restaurant, Took:  32.84766221046448\n",
      "[<selenium.webdriver.remote.webelement.WebElement (session=\"89d9752ebf562c73aa82d1f9098a130c\", element=\"cf1aebfb-09ac-49fc-a974-85c0e72aa214\")>, <selenium.webdriver.remote.webelement.WebElement (session=\"89d9752ebf562c73aa82d1f9098a130c\", element=\"c8ebf987-f040-4d34-a480-7e4a5f54f0d8\")>, <selenium.webdriver.remote.webelement.WebElement (session=\"89d9752ebf562c73aa82d1f9098a130c\", element=\"36924bb3-5c8b-4025-b90e-d13892a618a2\")>, <selenium.webdriver.remote.webelement.WebElement (session=\"89d9752ebf562c73aa82d1f9098a130c\", element=\"0d5c471c-a59c-46a0-90bb-8d2e320529a5\")>, <selenium.webdriver.remote.webelement.WebElement (session=\"89d9752ebf562c73aa82d1f9098a130c\", element=\"a139f16b-0124-48d4-8dc0-2ab9c4227fbd\")>]\n"
     ]
    },
    {
     "name": "stderr",
     "output_type": "stream",
     "text": [
      "\r",
      " 60%|██████    | 150/250 [1:02:18<41:31, 24.91s/it]"
     ]
    },
    {
     "name": "stdout",
     "output_type": "stream",
     "text": [
      "FINISHED one restaurant, Took:  23.52293109893799\n",
      "[<selenium.webdriver.remote.webelement.WebElement (session=\"299ee0fa6a26e6e26a17af80ef798a01\", element=\"234ab80f-b77a-4982-8a68-ed391983e3bb\")>, <selenium.webdriver.remote.webelement.WebElement (session=\"299ee0fa6a26e6e26a17af80ef798a01\", element=\"27ed5e41-3036-48d8-bc41-93f72f221dda\")>, <selenium.webdriver.remote.webelement.WebElement (session=\"299ee0fa6a26e6e26a17af80ef798a01\", element=\"ba8ccdc5-2397-4039-a8f9-440299831a8a\")>, <selenium.webdriver.remote.webelement.WebElement (session=\"299ee0fa6a26e6e26a17af80ef798a01\", element=\"9e999c7c-1f9f-4c4a-b1b5-d676b235c13b\")>, <selenium.webdriver.remote.webelement.WebElement (session=\"299ee0fa6a26e6e26a17af80ef798a01\", element=\"622ebd0b-2314-4e03-8b91-687688c52948\")>]\n",
      "END OF PAGES REACHED. NO MORE TO PARSE.\n"
     ]
    },
    {
     "name": "stderr",
     "output_type": "stream",
     "text": [
      "\r",
      " 60%|██████    | 151/250 [1:02:35<37:06, 22.49s/it]"
     ]
    },
    {
     "name": "stdout",
     "output_type": "stream",
     "text": [
      "End of reviews\n",
      "FINISHED one restaurant, Took:  16.734556913375854\n",
      "[<selenium.webdriver.remote.webelement.WebElement (session=\"383e6da99378fe6fc8e1b6aa685721bc\", element=\"53f674a8-7be8-4e1b-b80e-fe12431b8125\")>, <selenium.webdriver.remote.webelement.WebElement (session=\"383e6da99378fe6fc8e1b6aa685721bc\", element=\"19e5e039-d9c6-4f42-b673-b97d8b2e2d79\")>, <selenium.webdriver.remote.webelement.WebElement (session=\"383e6da99378fe6fc8e1b6aa685721bc\", element=\"b24df532-6408-42fe-b5da-02cfa2a43bda\")>, <selenium.webdriver.remote.webelement.WebElement (session=\"383e6da99378fe6fc8e1b6aa685721bc\", element=\"9b2d18c0-d2c0-45a9-90fd-7be99766e76c\")>, <selenium.webdriver.remote.webelement.WebElement (session=\"383e6da99378fe6fc8e1b6aa685721bc\", element=\"a872a7bd-8043-44b4-9aab-5841e313e623\")>]\n"
     ]
    },
    {
     "name": "stderr",
     "output_type": "stream",
     "text": [
      "\r",
      " 61%|██████    | 152/250 [1:02:51<33:45, 20.67s/it]"
     ]
    },
    {
     "name": "stdout",
     "output_type": "stream",
     "text": [
      "FINISHED one restaurant, Took:  16.287559747695923\n",
      "[<selenium.webdriver.remote.webelement.WebElement (session=\"f21fb967ade41e591fb76f14b1fc3062\", element=\"a19c0373-9488-4c65-9a5d-43ec73bb7c5d\")>, <selenium.webdriver.remote.webelement.WebElement (session=\"f21fb967ade41e591fb76f14b1fc3062\", element=\"6698ed08-25de-48ae-a7a2-12b4264ffa54\")>, <selenium.webdriver.remote.webelement.WebElement (session=\"f21fb967ade41e591fb76f14b1fc3062\", element=\"a728b493-9c28-4443-8904-f2096e6d04e9\")>, <selenium.webdriver.remote.webelement.WebElement (session=\"f21fb967ade41e591fb76f14b1fc3062\", element=\"03c42e03-bf58-48f8-ae5d-ba300160f71e\")>, <selenium.webdriver.remote.webelement.WebElement (session=\"f21fb967ade41e591fb76f14b1fc3062\", element=\"e041f214-7f3f-43b2-8385-9d7f52f755b0\")>]\n",
      "END OF PAGES REACHED. NO MORE TO PARSE.\n"
     ]
    },
    {
     "name": "stderr",
     "output_type": "stream",
     "text": [
      "\r",
      " 61%|██████    | 153/250 [1:03:10<32:15, 19.95s/it]"
     ]
    },
    {
     "name": "stdout",
     "output_type": "stream",
     "text": [
      "End of reviews\n",
      "FINISHED one restaurant, Took:  18.151862144470215\n",
      "[<selenium.webdriver.remote.webelement.WebElement (session=\"c7ef132c5ae38dacd7007f96d48351c8\", element=\"ddfc1ac1-9c44-4287-984f-98649304ba51\")>, <selenium.webdriver.remote.webelement.WebElement (session=\"c7ef132c5ae38dacd7007f96d48351c8\", element=\"57bcb78d-93b0-434e-b819-9632712a3324\")>, <selenium.webdriver.remote.webelement.WebElement (session=\"c7ef132c5ae38dacd7007f96d48351c8\", element=\"95969a8c-b595-4e11-ac08-0d893ba58629\")>, <selenium.webdriver.remote.webelement.WebElement (session=\"c7ef132c5ae38dacd7007f96d48351c8\", element=\"6fae766d-6b2d-4702-af9b-9230df3daa17\")>, <selenium.webdriver.remote.webelement.WebElement (session=\"c7ef132c5ae38dacd7007f96d48351c8\", element=\"dcc2927b-1a42-4e95-8fe2-c05dd6abc86b\")>]\n",
      "END OF PAGES REACHED. NO MORE TO PARSE.\n"
     ]
    },
    {
     "name": "stderr",
     "output_type": "stream",
     "text": [
      "\r",
      " 62%|██████▏   | 154/250 [1:03:38<35:58, 22.49s/it]"
     ]
    },
    {
     "name": "stdout",
     "output_type": "stream",
     "text": [
      "End of reviews\n",
      "FINISHED one restaurant, Took:  28.284926891326904\n",
      "[<selenium.webdriver.remote.webelement.WebElement (session=\"cbda0edf301adcd3c1767fb4ebd47d57\", element=\"83654a20-41c1-4322-85bb-3ac0c085b78e\")>, <selenium.webdriver.remote.webelement.WebElement (session=\"cbda0edf301adcd3c1767fb4ebd47d57\", element=\"f769763d-d2f1-42bf-896b-c63ec3d3d4bf\")>, <selenium.webdriver.remote.webelement.WebElement (session=\"cbda0edf301adcd3c1767fb4ebd47d57\", element=\"59ceedc0-2c0f-4e4c-8c4f-7c817009e95b\")>, <selenium.webdriver.remote.webelement.WebElement (session=\"cbda0edf301adcd3c1767fb4ebd47d57\", element=\"d1521727-2eec-416f-8dee-257d8c6d4f7b\")>, <selenium.webdriver.remote.webelement.WebElement (session=\"cbda0edf301adcd3c1767fb4ebd47d57\", element=\"30a32dd4-89c1-45b3-a4d2-507ecab6bc2b\")>]\n",
      "END OF PAGES REACHED. NO MORE TO PARSE.\n"
     ]
    },
    {
     "name": "stderr",
     "output_type": "stream",
     "text": [
      "\r",
      " 62%|██████▏   | 155/250 [1:03:50<30:27, 19.23s/it]"
     ]
    },
    {
     "name": "stdout",
     "output_type": "stream",
     "text": [
      "End of reviews\n",
      "FINISHED one restaurant, Took:  11.53438115119934\n",
      "[<selenium.webdriver.remote.webelement.WebElement (session=\"773e42d254d276150fa35faa71ec5f1c\", element=\"cb0e3583-5f69-4456-97e3-30588fd220b8\")>, <selenium.webdriver.remote.webelement.WebElement (session=\"773e42d254d276150fa35faa71ec5f1c\", element=\"2b1e6548-994b-47c0-a3a2-0f5786502c10\")>, <selenium.webdriver.remote.webelement.WebElement (session=\"773e42d254d276150fa35faa71ec5f1c\", element=\"a29a4826-55c4-409f-a792-196bd8158c61\")>, <selenium.webdriver.remote.webelement.WebElement (session=\"773e42d254d276150fa35faa71ec5f1c\", element=\"e3986b72-7586-412e-8131-be238669abee\")>, <selenium.webdriver.remote.webelement.WebElement (session=\"773e42d254d276150fa35faa71ec5f1c\", element=\"03c60c17-c8c9-4b3e-a5fb-19193c559a4b\")>]\n",
      "END OF PAGES REACHED. NO MORE TO PARSE.\n"
     ]
    },
    {
     "name": "stderr",
     "output_type": "stream",
     "text": [
      "\r",
      " 62%|██████▏   | 156/250 [1:04:09<30:04, 19.20s/it]"
     ]
    },
    {
     "name": "stdout",
     "output_type": "stream",
     "text": [
      "End of reviews\n",
      "FINISHED one restaurant, Took:  18.994500160217285\n",
      "[<selenium.webdriver.remote.webelement.WebElement (session=\"cc74d3668f716d9e031c984ebe650e34\", element=\"edea7a28-7f27-478b-9859-20247f2afef0\")>, <selenium.webdriver.remote.webelement.WebElement (session=\"cc74d3668f716d9e031c984ebe650e34\", element=\"676f0a0c-6dce-472d-a42f-41b34e1261b9\")>, <selenium.webdriver.remote.webelement.WebElement (session=\"cc74d3668f716d9e031c984ebe650e34\", element=\"8312763f-60ca-494b-b9dc-2a0d0ef85ca3\")>, <selenium.webdriver.remote.webelement.WebElement (session=\"cc74d3668f716d9e031c984ebe650e34\", element=\"720e1be2-fcbe-4289-b5f8-388abca69927\")>, <selenium.webdriver.remote.webelement.WebElement (session=\"cc74d3668f716d9e031c984ebe650e34\", element=\"aad94e13-81aa-48f7-b0fd-0d57102e86fc\")>]\n",
      "END OF PAGES REACHED. NO MORE TO PARSE.\n"
     ]
    },
    {
     "name": "stderr",
     "output_type": "stream",
     "text": [
      "\r",
      " 63%|██████▎   | 157/250 [1:04:24<27:52, 17.99s/it]"
     ]
    },
    {
     "name": "stdout",
     "output_type": "stream",
     "text": [
      "End of reviews\n",
      "FINISHED one restaurant, Took:  15.044581890106201\n",
      "[<selenium.webdriver.remote.webelement.WebElement (session=\"db2eef5eeb25d75aaf7d7bc79b909273\", element=\"35e4bbfc-87d7-45fa-8dc1-cb5ef6977dec\")>, <selenium.webdriver.remote.webelement.WebElement (session=\"db2eef5eeb25d75aaf7d7bc79b909273\", element=\"c99fc3fa-b3e0-46ec-8882-aa5e787109a4\")>, <selenium.webdriver.remote.webelement.WebElement (session=\"db2eef5eeb25d75aaf7d7bc79b909273\", element=\"d84b9d2b-a717-4795-ad2a-7d6416dbbe95\")>, <selenium.webdriver.remote.webelement.WebElement (session=\"db2eef5eeb25d75aaf7d7bc79b909273\", element=\"8c8ed9b4-def8-4843-8774-51e4d1da49c9\")>, <selenium.webdriver.remote.webelement.WebElement (session=\"db2eef5eeb25d75aaf7d7bc79b909273\", element=\"38085a6d-f149-430e-aaf2-b0b0d0ab5dcb\")>]\n"
     ]
    },
    {
     "name": "stderr",
     "output_type": "stream",
     "text": [
      "\r",
      " 63%|██████▎   | 158/250 [1:04:49<30:51, 20.13s/it]"
     ]
    },
    {
     "name": "stdout",
     "output_type": "stream",
     "text": [
      "FINISHED one restaurant, Took:  24.96719217300415\n",
      "[<selenium.webdriver.remote.webelement.WebElement (session=\"b6a8397cf9602305017ef3fe672acd0a\", element=\"7b738e67-70e1-4e33-8231-c73abac0a863\")>, <selenium.webdriver.remote.webelement.WebElement (session=\"b6a8397cf9602305017ef3fe672acd0a\", element=\"c85131b1-96c0-420f-a1f0-35b54b4158d4\")>, <selenium.webdriver.remote.webelement.WebElement (session=\"b6a8397cf9602305017ef3fe672acd0a\", element=\"8f37f209-e94e-44ee-a765-f5a29011de00\")>, <selenium.webdriver.remote.webelement.WebElement (session=\"b6a8397cf9602305017ef3fe672acd0a\", element=\"cd0c346e-32fe-4a24-a8c3-ad3eb88cf06b\")>, <selenium.webdriver.remote.webelement.WebElement (session=\"b6a8397cf9602305017ef3fe672acd0a\", element=\"98ddb249-68a4-47fb-b0c1-c8dc2cefd9f0\")>]\n",
      "END OF PAGES REACHED. NO MORE TO PARSE.\n"
     ]
    },
    {
     "name": "stderr",
     "output_type": "stream",
     "text": [
      "\r",
      " 64%|██████▎   | 159/250 [1:05:06<28:57, 19.09s/it]"
     ]
    },
    {
     "name": "stdout",
     "output_type": "stream",
     "text": [
      "End of reviews\n",
      "FINISHED one restaurant, Took:  16.566800832748413\n",
      "[<selenium.webdriver.remote.webelement.WebElement (session=\"43e5199525b4abcafe43ce56ad7916a9\", element=\"94cd0736-bd66-4f3d-922a-47824114294a\")>, <selenium.webdriver.remote.webelement.WebElement (session=\"43e5199525b4abcafe43ce56ad7916a9\", element=\"adbd4375-ecf3-4254-adc7-daae50aa99bb\")>, <selenium.webdriver.remote.webelement.WebElement (session=\"43e5199525b4abcafe43ce56ad7916a9\", element=\"d260de3c-2b72-4169-8291-8870fad43174\")>, <selenium.webdriver.remote.webelement.WebElement (session=\"43e5199525b4abcafe43ce56ad7916a9\", element=\"1861f1a5-5265-46c1-b1cc-6cd85f2366cd\")>, <selenium.webdriver.remote.webelement.WebElement (session=\"43e5199525b4abcafe43ce56ad7916a9\", element=\"10390e8b-7345-42bd-9173-a9c152a26b53\")>]\n",
      "END OF PAGES REACHED. NO MORE TO PARSE.\n"
     ]
    },
    {
     "name": "stderr",
     "output_type": "stream",
     "text": [
      "\r",
      " 64%|██████▍   | 160/250 [1:05:23<27:55, 18.62s/it]"
     ]
    },
    {
     "name": "stdout",
     "output_type": "stream",
     "text": [
      "End of reviews\n",
      "FINISHED one restaurant, Took:  17.40080714225769\n",
      "[<selenium.webdriver.remote.webelement.WebElement (session=\"ddb5d8b25f61b3b696be75767e952186\", element=\"eb464686-5d64-4b5f-8a1a-37602963aa3c\")>, <selenium.webdriver.remote.webelement.WebElement (session=\"ddb5d8b25f61b3b696be75767e952186\", element=\"ebef5442-90c4-4e0e-81b7-de9f9be54aec\")>, <selenium.webdriver.remote.webelement.WebElement (session=\"ddb5d8b25f61b3b696be75767e952186\", element=\"dfdbc953-a7f3-4247-acad-41713f890fa8\")>, <selenium.webdriver.remote.webelement.WebElement (session=\"ddb5d8b25f61b3b696be75767e952186\", element=\"d95aa76e-e1f6-4f28-a44a-7c75eec611f1\")>, <selenium.webdriver.remote.webelement.WebElement (session=\"ddb5d8b25f61b3b696be75767e952186\", element=\"0c84754c-a61c-4ca1-8b7e-653b5f3a5bb9\")>]\n",
      "END OF PAGES REACHED. NO MORE TO PARSE.\n"
     ]
    },
    {
     "name": "stderr",
     "output_type": "stream",
     "text": [
      "\r",
      " 64%|██████▍   | 161/250 [1:05:42<27:30, 18.54s/it]"
     ]
    },
    {
     "name": "stdout",
     "output_type": "stream",
     "text": [
      "End of reviews\n",
      "FINISHED one restaurant, Took:  18.251341819763184\n",
      "[<selenium.webdriver.remote.webelement.WebElement (session=\"f5626ebff72ed203125e8f5e2ea45e2e\", element=\"f5fb52ef-8120-4e3d-b839-55b7489f984b\")>, <selenium.webdriver.remote.webelement.WebElement (session=\"f5626ebff72ed203125e8f5e2ea45e2e\", element=\"da1db6c9-d9bb-47e0-8a4a-01e6b5c02ea5\")>, <selenium.webdriver.remote.webelement.WebElement (session=\"f5626ebff72ed203125e8f5e2ea45e2e\", element=\"19c4578f-4497-4238-82af-19362dcf901b\")>, <selenium.webdriver.remote.webelement.WebElement (session=\"f5626ebff72ed203125e8f5e2ea45e2e\", element=\"df13dbec-efca-4004-a3b5-0a5ceadf4146\")>, <selenium.webdriver.remote.webelement.WebElement (session=\"f5626ebff72ed203125e8f5e2ea45e2e\", element=\"777c6c57-5fcd-4eb5-9266-217742f69b77\")>]\n",
      "END OF PAGES REACHED. NO MORE TO PARSE.\n"
     ]
    },
    {
     "name": "stderr",
     "output_type": "stream",
     "text": [
      "\r",
      " 65%|██████▍   | 162/250 [1:06:01<27:24, 18.69s/it]"
     ]
    },
    {
     "name": "stdout",
     "output_type": "stream",
     "text": [
      "End of reviews\n",
      "FINISHED one restaurant, Took:  18.915992736816406\n",
      "[<selenium.webdriver.remote.webelement.WebElement (session=\"2cc2e21a164c03bd3f4717a378d0f0de\", element=\"16177bc3-8d0a-47f9-b19c-4f74c9480902\")>, <selenium.webdriver.remote.webelement.WebElement (session=\"2cc2e21a164c03bd3f4717a378d0f0de\", element=\"1b4f5f9c-209b-41e2-8a9e-172fb71f23e2\")>, <selenium.webdriver.remote.webelement.WebElement (session=\"2cc2e21a164c03bd3f4717a378d0f0de\", element=\"f258c8c4-6f40-4210-b76e-725282d9ea00\")>, <selenium.webdriver.remote.webelement.WebElement (session=\"2cc2e21a164c03bd3f4717a378d0f0de\", element=\"287f61cc-025e-4150-8f29-fa07fcc30db4\")>, <selenium.webdriver.remote.webelement.WebElement (session=\"2cc2e21a164c03bd3f4717a378d0f0de\", element=\"283c17c4-9075-4865-9a8e-6afa651f6265\")>]\n",
      "END OF PAGES REACHED. NO MORE TO PARSE.\n"
     ]
    },
    {
     "name": "stderr",
     "output_type": "stream",
     "text": [
      "\r",
      " 65%|██████▌   | 163/250 [1:06:29<31:22, 21.63s/it]"
     ]
    },
    {
     "name": "stdout",
     "output_type": "stream",
     "text": [
      "End of reviews\n",
      "FINISHED one restaurant, Took:  28.363360166549683\n",
      "[<selenium.webdriver.remote.webelement.WebElement (session=\"a85b8d9560209cc7dc83f354cd580d00\", element=\"464bd824-e6c4-413e-8c95-a900a69e07e3\")>, <selenium.webdriver.remote.webelement.WebElement (session=\"a85b8d9560209cc7dc83f354cd580d00\", element=\"028aa8fc-55ed-489f-b37f-645e7b7902d3\")>, <selenium.webdriver.remote.webelement.WebElement (session=\"a85b8d9560209cc7dc83f354cd580d00\", element=\"82bae2d7-11ca-4eaa-94c2-3ec70795552d\")>, <selenium.webdriver.remote.webelement.WebElement (session=\"a85b8d9560209cc7dc83f354cd580d00\", element=\"744113b0-3833-4806-9671-a3383b13155b\")>, <selenium.webdriver.remote.webelement.WebElement (session=\"a85b8d9560209cc7dc83f354cd580d00\", element=\"3c87af76-2277-4e9d-ad36-6058f19a8cd8\")>]\n",
      "END OF PAGES REACHED. NO MORE TO PARSE.\n"
     ]
    },
    {
     "name": "stderr",
     "output_type": "stream",
     "text": [
      "\r",
      " 66%|██████▌   | 164/250 [1:06:43<27:31, 19.20s/it]"
     ]
    },
    {
     "name": "stdout",
     "output_type": "stream",
     "text": [
      "End of reviews\n",
      "FINISHED one restaurant, Took:  13.42965292930603\n",
      "[<selenium.webdriver.remote.webelement.WebElement (session=\"ea926bbcfd132e9eb3c4e7f1939d86f4\", element=\"337a36ac-ed9d-46cc-be80-96d61ba78c85\")>, <selenium.webdriver.remote.webelement.WebElement (session=\"ea926bbcfd132e9eb3c4e7f1939d86f4\", element=\"1c6355e0-151a-4b01-9ba5-ab289fa92bec\")>, <selenium.webdriver.remote.webelement.WebElement (session=\"ea926bbcfd132e9eb3c4e7f1939d86f4\", element=\"b42e1d86-22a7-494e-b693-46960e4f0d0c\")>, <selenium.webdriver.remote.webelement.WebElement (session=\"ea926bbcfd132e9eb3c4e7f1939d86f4\", element=\"4da1384a-27b3-4d8e-89ea-b213de791eb4\")>, <selenium.webdriver.remote.webelement.WebElement (session=\"ea926bbcfd132e9eb3c4e7f1939d86f4\", element=\"65f15ea8-f968-4475-bfdb-7090c1eeb16e\")>]\n",
      "END OF PAGES REACHED. NO MORE TO PARSE.\n"
     ]
    },
    {
     "name": "stderr",
     "output_type": "stream",
     "text": [
      "\r",
      " 66%|██████▌   | 165/250 [1:06:56<24:50, 17.53s/it]"
     ]
    },
    {
     "name": "stdout",
     "output_type": "stream",
     "text": [
      "End of reviews\n",
      "FINISHED one restaurant, Took:  13.51527214050293\n",
      "[<selenium.webdriver.remote.webelement.WebElement (session=\"83c206a66ada7d65dc64c8dab59b04a4\", element=\"4ecb84d3-d57b-4b08-b762-5e60e72f9e39\")>, <selenium.webdriver.remote.webelement.WebElement (session=\"83c206a66ada7d65dc64c8dab59b04a4\", element=\"26679ac6-a00c-44f1-9cbe-0c136e88d3ee\")>, <selenium.webdriver.remote.webelement.WebElement (session=\"83c206a66ada7d65dc64c8dab59b04a4\", element=\"074a9768-5e1b-4d8b-8021-961a520b0d44\")>, <selenium.webdriver.remote.webelement.WebElement (session=\"83c206a66ada7d65dc64c8dab59b04a4\", element=\"4ba86202-21b4-4b83-b712-5aa7b9508279\")>, <selenium.webdriver.remote.webelement.WebElement (session=\"83c206a66ada7d65dc64c8dab59b04a4\", element=\"2b520546-c79f-4bb3-9963-3c7d051151df\")>]\n"
     ]
    },
    {
     "name": "stderr",
     "output_type": "stream",
     "text": [
      "\r",
      " 66%|██████▋   | 166/250 [1:07:27<30:12, 21.58s/it]"
     ]
    },
    {
     "name": "stdout",
     "output_type": "stream",
     "text": [
      "FINISHED one restaurant, Took:  30.858381032943726\n",
      "[<selenium.webdriver.remote.webelement.WebElement (session=\"7141e7bbb071a87ab52a8cfb3db54da6\", element=\"f55eed10-0a51-4838-a1fc-b3096057912d\")>, <selenium.webdriver.remote.webelement.WebElement (session=\"7141e7bbb071a87ab52a8cfb3db54da6\", element=\"9e4ba846-8adf-4553-8f7e-b20479b86df4\")>, <selenium.webdriver.remote.webelement.WebElement (session=\"7141e7bbb071a87ab52a8cfb3db54da6\", element=\"7973bb33-5362-4dc5-9d1a-fe0309dbb94b\")>, <selenium.webdriver.remote.webelement.WebElement (session=\"7141e7bbb071a87ab52a8cfb3db54da6\", element=\"becb13f7-ba45-4410-8121-99d32d5e58aa\")>, <selenium.webdriver.remote.webelement.WebElement (session=\"7141e7bbb071a87ab52a8cfb3db54da6\", element=\"6c58653a-0743-4633-86ce-fbec1bfbede8\")>]\n",
      "END OF PAGES REACHED. NO MORE TO PARSE.\n"
     ]
    },
    {
     "name": "stderr",
     "output_type": "stream",
     "text": [
      "\r",
      " 67%|██████▋   | 167/250 [1:07:40<26:15, 18.98s/it]"
     ]
    },
    {
     "name": "stdout",
     "output_type": "stream",
     "text": [
      "End of reviews\n",
      "FINISHED one restaurant, Took:  12.818919897079468\n",
      "[<selenium.webdriver.remote.webelement.WebElement (session=\"17aa24d73f339211e03d25154c83a8c2\", element=\"a333622f-addb-4643-be50-a0f9af6c6625\")>, <selenium.webdriver.remote.webelement.WebElement (session=\"17aa24d73f339211e03d25154c83a8c2\", element=\"6588a1e4-7a9b-4909-a5fc-4fca7a012757\")>, <selenium.webdriver.remote.webelement.WebElement (session=\"17aa24d73f339211e03d25154c83a8c2\", element=\"98658ec4-dec3-4b98-8416-049ff3f2db93\")>, <selenium.webdriver.remote.webelement.WebElement (session=\"17aa24d73f339211e03d25154c83a8c2\", element=\"ce05624a-95a2-4643-af9f-8d644606ce20\")>, <selenium.webdriver.remote.webelement.WebElement (session=\"17aa24d73f339211e03d25154c83a8c2\", element=\"d5d7b9a7-51a8-46b3-b414-7879f110698b\")>]\n",
      "END OF PAGES REACHED. NO MORE TO PARSE.\n"
     ]
    },
    {
     "name": "stderr",
     "output_type": "stream",
     "text": [
      "\r",
      " 67%|██████▋   | 168/250 [1:07:50<22:10, 16.23s/it]"
     ]
    },
    {
     "name": "stdout",
     "output_type": "stream",
     "text": [
      "End of reviews\n",
      "FINISHED one restaurant, Took:  9.68821096420288\n",
      "[<selenium.webdriver.remote.webelement.WebElement (session=\"6d58deee4811087c98bdc9e85911b176\", element=\"8b61e232-179f-4531-a53b-38c02d425fa7\")>, <selenium.webdriver.remote.webelement.WebElement (session=\"6d58deee4811087c98bdc9e85911b176\", element=\"dbb8c134-c016-4acd-8c0c-3dcb6f1b3120\")>, <selenium.webdriver.remote.webelement.WebElement (session=\"6d58deee4811087c98bdc9e85911b176\", element=\"c25deae9-7d95-490b-8680-9e1eb0ad7452\")>, <selenium.webdriver.remote.webelement.WebElement (session=\"6d58deee4811087c98bdc9e85911b176\", element=\"e16a26b4-2adb-477c-93b9-247cd9d1a7a1\")>, <selenium.webdriver.remote.webelement.WebElement (session=\"6d58deee4811087c98bdc9e85911b176\", element=\"300addbb-c60a-4eaf-a1c2-cb6846ebfd7b\")>]\n",
      "END OF PAGES REACHED. NO MORE TO PARSE.\n"
     ]
    },
    {
     "name": "stderr",
     "output_type": "stream",
     "text": [
      "\r",
      " 68%|██████▊   | 169/250 [1:08:17<26:12, 19.41s/it]"
     ]
    },
    {
     "name": "stdout",
     "output_type": "stream",
     "text": [
      "End of reviews\n",
      "FINISHED one restaurant, Took:  26.69074511528015\n",
      "[<selenium.webdriver.remote.webelement.WebElement (session=\"0301860093db2095ae8188a4f608dd65\", element=\"2fa4146e-129f-428b-80e3-75fbf8a9eadf\")>, <selenium.webdriver.remote.webelement.WebElement (session=\"0301860093db2095ae8188a4f608dd65\", element=\"2f194906-396e-41b3-9712-bc0373e0d836\")>, <selenium.webdriver.remote.webelement.WebElement (session=\"0301860093db2095ae8188a4f608dd65\", element=\"4f298550-27f6-49f9-a825-b012d5061526\")>, <selenium.webdriver.remote.webelement.WebElement (session=\"0301860093db2095ae8188a4f608dd65\", element=\"5ff81154-0605-4f5b-8516-36f8f1c78a04\")>, <selenium.webdriver.remote.webelement.WebElement (session=\"0301860093db2095ae8188a4f608dd65\", element=\"ae9a288e-06e1-4722-a05f-5d6d1215436a\")>]\n",
      "END OF PAGES REACHED. NO MORE TO PARSE.\n"
     ]
    },
    {
     "name": "stderr",
     "output_type": "stream",
     "text": [
      "\r",
      " 68%|██████▊   | 170/250 [1:08:41<27:47, 20.85s/it]"
     ]
    },
    {
     "name": "stdout",
     "output_type": "stream",
     "text": [
      "End of reviews\n",
      "FINISHED one restaurant, Took:  24.06080675125122\n",
      "[<selenium.webdriver.remote.webelement.WebElement (session=\"b6b6af704d13c27955d71214d1eca467\", element=\"bb0dfdec-9007-4615-bdf3-5b65a5c01c41\")>, <selenium.webdriver.remote.webelement.WebElement (session=\"b6b6af704d13c27955d71214d1eca467\", element=\"6d58ba07-346a-4d8d-b30c-8733926c445a\")>, <selenium.webdriver.remote.webelement.WebElement (session=\"b6b6af704d13c27955d71214d1eca467\", element=\"e1299b73-5e80-4925-ae91-e4356e0cde89\")>, <selenium.webdriver.remote.webelement.WebElement (session=\"b6b6af704d13c27955d71214d1eca467\", element=\"6808361a-4989-45cd-8002-06709c134843\")>, <selenium.webdriver.remote.webelement.WebElement (session=\"b6b6af704d13c27955d71214d1eca467\", element=\"1ce75fc9-a44b-4231-b044-9ac18a6e2d1b\")>]\n",
      "END OF PAGES REACHED. NO MORE TO PARSE.\n"
     ]
    },
    {
     "name": "stderr",
     "output_type": "stream",
     "text": [
      "\r",
      " 68%|██████▊   | 171/250 [1:08:57<25:27, 19.34s/it]"
     ]
    },
    {
     "name": "stdout",
     "output_type": "stream",
     "text": [
      "End of reviews\n",
      "FINISHED one restaurant, Took:  15.691539764404297\n",
      "[<selenium.webdriver.remote.webelement.WebElement (session=\"241bf3ada543adfff26768502f8de46b\", element=\"fea5f6b1-d3ad-4dc8-8289-c2e808ddf8c2\")>, <selenium.webdriver.remote.webelement.WebElement (session=\"241bf3ada543adfff26768502f8de46b\", element=\"61435991-9ef0-4ecd-bf0f-6e4db77c6ed4\")>, <selenium.webdriver.remote.webelement.WebElement (session=\"241bf3ada543adfff26768502f8de46b\", element=\"36e4c630-95ff-44cd-a959-332f4eaf1a8b\")>, <selenium.webdriver.remote.webelement.WebElement (session=\"241bf3ada543adfff26768502f8de46b\", element=\"930246df-44c4-46f0-bc50-abef0a1dd7b9\")>, <selenium.webdriver.remote.webelement.WebElement (session=\"241bf3ada543adfff26768502f8de46b\", element=\"90e04634-4cf5-4365-b592-078af40bc807\")>]\n"
     ]
    },
    {
     "name": "stderr",
     "output_type": "stream",
     "text": [
      "\r",
      " 69%|██████▉   | 172/250 [1:09:19<26:06, 20.08s/it]"
     ]
    },
    {
     "name": "stdout",
     "output_type": "stream",
     "text": [
      "FINISHED one restaurant, Took:  21.684835195541382\n",
      "[<selenium.webdriver.remote.webelement.WebElement (session=\"f3f978138ef4b91499d8a4a0a897d8bc\", element=\"0ea7b633-5c94-45b7-ae5f-8f245c0f8f17\")>, <selenium.webdriver.remote.webelement.WebElement (session=\"f3f978138ef4b91499d8a4a0a897d8bc\", element=\"fc9fda7d-3212-4e9a-9d7f-3784f5298c3c\")>, <selenium.webdriver.remote.webelement.WebElement (session=\"f3f978138ef4b91499d8a4a0a897d8bc\", element=\"b9e45fab-55a1-4a52-a6d5-866c85aa46c6\")>, <selenium.webdriver.remote.webelement.WebElement (session=\"f3f978138ef4b91499d8a4a0a897d8bc\", element=\"670b8083-dfdc-4b3c-870f-4588d0d6b0b8\")>, <selenium.webdriver.remote.webelement.WebElement (session=\"f3f978138ef4b91499d8a4a0a897d8bc\", element=\"9735b4bf-d989-4397-a6ec-d15ebd4f8877\")>]\n",
      "END OF PAGES REACHED. NO MORE TO PARSE.\n"
     ]
    },
    {
     "name": "stderr",
     "output_type": "stream",
     "text": [
      "\r",
      " 69%|██████▉   | 173/250 [1:09:32<23:05, 17.99s/it]"
     ]
    },
    {
     "name": "stdout",
     "output_type": "stream",
     "text": [
      "End of reviews\n",
      "FINISHED one restaurant, Took:  12.999969005584717\n",
      "[<selenium.webdriver.remote.webelement.WebElement (session=\"f631e588ca9a4868b0c137175090aafc\", element=\"e975026f-d033-4bb7-8e99-838eccb2b207\")>, <selenium.webdriver.remote.webelement.WebElement (session=\"f631e588ca9a4868b0c137175090aafc\", element=\"c9be444a-821f-4a35-901d-8cdc0491c4c2\")>, <selenium.webdriver.remote.webelement.WebElement (session=\"f631e588ca9a4868b0c137175090aafc\", element=\"be6ad686-874f-410a-a9b1-741881b99266\")>, <selenium.webdriver.remote.webelement.WebElement (session=\"f631e588ca9a4868b0c137175090aafc\", element=\"35d5083b-5e17-4b1d-9d52-12c4fd685b8f\")>, <selenium.webdriver.remote.webelement.WebElement (session=\"f631e588ca9a4868b0c137175090aafc\", element=\"f80bd7b4-881d-41af-880c-f65da4d7b75f\")>]\n",
      "END OF PAGES REACHED. NO MORE TO PARSE.\n"
     ]
    },
    {
     "name": "stderr",
     "output_type": "stream",
     "text": [
      "\r",
      " 70%|██████▉   | 174/250 [1:09:45<20:51, 16.46s/it]"
     ]
    },
    {
     "name": "stdout",
     "output_type": "stream",
     "text": [
      "End of reviews\n",
      "FINISHED one restaurant, Took:  12.791974067687988\n",
      "[<selenium.webdriver.remote.webelement.WebElement (session=\"31894873b36ba0d3caf771ecfc2b0b10\", element=\"724d433c-51ab-4362-a608-49ca8d3f7aab\")>, <selenium.webdriver.remote.webelement.WebElement (session=\"31894873b36ba0d3caf771ecfc2b0b10\", element=\"37641367-0f88-48be-82c0-74d8051a93a9\")>, <selenium.webdriver.remote.webelement.WebElement (session=\"31894873b36ba0d3caf771ecfc2b0b10\", element=\"6c927312-87bd-4ea1-bd14-61c2d506b906\")>, <selenium.webdriver.remote.webelement.WebElement (session=\"31894873b36ba0d3caf771ecfc2b0b10\", element=\"3c9ffcdd-8a53-47d6-924f-0bffd263862a\")>, <selenium.webdriver.remote.webelement.WebElement (session=\"31894873b36ba0d3caf771ecfc2b0b10\", element=\"fe811e0a-52db-4466-98c3-f9e3a3794c1f\")>]\n",
      "END OF PAGES REACHED. NO MORE TO PARSE.\n"
     ]
    },
    {
     "name": "stderr",
     "output_type": "stream",
     "text": [
      "\r",
      " 70%|███████   | 175/250 [1:09:57<18:54, 15.13s/it]"
     ]
    },
    {
     "name": "stdout",
     "output_type": "stream",
     "text": [
      "End of reviews\n",
      "FINISHED one restaurant, Took:  11.918691158294678\n",
      "[<selenium.webdriver.remote.webelement.WebElement (session=\"59c8ab5afdaf1b48bef24d4be17a7811\", element=\"0971cfab-c436-46db-af46-73eaef3c9570\")>, <selenium.webdriver.remote.webelement.WebElement (session=\"59c8ab5afdaf1b48bef24d4be17a7811\", element=\"6907e0c9-1dbd-4962-aaa8-3269739263fc\")>, <selenium.webdriver.remote.webelement.WebElement (session=\"59c8ab5afdaf1b48bef24d4be17a7811\", element=\"e3940d97-a33b-4bec-992e-01e6ef418922\")>, <selenium.webdriver.remote.webelement.WebElement (session=\"59c8ab5afdaf1b48bef24d4be17a7811\", element=\"58023315-f01a-422f-b24d-c03c279f37f8\")>, <selenium.webdriver.remote.webelement.WebElement (session=\"59c8ab5afdaf1b48bef24d4be17a7811\", element=\"c18c8ad5-a03c-4967-8467-754dc1c09017\")>]\n",
      "END OF PAGES REACHED. NO MORE TO PARSE.\n"
     ]
    },
    {
     "name": "stderr",
     "output_type": "stream",
     "text": [
      "\r",
      " 70%|███████   | 176/250 [1:10:10<18:05, 14.67s/it]"
     ]
    },
    {
     "name": "stdout",
     "output_type": "stream",
     "text": [
      "End of reviews\n",
      "FINISHED one restaurant, Took:  13.506295919418335\n",
      "[<selenium.webdriver.remote.webelement.WebElement (session=\"30b92fa652b5a9540f687234189db3a2\", element=\"2eceb0af-df1b-496e-8844-e86f345dd60a\")>, <selenium.webdriver.remote.webelement.WebElement (session=\"30b92fa652b5a9540f687234189db3a2\", element=\"250316a0-0ef6-4b26-a29b-826c2e27a73d\")>, <selenium.webdriver.remote.webelement.WebElement (session=\"30b92fa652b5a9540f687234189db3a2\", element=\"4e7287f0-1885-45b3-97e7-1cf009b06cee\")>, <selenium.webdriver.remote.webelement.WebElement (session=\"30b92fa652b5a9540f687234189db3a2\", element=\"148d8329-2cef-4bae-af30-e0277dcda665\")>, <selenium.webdriver.remote.webelement.WebElement (session=\"30b92fa652b5a9540f687234189db3a2\", element=\"f236530d-6fc3-4e89-8e61-7a8de1358377\")>]\n",
      "END OF PAGES REACHED. NO MORE TO PARSE.\n"
     ]
    },
    {
     "name": "stderr",
     "output_type": "stream",
     "text": [
      "\r",
      " 71%|███████   | 177/250 [1:10:25<17:37, 14.48s/it]"
     ]
    },
    {
     "name": "stdout",
     "output_type": "stream",
     "text": [
      "End of reviews\n",
      "FINISHED one restaurant, Took:  13.918376922607422\n",
      "[<selenium.webdriver.remote.webelement.WebElement (session=\"769d7ae15216a7a21a3c9a253ea8eb8b\", element=\"a476ad64-31ee-4a65-a4e6-8bfddd983701\")>, <selenium.webdriver.remote.webelement.WebElement (session=\"769d7ae15216a7a21a3c9a253ea8eb8b\", element=\"31530368-9028-4337-99a9-b6e3190138bb\")>, <selenium.webdriver.remote.webelement.WebElement (session=\"769d7ae15216a7a21a3c9a253ea8eb8b\", element=\"0cbe81a5-abeb-402d-a5a9-41623224d347\")>, <selenium.webdriver.remote.webelement.WebElement (session=\"769d7ae15216a7a21a3c9a253ea8eb8b\", element=\"eeb15900-f797-4581-a961-da2c3c32b94d\")>, <selenium.webdriver.remote.webelement.WebElement (session=\"769d7ae15216a7a21a3c9a253ea8eb8b\", element=\"1649236c-b11b-4249-93e7-8d1af1337fd4\")>]\n",
      "END OF PAGES REACHED. NO MORE TO PARSE.\n"
     ]
    },
    {
     "name": "stderr",
     "output_type": "stream",
     "text": [
      "\r",
      " 71%|███████   | 178/250 [1:10:44<19:02, 15.87s/it]"
     ]
    },
    {
     "name": "stdout",
     "output_type": "stream",
     "text": [
      "End of reviews\n",
      "FINISHED one restaurant, Took:  18.99824094772339\n",
      "[<selenium.webdriver.remote.webelement.WebElement (session=\"9d7ff22ff4035c60f16d7edfd4f5699a\", element=\"bc2e1c11-8d9d-4382-81fb-bdb29dc58110\")>, <selenium.webdriver.remote.webelement.WebElement (session=\"9d7ff22ff4035c60f16d7edfd4f5699a\", element=\"2189a089-037e-4d65-8508-3ecab67e77b4\")>, <selenium.webdriver.remote.webelement.WebElement (session=\"9d7ff22ff4035c60f16d7edfd4f5699a\", element=\"d0d22b64-bd03-40ea-9015-d5901fd2f7ae\")>, <selenium.webdriver.remote.webelement.WebElement (session=\"9d7ff22ff4035c60f16d7edfd4f5699a\", element=\"7c397975-d355-47f2-b7f4-3762d4bc3b66\")>, <selenium.webdriver.remote.webelement.WebElement (session=\"9d7ff22ff4035c60f16d7edfd4f5699a\", element=\"64dd0c31-e850-4bb5-bf2b-f0a3f7cd562e\")>]\n",
      "END OF PAGES REACHED. NO MORE TO PARSE.\n"
     ]
    },
    {
     "name": "stderr",
     "output_type": "stream",
     "text": [
      "\r",
      " 72%|███████▏  | 179/250 [1:10:55<17:17, 14.61s/it]"
     ]
    },
    {
     "name": "stdout",
     "output_type": "stream",
     "text": [
      "End of reviews\n",
      "FINISHED one restaurant, Took:  11.552152156829834\n",
      "[<selenium.webdriver.remote.webelement.WebElement (session=\"df61f7d5aa973d5c433033c1809cde23\", element=\"a168f401-e5fc-4954-bd77-c86cfef155c4\")>, <selenium.webdriver.remote.webelement.WebElement (session=\"df61f7d5aa973d5c433033c1809cde23\", element=\"6588812d-1de3-4fa8-8ed5-84e6a6991cb6\")>, <selenium.webdriver.remote.webelement.WebElement (session=\"df61f7d5aa973d5c433033c1809cde23\", element=\"c3a5c812-5e93-48c5-b093-2c6ed3bc7c4e\")>, <selenium.webdriver.remote.webelement.WebElement (session=\"df61f7d5aa973d5c433033c1809cde23\", element=\"10fd5d8a-4fee-4157-b318-93e6c6d665d2\")>, <selenium.webdriver.remote.webelement.WebElement (session=\"df61f7d5aa973d5c433033c1809cde23\", element=\"6f95de02-bdf8-41fc-b1eb-4f700d736e0e\")>]\n",
      "END OF PAGES REACHED. NO MORE TO PARSE.\n"
     ]
    },
    {
     "name": "stderr",
     "output_type": "stream",
     "text": [
      "\r",
      " 72%|███████▏  | 180/250 [1:11:07<15:54, 13.63s/it]"
     ]
    },
    {
     "name": "stdout",
     "output_type": "stream",
     "text": [
      "End of reviews\n",
      "FINISHED one restaurant, Took:  11.254950046539307\n",
      "[<selenium.webdriver.remote.webelement.WebElement (session=\"47414dcea02d9262b3cf17a23ca2fc20\", element=\"1c727149-61c4-487b-9f1c-d8ea7063e6b4\")>, <selenium.webdriver.remote.webelement.WebElement (session=\"47414dcea02d9262b3cf17a23ca2fc20\", element=\"44f79e66-b73b-49bc-8958-b0b0d8ec70a5\")>, <selenium.webdriver.remote.webelement.WebElement (session=\"47414dcea02d9262b3cf17a23ca2fc20\", element=\"b05c083d-449a-4e74-ba1f-bae511126cb9\")>, <selenium.webdriver.remote.webelement.WebElement (session=\"47414dcea02d9262b3cf17a23ca2fc20\", element=\"3d556919-ad6e-4a6f-9a63-bed30d3b16d2\")>, <selenium.webdriver.remote.webelement.WebElement (session=\"47414dcea02d9262b3cf17a23ca2fc20\", element=\"52b9d9ef-9cc2-453b-8b7a-12ac3a6eccf2\")>]\n",
      "END OF PAGES REACHED. NO MORE TO PARSE.\n"
     ]
    },
    {
     "name": "stderr",
     "output_type": "stream",
     "text": [
      "\r",
      " 72%|███████▏  | 181/250 [1:11:21<16:00, 13.93s/it]"
     ]
    },
    {
     "name": "stdout",
     "output_type": "stream",
     "text": [
      "End of reviews\n",
      "FINISHED one restaurant, Took:  14.50595498085022\n",
      "[<selenium.webdriver.remote.webelement.WebElement (session=\"5c4a4b4d13cac9f25c0476686d1cac6f\", element=\"4fa5a79d-0bf6-4429-af31-1fb72388323f\")>, <selenium.webdriver.remote.webelement.WebElement (session=\"5c4a4b4d13cac9f25c0476686d1cac6f\", element=\"32feef40-59ea-4a5c-934b-b9702668de23\")>, <selenium.webdriver.remote.webelement.WebElement (session=\"5c4a4b4d13cac9f25c0476686d1cac6f\", element=\"60587d67-88fe-4085-b853-14e03e8d4713\")>, <selenium.webdriver.remote.webelement.WebElement (session=\"5c4a4b4d13cac9f25c0476686d1cac6f\", element=\"5d1787e2-44c4-4c29-b36a-350da2ed5344\")>, <selenium.webdriver.remote.webelement.WebElement (session=\"5c4a4b4d13cac9f25c0476686d1cac6f\", element=\"c4730149-b0b8-497d-8517-a655b984f80a\")>]\n",
      "END OF PAGES REACHED. NO MORE TO PARSE.\n"
     ]
    },
    {
     "name": "stderr",
     "output_type": "stream",
     "text": [
      "\r",
      " 73%|███████▎  | 182/250 [1:11:34<15:14, 13.45s/it]"
     ]
    },
    {
     "name": "stdout",
     "output_type": "stream",
     "text": [
      "End of reviews\n",
      "FINISHED one restaurant, Took:  12.237861156463623\n",
      "[<selenium.webdriver.remote.webelement.WebElement (session=\"a0b1e6ad2236af07c5865420d60ace19\", element=\"6ed2247b-03e9-4779-b137-f67719c08fa2\")>, <selenium.webdriver.remote.webelement.WebElement (session=\"a0b1e6ad2236af07c5865420d60ace19\", element=\"86b6dbee-09d6-4fc2-870f-42213e62704e\")>, <selenium.webdriver.remote.webelement.WebElement (session=\"a0b1e6ad2236af07c5865420d60ace19\", element=\"de75b1da-ec2e-401b-a106-beefb00a4407\")>, <selenium.webdriver.remote.webelement.WebElement (session=\"a0b1e6ad2236af07c5865420d60ace19\", element=\"22e1c094-749a-4204-baa8-6b6b19c0c982\")>, <selenium.webdriver.remote.webelement.WebElement (session=\"a0b1e6ad2236af07c5865420d60ace19\", element=\"48cfc0c0-5e18-426e-b846-5b3dad0d81b7\")>]\n",
      "END OF PAGES REACHED. NO MORE TO PARSE.\n"
     ]
    },
    {
     "name": "stderr",
     "output_type": "stream",
     "text": [
      "\r",
      " 73%|███████▎  | 183/250 [1:11:49<15:34, 13.95s/it]"
     ]
    },
    {
     "name": "stdout",
     "output_type": "stream",
     "text": [
      "End of reviews\n",
      "FINISHED one restaurant, Took:  15.016086101531982\n",
      "[<selenium.webdriver.remote.webelement.WebElement (session=\"a07d270b5a94e22c06cf244e2ea54d0b\", element=\"9eaef0e0-bd27-4d16-8e56-51da724f7c9e\")>, <selenium.webdriver.remote.webelement.WebElement (session=\"a07d270b5a94e22c06cf244e2ea54d0b\", element=\"1d60df0a-d3de-4a78-aa1e-509909839af6\")>, <selenium.webdriver.remote.webelement.WebElement (session=\"a07d270b5a94e22c06cf244e2ea54d0b\", element=\"9bdab992-8bf1-48f5-b648-1b56a6e70e70\")>, <selenium.webdriver.remote.webelement.WebElement (session=\"a07d270b5a94e22c06cf244e2ea54d0b\", element=\"ec6d509c-78b3-44c3-abea-01f7d1944d1b\")>, <selenium.webdriver.remote.webelement.WebElement (session=\"a07d270b5a94e22c06cf244e2ea54d0b\", element=\"8735c775-97a3-401d-9c75-f80c05a2be94\")>]\n",
      "END OF PAGES REACHED. NO MORE TO PARSE.\n"
     ]
    },
    {
     "name": "stderr",
     "output_type": "stream",
     "text": [
      "\r",
      " 74%|███████▎  | 184/250 [1:12:04<15:53, 14.44s/it]"
     ]
    },
    {
     "name": "stdout",
     "output_type": "stream",
     "text": [
      "End of reviews\n",
      "FINISHED one restaurant, Took:  15.483920812606812\n",
      "[<selenium.webdriver.remote.webelement.WebElement (session=\"0c73852cc9b9bb242eb25b7a889377cb\", element=\"64d44a7c-9a10-4342-bfe0-5607f6142208\")>, <selenium.webdriver.remote.webelement.WebElement (session=\"0c73852cc9b9bb242eb25b7a889377cb\", element=\"4c3ca4d7-04fb-4a46-9cbe-cce559be57f7\")>, <selenium.webdriver.remote.webelement.WebElement (session=\"0c73852cc9b9bb242eb25b7a889377cb\", element=\"7792f025-f872-4fdf-8839-60ad6acda743\")>, <selenium.webdriver.remote.webelement.WebElement (session=\"0c73852cc9b9bb242eb25b7a889377cb\", element=\"d8baf20a-95e3-4663-8d82-25e29a33464d\")>, <selenium.webdriver.remote.webelement.WebElement (session=\"0c73852cc9b9bb242eb25b7a889377cb\", element=\"05a2b7f5-8ec4-4688-a924-6268b7bc2a9b\")>]\n",
      "END OF PAGES REACHED. NO MORE TO PARSE.\n"
     ]
    },
    {
     "name": "stderr",
     "output_type": "stream",
     "text": [
      "\r",
      " 74%|███████▍  | 185/250 [1:12:24<17:19, 16.00s/it]"
     ]
    },
    {
     "name": "stdout",
     "output_type": "stream",
     "text": [
      "End of reviews\n",
      "FINISHED one restaurant, Took:  19.49756908416748\n",
      "[<selenium.webdriver.remote.webelement.WebElement (session=\"9bcae6a2fd40e2c687c004fceb1556e3\", element=\"2b42f6d3-79f7-4384-be89-cb0e5a241616\")>, <selenium.webdriver.remote.webelement.WebElement (session=\"9bcae6a2fd40e2c687c004fceb1556e3\", element=\"fb0ecf88-3383-4a3f-a456-beb1fd1530f1\")>, <selenium.webdriver.remote.webelement.WebElement (session=\"9bcae6a2fd40e2c687c004fceb1556e3\", element=\"90ba15c5-e559-40f9-9924-f6c0e873baaa\")>, <selenium.webdriver.remote.webelement.WebElement (session=\"9bcae6a2fd40e2c687c004fceb1556e3\", element=\"7b8dae16-031d-4555-89f1-a9460b1a4bce\")>, <selenium.webdriver.remote.webelement.WebElement (session=\"9bcae6a2fd40e2c687c004fceb1556e3\", element=\"fe744075-225d-4b5a-93c4-8174261a8a9a\")>]\n"
     ]
    },
    {
     "name": "stderr",
     "output_type": "stream",
     "text": [
      "\r",
      " 74%|███████▍  | 186/250 [1:12:50<20:25, 19.15s/it]"
     ]
    },
    {
     "name": "stdout",
     "output_type": "stream",
     "text": [
      "FINISHED one restaurant, Took:  26.325979232788086\n",
      "[<selenium.webdriver.remote.webelement.WebElement (session=\"6865b9f78f7b843e6e54f3c9e50a1001\", element=\"2c7a75b9-15d8-4db8-b23f-6abcf346798d\")>, <selenium.webdriver.remote.webelement.WebElement (session=\"6865b9f78f7b843e6e54f3c9e50a1001\", element=\"0a88410f-b259-4d31-8916-4b4d53519d33\")>, <selenium.webdriver.remote.webelement.WebElement (session=\"6865b9f78f7b843e6e54f3c9e50a1001\", element=\"d790a32d-3f8d-4067-bd23-c30f44b5a869\")>, <selenium.webdriver.remote.webelement.WebElement (session=\"6865b9f78f7b843e6e54f3c9e50a1001\", element=\"ac38a746-45cc-44de-a70f-c1efb92beccd\")>, <selenium.webdriver.remote.webelement.WebElement (session=\"6865b9f78f7b843e6e54f3c9e50a1001\", element=\"0d7af869-00b7-4a8c-b554-ac994aafd869\")>]\n"
     ]
    },
    {
     "name": "stderr",
     "output_type": "stream",
     "text": [
      "\r",
      " 75%|███████▍  | 187/250 [1:13:15<21:54, 20.87s/it]"
     ]
    },
    {
     "name": "stdout",
     "output_type": "stream",
     "text": [
      "FINISHED one restaurant, Took:  24.734678983688354\n",
      "[<selenium.webdriver.remote.webelement.WebElement (session=\"41630e0742cb83bb6ff7301f7c206333\", element=\"9ecc64f1-a51e-45bb-bf47-1f5ace572f3e\")>, <selenium.webdriver.remote.webelement.WebElement (session=\"41630e0742cb83bb6ff7301f7c206333\", element=\"1505170b-266e-4256-9118-531f9b7b59e2\")>, <selenium.webdriver.remote.webelement.WebElement (session=\"41630e0742cb83bb6ff7301f7c206333\", element=\"173c9572-30c1-4e1d-ae36-1c7d8f5df66d\")>, <selenium.webdriver.remote.webelement.WebElement (session=\"41630e0742cb83bb6ff7301f7c206333\", element=\"78382144-cfb3-4f6b-863e-36523d746578\")>, <selenium.webdriver.remote.webelement.WebElement (session=\"41630e0742cb83bb6ff7301f7c206333\", element=\"c370483c-87c2-42b3-a86c-b0f5135f70ac\")>]\n"
     ]
    },
    {
     "name": "stderr",
     "output_type": "stream",
     "text": [
      "\r",
      " 75%|███████▌  | 188/250 [1:13:43<23:36, 22.85s/it]"
     ]
    },
    {
     "name": "stdout",
     "output_type": "stream",
     "text": [
      "FINISHED one restaurant, Took:  27.294039249420166\n",
      "[<selenium.webdriver.remote.webelement.WebElement (session=\"06e0807a0106838744b0719ea9843d44\", element=\"925ed246-bae0-4e0e-a07b-2505a6791501\")>, <selenium.webdriver.remote.webelement.WebElement (session=\"06e0807a0106838744b0719ea9843d44\", element=\"4c260f0c-d864-4f56-b8ed-d586050cc4d7\")>, <selenium.webdriver.remote.webelement.WebElement (session=\"06e0807a0106838744b0719ea9843d44\", element=\"560d902a-3681-4783-9a6e-cb25ac208da4\")>, <selenium.webdriver.remote.webelement.WebElement (session=\"06e0807a0106838744b0719ea9843d44\", element=\"79b1ba6b-1875-46b1-b194-e036d6440cea\")>, <selenium.webdriver.remote.webelement.WebElement (session=\"06e0807a0106838744b0719ea9843d44\", element=\"65636d5d-e1e8-4539-8f69-96a4f2bf0c96\")>]\n",
      "END OF PAGES REACHED. NO MORE TO PARSE.\n"
     ]
    },
    {
     "name": "stderr",
     "output_type": "stream",
     "text": [
      "\r",
      " 76%|███████▌  | 189/250 [1:13:56<20:08, 19.82s/it]"
     ]
    },
    {
     "name": "stdout",
     "output_type": "stream",
     "text": [
      "End of reviews\n",
      "FINISHED one restaurant, Took:  12.635189056396484\n",
      "[<selenium.webdriver.remote.webelement.WebElement (session=\"9e4e6a3bd29c47ea199e48d72f1c86ca\", element=\"3666cae1-3333-481f-9bb4-a0eb5f804f8e\")>, <selenium.webdriver.remote.webelement.WebElement (session=\"9e4e6a3bd29c47ea199e48d72f1c86ca\", element=\"e97d9613-1897-4929-a44b-c94d99455981\")>, <selenium.webdriver.remote.webelement.WebElement (session=\"9e4e6a3bd29c47ea199e48d72f1c86ca\", element=\"a42d430b-826e-4d4c-ba37-33db75c634af\")>, <selenium.webdriver.remote.webelement.WebElement (session=\"9e4e6a3bd29c47ea199e48d72f1c86ca\", element=\"a78a9e1c-7d03-43e0-b4f6-468aad10fe48\")>, <selenium.webdriver.remote.webelement.WebElement (session=\"9e4e6a3bd29c47ea199e48d72f1c86ca\", element=\"8ed661e1-7597-42e5-b038-b04568bab47e\")>]\n",
      "END OF PAGES REACHED. NO MORE TO PARSE.\n"
     ]
    },
    {
     "name": "stderr",
     "output_type": "stream",
     "text": [
      "\r",
      " 76%|███████▌  | 190/250 [1:14:11<18:35, 18.59s/it]"
     ]
    },
    {
     "name": "stdout",
     "output_type": "stream",
     "text": [
      "End of reviews\n",
      "FINISHED one restaurant, Took:  15.620683193206787\n",
      "[<selenium.webdriver.remote.webelement.WebElement (session=\"0c774f7aca7e4308942466cb6a6fd577\", element=\"9882ba1e-95ba-4690-b9fc-e39a7c7a892e\")>, <selenium.webdriver.remote.webelement.WebElement (session=\"0c774f7aca7e4308942466cb6a6fd577\", element=\"4b7e133b-ec90-438f-8b3d-55fc3198e5a0\")>, <selenium.webdriver.remote.webelement.WebElement (session=\"0c774f7aca7e4308942466cb6a6fd577\", element=\"fcba5f18-cad9-4d99-815b-d97b0658bd97\")>, <selenium.webdriver.remote.webelement.WebElement (session=\"0c774f7aca7e4308942466cb6a6fd577\", element=\"d7086aee-193b-4f98-86c2-fdc9a7eca3b6\")>, <selenium.webdriver.remote.webelement.WebElement (session=\"0c774f7aca7e4308942466cb6a6fd577\", element=\"b211163e-e9ef-4170-9962-d7b76ec70ac4\")>]\n",
      "END OF PAGES REACHED. NO MORE TO PARSE.\n"
     ]
    },
    {
     "name": "stderr",
     "output_type": "stream",
     "text": [
      "\r",
      " 76%|███████▋  | 191/250 [1:14:29<17:53, 18.19s/it]"
     ]
    },
    {
     "name": "stdout",
     "output_type": "stream",
     "text": [
      "End of reviews\n",
      "FINISHED one restaurant, Took:  17.145993947982788\n",
      "[<selenium.webdriver.remote.webelement.WebElement (session=\"a29191262380cacdb2343518897ed5d9\", element=\"d442fb7b-03d3-4d8f-9f39-12f251b8f4ba\")>, <selenium.webdriver.remote.webelement.WebElement (session=\"a29191262380cacdb2343518897ed5d9\", element=\"2e424359-1071-421b-abba-0dd12fadb01f\")>, <selenium.webdriver.remote.webelement.WebElement (session=\"a29191262380cacdb2343518897ed5d9\", element=\"074e3a6c-ec75-4093-bd63-6ad1a4bfcb70\")>, <selenium.webdriver.remote.webelement.WebElement (session=\"a29191262380cacdb2343518897ed5d9\", element=\"cd1d9afd-d9d6-469f-9270-63a1f8498920\")>, <selenium.webdriver.remote.webelement.WebElement (session=\"a29191262380cacdb2343518897ed5d9\", element=\"f77b1f96-6013-4567-8d6e-19965d5faea5\")>]\n",
      "END OF PAGES REACHED. NO MORE TO PARSE.\n"
     ]
    },
    {
     "name": "stderr",
     "output_type": "stream",
     "text": [
      "\r",
      " 77%|███████▋  | 192/250 [1:14:54<19:45, 20.45s/it]"
     ]
    },
    {
     "name": "stdout",
     "output_type": "stream",
     "text": [
      "End of reviews\n",
      "FINISHED one restaurant, Took:  25.558478832244873\n",
      "[<selenium.webdriver.remote.webelement.WebElement (session=\"9375ad7bda3df4d5b303ff214be91d61\", element=\"3c30114c-6b4f-4a98-8bc6-c376712ad847\")>, <selenium.webdriver.remote.webelement.WebElement (session=\"9375ad7bda3df4d5b303ff214be91d61\", element=\"c5a0d27b-e08f-4580-9871-e1f69cbc8689\")>, <selenium.webdriver.remote.webelement.WebElement (session=\"9375ad7bda3df4d5b303ff214be91d61\", element=\"10063668-f25e-4a46-aff2-483eff7b815f\")>, <selenium.webdriver.remote.webelement.WebElement (session=\"9375ad7bda3df4d5b303ff214be91d61\", element=\"4bfae4b4-0986-4ed4-8428-4a7534ff373b\")>, <selenium.webdriver.remote.webelement.WebElement (session=\"9375ad7bda3df4d5b303ff214be91d61\", element=\"a3ff6e11-08ee-43b9-a359-79045bcabb63\")>]\n",
      "END OF PAGES REACHED. NO MORE TO PARSE.\n"
     ]
    },
    {
     "name": "stderr",
     "output_type": "stream",
     "text": [
      "\r",
      " 77%|███████▋  | 193/250 [1:15:17<20:05, 21.16s/it]"
     ]
    },
    {
     "name": "stdout",
     "output_type": "stream",
     "text": [
      "End of reviews\n",
      "FINISHED one restaurant, Took:  22.6769700050354\n",
      "[<selenium.webdriver.remote.webelement.WebElement (session=\"75360702f2bc1fecb881647884285910\", element=\"0d2f1012-34f9-4edb-ac8a-94f03cfb467b\")>, <selenium.webdriver.remote.webelement.WebElement (session=\"75360702f2bc1fecb881647884285910\", element=\"9b56f907-2ec5-4cd3-8d87-7d0d42a22841\")>, <selenium.webdriver.remote.webelement.WebElement (session=\"75360702f2bc1fecb881647884285910\", element=\"76fc7460-6b7c-4b3c-a459-8051607e14c7\")>, <selenium.webdriver.remote.webelement.WebElement (session=\"75360702f2bc1fecb881647884285910\", element=\"0de5f30c-2cc6-41a3-8f13-6ec115ecbd48\")>, <selenium.webdriver.remote.webelement.WebElement (session=\"75360702f2bc1fecb881647884285910\", element=\"3ec95236-b4b3-427b-bb0f-750bcc4be652\")>]\n"
     ]
    },
    {
     "name": "stderr",
     "output_type": "stream",
     "text": [
      "\r",
      " 78%|███████▊  | 194/250 [1:15:41<20:27, 21.91s/it]"
     ]
    },
    {
     "name": "stdout",
     "output_type": "stream",
     "text": [
      "FINISHED one restaurant, Took:  23.51898193359375\n",
      "[<selenium.webdriver.remote.webelement.WebElement (session=\"d62fa1b3f2da0cf13c66ed0d0083bed2\", element=\"d918bce4-9c78-49fe-96f4-be5b0ed3e230\")>, <selenium.webdriver.remote.webelement.WebElement (session=\"d62fa1b3f2da0cf13c66ed0d0083bed2\", element=\"155c4aee-3f07-4b60-bce5-e1f3ac3b914f\")>, <selenium.webdriver.remote.webelement.WebElement (session=\"d62fa1b3f2da0cf13c66ed0d0083bed2\", element=\"c3d623de-6a71-473a-b21c-650f3505e559\")>, <selenium.webdriver.remote.webelement.WebElement (session=\"d62fa1b3f2da0cf13c66ed0d0083bed2\", element=\"dc5ab8af-48a4-4884-9f2a-37cbf7c60d63\")>, <selenium.webdriver.remote.webelement.WebElement (session=\"d62fa1b3f2da0cf13c66ed0d0083bed2\", element=\"dcae8a09-ecf7-4b50-a944-d3625ccf6bcc\")>]\n",
      "END OF PAGES REACHED. NO MORE TO PARSE.\n"
     ]
    },
    {
     "name": "stderr",
     "output_type": "stream",
     "text": [
      "\r",
      " 78%|███████▊  | 195/250 [1:16:01<19:33, 21.34s/it]"
     ]
    },
    {
     "name": "stdout",
     "output_type": "stream",
     "text": [
      "End of reviews\n",
      "FINISHED one restaurant, Took:  19.896191120147705\n",
      "[<selenium.webdriver.remote.webelement.WebElement (session=\"70e800212f8243cfd3e8d2fa44c54396\", element=\"a62b2c3e-640e-4f09-9932-2e20f9652707\")>, <selenium.webdriver.remote.webelement.WebElement (session=\"70e800212f8243cfd3e8d2fa44c54396\", element=\"edb3d66b-0558-4f44-80cb-8803d173e3d9\")>, <selenium.webdriver.remote.webelement.WebElement (session=\"70e800212f8243cfd3e8d2fa44c54396\", element=\"0ebecda5-be6f-4311-bf97-30bb2ee81218\")>, <selenium.webdriver.remote.webelement.WebElement (session=\"70e800212f8243cfd3e8d2fa44c54396\", element=\"786bfc49-27dc-46d7-a658-95c9fd4cb04d\")>, <selenium.webdriver.remote.webelement.WebElement (session=\"70e800212f8243cfd3e8d2fa44c54396\", element=\"665ab8ea-f2a3-4169-898e-7f1677440bd7\")>]\n",
      "END OF PAGES REACHED. NO MORE TO PARSE.\n"
     ]
    },
    {
     "name": "stderr",
     "output_type": "stream",
     "text": [
      "\r",
      " 78%|███████▊  | 196/250 [1:16:21<18:53, 20.99s/it]"
     ]
    },
    {
     "name": "stdout",
     "output_type": "stream",
     "text": [
      "End of reviews\n",
      "FINISHED one restaurant, Took:  20.054824113845825\n",
      "[<selenium.webdriver.remote.webelement.WebElement (session=\"32ad0007805baf69af7554bb78078c35\", element=\"ec967991-e220-457f-a0c9-f68abf55066d\")>, <selenium.webdriver.remote.webelement.WebElement (session=\"32ad0007805baf69af7554bb78078c35\", element=\"8dd566d2-9abc-436f-94fd-c2ac4c772ddb\")>, <selenium.webdriver.remote.webelement.WebElement (session=\"32ad0007805baf69af7554bb78078c35\", element=\"c5952afe-5953-4e6c-a58e-58a8964d5c8f\")>, <selenium.webdriver.remote.webelement.WebElement (session=\"32ad0007805baf69af7554bb78078c35\", element=\"04a9181c-4ca2-4a74-98ca-4df6d0313eef\")>, <selenium.webdriver.remote.webelement.WebElement (session=\"32ad0007805baf69af7554bb78078c35\", element=\"f202a975-257c-493f-82d9-1871cc42222c\")>]\n",
      "END OF PAGES REACHED. NO MORE TO PARSE.\n"
     ]
    },
    {
     "name": "stderr",
     "output_type": "stream",
     "text": [
      "\r",
      " 79%|███████▉  | 197/250 [1:16:39<17:48, 20.16s/it]"
     ]
    },
    {
     "name": "stdout",
     "output_type": "stream",
     "text": [
      "End of reviews\n",
      "FINISHED one restaurant, Took:  18.11479091644287\n",
      "[<selenium.webdriver.remote.webelement.WebElement (session=\"c4a97c8be59789fbf18c9b656fbe37b0\", element=\"f7f311de-4297-4508-82ce-546070ea131c\")>, <selenium.webdriver.remote.webelement.WebElement (session=\"c4a97c8be59789fbf18c9b656fbe37b0\", element=\"54e35134-d83f-4816-bc85-0a2ffa31af4c\")>, <selenium.webdriver.remote.webelement.WebElement (session=\"c4a97c8be59789fbf18c9b656fbe37b0\", element=\"24ade157-9b3e-4f04-bab9-3eb82d6da716\")>, <selenium.webdriver.remote.webelement.WebElement (session=\"c4a97c8be59789fbf18c9b656fbe37b0\", element=\"a057ea4a-efb2-40d9-909d-766abc808651\")>, <selenium.webdriver.remote.webelement.WebElement (session=\"c4a97c8be59789fbf18c9b656fbe37b0\", element=\"54c137b7-fa16-4098-bef6-9e604bb69a39\")>]\n"
     ]
    },
    {
     "name": "stderr",
     "output_type": "stream",
     "text": [
      "\r",
      " 79%|███████▉  | 198/250 [1:17:03<18:26, 21.29s/it]"
     ]
    },
    {
     "name": "stdout",
     "output_type": "stream",
     "text": [
      "FINISHED one restaurant, Took:  23.763350009918213\n",
      "[<selenium.webdriver.remote.webelement.WebElement (session=\"8e75e8e17f5c8e5b9ee6383d1b030ae2\", element=\"09d6d652-7e6d-4938-bebc-d93b7f24e44b\")>, <selenium.webdriver.remote.webelement.WebElement (session=\"8e75e8e17f5c8e5b9ee6383d1b030ae2\", element=\"c696aebc-fe6a-4aff-86de-bad5c6067a04\")>, <selenium.webdriver.remote.webelement.WebElement (session=\"8e75e8e17f5c8e5b9ee6383d1b030ae2\", element=\"8dd44c12-eb72-4b83-bf94-53178ec66f3e\")>, <selenium.webdriver.remote.webelement.WebElement (session=\"8e75e8e17f5c8e5b9ee6383d1b030ae2\", element=\"625341fa-819e-4fbf-94a8-bc24eae3fa73\")>, <selenium.webdriver.remote.webelement.WebElement (session=\"8e75e8e17f5c8e5b9ee6383d1b030ae2\", element=\"923fc163-eee5-4d3d-92db-69748ae0b573\")>]\n",
      "END OF PAGES REACHED. NO MORE TO PARSE.\n"
     ]
    },
    {
     "name": "stderr",
     "output_type": "stream",
     "text": [
      "\r",
      " 80%|███████▉  | 199/250 [1:17:18<16:27, 19.37s/it]"
     ]
    },
    {
     "name": "stdout",
     "output_type": "stream",
     "text": [
      "End of reviews\n",
      "FINISHED one restaurant, Took:  14.791337013244629\n",
      "[<selenium.webdriver.remote.webelement.WebElement (session=\"0133ea86bcea1ecd0a7db6a1e5a6c900\", element=\"38aca52a-5d8e-4827-8c7c-8f032b51b7c4\")>, <selenium.webdriver.remote.webelement.WebElement (session=\"0133ea86bcea1ecd0a7db6a1e5a6c900\", element=\"f0946036-6df1-4a75-a708-2c4e40b2d3c3\")>, <selenium.webdriver.remote.webelement.WebElement (session=\"0133ea86bcea1ecd0a7db6a1e5a6c900\", element=\"1da4fa29-f406-4ef1-946e-1b69296a98b3\")>, <selenium.webdriver.remote.webelement.WebElement (session=\"0133ea86bcea1ecd0a7db6a1e5a6c900\", element=\"5334723d-7d73-4a38-92d4-0c0c3af38b42\")>, <selenium.webdriver.remote.webelement.WebElement (session=\"0133ea86bcea1ecd0a7db6a1e5a6c900\", element=\"1319ea69-9c27-40d6-840b-705273b8be9e\")>]\n",
      "END OF PAGES REACHED. NO MORE TO PARSE.\n"
     ]
    },
    {
     "name": "stderr",
     "output_type": "stream",
     "text": [
      "\r",
      " 80%|████████  | 200/250 [1:17:42<17:16, 20.72s/it]"
     ]
    },
    {
     "name": "stdout",
     "output_type": "stream",
     "text": [
      "End of reviews\n",
      "FINISHED one restaurant, Took:  23.733702898025513\n",
      "[<selenium.webdriver.remote.webelement.WebElement (session=\"4042b468a0226e1fca01668a5b8922b8\", element=\"5e92d5d4-01a2-4bbb-82ec-712a2697bafd\")>, <selenium.webdriver.remote.webelement.WebElement (session=\"4042b468a0226e1fca01668a5b8922b8\", element=\"6409b5cc-634b-45ce-a7a9-09d2823b0d5e\")>, <selenium.webdriver.remote.webelement.WebElement (session=\"4042b468a0226e1fca01668a5b8922b8\", element=\"647beaa5-345b-4ddb-93d1-923ebe6e8319\")>, <selenium.webdriver.remote.webelement.WebElement (session=\"4042b468a0226e1fca01668a5b8922b8\", element=\"e6c5d264-dabb-4605-8f7e-f657ed394a16\")>, <selenium.webdriver.remote.webelement.WebElement (session=\"4042b468a0226e1fca01668a5b8922b8\", element=\"4e0a3d46-2db2-44f3-9aeb-10f1b855cd3b\")>]\n",
      "END OF PAGES REACHED. NO MORE TO PARSE.\n"
     ]
    },
    {
     "name": "stderr",
     "output_type": "stream",
     "text": [
      "\r",
      " 80%|████████  | 201/250 [1:17:54<14:45, 18.07s/it]"
     ]
    },
    {
     "name": "stdout",
     "output_type": "stream",
     "text": [
      "End of reviews\n",
      "FINISHED one restaurant, Took:  11.788228988647461\n",
      "[<selenium.webdriver.remote.webelement.WebElement (session=\"238ec463941a561b748fec7be675d68f\", element=\"9799df7f-387f-4066-aa17-9f33abe2b4ed\")>, <selenium.webdriver.remote.webelement.WebElement (session=\"238ec463941a561b748fec7be675d68f\", element=\"f0614b15-6b33-44a1-b855-aa7152a3c3a1\")>, <selenium.webdriver.remote.webelement.WebElement (session=\"238ec463941a561b748fec7be675d68f\", element=\"c1e57114-aadf-4342-832e-03907b07d7d5\")>, <selenium.webdriver.remote.webelement.WebElement (session=\"238ec463941a561b748fec7be675d68f\", element=\"dbeef3a4-60a7-434d-8c47-4b107c40a3cc\")>, <selenium.webdriver.remote.webelement.WebElement (session=\"238ec463941a561b748fec7be675d68f\", element=\"8ada2972-96c9-4f89-86d5-f2c44c7f8328\")>]\n",
      "END OF PAGES REACHED. NO MORE TO PARSE.\n"
     ]
    },
    {
     "name": "stderr",
     "output_type": "stream",
     "text": [
      "\r",
      " 81%|████████  | 202/250 [1:18:05<12:51, 16.08s/it]"
     ]
    },
    {
     "name": "stdout",
     "output_type": "stream",
     "text": [
      "End of reviews\n",
      "FINISHED one restaurant, Took:  11.31980299949646\n",
      "[<selenium.webdriver.remote.webelement.WebElement (session=\"819e3b0fa2bba78c1afb7b949412f8f1\", element=\"d208b169-9716-4764-8a9f-9d28eb47fbfd\")>, <selenium.webdriver.remote.webelement.WebElement (session=\"819e3b0fa2bba78c1afb7b949412f8f1\", element=\"5fc54921-82de-4574-a811-a2323d82fc62\")>, <selenium.webdriver.remote.webelement.WebElement (session=\"819e3b0fa2bba78c1afb7b949412f8f1\", element=\"4f375d7f-6c0f-4d9b-b047-c633234adba0\")>, <selenium.webdriver.remote.webelement.WebElement (session=\"819e3b0fa2bba78c1afb7b949412f8f1\", element=\"53ba04e6-0455-49dc-ba4c-cc899be1f442\")>, <selenium.webdriver.remote.webelement.WebElement (session=\"819e3b0fa2bba78c1afb7b949412f8f1\", element=\"7d2573b7-61cd-4bf0-addb-03e50f7f3bab\")>]\n",
      "END OF PAGES REACHED. NO MORE TO PARSE.\n"
     ]
    },
    {
     "name": "stderr",
     "output_type": "stream",
     "text": [
      "\r",
      " 81%|████████  | 203/250 [1:18:26<13:42, 17.50s/it]"
     ]
    },
    {
     "name": "stdout",
     "output_type": "stream",
     "text": [
      "End of reviews\n",
      "FINISHED one restaurant, Took:  20.66755986213684\n",
      "[<selenium.webdriver.remote.webelement.WebElement (session=\"d9cb9ffa9460a36f19603bd93557df3b\", element=\"8a906846-044e-43de-8a37-dac682fd19d1\")>, <selenium.webdriver.remote.webelement.WebElement (session=\"d9cb9ffa9460a36f19603bd93557df3b\", element=\"98bdf7b2-b700-438b-8c2a-609201d90841\")>, <selenium.webdriver.remote.webelement.WebElement (session=\"d9cb9ffa9460a36f19603bd93557df3b\", element=\"f1405b7d-0d1e-4767-88a6-ba3eeb336bc8\")>, <selenium.webdriver.remote.webelement.WebElement (session=\"d9cb9ffa9460a36f19603bd93557df3b\", element=\"82ab2b22-3bdc-4d0e-9edc-19937ea5685a\")>, <selenium.webdriver.remote.webelement.WebElement (session=\"d9cb9ffa9460a36f19603bd93557df3b\", element=\"b4d3fe7f-8bd5-4945-8839-7e03da7da383\")>]\n",
      "END OF PAGES REACHED. NO MORE TO PARSE.\n"
     ]
    },
    {
     "name": "stderr",
     "output_type": "stream",
     "text": [
      "\r",
      " 82%|████████▏ | 204/250 [1:18:37<11:59, 15.63s/it]"
     ]
    },
    {
     "name": "stdout",
     "output_type": "stream",
     "text": [
      "End of reviews\n",
      "FINISHED one restaurant, Took:  11.173058032989502\n",
      "[<selenium.webdriver.remote.webelement.WebElement (session=\"b87eb44b7a2e60f2e4e0b3533a4b224b\", element=\"cc2f588c-c5b8-4683-9204-6ae320e90ba9\")>, <selenium.webdriver.remote.webelement.WebElement (session=\"b87eb44b7a2e60f2e4e0b3533a4b224b\", element=\"adaddccc-1fdb-46b4-a235-c4416ce7078a\")>, <selenium.webdriver.remote.webelement.WebElement (session=\"b87eb44b7a2e60f2e4e0b3533a4b224b\", element=\"e5835f46-e682-4302-992e-2a79f0c7ac92\")>, <selenium.webdriver.remote.webelement.WebElement (session=\"b87eb44b7a2e60f2e4e0b3533a4b224b\", element=\"0488a233-2462-4ff6-a78a-f657bcf9c942\")>, <selenium.webdriver.remote.webelement.WebElement (session=\"b87eb44b7a2e60f2e4e0b3533a4b224b\", element=\"3b84b739-5e0c-4f8e-a3b9-6c0df4f81bd7\")>]\n",
      "END OF PAGES REACHED. NO MORE TO PARSE.\n"
     ]
    },
    {
     "name": "stderr",
     "output_type": "stream",
     "text": [
      "\r",
      " 82%|████████▏ | 205/250 [1:18:52<11:27, 15.28s/it]"
     ]
    },
    {
     "name": "stdout",
     "output_type": "stream",
     "text": [
      "End of reviews\n",
      "FINISHED one restaurant, Took:  14.346730947494507\n",
      "[<selenium.webdriver.remote.webelement.WebElement (session=\"4d68e649cf676889c85eb7d7a74389ea\", element=\"c9777ad5-0be7-4c78-8216-bd80b6c08eb3\")>, <selenium.webdriver.remote.webelement.WebElement (session=\"4d68e649cf676889c85eb7d7a74389ea\", element=\"4cde55a6-bc4b-4a1e-a58d-a8b926eb2d7b\")>, <selenium.webdriver.remote.webelement.WebElement (session=\"4d68e649cf676889c85eb7d7a74389ea\", element=\"e31372eb-eaef-4e83-87b6-191049ae371a\")>, <selenium.webdriver.remote.webelement.WebElement (session=\"4d68e649cf676889c85eb7d7a74389ea\", element=\"2da163b9-bf4d-46ad-8609-ba1798c30cd9\")>, <selenium.webdriver.remote.webelement.WebElement (session=\"4d68e649cf676889c85eb7d7a74389ea\", element=\"7d3ccd28-dfdf-4567-b061-dbc9aed84778\")>]\n",
      "END OF PAGES REACHED. NO MORE TO PARSE.\n"
     ]
    },
    {
     "name": "stderr",
     "output_type": "stream",
     "text": [
      "\r",
      " 82%|████████▏ | 206/250 [1:19:04<10:31, 14.36s/it]"
     ]
    },
    {
     "name": "stdout",
     "output_type": "stream",
     "text": [
      "End of reviews\n",
      "FINISHED one restaurant, Took:  12.094200134277344\n",
      "[<selenium.webdriver.remote.webelement.WebElement (session=\"a851989b085f10d7b08306259750ae03\", element=\"633e00c7-64d9-46a8-bc28-2806c4c5bdd4\")>, <selenium.webdriver.remote.webelement.WebElement (session=\"a851989b085f10d7b08306259750ae03\", element=\"7fd0243a-2971-441b-b5ea-d18bd56a3730\")>, <selenium.webdriver.remote.webelement.WebElement (session=\"a851989b085f10d7b08306259750ae03\", element=\"31ed6e5e-ab5d-4dd5-9e88-6883b0f3649f\")>, <selenium.webdriver.remote.webelement.WebElement (session=\"a851989b085f10d7b08306259750ae03\", element=\"5d5a69ae-8be5-4d6f-a17a-792c352d26bc\")>, <selenium.webdriver.remote.webelement.WebElement (session=\"a851989b085f10d7b08306259750ae03\", element=\"2582287b-12d1-4d70-9c73-2aafd307da82\")>]\n",
      "END OF PAGES REACHED. NO MORE TO PARSE.\n"
     ]
    },
    {
     "name": "stderr",
     "output_type": "stream",
     "text": [
      "\r",
      " 83%|████████▎ | 207/250 [1:19:27<12:12, 17.03s/it]"
     ]
    },
    {
     "name": "stdout",
     "output_type": "stream",
     "text": [
      "End of reviews\n",
      "FINISHED one restaurant, Took:  23.1270432472229\n",
      "[<selenium.webdriver.remote.webelement.WebElement (session=\"e9046ab5c7a8b4a7a57bf94713f816e1\", element=\"1b38b349-d0e1-4eb1-9acb-0ca44993a29a\")>, <selenium.webdriver.remote.webelement.WebElement (session=\"e9046ab5c7a8b4a7a57bf94713f816e1\", element=\"2f8b519c-d1a0-4b47-a049-56e885fc7ecd\")>, <selenium.webdriver.remote.webelement.WebElement (session=\"e9046ab5c7a8b4a7a57bf94713f816e1\", element=\"a9ac4b09-f201-4771-9baf-b80a085a0634\")>, <selenium.webdriver.remote.webelement.WebElement (session=\"e9046ab5c7a8b4a7a57bf94713f816e1\", element=\"7ccbb323-ae00-4d8c-8593-653dc64f257b\")>, <selenium.webdriver.remote.webelement.WebElement (session=\"e9046ab5c7a8b4a7a57bf94713f816e1\", element=\"77985d0e-b006-44c1-8506-6525fa5099b8\")>]\n",
      "END OF PAGES REACHED. NO MORE TO PARSE.\n"
     ]
    },
    {
     "name": "stderr",
     "output_type": "stream",
     "text": [
      "\r",
      " 83%|████████▎ | 208/250 [1:19:41<11:14, 16.07s/it]"
     ]
    },
    {
     "name": "stdout",
     "output_type": "stream",
     "text": [
      "End of reviews\n",
      "FINISHED one restaurant, Took:  13.724783897399902\n",
      "[<selenium.webdriver.remote.webelement.WebElement (session=\"b7ccd94b8144024d210df57c76c5ae7c\", element=\"5b75f3a6-d267-4d36-99f5-9b86eb256e01\")>, <selenium.webdriver.remote.webelement.WebElement (session=\"b7ccd94b8144024d210df57c76c5ae7c\", element=\"88d6a67f-2bd5-4170-9759-c2dcd7a0ae8e\")>, <selenium.webdriver.remote.webelement.WebElement (session=\"b7ccd94b8144024d210df57c76c5ae7c\", element=\"c1267488-93a4-4b06-b9d3-da481f7ea7aa\")>, <selenium.webdriver.remote.webelement.WebElement (session=\"b7ccd94b8144024d210df57c76c5ae7c\", element=\"9579c03f-3865-4fb3-9d2c-3f330f7edddb\")>, <selenium.webdriver.remote.webelement.WebElement (session=\"b7ccd94b8144024d210df57c76c5ae7c\", element=\"9edb61ba-dec4-4cd8-bc53-d661ce95286d\")>]\n",
      "END OF PAGES REACHED. NO MORE TO PARSE.\n"
     ]
    },
    {
     "name": "stderr",
     "output_type": "stream",
     "text": [
      "\r",
      " 84%|████████▎ | 209/250 [1:19:53<10:10, 14.89s/it]"
     ]
    },
    {
     "name": "stdout",
     "output_type": "stream",
     "text": [
      "End of reviews\n",
      "FINISHED one restaurant, Took:  12.017518997192383\n",
      "[<selenium.webdriver.remote.webelement.WebElement (session=\"895e18dd84dd413354bdf1e11ff1a4bc\", element=\"d2d0f892-ceb3-4e0a-ab82-763e4961062c\")>, <selenium.webdriver.remote.webelement.WebElement (session=\"895e18dd84dd413354bdf1e11ff1a4bc\", element=\"6e0d61fd-7606-4cd1-8678-c323992d8bab\")>, <selenium.webdriver.remote.webelement.WebElement (session=\"895e18dd84dd413354bdf1e11ff1a4bc\", element=\"a52344a5-9abb-4175-a387-0f5fb4d43ebd\")>, <selenium.webdriver.remote.webelement.WebElement (session=\"895e18dd84dd413354bdf1e11ff1a4bc\", element=\"713afa33-d8c0-4624-b81a-0cc93e9a4652\")>, <selenium.webdriver.remote.webelement.WebElement (session=\"895e18dd84dd413354bdf1e11ff1a4bc\", element=\"3f5e6e66-10b2-4bef-b9df-e3c9c62c7072\")>]\n",
      "END OF PAGES REACHED. NO MORE TO PARSE.\n"
     ]
    },
    {
     "name": "stderr",
     "output_type": "stream",
     "text": [
      "\r",
      " 84%|████████▍ | 210/250 [1:20:11<10:34, 15.85s/it]"
     ]
    },
    {
     "name": "stdout",
     "output_type": "stream",
     "text": [
      "End of reviews\n",
      "FINISHED one restaurant, Took:  17.969154119491577\n",
      "[<selenium.webdriver.remote.webelement.WebElement (session=\"1579725e94cec7089d7fd8c8e783e7e0\", element=\"8186032b-1c95-4700-a767-3884d5975069\")>, <selenium.webdriver.remote.webelement.WebElement (session=\"1579725e94cec7089d7fd8c8e783e7e0\", element=\"8532037c-d006-4e7c-a5e9-05a83b4e04b1\")>, <selenium.webdriver.remote.webelement.WebElement (session=\"1579725e94cec7089d7fd8c8e783e7e0\", element=\"996bec0d-191d-4cbc-bfbb-e38848966090\")>, <selenium.webdriver.remote.webelement.WebElement (session=\"1579725e94cec7089d7fd8c8e783e7e0\", element=\"0125f7d5-1326-4ef6-be4f-268fcc4d373a\")>, <selenium.webdriver.remote.webelement.WebElement (session=\"1579725e94cec7089d7fd8c8e783e7e0\", element=\"99bf5f77-96d0-4fb1-92eb-238cc8f306ab\")>]\n",
      "END OF PAGES REACHED. NO MORE TO PARSE.\n"
     ]
    },
    {
     "name": "stderr",
     "output_type": "stream",
     "text": [
      "\r",
      " 84%|████████▍ | 211/250 [1:20:28<10:23, 16.00s/it]"
     ]
    },
    {
     "name": "stdout",
     "output_type": "stream",
     "text": [
      "End of reviews\n",
      "FINISHED one restaurant, Took:  16.225954055786133\n",
      "[<selenium.webdriver.remote.webelement.WebElement (session=\"2b6f968f8a66259515f54894d15847a6\", element=\"e18c6c18-21ea-44c8-9e15-965518a779da\")>, <selenium.webdriver.remote.webelement.WebElement (session=\"2b6f968f8a66259515f54894d15847a6\", element=\"27954046-091f-4145-9791-bc7d069e4779\")>, <selenium.webdriver.remote.webelement.WebElement (session=\"2b6f968f8a66259515f54894d15847a6\", element=\"8fcb6254-9b8b-4468-88e4-e7357c9e21b4\")>, <selenium.webdriver.remote.webelement.WebElement (session=\"2b6f968f8a66259515f54894d15847a6\", element=\"e3dfeee6-08f6-48f7-b056-38baf32777ac\")>, <selenium.webdriver.remote.webelement.WebElement (session=\"2b6f968f8a66259515f54894d15847a6\", element=\"adf641f9-8970-4eb8-9874-f767b8d29c54\")>]\n",
      "END OF PAGES REACHED. NO MORE TO PARSE.\n"
     ]
    },
    {
     "name": "stderr",
     "output_type": "stream",
     "text": [
      "\r",
      " 85%|████████▍ | 212/250 [1:20:44<10:17, 16.24s/it]"
     ]
    },
    {
     "name": "stdout",
     "output_type": "stream",
     "text": [
      "End of reviews\n",
      "FINISHED one restaurant, Took:  16.69623589515686\n",
      "[<selenium.webdriver.remote.webelement.WebElement (session=\"b28bd59191f999b2dabc3b91402f7330\", element=\"4bc28037-421f-4591-89b3-9c873c01d3a4\")>, <selenium.webdriver.remote.webelement.WebElement (session=\"b28bd59191f999b2dabc3b91402f7330\", element=\"7f128801-ed22-4d4d-a450-efe1025c5e58\")>, <selenium.webdriver.remote.webelement.WebElement (session=\"b28bd59191f999b2dabc3b91402f7330\", element=\"c856c083-7238-4ef1-b509-31394e9acd1c\")>, <selenium.webdriver.remote.webelement.WebElement (session=\"b28bd59191f999b2dabc3b91402f7330\", element=\"ed067ccb-bd08-49c2-8019-f5e449c1c6b4\")>, <selenium.webdriver.remote.webelement.WebElement (session=\"b28bd59191f999b2dabc3b91402f7330\", element=\"2962fe0c-7671-4c23-964c-57807c5c9dd0\")>]\n",
      "END OF PAGES REACHED. NO MORE TO PARSE.\n"
     ]
    },
    {
     "name": "stderr",
     "output_type": "stream",
     "text": [
      "\r",
      " 85%|████████▌ | 213/250 [1:20:56<09:14, 14.99s/it]"
     ]
    },
    {
     "name": "stdout",
     "output_type": "stream",
     "text": [
      "End of reviews\n",
      "FINISHED one restaurant, Took:  11.985436201095581\n",
      "[<selenium.webdriver.remote.webelement.WebElement (session=\"fc961c6a6edc7c61f57dbd597e62bd36\", element=\"8923cdc9-e993-40ea-85e9-4fe503a1eeac\")>, <selenium.webdriver.remote.webelement.WebElement (session=\"fc961c6a6edc7c61f57dbd597e62bd36\", element=\"47edb7fa-2fe0-4cef-9320-f1806d9312da\")>, <selenium.webdriver.remote.webelement.WebElement (session=\"fc961c6a6edc7c61f57dbd597e62bd36\", element=\"5b50de4a-5706-489b-9e59-2ed2d82ac66e\")>, <selenium.webdriver.remote.webelement.WebElement (session=\"fc961c6a6edc7c61f57dbd597e62bd36\", element=\"a4c0863f-9551-403c-bf4e-e041cdee4254\")>, <selenium.webdriver.remote.webelement.WebElement (session=\"fc961c6a6edc7c61f57dbd597e62bd36\", element=\"9a027bb9-7a63-4487-806c-46523b6d8ab0\")>]\n",
      "END OF PAGES REACHED. NO MORE TO PARSE.\n"
     ]
    },
    {
     "name": "stderr",
     "output_type": "stream",
     "text": [
      "\r",
      " 86%|████████▌ | 214/250 [1:21:07<08:12, 13.69s/it]"
     ]
    },
    {
     "name": "stdout",
     "output_type": "stream",
     "text": [
      "End of reviews\n",
      "FINISHED one restaurant, Took:  10.55413293838501\n",
      "[<selenium.webdriver.remote.webelement.WebElement (session=\"23e0f77eac0ac30850b9180110665a19\", element=\"00254f45-5c99-4319-a263-9b7ec253a828\")>, <selenium.webdriver.remote.webelement.WebElement (session=\"23e0f77eac0ac30850b9180110665a19\", element=\"abb77bf4-1bc2-45fc-aad6-b72e15f1ef2f\")>, <selenium.webdriver.remote.webelement.WebElement (session=\"23e0f77eac0ac30850b9180110665a19\", element=\"42774e34-9b82-4bbe-82eb-690b25fdfeb0\")>, <selenium.webdriver.remote.webelement.WebElement (session=\"23e0f77eac0ac30850b9180110665a19\", element=\"df52b032-2a11-4ddd-9c8e-8fa6ea7a30be\")>, <selenium.webdriver.remote.webelement.WebElement (session=\"23e0f77eac0ac30850b9180110665a19\", element=\"c5625dc7-a4c7-4baa-8830-b9bf917f33d4\")>]\n",
      "END OF PAGES REACHED. NO MORE TO PARSE.\n"
     ]
    },
    {
     "name": "stderr",
     "output_type": "stream",
     "text": [
      "\r",
      " 86%|████████▌ | 215/250 [1:21:18<07:26, 12.75s/it]"
     ]
    },
    {
     "name": "stdout",
     "output_type": "stream",
     "text": [
      "End of reviews\n",
      "FINISHED one restaurant, Took:  10.47399091720581\n",
      "[<selenium.webdriver.remote.webelement.WebElement (session=\"bc218e889ba88361525bfec9b96dff13\", element=\"834c7bc9-27d9-4652-9e78-6c9b65445d7e\")>, <selenium.webdriver.remote.webelement.WebElement (session=\"bc218e889ba88361525bfec9b96dff13\", element=\"7372e16a-8cb7-4afe-8572-f9a91903b405\")>, <selenium.webdriver.remote.webelement.WebElement (session=\"bc218e889ba88361525bfec9b96dff13\", element=\"3ae20d4b-2f31-4e24-9aa8-56db40bee565\")>, <selenium.webdriver.remote.webelement.WebElement (session=\"bc218e889ba88361525bfec9b96dff13\", element=\"d843496f-a24a-49f7-b304-5f4278be4154\")>, <selenium.webdriver.remote.webelement.WebElement (session=\"bc218e889ba88361525bfec9b96dff13\", element=\"5d836cec-16bb-4034-af1b-55f162b38cff\")>]\n",
      "END OF PAGES REACHED. NO MORE TO PARSE.\n"
     ]
    },
    {
     "name": "stderr",
     "output_type": "stream",
     "text": [
      "\r",
      " 86%|████████▋ | 216/250 [1:21:31<07:15, 12.82s/it]"
     ]
    },
    {
     "name": "stdout",
     "output_type": "stream",
     "text": [
      "End of reviews\n",
      "FINISHED one restaurant, Took:  12.868923902511597\n",
      "[<selenium.webdriver.remote.webelement.WebElement (session=\"2b92f7ae8da31f7974bb5cd8b142661b\", element=\"218a8ae2-7270-4417-904b-ead7422aaa36\")>, <selenium.webdriver.remote.webelement.WebElement (session=\"2b92f7ae8da31f7974bb5cd8b142661b\", element=\"78d7a4eb-2e42-4dc8-846a-792e3834efea\")>, <selenium.webdriver.remote.webelement.WebElement (session=\"2b92f7ae8da31f7974bb5cd8b142661b\", element=\"548460b8-0c61-46db-9434-835334cda394\")>, <selenium.webdriver.remote.webelement.WebElement (session=\"2b92f7ae8da31f7974bb5cd8b142661b\", element=\"0f25ed00-b2c0-4977-bc22-9a7dbc7c838f\")>, <selenium.webdriver.remote.webelement.WebElement (session=\"2b92f7ae8da31f7974bb5cd8b142661b\", element=\"1ce58f0d-d8fd-4546-b040-e966a365d5a2\")>]\n",
      "END OF PAGES REACHED. NO MORE TO PARSE.\n"
     ]
    },
    {
     "name": "stderr",
     "output_type": "stream",
     "text": [
      "\r",
      " 87%|████████▋ | 217/250 [1:21:46<07:27, 13.57s/it]"
     ]
    },
    {
     "name": "stdout",
     "output_type": "stream",
     "text": [
      "End of reviews\n",
      "FINISHED one restaurant, Took:  15.199246168136597\n",
      "[<selenium.webdriver.remote.webelement.WebElement (session=\"670498bbe79bc6c47831042d5242a3f8\", element=\"f950b9ce-0065-452a-9c32-f10dc3d62980\")>, <selenium.webdriver.remote.webelement.WebElement (session=\"670498bbe79bc6c47831042d5242a3f8\", element=\"78b534f0-b981-44ff-be1e-5a2f2b78978f\")>, <selenium.webdriver.remote.webelement.WebElement (session=\"670498bbe79bc6c47831042d5242a3f8\", element=\"d1ad01d4-bc0e-4898-b5d7-f617b998748d\")>, <selenium.webdriver.remote.webelement.WebElement (session=\"670498bbe79bc6c47831042d5242a3f8\", element=\"6bb8e5ea-f7d7-4190-93b8-3e2214e69136\")>, <selenium.webdriver.remote.webelement.WebElement (session=\"670498bbe79bc6c47831042d5242a3f8\", element=\"0c5a01d1-176e-47b7-939c-2f0067508782\")>]\n",
      "END OF PAGES REACHED. NO MORE TO PARSE.\n"
     ]
    },
    {
     "name": "stderr",
     "output_type": "stream",
     "text": [
      "\r",
      " 87%|████████▋ | 218/250 [1:22:04<07:58, 14.94s/it]"
     ]
    },
    {
     "name": "stdout",
     "output_type": "stream",
     "text": [
      "End of reviews\n",
      "FINISHED one restaurant, Took:  18.037859201431274\n",
      "[<selenium.webdriver.remote.webelement.WebElement (session=\"85c9825233bde13881057b25048ab8fc\", element=\"88fc0599-6816-4d0b-ba9a-4f62f7d3549e\")>, <selenium.webdriver.remote.webelement.WebElement (session=\"85c9825233bde13881057b25048ab8fc\", element=\"a1227033-227c-4473-975a-4fc1b471c68b\")>, <selenium.webdriver.remote.webelement.WebElement (session=\"85c9825233bde13881057b25048ab8fc\", element=\"c246fdbf-7228-4874-abb4-f5fe994d3e17\")>, <selenium.webdriver.remote.webelement.WebElement (session=\"85c9825233bde13881057b25048ab8fc\", element=\"6c56e01e-37e9-4ca3-9e7b-a3139de63a3b\")>, <selenium.webdriver.remote.webelement.WebElement (session=\"85c9825233bde13881057b25048ab8fc\", element=\"8c8c27b6-db84-41d9-b91b-0502bf0027f3\")>]\n",
      "END OF PAGES REACHED. NO MORE TO PARSE.\n"
     ]
    },
    {
     "name": "stderr",
     "output_type": "stream",
     "text": [
      "\r",
      " 88%|████████▊ | 219/250 [1:22:14<06:59, 13.52s/it]"
     ]
    },
    {
     "name": "stdout",
     "output_type": "stream",
     "text": [
      "End of reviews\n",
      "FINISHED one restaurant, Took:  10.105469942092896\n",
      "[<selenium.webdriver.remote.webelement.WebElement (session=\"519e5b0ef29406661956b29071567b36\", element=\"b5e10bd0-b1d2-4d9e-a4e3-2d8f646439da\")>, <selenium.webdriver.remote.webelement.WebElement (session=\"519e5b0ef29406661956b29071567b36\", element=\"65952fa5-b80c-471d-8cdf-ef035a478a21\")>, <selenium.webdriver.remote.webelement.WebElement (session=\"519e5b0ef29406661956b29071567b36\", element=\"ae976f71-d83b-4ec6-8a62-fc17397dc0be\")>, <selenium.webdriver.remote.webelement.WebElement (session=\"519e5b0ef29406661956b29071567b36\", element=\"b321ab40-d31e-4206-8d74-0825769b91ca\")>, <selenium.webdriver.remote.webelement.WebElement (session=\"519e5b0ef29406661956b29071567b36\", element=\"1f0ed5ff-54b6-430b-bb11-914598389c24\")>]\n",
      "END OF PAGES REACHED. NO MORE TO PARSE.\n"
     ]
    },
    {
     "name": "stderr",
     "output_type": "stream",
     "text": [
      "\r",
      " 88%|████████▊ | 220/250 [1:22:27<06:36, 13.21s/it]"
     ]
    },
    {
     "name": "stdout",
     "output_type": "stream",
     "text": [
      "End of reviews\n",
      "FINISHED one restaurant, Took:  12.372240781784058\n",
      "[<selenium.webdriver.remote.webelement.WebElement (session=\"3f7fde3b36ee8b3a5fc079397b248d9a\", element=\"bf9c93a7-d784-4e88-855a-5eafcb1b5896\")>, <selenium.webdriver.remote.webelement.WebElement (session=\"3f7fde3b36ee8b3a5fc079397b248d9a\", element=\"e9df5c1f-44f7-4baa-b92b-a9e9f11bd855\")>, <selenium.webdriver.remote.webelement.WebElement (session=\"3f7fde3b36ee8b3a5fc079397b248d9a\", element=\"ecc12ee9-9e26-488d-a999-60fa8c9f0149\")>, <selenium.webdriver.remote.webelement.WebElement (session=\"3f7fde3b36ee8b3a5fc079397b248d9a\", element=\"3c297072-5d90-449d-b99b-dd08d0569df5\")>, <selenium.webdriver.remote.webelement.WebElement (session=\"3f7fde3b36ee8b3a5fc079397b248d9a\", element=\"6f6539eb-145b-440e-88fa-28585340c0ff\")>]\n",
      "END OF PAGES REACHED. NO MORE TO PARSE.\n"
     ]
    },
    {
     "name": "stderr",
     "output_type": "stream",
     "text": [
      "\r",
      " 88%|████████▊ | 221/250 [1:22:42<06:44, 13.96s/it]"
     ]
    },
    {
     "name": "stdout",
     "output_type": "stream",
     "text": [
      "End of reviews\n",
      "FINISHED one restaurant, Took:  15.575426816940308\n",
      "[<selenium.webdriver.remote.webelement.WebElement (session=\"e69b2716b159d6e79c61aa83c0806e84\", element=\"9a5fd65d-3533-42f5-a679-a6a2b3fd8d8a\")>, <selenium.webdriver.remote.webelement.WebElement (session=\"e69b2716b159d6e79c61aa83c0806e84\", element=\"f05fb7c4-7da8-4575-b3d0-4607392ea750\")>, <selenium.webdriver.remote.webelement.WebElement (session=\"e69b2716b159d6e79c61aa83c0806e84\", element=\"e271ba9e-1f4f-49c1-8b56-f83d3c11538b\")>, <selenium.webdriver.remote.webelement.WebElement (session=\"e69b2716b159d6e79c61aa83c0806e84\", element=\"a9618b8a-0285-40ab-b259-d8df5b3551a6\")>, <selenium.webdriver.remote.webelement.WebElement (session=\"e69b2716b159d6e79c61aa83c0806e84\", element=\"32ed226f-bd00-4b5e-bb1c-d26ae2fe492e\")>]\n",
      "END OF PAGES REACHED. NO MORE TO PARSE.\n"
     ]
    },
    {
     "name": "stderr",
     "output_type": "stream",
     "text": [
      "\r",
      " 89%|████████▉ | 222/250 [1:22:59<06:56, 14.88s/it]"
     ]
    },
    {
     "name": "stdout",
     "output_type": "stream",
     "text": [
      "End of reviews\n",
      "FINISHED one restaurant, Took:  16.906283855438232\n",
      "[<selenium.webdriver.remote.webelement.WebElement (session=\"cbba9dd3b7bc0e7b86fa0063475993a4\", element=\"a39aba2e-0797-4e56-af6e-39add664081a\")>, <selenium.webdriver.remote.webelement.WebElement (session=\"cbba9dd3b7bc0e7b86fa0063475993a4\", element=\"4dda458c-b4f4-4c90-829f-611253ddd62c\")>, <selenium.webdriver.remote.webelement.WebElement (session=\"cbba9dd3b7bc0e7b86fa0063475993a4\", element=\"9b8a2d5a-abef-4d24-b32e-998d5072e7df\")>, <selenium.webdriver.remote.webelement.WebElement (session=\"cbba9dd3b7bc0e7b86fa0063475993a4\", element=\"4401b114-7244-49eb-8e54-1b6c275f7699\")>, <selenium.webdriver.remote.webelement.WebElement (session=\"cbba9dd3b7bc0e7b86fa0063475993a4\", element=\"eb754271-fc6f-4df3-ac30-198cd0a7cab4\")>]\n",
      "END OF PAGES REACHED. NO MORE TO PARSE.\n"
     ]
    },
    {
     "name": "stderr",
     "output_type": "stream",
     "text": [
      "\r",
      " 89%|████████▉ | 223/250 [1:23:12<06:19, 14.05s/it]"
     ]
    },
    {
     "name": "stdout",
     "output_type": "stream",
     "text": [
      "End of reviews\n",
      "FINISHED one restaurant, Took:  12.026957035064697\n",
      "[<selenium.webdriver.remote.webelement.WebElement (session=\"4301004b06e48d90936723defcbc160e\", element=\"a6695eae-7e5e-4549-874c-38bff69ffa44\")>, <selenium.webdriver.remote.webelement.WebElement (session=\"4301004b06e48d90936723defcbc160e\", element=\"4dc61084-9b83-4638-9d14-9638575c1817\")>, <selenium.webdriver.remote.webelement.WebElement (session=\"4301004b06e48d90936723defcbc160e\", element=\"987166b9-0030-4e9e-bf25-09aa895d8647\")>, <selenium.webdriver.remote.webelement.WebElement (session=\"4301004b06e48d90936723defcbc160e\", element=\"cb89afd8-2b3d-404d-98a1-a9a8493f5a81\")>, <selenium.webdriver.remote.webelement.WebElement (session=\"4301004b06e48d90936723defcbc160e\", element=\"5197ceab-2b07-4c74-a08f-b554c62ab3ee\")>]\n",
      "END OF PAGES REACHED. NO MORE TO PARSE.\n"
     ]
    },
    {
     "name": "stderr",
     "output_type": "stream",
     "text": [
      "\r",
      " 90%|████████▉ | 224/250 [1:23:35<07:20, 16.96s/it]"
     ]
    },
    {
     "name": "stdout",
     "output_type": "stream",
     "text": [
      "End of reviews\n",
      "FINISHED one restaurant, Took:  23.597440004348755\n",
      "Error Occurred. Skip.\n",
      "END OF PAGES REACHED. NO MORE TO PARSE.\n"
     ]
    },
    {
     "name": "stderr",
     "output_type": "stream",
     "text": [
      "\r",
      " 90%|█████████ | 225/250 [1:23:46<06:13, 14.95s/it]"
     ]
    },
    {
     "name": "stdout",
     "output_type": "stream",
     "text": [
      "End of reviews\n",
      "FINISHED one restaurant, Took:  10.171205997467041\n",
      "[<selenium.webdriver.remote.webelement.WebElement (session=\"0f76118ec2b460e9e64287dc35a8e6ff\", element=\"06bec5bf-c986-4d54-911a-01d7e469d3fa\")>, <selenium.webdriver.remote.webelement.WebElement (session=\"0f76118ec2b460e9e64287dc35a8e6ff\", element=\"53d580bc-9416-444d-8f9e-e3c6d3b12f0b\")>, <selenium.webdriver.remote.webelement.WebElement (session=\"0f76118ec2b460e9e64287dc35a8e6ff\", element=\"b53fe667-7506-4acc-8ee5-1b34b16ef804\")>, <selenium.webdriver.remote.webelement.WebElement (session=\"0f76118ec2b460e9e64287dc35a8e6ff\", element=\"3aae5d7f-0f2e-4a21-92d6-a68a2d2d4bd7\")>, <selenium.webdriver.remote.webelement.WebElement (session=\"0f76118ec2b460e9e64287dc35a8e6ff\", element=\"b3d0e3f4-97e1-488b-b3da-7e8024f164db\")>]\n"
     ]
    },
    {
     "name": "stderr",
     "output_type": "stream",
     "text": [
      "\r",
      " 90%|█████████ | 226/250 [1:24:08<06:52, 17.18s/it]"
     ]
    },
    {
     "name": "stdout",
     "output_type": "stream",
     "text": [
      "FINISHED one restaurant, Took:  22.170926094055176\n",
      "[<selenium.webdriver.remote.webelement.WebElement (session=\"bb205a3797aea763f94d39868bcacf60\", element=\"6c25b12e-93a2-479f-b80c-5b084040bdcf\")>, <selenium.webdriver.remote.webelement.WebElement (session=\"bb205a3797aea763f94d39868bcacf60\", element=\"f52c0ba8-0f61-46c8-9912-760760c8ecff\")>, <selenium.webdriver.remote.webelement.WebElement (session=\"bb205a3797aea763f94d39868bcacf60\", element=\"a3eae60f-e599-4516-ab25-075f35a657f0\")>, <selenium.webdriver.remote.webelement.WebElement (session=\"bb205a3797aea763f94d39868bcacf60\", element=\"7386ba28-83b6-43fc-aa2a-7f066e1f7a58\")>, <selenium.webdriver.remote.webelement.WebElement (session=\"bb205a3797aea763f94d39868bcacf60\", element=\"e1f25e62-9964-4887-b439-3a99b1477bcd\")>]\n",
      "END OF PAGES REACHED. NO MORE TO PARSE.\n"
     ]
    },
    {
     "name": "stderr",
     "output_type": "stream",
     "text": [
      "\r",
      " 91%|█████████ | 227/250 [1:24:19<05:49, 15.19s/it]"
     ]
    },
    {
     "name": "stdout",
     "output_type": "stream",
     "text": [
      "End of reviews\n",
      "FINISHED one restaurant, Took:  10.459681987762451\n",
      "[<selenium.webdriver.remote.webelement.WebElement (session=\"33f02a461b33b4c0bd80be6096ec4f4d\", element=\"7def7941-abd0-4363-b7e2-f576a627f241\")>, <selenium.webdriver.remote.webelement.WebElement (session=\"33f02a461b33b4c0bd80be6096ec4f4d\", element=\"bfa7e5dd-ad96-4492-b992-6c593fed648d\")>, <selenium.webdriver.remote.webelement.WebElement (session=\"33f02a461b33b4c0bd80be6096ec4f4d\", element=\"de3e443a-d8a4-4994-a139-084b664dfa61\")>, <selenium.webdriver.remote.webelement.WebElement (session=\"33f02a461b33b4c0bd80be6096ec4f4d\", element=\"e27d563d-2c19-4faa-93be-d114b89f074a\")>, <selenium.webdriver.remote.webelement.WebElement (session=\"33f02a461b33b4c0bd80be6096ec4f4d\", element=\"6fe77840-1167-487c-878a-1920a3db2929\")>]\n"
     ]
    },
    {
     "name": "stderr",
     "output_type": "stream",
     "text": [
      "\r",
      " 91%|█████████ | 228/250 [1:24:43<06:32, 17.82s/it]"
     ]
    },
    {
     "name": "stdout",
     "output_type": "stream",
     "text": [
      "FINISHED one restaurant, Took:  23.834881067276\n",
      "Error Occurred. Skip.\n",
      "END OF PAGES REACHED. NO MORE TO PARSE.\n"
     ]
    },
    {
     "name": "stderr",
     "output_type": "stream",
     "text": [
      "\r",
      " 92%|█████████▏| 229/250 [1:24:52<05:22, 15.35s/it]"
     ]
    },
    {
     "name": "stdout",
     "output_type": "stream",
     "text": [
      "End of reviews\n",
      "FINISHED one restaurant, Took:  9.474387884140015\n",
      "[<selenium.webdriver.remote.webelement.WebElement (session=\"999e80a084d523138ccf4b0c62c3f238\", element=\"0ae167de-8841-465e-817e-fb0afe2de94c\")>, <selenium.webdriver.remote.webelement.WebElement (session=\"999e80a084d523138ccf4b0c62c3f238\", element=\"ea29c7d1-276e-4387-b303-f2d511f7a508\")>, <selenium.webdriver.remote.webelement.WebElement (session=\"999e80a084d523138ccf4b0c62c3f238\", element=\"dadc89a1-3d71-4593-8d3f-68f26bdb553f\")>, <selenium.webdriver.remote.webelement.WebElement (session=\"999e80a084d523138ccf4b0c62c3f238\", element=\"4871d434-e3c5-4acc-81a0-3e31d5413faf\")>, <selenium.webdriver.remote.webelement.WebElement (session=\"999e80a084d523138ccf4b0c62c3f238\", element=\"38b76af5-9914-4799-b533-106d79fc976a\")>]\n",
      "END OF PAGES REACHED. NO MORE TO PARSE.\n"
     ]
    },
    {
     "name": "stderr",
     "output_type": "stream",
     "text": [
      "\r",
      " 92%|█████████▏| 230/250 [1:25:09<05:14, 15.73s/it]"
     ]
    },
    {
     "name": "stdout",
     "output_type": "stream",
     "text": [
      "End of reviews\n",
      "FINISHED one restaurant, Took:  16.49979281425476\n",
      "[<selenium.webdriver.remote.webelement.WebElement (session=\"841486fd6e2772ddd3f39961136c42b5\", element=\"7dfca9ae-0c6f-40d8-9feb-014a0cfedeae\")>, <selenium.webdriver.remote.webelement.WebElement (session=\"841486fd6e2772ddd3f39961136c42b5\", element=\"802a0ced-3219-4cd6-b9d2-59197b55b254\")>, <selenium.webdriver.remote.webelement.WebElement (session=\"841486fd6e2772ddd3f39961136c42b5\", element=\"6b2e60e1-217b-41b3-bbf1-24fe14bc2a10\")>, <selenium.webdriver.remote.webelement.WebElement (session=\"841486fd6e2772ddd3f39961136c42b5\", element=\"c782d278-2895-4458-9f17-cafec93e923f\")>, <selenium.webdriver.remote.webelement.WebElement (session=\"841486fd6e2772ddd3f39961136c42b5\", element=\"69042d54-2772-4ec3-b32c-5c2df4d0c7f0\")>]\n",
      "END OF PAGES REACHED. NO MORE TO PARSE.\n"
     ]
    },
    {
     "name": "stderr",
     "output_type": "stream",
     "text": [
      "\r",
      " 92%|█████████▏| 231/250 [1:25:22<04:44, 14.96s/it]"
     ]
    },
    {
     "name": "stdout",
     "output_type": "stream",
     "text": [
      "End of reviews\n",
      "FINISHED one restaurant, Took:  13.079461097717285\n",
      "[<selenium.webdriver.remote.webelement.WebElement (session=\"a08089a0b630aa9799ea5517e3dab897\", element=\"15b5d032-7497-4be3-ad31-1aa976e1b60e\")>, <selenium.webdriver.remote.webelement.WebElement (session=\"a08089a0b630aa9799ea5517e3dab897\", element=\"40b8952c-5a0e-4d3d-99f1-b3631388dfd6\")>, <selenium.webdriver.remote.webelement.WebElement (session=\"a08089a0b630aa9799ea5517e3dab897\", element=\"afeaac05-5931-4732-96b3-0730210af634\")>, <selenium.webdriver.remote.webelement.WebElement (session=\"a08089a0b630aa9799ea5517e3dab897\", element=\"ec79d644-d5c9-4b1a-a60b-c67302e27a2f\")>, <selenium.webdriver.remote.webelement.WebElement (session=\"a08089a0b630aa9799ea5517e3dab897\", element=\"22c79d5f-9083-4c42-940d-508f95217ddc\")>]\n",
      "END OF PAGES REACHED. NO MORE TO PARSE.\n"
     ]
    },
    {
     "name": "stderr",
     "output_type": "stream",
     "text": [
      "\r",
      " 93%|█████████▎| 232/250 [1:25:35<04:21, 14.54s/it]"
     ]
    },
    {
     "name": "stdout",
     "output_type": "stream",
     "text": [
      "End of reviews\n",
      "FINISHED one restaurant, Took:  13.445061206817627\n",
      "[<selenium.webdriver.remote.webelement.WebElement (session=\"c34f4cba5de05a4eeffd0c5b6ee124b0\", element=\"530985c2-cbed-4d56-9743-fa95e2292079\")>, <selenium.webdriver.remote.webelement.WebElement (session=\"c34f4cba5de05a4eeffd0c5b6ee124b0\", element=\"85d90c27-7bde-4d48-b717-6d6269b3f5c7\")>, <selenium.webdriver.remote.webelement.WebElement (session=\"c34f4cba5de05a4eeffd0c5b6ee124b0\", element=\"82490eb8-9de1-4c1a-92e3-81330f1ef450\")>, <selenium.webdriver.remote.webelement.WebElement (session=\"c34f4cba5de05a4eeffd0c5b6ee124b0\", element=\"2f9ffff2-5fd6-485e-a1f9-18a129a5b6e2\")>, <selenium.webdriver.remote.webelement.WebElement (session=\"c34f4cba5de05a4eeffd0c5b6ee124b0\", element=\"a61baabb-14cf-4540-8767-cab59c826891\")>]\n",
      "END OF PAGES REACHED. NO MORE TO PARSE.\n"
     ]
    },
    {
     "name": "stderr",
     "output_type": "stream",
     "text": [
      "\r",
      " 93%|█████████▎| 233/250 [1:25:52<04:15, 15.01s/it]"
     ]
    },
    {
     "name": "stdout",
     "output_type": "stream",
     "text": [
      "End of reviews\n",
      "FINISHED one restaurant, Took:  15.99405288696289\n",
      "[<selenium.webdriver.remote.webelement.WebElement (session=\"c56cd221c5856df8f28a43beb758a328\", element=\"22ad53aa-89da-4ecc-96df-a0f4d0c0a45d\")>, <selenium.webdriver.remote.webelement.WebElement (session=\"c56cd221c5856df8f28a43beb758a328\", element=\"5b85cd47-1b4a-497f-a179-f9e1a282c3c1\")>, <selenium.webdriver.remote.webelement.WebElement (session=\"c56cd221c5856df8f28a43beb758a328\", element=\"03f707b3-b472-4312-837c-c476e325a8f8\")>, <selenium.webdriver.remote.webelement.WebElement (session=\"c56cd221c5856df8f28a43beb758a328\", element=\"45ac509c-e77a-4ec0-b23a-4c6bfca58646\")>, <selenium.webdriver.remote.webelement.WebElement (session=\"c56cd221c5856df8f28a43beb758a328\", element=\"3150c0fe-332a-436d-af36-8dc8ac39031a\")>]\n",
      "END OF PAGES REACHED. NO MORE TO PARSE.\n"
     ]
    },
    {
     "name": "stderr",
     "output_type": "stream",
     "text": [
      "\r",
      " 94%|█████████▎| 234/250 [1:26:05<03:54, 14.63s/it]"
     ]
    },
    {
     "name": "stdout",
     "output_type": "stream",
     "text": [
      "End of reviews\n",
      "FINISHED one restaurant, Took:  13.61722707748413\n",
      "[<selenium.webdriver.remote.webelement.WebElement (session=\"da1c5675733dc09274f9a4cfcfd3b734\", element=\"b0f67436-1ffd-491b-831c-8001068433ca\")>, <selenium.webdriver.remote.webelement.WebElement (session=\"da1c5675733dc09274f9a4cfcfd3b734\", element=\"64af60ea-444c-432b-af64-404f8dc54804\")>, <selenium.webdriver.remote.webelement.WebElement (session=\"da1c5675733dc09274f9a4cfcfd3b734\", element=\"521e8d57-ddf3-4e98-818a-d730b3151f7a\")>, <selenium.webdriver.remote.webelement.WebElement (session=\"da1c5675733dc09274f9a4cfcfd3b734\", element=\"86fca7b6-49b7-4545-8065-6a6e3769ad0a\")>, <selenium.webdriver.remote.webelement.WebElement (session=\"da1c5675733dc09274f9a4cfcfd3b734\", element=\"c792bc0c-45c0-47c0-a800-abdc195f098f\")>]\n",
      "END OF PAGES REACHED. NO MORE TO PARSE.\n"
     ]
    },
    {
     "name": "stderr",
     "output_type": "stream",
     "text": [
      "\r",
      " 94%|█████████▍| 235/250 [1:26:18<03:32, 14.18s/it]"
     ]
    },
    {
     "name": "stdout",
     "output_type": "stream",
     "text": [
      "End of reviews\n",
      "FINISHED one restaurant, Took:  13.03000283241272\n",
      "[<selenium.webdriver.remote.webelement.WebElement (session=\"364af9738fac5740107b9e171719ca76\", element=\"ad319bb4-8bad-4444-a162-ea89c4547750\")>, <selenium.webdriver.remote.webelement.WebElement (session=\"364af9738fac5740107b9e171719ca76\", element=\"677790cc-4b91-4997-8bc4-4382d693f3a8\")>, <selenium.webdriver.remote.webelement.WebElement (session=\"364af9738fac5740107b9e171719ca76\", element=\"eb96a5d4-7dbf-4796-9d50-10902cbb32f4\")>, <selenium.webdriver.remote.webelement.WebElement (session=\"364af9738fac5740107b9e171719ca76\", element=\"8b2a0b2b-202b-43b2-a0b2-b3c0220026a7\")>, <selenium.webdriver.remote.webelement.WebElement (session=\"364af9738fac5740107b9e171719ca76\", element=\"e184f15d-5e07-47ba-88dd-40c2e36f83e2\")>]\n",
      "END OF PAGES REACHED. NO MORE TO PARSE.\n"
     ]
    },
    {
     "name": "stderr",
     "output_type": "stream",
     "text": [
      "\r",
      " 94%|█████████▍| 236/250 [1:26:35<03:28, 14.88s/it]"
     ]
    },
    {
     "name": "stdout",
     "output_type": "stream",
     "text": [
      "End of reviews\n",
      "FINISHED one restaurant, Took:  16.420469999313354\n",
      "[<selenium.webdriver.remote.webelement.WebElement (session=\"655e028307fe7b0831939bad70701f92\", element=\"bb3f51d5-7e43-4b15-9034-7777bd6f048d\")>, <selenium.webdriver.remote.webelement.WebElement (session=\"655e028307fe7b0831939bad70701f92\", element=\"cb2b1cc6-e5a1-4734-8e12-03f828023ed6\")>, <selenium.webdriver.remote.webelement.WebElement (session=\"655e028307fe7b0831939bad70701f92\", element=\"fafc5d14-df8f-42e3-aeca-03853204aafb\")>, <selenium.webdriver.remote.webelement.WebElement (session=\"655e028307fe7b0831939bad70701f92\", element=\"c4699b27-d4ff-405d-b6eb-b898c5b30abd\")>, <selenium.webdriver.remote.webelement.WebElement (session=\"655e028307fe7b0831939bad70701f92\", element=\"f516737e-9957-4a9c-85e2-440d47c44d36\")>]\n"
     ]
    },
    {
     "name": "stderr",
     "output_type": "stream",
     "text": [
      "\r",
      " 95%|█████████▍| 237/250 [1:27:01<03:57, 18.23s/it]"
     ]
    },
    {
     "name": "stdout",
     "output_type": "stream",
     "text": [
      "FINISHED one restaurant, Took:  25.891413927078247\n",
      "[<selenium.webdriver.remote.webelement.WebElement (session=\"722d8caeac551906ac285e14dfbd7935\", element=\"5053e398-8d85-4fae-9627-5762edf11b81\")>, <selenium.webdriver.remote.webelement.WebElement (session=\"722d8caeac551906ac285e14dfbd7935\", element=\"23b91cdf-a862-4a54-92eb-dc2bcc9d9674\")>, <selenium.webdriver.remote.webelement.WebElement (session=\"722d8caeac551906ac285e14dfbd7935\", element=\"c3cbabb9-48a1-4777-ad7d-57fb3019e59e\")>, <selenium.webdriver.remote.webelement.WebElement (session=\"722d8caeac551906ac285e14dfbd7935\", element=\"d2453f8f-30e3-4825-81c5-ae92d7a114ad\")>, <selenium.webdriver.remote.webelement.WebElement (session=\"722d8caeac551906ac285e14dfbd7935\", element=\"64f56653-bb24-491a-a759-697b18f5f54b\")>]\n"
     ]
    },
    {
     "name": "stderr",
     "output_type": "stream",
     "text": [
      "\r",
      " 95%|█████████▌| 238/250 [1:27:25<04:00, 20.03s/it]"
     ]
    },
    {
     "name": "stdout",
     "output_type": "stream",
     "text": [
      "FINISHED one restaurant, Took:  24.091560125350952\n",
      "[<selenium.webdriver.remote.webelement.WebElement (session=\"819479fe058f30001cbc397edb7093d0\", element=\"470c0376-c3d9-4c24-b08c-ab53b3c8b64c\")>, <selenium.webdriver.remote.webelement.WebElement (session=\"819479fe058f30001cbc397edb7093d0\", element=\"2276b0b9-cb2d-49ed-a70d-78262d62d8a7\")>, <selenium.webdriver.remote.webelement.WebElement (session=\"819479fe058f30001cbc397edb7093d0\", element=\"f0ebf58d-1f7d-4210-8e5a-3d1c4a679272\")>, <selenium.webdriver.remote.webelement.WebElement (session=\"819479fe058f30001cbc397edb7093d0\", element=\"918af625-763d-4425-bb5b-05f4b5fb8fd1\")>, <selenium.webdriver.remote.webelement.WebElement (session=\"819479fe058f30001cbc397edb7093d0\", element=\"4db45956-e5d6-466f-8ee3-cf35f451f283\")>]\n",
      "END OF PAGES REACHED. NO MORE TO PARSE.\n"
     ]
    },
    {
     "name": "stderr",
     "output_type": "stream",
     "text": [
      "\r",
      " 96%|█████████▌| 239/250 [1:27:37<03:13, 17.56s/it]"
     ]
    },
    {
     "name": "stdout",
     "output_type": "stream",
     "text": [
      "End of reviews\n",
      "FINISHED one restaurant, Took:  11.673654794692993\n",
      "[<selenium.webdriver.remote.webelement.WebElement (session=\"0204b3cc8af8eb0408149946dbe6891c\", element=\"58f6e884-0f1b-42a2-8e7e-cdf54af7c423\")>, <selenium.webdriver.remote.webelement.WebElement (session=\"0204b3cc8af8eb0408149946dbe6891c\", element=\"16e1a305-25ba-4a36-a5f0-6417f24f97ac\")>, <selenium.webdriver.remote.webelement.WebElement (session=\"0204b3cc8af8eb0408149946dbe6891c\", element=\"eb9061c2-b88e-44ea-abb5-b283072f27f9\")>, <selenium.webdriver.remote.webelement.WebElement (session=\"0204b3cc8af8eb0408149946dbe6891c\", element=\"da3d6b6a-c07e-4df8-b516-3bf7fbc846d7\")>, <selenium.webdriver.remote.webelement.WebElement (session=\"0204b3cc8af8eb0408149946dbe6891c\", element=\"f6adea32-839e-4ae6-beef-4618f890ce23\")>]\n",
      "END OF PAGES REACHED. NO MORE TO PARSE.\n"
     ]
    },
    {
     "name": "stderr",
     "output_type": "stream",
     "text": [
      "\r",
      " 96%|█████████▌| 240/250 [1:27:54<02:52, 17.27s/it]"
     ]
    },
    {
     "name": "stdout",
     "output_type": "stream",
     "text": [
      "End of reviews\n",
      "FINISHED one restaurant, Took:  16.487013816833496\n",
      "[<selenium.webdriver.remote.webelement.WebElement (session=\"db6035fb38a948609818a3a3b12dcab1\", element=\"a5d10dde-06cf-4778-ab34-b49da9aac04c\")>, <selenium.webdriver.remote.webelement.WebElement (session=\"db6035fb38a948609818a3a3b12dcab1\", element=\"30535618-2183-4734-96b1-34188c4b1e81\")>, <selenium.webdriver.remote.webelement.WebElement (session=\"db6035fb38a948609818a3a3b12dcab1\", element=\"d3a596b0-e11b-420c-9323-53ce3a7cd16c\")>, <selenium.webdriver.remote.webelement.WebElement (session=\"db6035fb38a948609818a3a3b12dcab1\", element=\"bfccb2cf-b0e2-4991-99c2-a91087ead810\")>, <selenium.webdriver.remote.webelement.WebElement (session=\"db6035fb38a948609818a3a3b12dcab1\", element=\"2a02c852-3d00-4645-a49c-14194b974bdf\")>]\n",
      "END OF PAGES REACHED. NO MORE TO PARSE.\n"
     ]
    },
    {
     "name": "stderr",
     "output_type": "stream",
     "text": [
      "\r",
      " 96%|█████████▋| 241/250 [1:28:07<02:25, 16.11s/it]"
     ]
    },
    {
     "name": "stdout",
     "output_type": "stream",
     "text": [
      "End of reviews\n",
      "FINISHED one restaurant, Took:  13.308948040008545\n",
      "[<selenium.webdriver.remote.webelement.WebElement (session=\"e65fbd6baea22a8fa6f4dc8e7b68ffdc\", element=\"723bd5fa-5b3a-41b2-bb87-2158ae7bbd29\")>, <selenium.webdriver.remote.webelement.WebElement (session=\"e65fbd6baea22a8fa6f4dc8e7b68ffdc\", element=\"92a6a67f-3547-4485-b227-36877e1da419\")>, <selenium.webdriver.remote.webelement.WebElement (session=\"e65fbd6baea22a8fa6f4dc8e7b68ffdc\", element=\"d5715715-ecac-438c-9907-03dd7bd1d244\")>, <selenium.webdriver.remote.webelement.WebElement (session=\"e65fbd6baea22a8fa6f4dc8e7b68ffdc\", element=\"c1ff3408-fcc0-41c1-b135-5ac7fafbf795\")>, <selenium.webdriver.remote.webelement.WebElement (session=\"e65fbd6baea22a8fa6f4dc8e7b68ffdc\", element=\"1484407b-883f-4f4b-bd78-204bd4c06baf\")>]\n",
      "END OF PAGES REACHED. NO MORE TO PARSE.\n"
     ]
    },
    {
     "name": "stderr",
     "output_type": "stream",
     "text": [
      "\r",
      " 97%|█████████▋| 242/250 [1:28:21<02:03, 15.43s/it]"
     ]
    },
    {
     "name": "stdout",
     "output_type": "stream",
     "text": [
      "End of reviews\n",
      "FINISHED one restaurant, Took:  13.740899085998535\n",
      "[<selenium.webdriver.remote.webelement.WebElement (session=\"e7db5489f7689439220612845fee728b\", element=\"b7a52197-44b5-4f6c-8cba-3f904a37c0d6\")>, <selenium.webdriver.remote.webelement.WebElement (session=\"e7db5489f7689439220612845fee728b\", element=\"900c756d-7058-4f0d-877c-c32f332836a5\")>, <selenium.webdriver.remote.webelement.WebElement (session=\"e7db5489f7689439220612845fee728b\", element=\"184b77d2-ceb6-48b2-a101-238f558b1b2d\")>, <selenium.webdriver.remote.webelement.WebElement (session=\"e7db5489f7689439220612845fee728b\", element=\"18768320-5a06-44a1-833a-5ebd7f1997a8\")>, <selenium.webdriver.remote.webelement.WebElement (session=\"e7db5489f7689439220612845fee728b\", element=\"b4a27ef8-4d00-46e9-962a-af8be26adb4d\")>]\n",
      "END OF PAGES REACHED. NO MORE TO PARSE.\n"
     ]
    },
    {
     "name": "stderr",
     "output_type": "stream",
     "text": [
      "\r",
      " 97%|█████████▋| 243/250 [1:28:36<01:46, 15.20s/it]"
     ]
    },
    {
     "name": "stdout",
     "output_type": "stream",
     "text": [
      "End of reviews\n",
      "FINISHED one restaurant, Took:  14.541123628616333\n",
      "[<selenium.webdriver.remote.webelement.WebElement (session=\"3cc2279654e44a4f7b9f256ca9a6205e\", element=\"dc3a6faf-44c6-4bf8-bdd9-8ce62ca49894\")>, <selenium.webdriver.remote.webelement.WebElement (session=\"3cc2279654e44a4f7b9f256ca9a6205e\", element=\"2de62a58-0ab1-4b62-8b5a-a7f623c6e9cf\")>, <selenium.webdriver.remote.webelement.WebElement (session=\"3cc2279654e44a4f7b9f256ca9a6205e\", element=\"73286e66-1e3a-4677-9bfa-3c3c25bcad87\")>, <selenium.webdriver.remote.webelement.WebElement (session=\"3cc2279654e44a4f7b9f256ca9a6205e\", element=\"4bfce2f5-7745-4f02-85ee-19c9122ebd16\")>, <selenium.webdriver.remote.webelement.WebElement (session=\"3cc2279654e44a4f7b9f256ca9a6205e\", element=\"08246bcb-7a88-4824-8c4a-9d09b0b4a9b4\")>]\n",
      "END OF PAGES REACHED. NO MORE TO PARSE.\n"
     ]
    },
    {
     "name": "stderr",
     "output_type": "stream",
     "text": [
      "\r",
      " 98%|█████████▊| 244/250 [1:28:51<01:31, 15.25s/it]"
     ]
    },
    {
     "name": "stdout",
     "output_type": "stream",
     "text": [
      "End of reviews\n",
      "FINISHED one restaurant, Took:  15.277454137802124\n",
      "[<selenium.webdriver.remote.webelement.WebElement (session=\"4b862487cd29cdcf591b1ec01fb5e3be\", element=\"78792b97-72f2-4cb1-94ce-738a6d54b7e9\")>, <selenium.webdriver.remote.webelement.WebElement (session=\"4b862487cd29cdcf591b1ec01fb5e3be\", element=\"a1ea23e7-a56c-42c5-b7e0-a42dd4003a3f\")>, <selenium.webdriver.remote.webelement.WebElement (session=\"4b862487cd29cdcf591b1ec01fb5e3be\", element=\"d54666d5-fc9e-4b47-b370-af87b1056f6a\")>, <selenium.webdriver.remote.webelement.WebElement (session=\"4b862487cd29cdcf591b1ec01fb5e3be\", element=\"41d6480f-bb88-4870-8b94-a7868829c365\")>, <selenium.webdriver.remote.webelement.WebElement (session=\"4b862487cd29cdcf591b1ec01fb5e3be\", element=\"f1a2e1cd-0cfe-4a17-aab4-8d063834edc3\")>]\n",
      "END OF PAGES REACHED. NO MORE TO PARSE.\n"
     ]
    },
    {
     "name": "stderr",
     "output_type": "stream",
     "text": [
      "\r",
      " 98%|█████████▊| 245/250 [1:29:16<01:31, 18.24s/it]"
     ]
    },
    {
     "name": "stdout",
     "output_type": "stream",
     "text": [
      "End of reviews\n",
      "FINISHED one restaurant, Took:  25.061069011688232\n",
      "[<selenium.webdriver.remote.webelement.WebElement (session=\"16bf903920f7867ce02e9787783f9370\", element=\"a508b507-ea3c-4997-895d-0e9a2b4e9ead\")>, <selenium.webdriver.remote.webelement.WebElement (session=\"16bf903920f7867ce02e9787783f9370\", element=\"fd67869d-8854-46ce-8c14-98f2ad1c6e31\")>, <selenium.webdriver.remote.webelement.WebElement (session=\"16bf903920f7867ce02e9787783f9370\", element=\"256462c7-dbdc-459d-8868-f0be5e7aaa62\")>, <selenium.webdriver.remote.webelement.WebElement (session=\"16bf903920f7867ce02e9787783f9370\", element=\"28284df9-f54e-45be-a486-b6b5711942e4\")>, <selenium.webdriver.remote.webelement.WebElement (session=\"16bf903920f7867ce02e9787783f9370\", element=\"f0af4975-5a5f-4ab0-b695-73470537137a\")>]\n",
      "END OF PAGES REACHED. NO MORE TO PARSE.\n"
     ]
    },
    {
     "name": "stderr",
     "output_type": "stream",
     "text": [
      "\r",
      " 98%|█████████▊| 246/250 [1:29:33<01:11, 17.90s/it]"
     ]
    },
    {
     "name": "stdout",
     "output_type": "stream",
     "text": [
      "End of reviews\n",
      "FINISHED one restaurant, Took:  16.997829914093018\n",
      "Error Occurred. Skip.\n",
      "END OF PAGES REACHED. NO MORE TO PARSE.\n"
     ]
    },
    {
     "name": "stderr",
     "output_type": "stream",
     "text": [
      "\r",
      " 99%|█████████▉| 247/250 [1:29:43<00:46, 15.47s/it]"
     ]
    },
    {
     "name": "stdout",
     "output_type": "stream",
     "text": [
      "End of reviews\n",
      "FINISHED one restaurant, Took:  9.692187786102295\n",
      "[<selenium.webdriver.remote.webelement.WebElement (session=\"c8da23f8a9e9a5012660f8b94c4b26ec\", element=\"2cdce28b-1cce-462a-9176-aa4d379c13b3\")>, <selenium.webdriver.remote.webelement.WebElement (session=\"c8da23f8a9e9a5012660f8b94c4b26ec\", element=\"4cd331c7-f326-4310-bbb7-7f8efe5249d1\")>, <selenium.webdriver.remote.webelement.WebElement (session=\"c8da23f8a9e9a5012660f8b94c4b26ec\", element=\"56aa5391-6d3c-4aa1-b579-44700b63fda1\")>, <selenium.webdriver.remote.webelement.WebElement (session=\"c8da23f8a9e9a5012660f8b94c4b26ec\", element=\"d5b0d902-06e3-4c50-b398-78f4ff18e506\")>, <selenium.webdriver.remote.webelement.WebElement (session=\"c8da23f8a9e9a5012660f8b94c4b26ec\", element=\"34a71ff2-a637-4076-89df-34ec4ace5b38\")>]\n"
     ]
    },
    {
     "name": "stderr",
     "output_type": "stream",
     "text": [
      "\r",
      " 99%|█████████▉| 248/250 [1:30:06<00:35, 17.70s/it]"
     ]
    },
    {
     "name": "stdout",
     "output_type": "stream",
     "text": [
      "FINISHED one restaurant, Took:  22.774482011795044\n",
      "[<selenium.webdriver.remote.webelement.WebElement (session=\"b558bd979c7f01d4e4c663d1f3de82af\", element=\"26bde396-4396-4ba1-a5b8-190fadb87495\")>, <selenium.webdriver.remote.webelement.WebElement (session=\"b558bd979c7f01d4e4c663d1f3de82af\", element=\"508aacfc-0b6a-4443-a977-5baab0f93109\")>, <selenium.webdriver.remote.webelement.WebElement (session=\"b558bd979c7f01d4e4c663d1f3de82af\", element=\"1f0dc38a-6381-46a6-b27e-e9da424249bc\")>, <selenium.webdriver.remote.webelement.WebElement (session=\"b558bd979c7f01d4e4c663d1f3de82af\", element=\"119d08a1-1590-4f8f-b4f8-196295caceae\")>, <selenium.webdriver.remote.webelement.WebElement (session=\"b558bd979c7f01d4e4c663d1f3de82af\", element=\"204422e4-0849-4a29-a165-e693a35a44fc\")>]\n",
      "END OF PAGES REACHED. NO MORE TO PARSE.\n"
     ]
    },
    {
     "name": "stderr",
     "output_type": "stream",
     "text": [
      "\r",
      "100%|█████████▉| 249/250 [1:30:21<00:16, 16.91s/it]"
     ]
    },
    {
     "name": "stdout",
     "output_type": "stream",
     "text": [
      "End of reviews\n",
      "FINISHED one restaurant, Took:  14.96491289138794\n",
      "[<selenium.webdriver.remote.webelement.WebElement (session=\"eba8e2febddad299e70c3ab80b186336\", element=\"985ba363-e2eb-4e94-b932-1477ed66a52e\")>, <selenium.webdriver.remote.webelement.WebElement (session=\"eba8e2febddad299e70c3ab80b186336\", element=\"e468eac2-8f29-41c4-b5ca-d31f41ce730f\")>, <selenium.webdriver.remote.webelement.WebElement (session=\"eba8e2febddad299e70c3ab80b186336\", element=\"34b7d72a-8a26-4c46-b2f7-9dd082f99ffa\")>, <selenium.webdriver.remote.webelement.WebElement (session=\"eba8e2febddad299e70c3ab80b186336\", element=\"d972529d-6e61-4a3d-ac6a-b934c0bd59e8\")>, <selenium.webdriver.remote.webelement.WebElement (session=\"eba8e2febddad299e70c3ab80b186336\", element=\"08f01b26-0a71-4078-98fe-044e4ad3c262\")>]\n",
      "END OF PAGES REACHED. NO MORE TO PARSE.\n"
     ]
    },
    {
     "name": "stderr",
     "output_type": "stream",
     "text": [
      "100%|██████████| 250/250 [1:30:36<00:00, 21.75s/it]"
     ]
    },
    {
     "name": "stdout",
     "output_type": "stream",
     "text": [
      "End of reviews\n",
      "FINISHED one restaurant, Took:  15.227450847625732\n"
     ]
    },
    {
     "name": "stderr",
     "output_type": "stream",
     "text": [
      "\n"
     ]
    }
   ],
   "source": [
    "from tqdm import tqdm\n",
    "with tqdm(total=len(review_urls)) as pbar:\n",
    "    for url in review_urls:\n",
    "        parse_overall_review(url)\n",
    "        pbar.update(1)\n"
   ]
  },
  {
   "cell_type": "code",
   "execution_count": 11,
   "metadata": {},
   "outputs": [
    {
     "data": {
      "text/html": [
       "<div>\n",
       "<style scoped>\n",
       "    .dataframe tbody tr th:only-of-type {\n",
       "        vertical-align: middle;\n",
       "    }\n",
       "\n",
       "    .dataframe tbody tr th {\n",
       "        vertical-align: top;\n",
       "    }\n",
       "\n",
       "    .dataframe thead th {\n",
       "        text-align: right;\n",
       "    }\n",
       "</style>\n",
       "<table border=\"1\" class=\"dataframe\">\n",
       "  <thead>\n",
       "    <tr style=\"text-align: right;\">\n",
       "      <th></th>\n",
       "      <th>URL</th>\n",
       "      <th>Overall_Score</th>\n",
       "      <th>Happy_Ct</th>\n",
       "      <th>OK_Ct</th>\n",
       "      <th>Sad_Ct</th>\n",
       "      <th>Taste</th>\n",
       "      <th>Decor</th>\n",
       "      <th>Service</th>\n",
       "      <th>Hygiene</th>\n",
       "      <th>Value</th>\n",
       "      <th>Review_Content</th>\n",
       "    </tr>\n",
       "  </thead>\n",
       "  <tbody>\n",
       "    <tr>\n",
       "      <th>0</th>\n",
       "      <td>https://www.openrice.com/en/hongkong/r-wa-thea...</td>\n",
       "      <td>4.5</td>\n",
       "      <td>184</td>\n",
       "      <td>8</td>\n",
       "      <td>2</td>\n",
       "      <td>4</td>\n",
       "      <td>4</td>\n",
       "      <td>4</td>\n",
       "      <td>4</td>\n",
       "      <td>4</td>\n",
       "      <td>NaN</td>\n",
       "    </tr>\n",
       "    <tr>\n",
       "      <th>1</th>\n",
       "      <td>https://www.openrice.com/en/hongkong/r-little-...</td>\n",
       "      <td>4</td>\n",
       "      <td>106</td>\n",
       "      <td>28</td>\n",
       "      <td>2</td>\n",
       "      <td>4</td>\n",
       "      <td>4</td>\n",
       "      <td>3</td>\n",
       "      <td>4</td>\n",
       "      <td>3</td>\n",
       "      <td>NaN</td>\n",
       "    </tr>\n",
       "    <tr>\n",
       "      <th>2</th>\n",
       "      <td>https://www.openrice.com/en/hongkong/r-shin-ma...</td>\n",
       "      <td>4</td>\n",
       "      <td>179</td>\n",
       "      <td>14</td>\n",
       "      <td>5</td>\n",
       "      <td>4</td>\n",
       "      <td>4</td>\n",
       "      <td>4</td>\n",
       "      <td>4</td>\n",
       "      <td>3</td>\n",
       "      <td>NaN</td>\n",
       "    </tr>\n",
       "    <tr>\n",
       "      <th>3</th>\n",
       "      <td>https://www.openrice.com/en/hongkong/r-thai-da...</td>\n",
       "      <td>4</td>\n",
       "      <td>157</td>\n",
       "      <td>17</td>\n",
       "      <td>6</td>\n",
       "      <td>4</td>\n",
       "      <td>4</td>\n",
       "      <td>4</td>\n",
       "      <td>4</td>\n",
       "      <td>3</td>\n",
       "      <td>NaN</td>\n",
       "    </tr>\n",
       "    <tr>\n",
       "      <th>4</th>\n",
       "      <td>https://www.openrice.com/en/hongkong/r-the-alc...</td>\n",
       "      <td>4</td>\n",
       "      <td>130</td>\n",
       "      <td>34</td>\n",
       "      <td>9</td>\n",
       "      <td>3</td>\n",
       "      <td>4</td>\n",
       "      <td>3</td>\n",
       "      <td>4</td>\n",
       "      <td>3</td>\n",
       "      <td>NaN</td>\n",
       "    </tr>\n",
       "    <tr>\n",
       "      <th>...</th>\n",
       "      <td>...</td>\n",
       "      <td>...</td>\n",
       "      <td>...</td>\n",
       "      <td>...</td>\n",
       "      <td>...</td>\n",
       "      <td>...</td>\n",
       "      <td>...</td>\n",
       "      <td>...</td>\n",
       "      <td>...</td>\n",
       "      <td>...</td>\n",
       "      <td>...</td>\n",
       "    </tr>\n",
       "    <tr>\n",
       "      <th>242</th>\n",
       "      <td>https://www.openrice.com/en/hongkong/r-tunk-ke...</td>\n",
       "      <td>3</td>\n",
       "      <td>7</td>\n",
       "      <td>1</td>\n",
       "      <td>3</td>\n",
       "      <td>3</td>\n",
       "      <td>3</td>\n",
       "      <td>3</td>\n",
       "      <td>3</td>\n",
       "      <td>2</td>\n",
       "      <td>NaN</td>\n",
       "    </tr>\n",
       "    <tr>\n",
       "      <th>243</th>\n",
       "      <td>https://www.openrice.com/en/hongkong/r-bafang-...</td>\n",
       "      <td>3.5</td>\n",
       "      <td>7</td>\n",
       "      <td>3</td>\n",
       "      <td>3</td>\n",
       "      <td>3</td>\n",
       "      <td>3</td>\n",
       "      <td>3</td>\n",
       "      <td>3</td>\n",
       "      <td>3</td>\n",
       "      <td>NaN</td>\n",
       "    </tr>\n",
       "    <tr>\n",
       "      <th>244</th>\n",
       "      <td>https://www.openrice.com/en/hongkong/r-chan-ku...</td>\n",
       "      <td>3</td>\n",
       "      <td>14</td>\n",
       "      <td>14</td>\n",
       "      <td>6</td>\n",
       "      <td>3</td>\n",
       "      <td>3</td>\n",
       "      <td>3</td>\n",
       "      <td>3</td>\n",
       "      <td>3</td>\n",
       "      <td>NaN</td>\n",
       "    </tr>\n",
       "    <tr>\n",
       "      <th>245</th>\n",
       "      <td>https://www.openrice.com/en/hongkong/r-spring-...</td>\n",
       "      <td>3</td>\n",
       "      <td>4</td>\n",
       "      <td>5</td>\n",
       "      <td>0</td>\n",
       "      <td>3</td>\n",
       "      <td>3</td>\n",
       "      <td>3</td>\n",
       "      <td>3</td>\n",
       "      <td>3</td>\n",
       "      <td>NaN</td>\n",
       "    </tr>\n",
       "    <tr>\n",
       "      <th>246</th>\n",
       "      <td>https://www.openrice.com/en/hongkong/r-enjoy-a...</td>\n",
       "      <td>3.5</td>\n",
       "      <td>5</td>\n",
       "      <td>6</td>\n",
       "      <td>0</td>\n",
       "      <td>3</td>\n",
       "      <td>3</td>\n",
       "      <td>3</td>\n",
       "      <td>3</td>\n",
       "      <td>2</td>\n",
       "      <td>NaN</td>\n",
       "    </tr>\n",
       "  </tbody>\n",
       "</table>\n",
       "<p>247 rows × 11 columns</p>\n",
       "</div>"
      ],
      "text/plain": [
       "                                                   URL Overall_Score Happy_Ct  \\\n",
       "0    https://www.openrice.com/en/hongkong/r-wa-thea...           4.5      184   \n",
       "1    https://www.openrice.com/en/hongkong/r-little-...             4      106   \n",
       "2    https://www.openrice.com/en/hongkong/r-shin-ma...             4      179   \n",
       "3    https://www.openrice.com/en/hongkong/r-thai-da...             4      157   \n",
       "4    https://www.openrice.com/en/hongkong/r-the-alc...             4      130   \n",
       "..                                                 ...           ...      ...   \n",
       "242  https://www.openrice.com/en/hongkong/r-tunk-ke...             3        7   \n",
       "243  https://www.openrice.com/en/hongkong/r-bafang-...           3.5        7   \n",
       "244  https://www.openrice.com/en/hongkong/r-chan-ku...             3       14   \n",
       "245  https://www.openrice.com/en/hongkong/r-spring-...             3        4   \n",
       "246  https://www.openrice.com/en/hongkong/r-enjoy-a...           3.5        5   \n",
       "\n",
       "    OK_Ct Sad_Ct Taste Decor Service Hygiene Value Review_Content  \n",
       "0       8      2     4     4       4       4     4            NaN  \n",
       "1      28      2     4     4       3       4     3            NaN  \n",
       "2      14      5     4     4       4       4     3            NaN  \n",
       "3      17      6     4     4       4       4     3            NaN  \n",
       "4      34      9     3     4       3       4     3            NaN  \n",
       "..    ...    ...   ...   ...     ...     ...   ...            ...  \n",
       "242     1      3     3     3       3       3     2            NaN  \n",
       "243     3      3     3     3       3       3     3            NaN  \n",
       "244    14      6     3     3       3       3     3            NaN  \n",
       "245     5      0     3     3       3       3     3            NaN  \n",
       "246     6      0     3     3       3       3     2            NaN  \n",
       "\n",
       "[247 rows x 11 columns]"
      ]
     },
     "execution_count": 11,
     "metadata": {},
     "output_type": "execute_result"
    }
   ],
   "source": [
    "df_reviews"
   ]
  },
  {
   "cell_type": "code",
   "execution_count": 12,
   "metadata": {
    "scrolled": true
   },
   "outputs": [
    {
     "data": {
      "text/html": [
       "<div>\n",
       "<style scoped>\n",
       "    .dataframe tbody tr th:only-of-type {\n",
       "        vertical-align: middle;\n",
       "    }\n",
       "\n",
       "    .dataframe tbody tr th {\n",
       "        vertical-align: top;\n",
       "    }\n",
       "\n",
       "    .dataframe thead th {\n",
       "        text-align: right;\n",
       "    }\n",
       "</style>\n",
       "<table border=\"1\" class=\"dataframe\">\n",
       "  <thead>\n",
       "    <tr style=\"text-align: right;\">\n",
       "      <th></th>\n",
       "      <th>URL</th>\n",
       "      <th>reviewer_name</th>\n",
       "      <th>reviewer_level</th>\n",
       "      <th>reviewer_num_total_reviews</th>\n",
       "      <th>reviewer_num_editors_pick_reviews</th>\n",
       "      <th>happy_sad_class</th>\n",
       "      <th>title</th>\n",
       "      <th>date_written</th>\n",
       "      <th>num_views</th>\n",
       "      <th>taste</th>\n",
       "      <th>decor</th>\n",
       "      <th>service</th>\n",
       "      <th>hygiene</th>\n",
       "      <th>value</th>\n",
       "      <th>date_of_visit</th>\n",
       "      <th>full_review</th>\n",
       "    </tr>\n",
       "  </thead>\n",
       "  <tbody>\n",
       "    <tr>\n",
       "      <th>0</th>\n",
       "      <td>https://www.openrice.com/en/hongkong/r-wa-thea...</td>\n",
       "      <td>wingshuen1123</td>\n",
       "      <td>Level4</td>\n",
       "      <td>317</td>\n",
       "      <td>1</td>\n",
       "      <td>icon or-sprite-inline-block common_smiley_smil...</td>\n",
       "      <td>精彩的美食劇場。讓人回味無窮</td>\n",
       "      <td>2020-09-10</td>\n",
       "      <td>1887 views</td>\n",
       "      <td>5</td>\n",
       "      <td>5</td>\n",
       "      <td>5</td>\n",
       "      <td>5</td>\n",
       "      <td>4</td>\n",
       "      <td>2020-09-07</td>\n",
       "      <td>餐廳擁有廣闊無敵大海景，寧靜宜人環境，位於白沙灣碼頭酒店，位置雖然隔涉，但一切都值得，客人可...</td>\n",
       "    </tr>\n",
       "    <tr>\n",
       "      <th>1</th>\n",
       "      <td>https://www.openrice.com/en/hongkong/r-wa-thea...</td>\n",
       "      <td>EllieChan03</td>\n",
       "      <td>Level4</td>\n",
       "      <td>212</td>\n",
       "      <td>0</td>\n",
       "      <td>icon or-sprite-inline-block common_smiley_smil...</td>\n",
       "      <td>回味無窮🤤 壽司 S E T 🍣</td>\n",
       "      <td>2020-10-27</td>\n",
       "      <td>112 views</td>\n",
       "      <td>5</td>\n",
       "      <td>5</td>\n",
       "      <td>5</td>\n",
       "      <td>5</td>\n",
       "      <td>5</td>\n",
       "      <td>N/A</td>\n",
       "      <td>今日得閒去西貢親親大自然🏝\\n\\n順道去「食之劇場」嘆個午餐🥣\\n\\n\\n首先 店員為我哋斟...</td>\n",
       "    </tr>\n",
       "    <tr>\n",
       "      <th>2</th>\n",
       "      <td>https://www.openrice.com/en/hongkong/r-wa-thea...</td>\n",
       "      <td>左北</td>\n",
       "      <td>Level4</td>\n",
       "      <td>415</td>\n",
       "      <td>0</td>\n",
       "      <td>icon or-sprite-inline-block common_smiley_smil...</td>\n",
       "      <td>食之Omakase</td>\n",
       "      <td>2020-10-19</td>\n",
       "      <td>293 views</td>\n",
       "      <td>5</td>\n",
       "      <td>5</td>\n",
       "      <td>5</td>\n",
       "      <td>5</td>\n",
       "      <td>5</td>\n",
       "      <td>N/A</td>\n",
       "      <td>白沙灣碼頭酒店中的食之劇場餐廳已不是第一次來到，但吸引到我的，是那寧靜宜人的環境，客人可訂坐...</td>\n",
       "    </tr>\n",
       "    <tr>\n",
       "      <th>3</th>\n",
       "      <td>https://www.openrice.com/en/hongkong/r-wa-thea...</td>\n",
       "      <td>比卡比獸</td>\n",
       "      <td>Level4</td>\n",
       "      <td>105</td>\n",
       "      <td>0</td>\n",
       "      <td>icon or-sprite-inline-block common_smiley_smil...</td>\n",
       "      <td>幽靜隱世無敵大海景</td>\n",
       "      <td>2020-10-08</td>\n",
       "      <td>80 views</td>\n",
       "      <td>5</td>\n",
       "      <td>5</td>\n",
       "      <td>5</td>\n",
       "      <td>5</td>\n",
       "      <td>4</td>\n",
       "      <td>2020-10-07</td>\n",
       "      <td>位於白沙灣碼頭旁的「食之劇場」，環境幽靜隱世\\n餐廳正正對著湛藍廣闊無敵大海景，是香港難得一...</td>\n",
       "    </tr>\n",
       "    <tr>\n",
       "      <th>4</th>\n",
       "      <td>https://www.openrice.com/en/hongkong/r-wa-thea...</td>\n",
       "      <td>mcpig2003</td>\n",
       "      <td>Level4</td>\n",
       "      <td>184</td>\n",
       "      <td>0</td>\n",
       "      <td>icon or-sprite-inline-block common_smiley_smil...</td>\n",
       "      <td>西貢高質Omakase</td>\n",
       "      <td>2020-10-06</td>\n",
       "      <td>832 views</td>\n",
       "      <td>5</td>\n",
       "      <td>5</td>\n",
       "      <td>5</td>\n",
       "      <td>5</td>\n",
       "      <td>5</td>\n",
       "      <td>2020-09-30</td>\n",
       "      <td>餐廳係碼頭旁邊，天空與海–就算就黎天黑都好靚﹗餐廳環境好浪漫，啱晒拍拖去撐枱腳，而且食物一流...</td>\n",
       "    </tr>\n",
       "    <tr>\n",
       "      <th>...</th>\n",
       "      <td>...</td>\n",
       "      <td>...</td>\n",
       "      <td>...</td>\n",
       "      <td>...</td>\n",
       "      <td>...</td>\n",
       "      <td>...</td>\n",
       "      <td>...</td>\n",
       "      <td>...</td>\n",
       "      <td>...</td>\n",
       "      <td>...</td>\n",
       "      <td>...</td>\n",
       "      <td>...</td>\n",
       "      <td>...</td>\n",
       "      <td>...</td>\n",
       "      <td>...</td>\n",
       "      <td>...</td>\n",
       "    </tr>\n",
       "    <tr>\n",
       "      <th>5438</th>\n",
       "      <td>https://www.openrice.com/en/hongkong/r-enjoy-a...</td>\n",
       "      <td>Ah_Lam123</td>\n",
       "      <td>Level2</td>\n",
       "      <td>9</td>\n",
       "      <td>0</td>\n",
       "      <td>icon or-sprite-inline-block common_smiley_ok_6...</td>\n",
       "      <td>性價比較遜色</td>\n",
       "      <td>2016-09-13</td>\n",
       "      <td>202 views</td>\n",
       "      <td>4</td>\n",
       "      <td>3</td>\n",
       "      <td>3</td>\n",
       "      <td>3</td>\n",
       "      <td>1</td>\n",
       "      <td>N/A</td>\n",
       "      <td>睇廣告見到幾得意，就買來試下。唔知係咪其望過高，有啲失望😅\\n棉花糖表層唔似燒過，不過有啲焦...</td>\n",
       "    </tr>\n",
       "    <tr>\n",
       "      <th>5439</th>\n",
       "      <td>https://www.openrice.com/en/hongkong/r-enjoy-a...</td>\n",
       "      <td>chris_tsoi</td>\n",
       "      <td>Level3</td>\n",
       "      <td>49</td>\n",
       "      <td>0</td>\n",
       "      <td>icon or-sprite-inline-block common_smiley_ok_6...</td>\n",
       "      <td>試新野</td>\n",
       "      <td>2016-09-13</td>\n",
       "      <td>191 views</td>\n",
       "      <td>3</td>\n",
       "      <td>3</td>\n",
       "      <td>3</td>\n",
       "      <td>3</td>\n",
       "      <td>3</td>\n",
       "      <td>N/A</td>\n",
       "      <td>阿波羅⋯ 印象中佢既鮮果乳酪雪糕係最經典既，還記得有段時間，要每人食一杯，lunch唔食都要...</td>\n",
       "    </tr>\n",
       "    <tr>\n",
       "      <th>5440</th>\n",
       "      <td>https://www.openrice.com/en/hongkong/r-enjoy-a...</td>\n",
       "      <td>supersupergirl</td>\n",
       "      <td>Level4</td>\n",
       "      <td>7.8K</td>\n",
       "      <td>78</td>\n",
       "      <td>icon or-sprite-inline-block common_smiley_ok_6...</td>\n",
       "      <td>enjoy spicy fish siumai</td>\n",
       "      <td>2016-06-10</td>\n",
       "      <td>255 views</td>\n",
       "      <td>1</td>\n",
       "      <td>3</td>\n",
       "      <td>3</td>\n",
       "      <td>3</td>\n",
       "      <td>1</td>\n",
       "      <td>N/A</td>\n",
       "      <td>Went here because I was still a bit hungry.\\nT...</td>\n",
       "    </tr>\n",
       "    <tr>\n",
       "      <th>5441</th>\n",
       "      <td>https://www.openrice.com/en/hongkong/r-enjoy-a...</td>\n",
       "      <td>FlyMetotheMoon01</td>\n",
       "      <td>Level4</td>\n",
       "      <td>105</td>\n",
       "      <td>0</td>\n",
       "      <td>icon or-sprite-inline-block common_smiley_smil...</td>\n",
       "      <td>方便既小食店</td>\n",
       "      <td>2015-02-05</td>\n",
       "      <td>241 views</td>\n",
       "      <td>3</td>\n",
       "      <td>3</td>\n",
       "      <td>3</td>\n",
       "      <td>3</td>\n",
       "      <td>3</td>\n",
       "      <td>N/A</td>\n",
       "      <td>係呢個屋村商場入面, 阿波羅真係一間好方便既小食店。 係放學校時間就有好多小朋友黎買野食, ...</td>\n",
       "    </tr>\n",
       "    <tr>\n",
       "      <th>5442</th>\n",
       "      <td>https://www.openrice.com/en/hongkong/r-enjoy-a...</td>\n",
       "      <td>supersupergirl</td>\n",
       "      <td>Level4</td>\n",
       "      <td>7.8K</td>\n",
       "      <td>78</td>\n",
       "      <td>icon or-sprite-inline-block common_smiley_smil...</td>\n",
       "      <td>enjoy Appolo's new range of icecreams</td>\n",
       "      <td>2014-10-23</td>\n",
       "      <td>648 views</td>\n",
       "      <td>4</td>\n",
       "      <td>4</td>\n",
       "      <td>4</td>\n",
       "      <td>4</td>\n",
       "      <td>4</td>\n",
       "      <td>N/A</td>\n",
       "      <td>Appolo is the oldest branch of froyo in Hong K...</td>\n",
       "    </tr>\n",
       "  </tbody>\n",
       "</table>\n",
       "<p>5443 rows × 16 columns</p>\n",
       "</div>"
      ],
      "text/plain": [
       "                                                    URL     reviewer_name  \\\n",
       "0     https://www.openrice.com/en/hongkong/r-wa-thea...     wingshuen1123   \n",
       "1     https://www.openrice.com/en/hongkong/r-wa-thea...       EllieChan03   \n",
       "2     https://www.openrice.com/en/hongkong/r-wa-thea...                左北   \n",
       "3     https://www.openrice.com/en/hongkong/r-wa-thea...              比卡比獸   \n",
       "4     https://www.openrice.com/en/hongkong/r-wa-thea...         mcpig2003   \n",
       "...                                                 ...               ...   \n",
       "5438  https://www.openrice.com/en/hongkong/r-enjoy-a...         Ah_Lam123   \n",
       "5439  https://www.openrice.com/en/hongkong/r-enjoy-a...        chris_tsoi   \n",
       "5440  https://www.openrice.com/en/hongkong/r-enjoy-a...    supersupergirl   \n",
       "5441  https://www.openrice.com/en/hongkong/r-enjoy-a...  FlyMetotheMoon01   \n",
       "5442  https://www.openrice.com/en/hongkong/r-enjoy-a...    supersupergirl   \n",
       "\n",
       "     reviewer_level reviewer_num_total_reviews  \\\n",
       "0            Level4                        317   \n",
       "1            Level4                        212   \n",
       "2            Level4                        415   \n",
       "3            Level4                        105   \n",
       "4            Level4                        184   \n",
       "...             ...                        ...   \n",
       "5438         Level2                          9   \n",
       "5439         Level3                         49   \n",
       "5440         Level4                       7.8K   \n",
       "5441         Level4                        105   \n",
       "5442         Level4                       7.8K   \n",
       "\n",
       "     reviewer_num_editors_pick_reviews  \\\n",
       "0                                    1   \n",
       "1                                    0   \n",
       "2                                    0   \n",
       "3                                    0   \n",
       "4                                    0   \n",
       "...                                ...   \n",
       "5438                                 0   \n",
       "5439                                 0   \n",
       "5440                                78   \n",
       "5441                                 0   \n",
       "5442                                78   \n",
       "\n",
       "                                        happy_sad_class  \\\n",
       "0     icon or-sprite-inline-block common_smiley_smil...   \n",
       "1     icon or-sprite-inline-block common_smiley_smil...   \n",
       "2     icon or-sprite-inline-block common_smiley_smil...   \n",
       "3     icon or-sprite-inline-block common_smiley_smil...   \n",
       "4     icon or-sprite-inline-block common_smiley_smil...   \n",
       "...                                                 ...   \n",
       "5438  icon or-sprite-inline-block common_smiley_ok_6...   \n",
       "5439  icon or-sprite-inline-block common_smiley_ok_6...   \n",
       "5440  icon or-sprite-inline-block common_smiley_ok_6...   \n",
       "5441  icon or-sprite-inline-block common_smiley_smil...   \n",
       "5442  icon or-sprite-inline-block common_smiley_smil...   \n",
       "\n",
       "                                      title date_written   num_views taste  \\\n",
       "0                            精彩的美食劇場。讓人回味無窮   2020-09-10  1887 views     5   \n",
       "1                          回味無窮🤤 壽司 S E T 🍣   2020-10-27   112 views     5   \n",
       "2                                 食之Omakase   2020-10-19   293 views     5   \n",
       "3                                 幽靜隱世無敵大海景   2020-10-08    80 views     5   \n",
       "4                               西貢高質Omakase   2020-10-06   832 views     5   \n",
       "...                                     ...          ...         ...   ...   \n",
       "5438                                 性價比較遜色   2016-09-13   202 views     4   \n",
       "5439                                    試新野   2016-09-13   191 views     3   \n",
       "5440                enjoy spicy fish siumai   2016-06-10   255 views     1   \n",
       "5441                                 方便既小食店   2015-02-05   241 views     3   \n",
       "5442  enjoy Appolo's new range of icecreams   2014-10-23   648 views     4   \n",
       "\n",
       "     decor service hygiene value date_of_visit  \\\n",
       "0        5       5       5     4    2020-09-07   \n",
       "1        5       5       5     5           N/A   \n",
       "2        5       5       5     5           N/A   \n",
       "3        5       5       5     4    2020-10-07   \n",
       "4        5       5       5     5    2020-09-30   \n",
       "...    ...     ...     ...   ...           ...   \n",
       "5438     3       3       3     1           N/A   \n",
       "5439     3       3       3     3           N/A   \n",
       "5440     3       3       3     1           N/A   \n",
       "5441     3       3       3     3           N/A   \n",
       "5442     4       4       4     4           N/A   \n",
       "\n",
       "                                            full_review  \n",
       "0     餐廳擁有廣闊無敵大海景，寧靜宜人環境，位於白沙灣碼頭酒店，位置雖然隔涉，但一切都值得，客人可...  \n",
       "1     今日得閒去西貢親親大自然🏝\\n\\n順道去「食之劇場」嘆個午餐🥣\\n\\n\\n首先 店員為我哋斟...  \n",
       "2     白沙灣碼頭酒店中的食之劇場餐廳已不是第一次來到，但吸引到我的，是那寧靜宜人的環境，客人可訂坐...  \n",
       "3     位於白沙灣碼頭旁的「食之劇場」，環境幽靜隱世\\n餐廳正正對著湛藍廣闊無敵大海景，是香港難得一...  \n",
       "4     餐廳係碼頭旁邊，天空與海–就算就黎天黑都好靚﹗餐廳環境好浪漫，啱晒拍拖去撐枱腳，而且食物一流...  \n",
       "...                                                 ...  \n",
       "5438  睇廣告見到幾得意，就買來試下。唔知係咪其望過高，有啲失望😅\\n棉花糖表層唔似燒過，不過有啲焦...  \n",
       "5439  阿波羅⋯ 印象中佢既鮮果乳酪雪糕係最經典既，還記得有段時間，要每人食一杯，lunch唔食都要...  \n",
       "5440  Went here because I was still a bit hungry.\\nT...  \n",
       "5441  係呢個屋村商場入面, 阿波羅真係一間好方便既小食店。 係放學校時間就有好多小朋友黎買野食, ...  \n",
       "5442  Appolo is the oldest branch of froyo in Hong K...  \n",
       "\n",
       "[5443 rows x 16 columns]"
      ]
     },
     "execution_count": 12,
     "metadata": {},
     "output_type": "execute_result"
    }
   ],
   "source": [
    "df_review_details"
   ]
  },
  {
   "cell_type": "code",
   "execution_count": 13,
   "metadata": {},
   "outputs": [],
   "source": [
    "df_reviews.to_csv(\"reviews.tsv\", sep='\\t')\n",
    "df_review_details.to_csv(\"review_details.tsv\", sep='\\t')\n",
    "# results.to_csv('restaurant_info.tsv', sep = '\\t')\n"
   ]
  },
  {
   "cell_type": "code",
   "execution_count": null,
   "metadata": {},
   "outputs": [],
   "source": [
    "rstr_driver = webdriver.Chrome('/Users/ziwon/executables/chromedriver86', options=option)\n",
    "# rstr_driver = get_web_driver()\n",
    "rstr_driver.get(\"https://www.openrice.com/en/hongkong/r-%E6%B8%85%E5%BF%83%E9%BD%8B-tseung-kwan-o-guangdong-vegetarian-r568379\")\n",
    "rstr_wait = WebDriverWait(rstr_driver, 10)\n"
   ]
  },
  {
   "cell_type": "code",
   "execution_count": null,
   "metadata": {},
   "outputs": [],
   "source": [
    "review_section = rstr_wait.until(ec.visibility_of_element_located((By.CSS_SELECTOR, \".header-score-show-more\")))\n",
    "\n",
    "overall_review_score = review_section.find_element_by_xpath(\"./div[@class='header-score']\").text\n",
    "#     overall_review_score = int(overall_review_score)\n",
    "\n",
    "detail_review_scores = rstr_driver.find_elements_by_xpath('//div[@class=\"header-score-show-more-container\"]/div[@class=\"header-score-details\"]/div[@class=\"header-score-details-right\"]/div')\n",
    "\n",
    "taste = -1\n",
    "decor = -1\n",
    "service = -1\n",
    "hygiene = -1\n",
    "value = -1"
   ]
  },
  {
   "cell_type": "code",
   "execution_count": null,
   "metadata": {},
   "outputs": [],
   "source": [
    "rstr_driver.find_elements_by_xpath('//div[@itemprop=\"aggregateRating\"]')"
   ]
  },
  {
   "cell_type": "code",
   "execution_count": null,
   "metadata": {},
   "outputs": [],
   "source": [
    "print(overall_review_score)"
   ]
  },
  {
   "cell_type": "code",
   "execution_count": null,
   "metadata": {},
   "outputs": [],
   "source": [
    "print(detail_review_scores)\n"
   ]
  },
  {
   "cell_type": "code",
   "execution_count": null,
   "metadata": {},
   "outputs": [],
   "source": [
    "print(detail_review_scores)\n",
    "for idx, detail_review_score in enumerate(detail_review_scores):\n",
    "    els = detail_review_score.find_elements_by_xpath('./div')\n",
    "    category = els[0].get_attribute('innerHTML')\n",
    "    print(category)\n",
    "    score_class = els[1].get_attribute(\"class\")\n",
    "    print(score_class)\n",
    "    if score_class == \"header-score-details-right-item-range or-sprite common_rating10_red_s\":\n",
    "        score = 1\n",
    "    elif score_class == \"header-score-details-right-item-range or-sprite common_rating15_red_s\":\n",
    "        score = 1.5\n",
    "    elif score_class == \"header-score-details-right-item-range or-sprite common_rating20_red_s\":\n",
    "        score = 2\n",
    "    elif score_class == \"header-score-details-right-item-range or-sprite common_rating25_red_s\":\n",
    "        score = 2.5\n",
    "    elif score_class == \"header-score-details-right-item-range or-sprite common_rating30_red_s\":\n",
    "        score = 3\n",
    "    elif score_class == \"header-score-details-right-item-range or-sprite common_rating35_red_s\":\n",
    "        score = 3.5\n",
    "    elif score_class == \"header-score-details-right-item-range or-sprite common_rating40_red_s\":\n",
    "        score = 4\n",
    "    elif score_class == \"header-score-details-right-item-range or-sprite common_rating45_red_s\":\n",
    "        score = 4.5\n",
    "    elif score_class == \"header-score-details-right-item-range or-sprite common_rating50_red_s\":\n",
    "        score = 5\n",
    "    else: score = -1\n",
    "\n",
    "    if idx == 0:\n",
    "        taste = score\n",
    "    elif idx == 1:\n",
    "        decor = score\n",
    "    elif idx == 2:\n",
    "        service = score\n",
    "    elif idx == 3:\n",
    "        hygiene = score\n",
    "    elif idx == 4:\n",
    "        value = score\n",
    "    else:\n",
    "        print(\"No value found for overall score\")\n"
   ]
  },
  {
   "cell_type": "code",
   "execution_count": 9,
   "metadata": {},
   "outputs": [],
   "source": [
    "def parse_overall_review(url):\n",
    "    start_time = time.time()\n",
    "\n",
    "    review_count_max = 30\n",
    "    \n",
    "    rstr_driver = webdriver.Chrome('/Users/ziwon/executables/chromedriver86', options=option)\n",
    "    # rstr_driver = get_web_driver()\n",
    "    rstr_driver.get(url)\n",
    "    rstr_wait = WebDriverWait(rstr_driver, 10)\n",
    "\n",
    "    try:\n",
    "        review_section = rstr_wait.until(ec.visibility_of_element_located((By.CSS_SELECTOR, \".header-score-show-more\")))\n",
    "\n",
    "        overall_review_score = review_section.find_element_by_xpath(\"./div[@class='header-score']\").text\n",
    "    #     overall_review_score = int(overall_review_score)\n",
    "\n",
    "        detail_review_scores = rstr_driver.find_elements_by_xpath('//div/div/div[@class=\"header-score-details-right\"]/div[@class=\"header-score-details-right-item\"]')\n",
    "\n",
    "        taste = -1\n",
    "        decor = -1\n",
    "        service = -1\n",
    "        hygiene = -1\n",
    "        value = -1\n",
    "\n",
    "        smile_section = rstr_wait.until(ec.visibility_of_element_located((By.XPATH,'//div[@class=\"header-smile-section\"]')))\n",
    "        smile_sections = smile_section.find_elements_by_xpath('./div[@class=\"score-div\"]')\n",
    "        happy_ct = smile_sections[0].text\n",
    "        ok_ct = smile_sections[1].text\n",
    "        sad_ct = smile_sections[2].text\n",
    "\n",
    "    #     detail_scores = {}\n",
    "        print(detail_review_scores)\n",
    "        for idx, detail_review_score in enumerate(detail_review_scores):\n",
    "            els = detail_review_score.find_elements_by_xpath('./div')\n",
    "            category = els[0].get_attribute('innerHTML')\n",
    "#             print(category)\n",
    "            score_class = els[1].get_attribute(\"class\")\n",
    "#             print(score_class)\n",
    "            if score_class == \"header-score-details-right-item-range or-sprite common_rating10_red_s\":\n",
    "                score = 1\n",
    "            elif score_class == \"header-score-details-right-item-range or-sprite common_rating15_red_s\":\n",
    "                score = 1.5\n",
    "            elif score_class == \"header-score-details-right-item-range or-sprite common_rating20_red_s\":\n",
    "                score = 2\n",
    "            elif score_class == \"header-score-details-right-item-range or-sprite common_rating25_red_s\":\n",
    "                score = 2.5\n",
    "            elif score_class == \"header-score-details-right-item-range or-sprite common_rating30_red_s\":\n",
    "                score = 3\n",
    "            elif score_class == \"header-score-details-right-item-range or-sprite common_rating35_red_s\":\n",
    "                score = 3.5\n",
    "            elif score_class == \"header-score-details-right-item-range or-sprite common_rating40_red_s\":\n",
    "                score = 4\n",
    "            elif score_class == \"header-score-details-right-item-range or-sprite common_rating45_red_s\":\n",
    "                score = 4.5\n",
    "            elif score_class == \"header-score-details-right-item-range or-sprite common_rating50_red_s\":\n",
    "                score = 5\n",
    "            else: score = -1\n",
    "\n",
    "            if idx == 0:\n",
    "                taste = score\n",
    "            elif idx == 1:\n",
    "                decor = score\n",
    "            elif idx == 2:\n",
    "                service = score\n",
    "            elif idx == 3:\n",
    "                hygiene = score\n",
    "            elif idx == 4:\n",
    "                value = score\n",
    "            else:\n",
    "                print(\"No value found for overall score\")\n",
    "\n",
    "        df_reviews.loc[len(df_reviews)] = {\n",
    "            'URL': str(url),\n",
    "            'Overall_Score': str(overall_review_score),\n",
    "            'Happy_Ct': happy_ct,\n",
    "            'OK_Ct': ok_ct,\n",
    "            'Sad_Ct': sad_ct,\n",
    "            'Taste': str(taste),\n",
    "            'Decor': str(decor),\n",
    "            'Service': str(service),\n",
    "            'Hygiene': str(hygiene),\n",
    "            'Value': str(value)\n",
    "        }\n",
    "    except:\n",
    "        print(\"Error Occurred. Skip.\")\n",
    "            \n",
    "    # ----------- REVIEW DETAILS -----------\n",
    "    review_count = 0\n",
    "    has_next = True\n",
    "    has_next_wait = WebDriverWait(rstr_driver, 5)\n",
    "    while has_next and review_count < review_count_max:\n",
    "        try:\n",
    "    #         next_page_button = has_next_wait.until(ec.element_to_be_clickable((By.XPATH, \"//div[@class='pagination js-pagination']/a[@class='pagination-button next js-next'[last()]]\")))\n",
    "            next_page_button = has_next_wait.until(ec.element_to_be_clickable((By.CSS_SELECTOR, \"a.pagination-button.next\")))\n",
    "\n",
    "        except:\n",
    "            print(\"END OF PAGES REACHED. NO MORE TO PARSE.\")\n",
    "            has_next = False\n",
    "\n",
    "        try:\n",
    "            review_section = rstr_wait.until(ec.visibility_of_element_located((By.ID, \"sr2-review-container\")))\n",
    "\n",
    "            reviews = review_section.find_elements_by_xpath(\"./div/div[@itemprop='review']\")\n",
    "\n",
    "            for review in reviews:\n",
    "                reviewer_name = review.find_element_by_xpath(\"./div[@class='left-col']/section/div[@class='name']\").text\n",
    "    #             print(reviewer_name)\n",
    "                reviewer_level = review.find_element_by_xpath(\"./div[@class='left-col']/section/div[@class='grade-name']\").text\n",
    "                reviewer_num_total_reviews = review.find_element_by_xpath(\"./div[@class='left-col']/section/div[@class='records table-center']/a[@class='no-reviews']\").text\n",
    "                reviewer_num_editors_pick_reviews = review.find_element_by_xpath(\"./div[@class='left-col']/section/div[@class='records table-center']/a[@class='no-editor-choice']\").text\n",
    "                try:\n",
    "                    happy_sad_class = review.find_element_by_xpath(\"./div[@class='middle-col wide-screen-padding']/section/div/div[@class='left-header']/div\").get_attribute(\"class\")\n",
    "                except:\n",
    "                    happy_sad_class = 'N/A'\n",
    "        #         print('happy_sad_class: ', happy_sad_class)\n",
    "                title = review.find_element_by_xpath(\"./div[@class='middle-col wide-screen-padding']/section/div/div[@class='middle-header']/div[@class='review-title']\").text\n",
    "                date_written = review.find_element_by_xpath(\"./div[@class='middle-col wide-screen-padding']/section/div/div[@class='middle-header']/div[@class='info']/span[@itemprop='datepublished']\").text\n",
    "                num_views = review.find_element_by_xpath(\"./div[@class='middle-col wide-screen-padding']/section/div/div[@class='middle-header']/div[@class='info']/span/span[@class='view-count']\").text\n",
    "\n",
    "\n",
    "                read_full_btn = review.find_elements_by_xpath(\"./div[@class='middle-col wide-screen-padding']/section/div/div/div/div[@class='read-more-btn js-read-more-btn']/div[@class='icon']\")\n",
    "    #             print(read_full_btn)\n",
    "    #             print(read_full_btn[0].text)\n",
    "                if len(read_full_btn) > 0 :\n",
    "                    read_full_btn[0].location_once_scrolled_into_view\n",
    "            #         read_full_btn[0].click()\n",
    "                    rstr_driver.execute_script(\"arguments[0].click();\", read_full_btn[0])\n",
    "\n",
    "                review_bits = review.find_elements_by_xpath(\"./div[@class='middle-col wide-screen-padding']/section/div/div/div/section[@class='review-container']\")\n",
    "                full_review = \"\"\n",
    "                for review_bit in review_bits:\n",
    "                    full_review = full_review + review_bit.text.strip() + \"\\n\"\n",
    "\n",
    "                detailed_ratings = review.find_elements_by_xpath(\"./div[@class='right-col']/section[@itemprop='reviewrating']/div[@class='subject']\")\n",
    "\n",
    "                try:\n",
    "                    taste = len(detailed_ratings[0].find_elements_by_xpath(\"./div[@class='stars js-stars']/span[@class='or-sprite-inline-block common_yellowstar_desktop']\"))\n",
    "                except: taste = -1\n",
    "                try:\n",
    "                    decor = len(detailed_ratings[1].find_elements_by_xpath(\"./div[@class='stars js-stars']/span[@class='or-sprite-inline-block common_yellowstar_desktop']\"))\n",
    "                except: decor = -1\n",
    "                try:\n",
    "                    service = len(detailed_ratings[2].find_elements_by_xpath(\"./div[@class='stars js-stars']/span[@class='or-sprite-inline-block common_yellowstar_desktop']\"))\n",
    "                except: service = -1\n",
    "                try:\n",
    "                    hygiene = len(detailed_ratings[3].find_elements_by_xpath(\"./div[@class='stars js-stars']/span[@class='or-sprite-inline-block common_yellowstar_desktop']\"))\n",
    "                except: hygiene = -1\n",
    "\n",
    "                try:\n",
    "                    value = len(detailed_ratings[4].find_elements_by_xpath(\"./div[@class='stars js-stars']/span[@class='or-sprite-inline-block common_yellowstar_desktop']\"))\n",
    "                except: value = -1\n",
    "                try:\n",
    "                    date_of_visit = review.find_element_by_xpath(\"./div[@class='right-col']/section[@class='info-section detail']/section[1]/div[@class='date text']\").text\n",
    "                except:\n",
    "                    date_of_visit = 'N/A'\n",
    "\n",
    "                df_review_details.loc[len(df_review_details)] = {\n",
    "                    'URL': str(url),\n",
    "                    'reviewer_name': str(reviewer_name),\n",
    "                    'reviewer_level': str(reviewer_level),\n",
    "                    'reviewer_num_total_reviews': str(reviewer_num_total_reviews),\n",
    "                    'reviewer_num_editors_pick_reviews': str(reviewer_num_editors_pick_reviews),\n",
    "                    'happy_sad_class': str(happy_sad_class),\n",
    "                    'title': str(title),\n",
    "                    'date_written': str(date_written),\n",
    "                    'num_views': str(num_views),\n",
    "                    'taste': str(taste),\n",
    "                    'decor': str(decor),\n",
    "                    'service': str(service),\n",
    "                    'taste': str(taste),\n",
    "                    'hygiene': str(hygiene),\n",
    "                    'value': str(value),\n",
    "                    'date_of_visit': str(date_of_visit),\n",
    "                    'full_review': str(full_review),\n",
    "                }\n",
    "                review_count += 1\n",
    "            # reviews = parse_reviews(rstr_driver, url)\n",
    "            try:\n",
    "                next_page_button.location_once_scrolled_into_view\n",
    "                next_page_button.click()\n",
    "            except:\n",
    "                print(\"End of reviews\")\n",
    "                continue\n",
    "        except:\n",
    "            print(\"Error Occurred\")\n",
    "            continue\n",
    "    \n",
    "    end_time = time.time()\n",
    "    print(\"FINISHED one restaurant, Took: \", str(end_time-start_time))\n",
    "    \n",
    "    rstr_driver.close()\n",
    "    rstr_driver.quit()   \n"
   ]
  },
  {
   "cell_type": "code",
   "execution_count": null,
   "metadata": {},
   "outputs": [],
   "source": []
  }
 ],
 "metadata": {
  "kernelspec": {
   "display_name": "Python 3",
   "language": "python",
   "name": "python3"
  },
  "language_info": {
   "codemirror_mode": {
    "name": "ipython",
    "version": 3
   },
   "file_extension": ".py",
   "mimetype": "text/x-python",
   "name": "python",
   "nbconvert_exporter": "python",
   "pygments_lexer": "ipython3",
   "version": "3.8.6"
  }
 },
 "nbformat": 4,
 "nbformat_minor": 4
}
